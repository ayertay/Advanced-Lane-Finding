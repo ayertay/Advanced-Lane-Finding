{
 "cells": [
  {
   "cell_type": "code",
   "execution_count": 1,
   "metadata": {},
   "outputs": [],
   "source": [
    "### Calibrate camera\n",
    "import cv2\n",
    "import numpy as np\n",
    "import matplotlib.pyplot as plt\n",
    "import matplotlib.image as mpimg\n",
    "import glob\n",
    "import os\n",
    "from calibrate_cam import calibrate_camera\n",
    "from get_perspective import get_perspective\n",
    "\n",
    "# constants\n",
    "ym_per_px = 3.7/720 # meters per pixel in y dimension\n",
    "xm_per_px = 3.7/700 # meters per pixel in x dimension\n",
    "\n",
    "nx = 9\n",
    "ny = 6\n",
    "calibration_images = sorted(glob.glob('./camera_cal/*.jpg'))\n",
    "test_images = sorted(glob.glob('./test_images/*.jpg'))\n",
    "img = cv2.imread('test_images/test5.jpg')\n",
    "mtx, dist = calibrate_camera(calibration_images, nx, ny)"
   ]
  },
  {
   "cell_type": "code",
   "execution_count": 2,
   "metadata": {},
   "outputs": [],
   "source": [
    "if not os.path.isdir('output_images\\\\undistorted'):\n",
    "    os.mkdir('output_images\\\\undistorted')\n",
    "\n",
    "if not os.path.isdir('output_images\\\\binary'):\n",
    "    os.mkdir('output_images\\\\binary')\n",
    "\n",
    "if not os.path.isdir('output_images\\\\perspective'):\n",
    "    os.mkdir('output_images\\\\perspective')"
   ]
  },
  {
   "cell_type": "code",
   "execution_count": 31,
   "metadata": {},
   "outputs": [],
   "source": [
    "def pipeline(img, s_thresh=(170, 255), sx_thresh=(30, 100)):\n",
    "    img = np.copy(img)\n",
    "    # Convert to HLS color space and separate the V channel\n",
    "    hls = cv2.cvtColor(img, cv2.COLOR_BGR2HLS)\n",
    "    gray = cv2.cvtColor(img, cv2.COLOR_BGR2GRAY)\n",
    "    lab = cv2.cvtColor(img, cv2.COLOR_BGR2LAB)\n",
    "    L_channel = lab[:,:,0]\n",
    "    l_channel = hls[:,:,1]\n",
    "    s_channel = hls[:,:,2]\n",
    "    # Sobel x\n",
    "    sobelx = cv2.Sobel(l_channel, cv2.CV_64F, 1, 0) # Take the derivative in x\n",
    "    abs_sobelx = np.absolute(sobelx) # Absolute x derivative to accentuate lines away from horizontal\n",
    "    scaled_sobel = np.uint8(255*abs_sobelx/np.max(abs_sobelx))\n",
    "    \n",
    "    #Threshold LAB\n",
    "    labbinary = np.zeros_like(L_channel)\n",
    "    labbinary[(L_channel >= 100) & (L_channel <= 255)] = 1\n",
    "    \n",
    "    # Threshold x gradient\n",
    "    sxbinary = np.zeros_like(scaled_sobel)\n",
    "    sxbinary[(scaled_sobel >= sx_thresh[0]) & (scaled_sobel <= sx_thresh[1])] = 1\n",
    "    \n",
    "    # Threshold color channel\n",
    "    s_binary = np.zeros_like(s_channel)\n",
    "    s_binary[(s_channel >= s_thresh[0]) & (s_channel <= s_thresh[1])] = 1\n",
    "    \n",
    "    img_bwa = cv2.bitwise_and(labbinary,s_binary)\n",
    "    \n",
    "    t_binary = np.zeros(img.shape[:2], dtype=np.uint8)\n",
    "    t_binary[(L_channel >= 100) & (s_binary <= s_thresh[1])] = 1\n",
    "    # Stack each channel\n",
    "    color_binary = np.dstack(( np.zeros_like(sxbinary), np.zeros_like(sxbinary), img_bwa + sxbinary)) * 255\n",
    "    return color_binary\n",
    "\n",
    "### Undistort all the images\n",
    "for filename in os.listdir(\"test_images\"):\n",
    "    image_dir = os.path.join('test_images', filename)\n",
    "    image = cv2.imread(image_dir)\n",
    "    undist = cv2.undistort(image, mtx, dist, None, mtx)\n",
    "    undist_output = os.path.join('output_images\\\\undistorted', filename)\n",
    "    cv2.imwrite(undist_output, undist)\n",
    "    \n",
    "    binary = pipeline(undist)\n",
    "    binary_output = os.path.join('output_images\\\\binary', filename)\n",
    "    cv2.imwrite(binary_output, binary)\n",
    "    \n",
    "    perspec, M, Minv = get_perspective(binary)\n",
    "    gray = cv2.cvtColor(perspec, cv2.COLOR_BGR2GRAY)\n",
    "    (thresh, blackAndWhiteImage) = cv2.threshold(gray, 50, 255, cv2.THRESH_BINARY)\n",
    "    perspec_output = os.path.join('output_images\\\\perspective', filename)\n",
    "    cv2.imwrite(perspec_output, blackAndWhiteImage)\n"
   ]
  },
  {
   "cell_type": "code",
   "execution_count": 15,
   "metadata": {},
   "outputs": [],
   "source": [
    "def find_lane_pixels(binary_warped):\n",
    "    # Take a histogram of the bottom half of the image\n",
    "    histogram = np.sum(binary_warped[binary_warped.shape[0]//2:,:], axis=0)\n",
    "    # Create an output image to draw on and visualize the result\n",
    "    out_img = np.dstack((binary_warped, binary_warped, binary_warped))\n",
    "    # Find the peak of the left and right halves of the histogram\n",
    "    # These will be the starting point for the left and right lines\n",
    "    midpoint = np.int(histogram.shape[0]//2)\n",
    "    leftx_base = np.argmax(histogram[:midpoint])\n",
    "    rightx_base = np.argmax(histogram[midpoint:]) + midpoint\n",
    "    # HYPERPARAMETERS\n",
    "    # Choose the number of sliding windows\n",
    "    nwindows = 15\n",
    "    # Set the width of the windows +/- margin\n",
    "    margin = 100\n",
    "    # Set minimum number of pixels found to recenter window\n",
    "    minpix = 50\n",
    "\n",
    "    # Set height of windows - based on nwindows above and image shape\n",
    "    window_height = np.int(binary_warped.shape[0]//nwindows)\n",
    "    # Identify the x and y positions of all nonzero (i.e. activated) pixels in the image\n",
    "    nonzero = binary_warped.nonzero()\n",
    "    nonzeroy = np.array(nonzero[0])\n",
    "    nonzerox = np.array(nonzero[1])\n",
    "    # Current positions to be updated later for each window in nwindows\n",
    "    leftx_current = leftx_base\n",
    "    rightx_current = rightx_base\n",
    "\n",
    "    # Create empty lists to receive left and right lane pixel indices\n",
    "    left_lane_inds = []\n",
    "    right_lane_inds = []\n",
    "\n",
    "    for window in range(nwindows):\n",
    "        # Identify window boundaries in x and y (and right and left)\n",
    "        win_y_low = binary_warped.shape[0] - (window+1)*window_height\n",
    "        win_y_high = binary_warped.shape[0] - window*window_height\n",
    "        ### TO-DO: Find the four below boundaries of the window ###\n",
    "        win_xleft_low = leftx_current - margin\n",
    "        win_xleft_high = leftx_current + margin\n",
    "        win_xright_low = rightx_current - margin\n",
    "        win_xright_high = rightx_current + margin\n",
    "        \n",
    "        # Draw the windows on the visualization image\n",
    "        cv2.rectangle(out_img,(win_xleft_low,win_y_low),\n",
    "        (win_xleft_high,win_y_high),(0,255,0), 2) \n",
    "        cv2.rectangle(out_img,(win_xright_low,win_y_low),\n",
    "        (win_xright_high,win_y_high),(0,255,0), 2) \n",
    "        \n",
    "        ### TO-DO: Identify the nonzero pixels in x and y within the window ###\n",
    "        good_left_inds = ((nonzeroy >= win_y_low) & (nonzeroy < win_y_high) & \n",
    "        (nonzerox >= win_xleft_low) &  (nonzerox < win_xleft_high)).nonzero()[0]\n",
    "        good_right_inds = ((nonzeroy >= win_y_low) & (nonzeroy < win_y_high) & \n",
    "        (nonzerox >= win_xright_low) &  (nonzerox < win_xright_high)).nonzero()[0]\n",
    "        \n",
    "        # Append these indices to the lists\n",
    "        left_lane_inds.append(good_left_inds)\n",
    "        right_lane_inds.append(good_right_inds)\n",
    "        \n",
    "        ### TO-DO: If you found > minpix pixels, recenter next window ###\n",
    "        if len(good_left_inds) > minpix:\n",
    "            leftx_current = np.int(np.mean(nonzerox[good_left_inds]))\n",
    "        if len(good_right_inds) > minpix:        \n",
    "            rightx_current = np.int(np.mean(nonzerox[good_right_inds]))\n",
    "\n",
    "    # Concatenate the arrays of indices (previously was a list of lists of pixels)\n",
    "    try:\n",
    "        left_lane_inds = np.concatenate(left_lane_inds)\n",
    "        right_lane_inds = np.concatenate(right_lane_inds)\n",
    "    except ValueError:\n",
    "        # Avoids an error if the above is not implemented fully\n",
    "        pass\n",
    "\n",
    "    # Extract left and right line pixel positions\n",
    "    leftx = nonzerox[left_lane_inds]\n",
    "    lefty = nonzeroy[left_lane_inds] \n",
    "    rightx = nonzerox[right_lane_inds]\n",
    "    righty = nonzeroy[right_lane_inds]\n",
    "\n",
    "    return leftx, lefty, rightx, righty, out_img\n",
    "\n",
    "def fit_polynomial(binary_warped):\n",
    "    # Find our lane pixels first\n",
    "    leftx, lefty, rightx, righty, out_img = find_lane_pixels(binary_warped)\n",
    "\n",
    "    ### TO-DO: Fit a second order polynomial to each using `np.polyfit` ###\n",
    "    left_fit = np.polyfit(lefty, leftx, 2)\n",
    "    right_fit = np.polyfit(righty, rightx, 2)\n",
    "\n",
    "    # Generate x and y values for plotting\n",
    "    ploty = np.linspace(0, binary_warped.shape[0]-1, binary_warped.shape[0] )\n",
    "    try:\n",
    "        left_fitx = left_fit[0]*ploty**2 + left_fit[1]*ploty + left_fit[2]\n",
    "        right_fitx = right_fit[0]*ploty**2 + right_fit[1]*ploty + right_fit[2]\n",
    "    except TypeError:\n",
    "        # Avoids an error if `left` and `right_fit` are still none or incorrect\n",
    "        print('The function failed to fit a line!')\n",
    "        left_fitx = 1*ploty**2 + 1*ploty\n",
    "        right_fitx = 1*ploty**2 + 1*ploty\n",
    "\n",
    "    ## Visualization ##\n",
    "    # Colors in the left and right lane regions\n",
    "    out_img[lefty, leftx] = [255, 0, 0]\n",
    "    out_img[righty, rightx] = [0, 0, 255]\n",
    "\n",
    "    # Plots the left and right polynomials on the lane lines\n",
    "    #plt.plot(left_fitx, ploty, color='yellow')\n",
    "    #plt.plot(right_fitx, ploty, color='yellow')\n",
    "\n",
    "    return out_img, left_fit, right_fit\n",
    "\n",
    "def fit_poly(img_shape, leftx, lefty, rightx, righty):\n",
    "    ### TO-DO: Fit a second order polynomial to each with np.polyfit() ###\n",
    "    left_fit = np.polyfit(lefty, leftx, 2)\n",
    "    right_fit = np.polyfit(righty, rightx, 2)\n",
    "    # Generate x and y values for plotting\n",
    "    ploty = np.linspace(0, img_shape[0]-1, img_shape[0])\n",
    "    ### TO-DO: Calc both polynomials using ploty, left_fit and right_fit ###\n",
    "    left_fitx = left_fit[0]*ploty**2 + left_fit[1]*ploty + left_fit[2]\n",
    "    right_fitx = right_fit[0]*ploty**2 + right_fit[1]*ploty + right_fit[2]\n",
    "    \n",
    "    return left_fitx, right_fitx, ploty\n",
    "\n",
    "def compute_lane_curvature(leftx, rightx, ploty):\n",
    "        \"\"\"\n",
    "        Returns the triple (left_curvature, right_curvature, lane_center_offset), which are all in meters\n",
    "        \"\"\"        \n",
    "        # Define conversions in x and y from pixels space to meters\n",
    "        y_eval = np.max(ploty)\n",
    "        \n",
    "        # Fit new polynomials: find x for y in real-world space\n",
    "        left_fit_cr = np.polyfit(ploty * ym_per_px, leftx * xm_per_px, 2)\n",
    "        right_fit_cr = np.polyfit(ploty * ym_per_px, rightx * xm_per_px, 2)\n",
    "        \n",
    "        # Now calculate the radii of the curvature\n",
    "        left_curverad = ((1 + (2 * left_fit_cr[0] * y_eval * ym_per_px + left_fit_cr[1])**2)**1.5) / np.absolute(2 * left_fit_cr[0])\n",
    "        right_curverad = ((1 + (2 *right_fit_cr[0] * y_eval * ym_per_px + right_fit_cr[1])**2)**1.5) / np.absolute(2 * right_fit_cr[0])\n",
    "        \n",
    "        # Now our radius of curvature is in meters        \n",
    "        return left_curverad, right_curverad\n",
    "\n",
    "    \n",
    "def search_around_poly(binary_warped, Minv, left_fit, right_fit, undist):\n",
    "    # HYPERPARAMETER\n",
    "    # Choose the width of the margin around the previous polynomial to search\n",
    "    # The quiz grader expects 100 here, but feel free to tune on your own!\n",
    "    margin = 100\n",
    "\n",
    "    # Grab activated pixels\n",
    "    nonzero = binary_warped.nonzero()\n",
    "    nonzeroy = np.array(nonzero[0])\n",
    "    nonzerox = np.array(nonzero[1])\n",
    "    ### TO-DO: Set the area of search based on activated x-values ###\n",
    "    ### within the +/- margin of our polynomial function ###\n",
    "    ### Hint: consider the window areas for the similarly named variables ###\n",
    "    ### in the previous quiz, but change the windows to our new search area ###\n",
    "    left_lane_inds = ((nonzerox > (left_fit[0]*(nonzeroy**2) + left_fit[1]*nonzeroy + \n",
    "                    left_fit[2] - margin)) & (nonzerox < (left_fit[0]*(nonzeroy**2) + \n",
    "                    left_fit[1]*nonzeroy + left_fit[2] + margin)))\n",
    "    right_lane_inds = ((nonzerox > (right_fit[0]*(nonzeroy**2) + right_fit[1]*nonzeroy + \n",
    "                    right_fit[2] - margin)) & (nonzerox < (right_fit[0]*(nonzeroy**2) + \n",
    "                    right_fit[1]*nonzeroy + right_fit[2] + margin)))\n",
    "    \n",
    "    # Again, extract left and right line pixel positions\n",
    "    leftx = nonzerox[left_lane_inds]\n",
    "    lefty = nonzeroy[left_lane_inds] \n",
    "    rightx = nonzerox[right_lane_inds]\n",
    "    righty = nonzeroy[right_lane_inds]\n",
    "    \n",
    "    # Fit new polynomials\n",
    "    left_fitx, right_fitx, ploty = fit_poly(binary_warped.shape, leftx, lefty, rightx, righty)\n",
    "    \n",
    "    ## Visualization ##\n",
    "    # Create an image to draw on and an image to show the selection window\n",
    "    out_img = np.dstack((binary_warped, binary_warped, binary_warped))*255\n",
    "    window_img = np.zeros_like(out_img)\n",
    "    # Color in left and right line pixels\n",
    "    out_img[nonzeroy[left_lane_inds], nonzerox[left_lane_inds]] = [255, 0, 0]\n",
    "    out_img[nonzeroy[right_lane_inds], nonzerox[right_lane_inds]] = [0, 0, 255]\n",
    "\n",
    "    # Generate a polygon to illustrate the search window area\n",
    "    # And recast the x and y points into usable format for cv2.fillPoly()\n",
    "    left_line_window1 = np.array([np.transpose(np.vstack([left_fitx-margin, ploty]))])\n",
    "    left_line_window2 = np.array([np.flipud(np.transpose(np.vstack([left_fitx+margin, \n",
    "                              ploty])))])\n",
    "    left_line_pts = np.hstack((left_line_window1, left_line_window2))\n",
    "    right_line_window1 = np.array([np.transpose(np.vstack([right_fitx-margin, ploty]))])\n",
    "    right_line_window2 = np.array([np.flipud(np.transpose(np.vstack([right_fitx+margin, \n",
    "                              ploty])))])\n",
    "    right_line_pts = np.hstack((right_line_window1, right_line_window2))\n",
    "\n",
    "    # Draw the lane onto the warped blank image\n",
    "    #cv2.fillPoly(window_img, np.int_([left_line_pts]), (0,255, 0))\n",
    "    #cv2.fillPoly(window_img, np.int_([right_line_pts]), (0,255, 0))\n",
    "    #result = cv2.addWeighted(out_img, 1, window_img, 0.3, 0)\n",
    "    \n",
    "    # Plot the polynomial lines onto the image\n",
    "    #plt.plot(left_fitx, ploty, color='yellow')\n",
    "    #plt.plot(right_fitx, ploty, color='yellow')\n",
    "    ## End visualization steps ##\n",
    "    left_curverad, right_curverad = compute_lane_curvature(left_fitx, right_fitx, ploty)\n",
    "    print(left_curverad, right_curverad)\n",
    "    \n",
    "    \n",
    "    \n",
    "    # Create an image to draw the lines on\n",
    "    warp_zero = np.zeros_like(binary_warped).astype(np.uint8)\n",
    "    color_warp = np.dstack((warp_zero, warp_zero, warp_zero))\n",
    "\n",
    "    # Recast the x and y points into usable format for cv2.fillPoly()\n",
    "    pts_left = np.array([np.transpose(np.vstack([left_fitx, ploty]))])\n",
    "    pts_right = np.array([np.flipud(np.transpose(np.vstack([right_fitx, ploty])))])\n",
    "    pts = np.hstack((pts_left, pts_right))\n",
    "\n",
    "    # Draw the lane onto the warped blank image\n",
    "    cv2.fillPoly(color_warp, np.int_([pts]), (0,255, 0))\n",
    "\n",
    "    # Warp the blank back to original image space using inverse perspective matrix (Minv)\n",
    "    newwarp = cv2.warpPerspective(color_warp, Minv, (undist.shape[1], undist.shape[0])) \n",
    "    # Combine the result with the original image\n",
    "    result = cv2.addWeighted(undist, 1, newwarp, 0.3, 0)\n",
    "    \n",
    "    \n",
    "    return result"
   ]
  },
  {
   "cell_type": "code",
   "execution_count": 10,
   "metadata": {},
   "outputs": [],
   "source": [
    "# Import everything needed to edit/save/watch video clips\n",
    "from moviepy.editor import VideoFileClip\n",
    "from IPython.display import HTML"
   ]
  },
  {
   "cell_type": "code",
   "execution_count": 16,
   "metadata": {},
   "outputs": [],
   "source": [
    "def process_image(image):\n",
    "    # NOTE: The output you return should be a color image (3 channel) for processing video below\n",
    "    # TODO: put your pipeline here,\n",
    "    # you should return the final output (image where lines are drawn on lanes)\n",
    "    undist = cv2.undistort(image, mtx, dist, None, mtx)\n",
    "    binary = pipeline(undist)\n",
    "    \n",
    "    perspec, M, Minv = get_perspective(binary)\n",
    "    gray = cv2.cvtColor(perspec, cv2.COLOR_BGR2GRAY)\n",
    "    (thresh, blackAndWhiteImage) = cv2.threshold(gray, 50, 255, cv2.THRESH_BINARY)\n",
    "\n",
    "    out_img, left_fit, right_fit = fit_polynomial(blackAndWhiteImage)\n",
    "    result = search_around_poly(blackAndWhiteImage, Minv, left_fit, right_fit, undist)\n",
    "    return result"
   ]
  },
  {
   "cell_type": "code",
   "execution_count": 32,
   "metadata": {},
   "outputs": [
    {
     "name": "stderr",
     "output_type": "stream",
     "text": [
      "t:  51%|█████     | 607/1199 [45:18<01:46,  5.58it/s, now=None]\n",
      "t:   0%|          | 0/1260 [00:00<?, ?it/s, now=None]\u001b[A"
     ]
    },
    {
     "name": "stdout",
     "output_type": "stream",
     "text": [
      "151.50015428153256 245.57727053376476\n",
      "Moviepy - Building video project_video_out.mp4.\n",
      "Moviepy - Writing video project_video_out.mp4\n",
      "\n",
      "151.50015428153256"
     ]
    },
    {
     "name": "stderr",
     "output_type": "stream",
     "text": [
      "\n",
      "t:   0%|          | 2/1260 [00:00<01:55, 10.93it/s, now=None]\u001b[A"
     ]
    },
    {
     "name": "stdout",
     "output_type": "stream",
     "text": [
      " 245.57727053376476\n",
      "147.01025264071822 202.56716456880127\n"
     ]
    },
    {
     "name": "stderr",
     "output_type": "stream",
     "text": [
      "\n",
      "t:   0%|          | 3/1260 [00:00<02:32,  8.26it/s, now=None]\u001b[A\n",
      "t:   0%|          | 4/1260 [00:00<02:57,  7.07it/s, now=None]\u001b[A"
     ]
    },
    {
     "name": "stdout",
     "output_type": "stream",
     "text": [
      "143.3088310379883 216.9569256680641\n",
      "149.01157869193713 219.23959939614682\n"
     ]
    },
    {
     "name": "stderr",
     "output_type": "stream",
     "text": [
      "\n",
      "t:   0%|          | 5/1260 [00:00<03:09,  6.63it/s, now=None]\u001b[A\n",
      "t:   0%|          | 6/1260 [00:00<03:22,  6.18it/s, now=None]\u001b[A"
     ]
    },
    {
     "name": "stdout",
     "output_type": "stream",
     "text": [
      "154.46711502987978 197.0161325508767\n",
      "157.59850830207486"
     ]
    },
    {
     "name": "stderr",
     "output_type": "stream",
     "text": [
      "\n",
      "t:   1%|          | 7/1260 [00:01<03:37,  5.75it/s, now=None]\u001b[A"
     ]
    },
    {
     "name": "stdout",
     "output_type": "stream",
     "text": [
      " 163.13546705113083\n",
      "163.96000741821584"
     ]
    },
    {
     "name": "stderr",
     "output_type": "stream",
     "text": [
      "\n",
      "t:   1%|          | 8/1260 [00:01<03:42,  5.63it/s, now=None]\u001b[A"
     ]
    },
    {
     "name": "stdout",
     "output_type": "stream",
     "text": [
      " 146.89672748319668\n",
      "162.38732366822404"
     ]
    },
    {
     "name": "stderr",
     "output_type": "stream",
     "text": [
      "\n",
      "t:   1%|          | 9/1260 [00:01<03:44,  5.56it/s, now=None]\u001b[A"
     ]
    },
    {
     "name": "stdout",
     "output_type": "stream",
     "text": [
      " 138.3800396020489\n",
      "170.69580560618883 185.42639770988137\n"
     ]
    },
    {
     "name": "stderr",
     "output_type": "stream",
     "text": [
      "\n",
      "t:   1%|          | 10/1260 [00:01<03:43,  5.60it/s, now=None]\u001b[A\n",
      "t:   1%|          | 11/1260 [00:01<03:45,  5.53it/s, now=None]\u001b[A"
     ]
    },
    {
     "name": "stdout",
     "output_type": "stream",
     "text": [
      "178.03368250466022 226.282721955759\n",
      "184.07013625681918 233.7444948967201\n"
     ]
    },
    {
     "name": "stderr",
     "output_type": "stream",
     "text": [
      "\n",
      "t:   1%|          | 12/1260 [00:02<03:48,  5.46it/s, now=None]\u001b[A\n",
      "t:   1%|          | 13/1260 [00:02<03:49,  5.43it/s, now=None]\u001b[A\n"
     ]
    },
    {
     "name": "stdout",
     "output_type": "stream",
     "text": [
      "195.35145412344755 292.74433617060953\n",
      "188.38657531158302 288.0715094819788\n"
     ]
    },
    {
     "name": "stderr",
     "output_type": "stream",
     "text": [
      "t:   1%|          | 14/1260 [00:02<03:45,  5.53it/s, now=None]\u001b[A\n",
      "t:   1%|          | 15/1260 [00:02<03:41,  5.63it/s, now=None]\u001b[A\n"
     ]
    },
    {
     "name": "stdout",
     "output_type": "stream",
     "text": [
      "196.22861234514727 294.48493392351304\n",
      "191.69494420285608 213.5906081575115\n"
     ]
    },
    {
     "name": "stderr",
     "output_type": "stream",
     "text": [
      "t:   1%|▏         | 16/1260 [00:02<03:41,  5.63it/s, now=None]\u001b[A\n",
      "t:   1%|▏         | 17/1260 [00:02<03:39,  5.65it/s, now=None]\u001b[A\n"
     ]
    },
    {
     "name": "stdout",
     "output_type": "stream",
     "text": [
      "191.91325702523764 154.0783374164716\n",
      "192.61664229431338 145.76414727957714\n"
     ]
    },
    {
     "name": "stderr",
     "output_type": "stream",
     "text": [
      "t:   1%|▏         | 18/1260 [00:03<03:38,  5.67it/s, now=None]\u001b[A\n",
      "t:   2%|▏         | 19/1260 [00:03<03:40,  5.63it/s, now=None]\u001b[A\n"
     ]
    },
    {
     "name": "stdout",
     "output_type": "stream",
     "text": [
      "203.56852452784887 149.31013257508812\n",
      "210.4977209875178 149.00976764238393\n"
     ]
    },
    {
     "name": "stderr",
     "output_type": "stream",
     "text": [
      "t:   2%|▏         | 20/1260 [00:03<03:40,  5.63it/s, now=None]\u001b[A\n",
      "t:   2%|▏         | 21/1260 [00:03<03:36,  5.74it/s, now=None]\u001b[A"
     ]
    },
    {
     "name": "stdout",
     "output_type": "stream",
     "text": [
      "217.0587835839978 122.03825334026656\n",
      "235.3959133999936 126.05654471659146\n"
     ]
    },
    {
     "name": "stderr",
     "output_type": "stream",
     "text": [
      "\n",
      "t:   2%|▏         | 22/1260 [00:03<03:41,  5.59it/s, now=None]\u001b[A\n",
      "t:   2%|▏         | 23/1260 [00:04<03:44,  5.50it/s, now=None]\u001b[A"
     ]
    },
    {
     "name": "stdout",
     "output_type": "stream",
     "text": [
      "237.6580951812062 125.29731361580774\n",
      "246.92768223225616"
     ]
    },
    {
     "name": "stderr",
     "output_type": "stream",
     "text": [
      "\n",
      "t:   2%|▏         | 24/1260 [00:04<03:49,  5.38it/s, now=None]\u001b[A"
     ]
    },
    {
     "name": "stdout",
     "output_type": "stream",
     "text": [
      " 153.86038851961342\n",
      "224.9095738591057"
     ]
    },
    {
     "name": "stderr",
     "output_type": "stream",
     "text": [
      "\n",
      "t:   2%|▏         | 25/1260 [00:04<03:51,  5.32it/s, now=None]\u001b[A"
     ]
    },
    {
     "name": "stdout",
     "output_type": "stream",
     "text": [
      " 178.0284337950323\n",
      "202.23441831012676"
     ]
    },
    {
     "name": "stderr",
     "output_type": "stream",
     "text": [
      "\n",
      "t:   2%|▏         | 26/1260 [00:04<03:53,  5.29it/s, now=None]\u001b[A"
     ]
    },
    {
     "name": "stdout",
     "output_type": "stream",
     "text": [
      " 204.53154456452998\n",
      "195.8746163772819"
     ]
    },
    {
     "name": "stderr",
     "output_type": "stream",
     "text": [
      "\n",
      "t:   2%|▏         | 27/1260 [00:04<03:53,  5.28it/s, now=None]\u001b[A"
     ]
    },
    {
     "name": "stdout",
     "output_type": "stream",
     "text": [
      " 207.99487495787832\n",
      "181.88301265439273 221.29645946618095\n"
     ]
    },
    {
     "name": "stderr",
     "output_type": "stream",
     "text": [
      "\n",
      "t:   2%|▏         | 28/1260 [00:04<03:49,  5.38it/s, now=None]\u001b[A\n",
      "t:   2%|▏         | 29/1260 [00:05<03:51,  5.33it/s, now=None]\u001b[A"
     ]
    },
    {
     "name": "stdout",
     "output_type": "stream",
     "text": [
      "188.5283065780663 225.83347864796787\n",
      "180.58104237506333 209.67899090421872\n"
     ]
    },
    {
     "name": "stderr",
     "output_type": "stream",
     "text": [
      "\n",
      "t:   2%|▏         | 30/1260 [00:05<03:47,  5.41it/s, now=None]\u001b[A\n",
      "t:   2%|▏         | 31/1260 [00:05<03:44,  5.47it/s, now=None]\u001b[A"
     ]
    },
    {
     "name": "stdout",
     "output_type": "stream",
     "text": [
      "157.1636536629493 194.33859342004126\n",
      "152.35974070149757 155.84869436069576\n"
     ]
    },
    {
     "name": "stderr",
     "output_type": "stream",
     "text": [
      "\n",
      "t:   3%|▎         | 32/1260 [00:05<03:41,  5.53it/s, now=None]\u001b[A\n",
      "t:   3%|▎         | 33/1260 [00:05<03:46,  5.42it/s, now=None]\u001b[A"
     ]
    },
    {
     "name": "stdout",
     "output_type": "stream",
     "text": [
      "140.15397024275882 129.37326877556396\n",
      "140.77065546908253 105.61619440867892\n"
     ]
    },
    {
     "name": "stderr",
     "output_type": "stream",
     "text": [
      "\n",
      "t:   3%|▎         | 34/1260 [00:06<03:39,  5.58it/s, now=None]\u001b[A\n",
      "t:   3%|▎         | 35/1260 [00:06<03:36,  5.66it/s, now=None]\u001b[A\n"
     ]
    },
    {
     "name": "stdout",
     "output_type": "stream",
     "text": [
      "130.3939666384671 119.1433807329796\n",
      "127.01069036950284 141.29983680177207\n"
     ]
    },
    {
     "name": "stderr",
     "output_type": "stream",
     "text": [
      "t:   3%|▎         | 36/1260 [00:06<03:36,  5.65it/s, now=None]\u001b[A\n",
      "t:   3%|▎         | 37/1260 [00:06<03:38,  5.61it/s, now=None]\u001b[A"
     ]
    },
    {
     "name": "stdout",
     "output_type": "stream",
     "text": [
      "125.645828993608 140.6511265692819\n",
      "124.06555195526539 133.78898208815735\n"
     ]
    },
    {
     "name": "stderr",
     "output_type": "stream",
     "text": [
      "\n",
      "t:   3%|▎         | 38/1260 [00:06<03:36,  5.65it/s, now=None]\u001b[A\n",
      "t:   3%|▎         | 39/1260 [00:06<03:36,  5.63it/s, now=None]\u001b[A"
     ]
    },
    {
     "name": "stdout",
     "output_type": "stream",
     "text": [
      "117.1164378125761 131.7884232252792\n",
      "115.74018707334056 121.95617079421106\n"
     ]
    },
    {
     "name": "stderr",
     "output_type": "stream",
     "text": [
      "\n",
      "t:   3%|▎         | 40/1260 [00:07<03:38,  5.58it/s, now=None]\u001b[A\n",
      "t:   3%|▎         | 41/1260 [00:07<03:37,  5.61it/s, now=None]\u001b[A"
     ]
    },
    {
     "name": "stdout",
     "output_type": "stream",
     "text": [
      "117.65613514685293 125.69046274167302\n",
      "122.46000019274607 117.1019424587534\n"
     ]
    },
    {
     "name": "stderr",
     "output_type": "stream",
     "text": [
      "\n",
      "t:   3%|▎         | 42/1260 [00:07<03:38,  5.58it/s, now=None]\u001b[A\n",
      "t:   3%|▎         | 43/1260 [00:07<03:36,  5.61it/s, now=None]\u001b[A"
     ]
    },
    {
     "name": "stdout",
     "output_type": "stream",
     "text": [
      "125.66402124367161 119.33158398189703\n",
      "131.7976048830456"
     ]
    },
    {
     "name": "stderr",
     "output_type": "stream",
     "text": [
      "\n",
      "t:   3%|▎         | 44/1260 [00:07<03:44,  5.41it/s, now=None]\u001b[A"
     ]
    },
    {
     "name": "stdout",
     "output_type": "stream",
     "text": [
      " 123.04954859450321\n",
      "137.51101846060394"
     ]
    },
    {
     "name": "stderr",
     "output_type": "stream",
     "text": [
      "\n",
      "t:   4%|▎         | 45/1260 [00:08<03:46,  5.35it/s, now=None]\u001b[A"
     ]
    },
    {
     "name": "stdout",
     "output_type": "stream",
     "text": [
      " 133.58491483237856\n",
      "143.8009692266583 105.9811258743076\n"
     ]
    },
    {
     "name": "stderr",
     "output_type": "stream",
     "text": [
      "\n",
      "t:   4%|▎         | 46/1260 [00:08<03:43,  5.42it/s, now=None]\u001b[A\n",
      "t:   4%|▎         | 47/1260 [00:08<03:39,  5.53it/s, now=None]\u001b[A\n"
     ]
    },
    {
     "name": "stdout",
     "output_type": "stream",
     "text": [
      "148.27542472048313 109.4436934298926\n",
      "151.59583182115983 150.10393766831967\n"
     ]
    },
    {
     "name": "stderr",
     "output_type": "stream",
     "text": [
      "t:   4%|▍         | 48/1260 [00:08<03:36,  5.59it/s, now=None]\u001b[A\n",
      "t:   4%|▍         | 49/1260 [00:08<03:40,  5.50it/s, now=None]\u001b[A"
     ]
    },
    {
     "name": "stdout",
     "output_type": "stream",
     "text": [
      "162.33392790380597 145.19548690013355\n",
      "175.7765974669841"
     ]
    },
    {
     "name": "stderr",
     "output_type": "stream",
     "text": [
      "\n",
      "t:   4%|▍         | 50/1260 [00:08<03:39,  5.50it/s, now=None]\u001b[A"
     ]
    },
    {
     "name": "stdout",
     "output_type": "stream",
     "text": [
      " 171.2609831329007\n",
      "181.1717522513009 182.97430454037143\n"
     ]
    },
    {
     "name": "stderr",
     "output_type": "stream",
     "text": [
      "\n",
      "t:   4%|▍         | 51/1260 [00:09<03:38,  5.53it/s, now=None]\u001b[A\n",
      "t:   4%|▍         | 52/1260 [00:09<03:39,  5.50it/s, now=None]\u001b[A"
     ]
    },
    {
     "name": "stdout",
     "output_type": "stream",
     "text": [
      "187.82157176523933 164.79953723045952\n",
      "189.50032617711184"
     ]
    },
    {
     "name": "stderr",
     "output_type": "stream",
     "text": [
      "\n",
      "t:   4%|▍         | 53/1260 [00:09<03:45,  5.35it/s, now=None]\u001b[A\n"
     ]
    },
    {
     "name": "stdout",
     "output_type": "stream",
     "text": [
      " 161.84727916386421\n",
      "193.3744181861082 165.97619170301692\n"
     ]
    },
    {
     "name": "stderr",
     "output_type": "stream",
     "text": [
      "t:   4%|▍         | 54/1260 [00:09<03:41,  5.44it/s, now=None]\u001b[A\n",
      "t:   4%|▍         | 55/1260 [00:09<03:39,  5.49it/s, now=None]\u001b[A\n"
     ]
    },
    {
     "name": "stdout",
     "output_type": "stream",
     "text": [
      "204.83438322355647 147.15806955530232\n",
      "210.61936753858444 147.7310765147496\n"
     ]
    },
    {
     "name": "stderr",
     "output_type": "stream",
     "text": [
      "t:   4%|▍         | 56/1260 [00:10<03:39,  5.49it/s, now=None]\u001b[A\n",
      "t:   5%|▍         | 57/1260 [00:10<03:44,  5.37it/s, now=None]\u001b[A"
     ]
    },
    {
     "name": "stdout",
     "output_type": "stream",
     "text": [
      "221.68672863440418 156.72708256596096\n",
      "218.78696255838184"
     ]
    },
    {
     "name": "stderr",
     "output_type": "stream",
     "text": [
      "\n",
      "t:   5%|▍         | 58/1260 [00:10<03:45,  5.33it/s, now=None]\u001b[A\n"
     ]
    },
    {
     "name": "stdout",
     "output_type": "stream",
     "text": [
      " 148.90057436087403\n",
      "219.3258898529735 146.3172601832583\n"
     ]
    },
    {
     "name": "stderr",
     "output_type": "stream",
     "text": [
      "t:   5%|▍         | 59/1260 [00:10<03:42,  5.39it/s, now=None]\u001b[A\n",
      "t:   5%|▍         | 60/1260 [00:10<03:40,  5.43it/s, now=None]\u001b[A"
     ]
    },
    {
     "name": "stdout",
     "output_type": "stream",
     "text": [
      "215.7985329417307 188.32501045558283\n"
     ]
    },
    {
     "name": "stderr",
     "output_type": "stream",
     "text": [
      "\n",
      "t:   5%|▍         | 61/1260 [00:10<03:53,  5.13it/s, now=None]\u001b[A"
     ]
    },
    {
     "name": "stdout",
     "output_type": "stream",
     "text": [
      "197.04425881422483 189.08439770697012\n",
      "195.108580283156 184.83228195141012\n"
     ]
    },
    {
     "name": "stderr",
     "output_type": "stream",
     "text": [
      "\n",
      "t:   5%|▍         | 62/1260 [00:11<03:52,  5.15it/s, now=None]\u001b[A\n",
      "t:   5%|▌         | 63/1260 [00:11<03:48,  5.23it/s, now=None]\u001b[A"
     ]
    },
    {
     "name": "stdout",
     "output_type": "stream",
     "text": [
      "182.34648138173847 127.6473321734633\n",
      "188.5654316929762 125.13559410080094\n"
     ]
    },
    {
     "name": "stderr",
     "output_type": "stream",
     "text": [
      "\n",
      "t:   5%|▌         | 64/1260 [00:11<03:45,  5.31it/s, now=None]\u001b[A\n",
      "t:   5%|▌         | 65/1260 [00:11<03:44,  5.32it/s, now=None]\u001b[A"
     ]
    },
    {
     "name": "stdout",
     "output_type": "stream",
     "text": [
      "185.73514332631385 128.34955321965154\n",
      "180.98033042147676 141.16346802047437\n"
     ]
    },
    {
     "name": "stderr",
     "output_type": "stream",
     "text": [
      "\n",
      "t:   5%|▌         | 66/1260 [00:11<03:43,  5.35it/s, now=None]\u001b[A\n",
      "t:   5%|▌         | 67/1260 [00:12<03:47,  5.24it/s, now=None]\u001b[A"
     ]
    },
    {
     "name": "stdout",
     "output_type": "stream",
     "text": [
      "176.23403287290247 151.34634240145937\n",
      "189.0069162445563 160.69525667801716\n"
     ]
    },
    {
     "name": "stderr",
     "output_type": "stream",
     "text": [
      "\n",
      "t:   5%|▌         | 68/1260 [00:12<03:45,  5.28it/s, now=None]\u001b[A\n",
      "t:   5%|▌         | 69/1260 [00:12<03:47,  5.23it/s, now=None]\u001b[A"
     ]
    },
    {
     "name": "stdout",
     "output_type": "stream",
     "text": [
      "194.04012548653063 167.95052156525387\n",
      "192.57463319872372 158.94326381604978\n"
     ]
    },
    {
     "name": "stderr",
     "output_type": "stream",
     "text": [
      "\n",
      "t:   6%|▌         | 70/1260 [00:12<03:47,  5.22it/s, now=None]\u001b[A\n",
      "t:   6%|▌         | 71/1260 [00:12<03:49,  5.18it/s, now=None]\u001b[A"
     ]
    },
    {
     "name": "stdout",
     "output_type": "stream",
     "text": [
      "202.06047239241423 123.02764424167879\n",
      "203.0926613196436 121.07200963944506"
     ]
    },
    {
     "name": "stderr",
     "output_type": "stream",
     "text": [
      "\n",
      "t:   6%|▌         | 72/1260 [00:13<03:47,  5.23it/s, now=None]\u001b[A"
     ]
    },
    {
     "name": "stdout",
     "output_type": "stream",
     "text": [
      "\n",
      "218.98248788860528 132.97866052730708\n"
     ]
    },
    {
     "name": "stderr",
     "output_type": "stream",
     "text": [
      "\n",
      "t:   6%|▌         | 73/1260 [00:13<03:47,  5.21it/s, now=None]\u001b[A\n",
      "t:   6%|▌         | 74/1260 [00:13<03:49,  5.17it/s, now=None]\u001b[A"
     ]
    },
    {
     "name": "stdout",
     "output_type": "stream",
     "text": [
      "234.8229757940626 151.89568874224764\n",
      "245.8813125784743"
     ]
    },
    {
     "name": "stderr",
     "output_type": "stream",
     "text": [
      "\n",
      "t:   6%|▌         | 75/1260 [00:13<03:48,  5.18it/s, now=None]\u001b[A"
     ]
    },
    {
     "name": "stdout",
     "output_type": "stream",
     "text": [
      " 151.7692415794753\n",
      "253.34066490074687 157.47755411457183\n"
     ]
    },
    {
     "name": "stderr",
     "output_type": "stream",
     "text": [
      "\n",
      "t:   6%|▌         | 76/1260 [00:13<03:50,  5.13it/s, now=None]\u001b[A\n",
      "t:   6%|▌         | 77/1260 [00:14<03:51,  5.11it/s, now=None]\u001b[A"
     ]
    },
    {
     "name": "stdout",
     "output_type": "stream",
     "text": [
      "244.0523776323474 145.0798606215729\n",
      "277.68006591099294 168.83021856139945\n"
     ]
    },
    {
     "name": "stderr",
     "output_type": "stream",
     "text": [
      "\n",
      "t:   6%|▌         | 78/1260 [00:14<03:50,  5.12it/s, now=None]\u001b[A\n",
      "t:   6%|▋         | 79/1260 [00:14<03:47,  5.20it/s, now=None]\u001b[A"
     ]
    },
    {
     "name": "stdout",
     "output_type": "stream",
     "text": [
      "294.9563466440925 173.01394143766112\n",
      "298.22813013330665 178.91306987330532\n"
     ]
    },
    {
     "name": "stderr",
     "output_type": "stream",
     "text": [
      "\n",
      "t:   6%|▋         | 80/1260 [00:14<03:50,  5.13it/s, now=None]\u001b[A\n",
      "t:   6%|▋         | 81/1260 [00:14<03:49,  5.14it/s, now=None]\u001b[A"
     ]
    },
    {
     "name": "stdout",
     "output_type": "stream",
     "text": [
      "305.74741294646185 170.4019317863406\n",
      "286.7088056551135"
     ]
    },
    {
     "name": "stderr",
     "output_type": "stream",
     "text": [
      "\n",
      "t:   7%|▋         | 82/1260 [00:15<03:52,  5.06it/s, now=None]\u001b[A"
     ]
    },
    {
     "name": "stdout",
     "output_type": "stream",
     "text": [
      " 150.0026022583227\n",
      "282.15660915812384 143.5144618312159\n"
     ]
    },
    {
     "name": "stderr",
     "output_type": "stream",
     "text": [
      "\n",
      "t:   7%|▋         | 83/1260 [00:15<03:53,  5.04it/s, now=None]\u001b[A\n",
      "t:   7%|▋         | 84/1260 [00:15<03:51,  5.08it/s, now=None]\u001b[A"
     ]
    },
    {
     "name": "stdout",
     "output_type": "stream",
     "text": [
      "248.59148580526406 125.54867158484532\n",
      "253.92626559297636"
     ]
    },
    {
     "name": "stderr",
     "output_type": "stream",
     "text": [
      "\n",
      "t:   7%|▋         | 85/1260 [00:15<03:51,  5.08it/s, now=None]\u001b[A"
     ]
    },
    {
     "name": "stdout",
     "output_type": "stream",
     "text": [
      " 129.69907821421668\n",
      "236.33732272184696 155.96571779494911\n"
     ]
    },
    {
     "name": "stderr",
     "output_type": "stream",
     "text": [
      "\n",
      "t:   7%|▋         | 86/1260 [00:15<03:49,  5.11it/s, now=None]\u001b[A\n",
      "t:   7%|▋         | 87/1260 [00:16<03:49,  5.12it/s, now=None]\u001b[A"
     ]
    },
    {
     "name": "stdout",
     "output_type": "stream",
     "text": [
      "223.15245094281562 163.3836793949918\n",
      "191.8369885858865 195.5491711920514\n"
     ]
    },
    {
     "name": "stderr",
     "output_type": "stream",
     "text": [
      "\n",
      "t:   7%|▋         | 88/1260 [00:16<03:46,  5.18it/s, now=None]\u001b[A\n",
      "t:   7%|▋         | 89/1260 [00:16<03:43,  5.23it/s, now=None]\u001b[A"
     ]
    },
    {
     "name": "stdout",
     "output_type": "stream",
     "text": [
      "170.60094894347853 165.39397297194287\n",
      "165.5013275429866 160.61021358668427\n"
     ]
    },
    {
     "name": "stderr",
     "output_type": "stream",
     "text": [
      "\n",
      "t:   7%|▋         | 90/1260 [00:16<03:39,  5.32it/s, now=None]\u001b[A\n",
      "t:   7%|▋         | 91/1260 [00:16<03:39,  5.33it/s, now=None]\u001b[A"
     ]
    },
    {
     "name": "stdout",
     "output_type": "stream",
     "text": [
      "151.28926158212684 128.861070753747\n",
      "152.397942539189 147.0396110212275\n"
     ]
    },
    {
     "name": "stderr",
     "output_type": "stream",
     "text": [
      "\n",
      "t:   7%|▋         | 92/1260 [00:16<03:41,  5.28it/s, now=None]\u001b[A\n",
      "t:   7%|▋         | 93/1260 [00:17<03:42,  5.25it/s, now=None]\u001b[A"
     ]
    },
    {
     "name": "stdout",
     "output_type": "stream",
     "text": [
      "158.93412914754265 150.62019661972815\n",
      "153.37251825940325 150.45305015678463\n"
     ]
    },
    {
     "name": "stderr",
     "output_type": "stream",
     "text": [
      "\n",
      "t:   7%|▋         | 94/1260 [00:17<03:40,  5.30it/s, now=None]\u001b[A\n",
      "t:   8%|▊         | 95/1260 [00:17<03:40,  5.28it/s, now=None]\u001b[A"
     ]
    },
    {
     "name": "stdout",
     "output_type": "stream",
     "text": [
      "150.2713144153698 157.2168724311937\n",
      "154.77439799406997 127.14477926991108\n"
     ]
    },
    {
     "name": "stderr",
     "output_type": "stream",
     "text": [
      "\n",
      "t:   8%|▊         | 96/1260 [00:17<03:43,  5.21it/s, now=None]\u001b[A\n",
      "t:   8%|▊         | 97/1260 [00:17<03:39,  5.31it/s, now=None]\u001b[A"
     ]
    },
    {
     "name": "stdout",
     "output_type": "stream",
     "text": [
      "156.55727545250832 123.52843858796999\n",
      "149.7240571946785"
     ]
    },
    {
     "name": "stderr",
     "output_type": "stream",
     "text": [
      "\n",
      "t:   8%|▊         | 98/1260 [00:18<03:38,  5.33it/s, now=None]\u001b[A"
     ]
    },
    {
     "name": "stdout",
     "output_type": "stream",
     "text": [
      " 127.25600938914772\n",
      "157.9281818532256"
     ]
    },
    {
     "name": "stderr",
     "output_type": "stream",
     "text": [
      "\n",
      "t:   8%|▊         | 99/1260 [00:18<03:36,  5.36it/s, now=None]\u001b[A"
     ]
    },
    {
     "name": "stdout",
     "output_type": "stream",
     "text": [
      " 138.46532950287917\n",
      "153.1761086395555 151.23196737094656\n"
     ]
    },
    {
     "name": "stderr",
     "output_type": "stream",
     "text": [
      "\n",
      "t:   8%|▊         | 100/1260 [00:18<03:41,  5.25it/s, now=None]\u001b[A\n",
      "t:   8%|▊         | 101/1260 [00:18<03:38,  5.31it/s, now=None]\u001b[A"
     ]
    },
    {
     "name": "stdout",
     "output_type": "stream",
     "text": [
      "155.5464644643944 144.06663241297952\n"
     ]
    },
    {
     "name": "stderr",
     "output_type": "stream",
     "text": [
      "\n",
      "t:   8%|▊         | 102/1260 [00:18<03:43,  5.19it/s, now=None]\u001b[A"
     ]
    },
    {
     "name": "stdout",
     "output_type": "stream",
     "text": [
      "155.30841478811925 146.8897461035263\n",
      "151.00860071344954"
     ]
    },
    {
     "name": "stderr",
     "output_type": "stream",
     "text": [
      "\n",
      "t:   8%|▊         | 103/1260 [00:19<03:44,  5.15it/s, now=None]\u001b[A"
     ]
    },
    {
     "name": "stdout",
     "output_type": "stream",
     "text": [
      " 134.63884323183248\n",
      "153.48893351078638"
     ]
    },
    {
     "name": "stderr",
     "output_type": "stream",
     "text": [
      "\n",
      "t:   8%|▊         | 104/1260 [00:19<03:41,  5.21it/s, now=None]\u001b[A"
     ]
    },
    {
     "name": "stdout",
     "output_type": "stream",
     "text": [
      " 142.7524868426649\n",
      "154.93740208302378 126.99163180549152\n"
     ]
    },
    {
     "name": "stderr",
     "output_type": "stream",
     "text": [
      "\n",
      "t:   8%|▊         | 105/1260 [00:19<03:39,  5.26it/s, now=None]\u001b[A\n",
      "t:   8%|▊         | 106/1260 [00:19<03:41,  5.20it/s, now=None]\u001b[A"
     ]
    },
    {
     "name": "stdout",
     "output_type": "stream",
     "text": [
      "165.52770032904894 141.66063251259456\n"
     ]
    },
    {
     "name": "stderr",
     "output_type": "stream",
     "text": [
      "\n",
      "t:   8%|▊         | 107/1260 [00:19<03:42,  5.18it/s, now=None]\u001b[A"
     ]
    },
    {
     "name": "stdout",
     "output_type": "stream",
     "text": [
      "158.67430259065137 154.2823291643855\n",
      "163.91531579316248 143.2569504822649\n"
     ]
    },
    {
     "name": "stderr",
     "output_type": "stream",
     "text": [
      "\n",
      "t:   9%|▊         | 108/1260 [00:20<03:39,  5.25it/s, now=None]\u001b[A\n",
      "t:   9%|▊         | 109/1260 [00:20<03:47,  5.07it/s, now=None]\u001b[A"
     ]
    },
    {
     "name": "stdout",
     "output_type": "stream",
     "text": [
      "158.02340806647388 96.75424526011822\n"
     ]
    },
    {
     "name": "stderr",
     "output_type": "stream",
     "text": [
      "\n",
      "t:   9%|▊         | 110/1260 [00:20<03:46,  5.07it/s, now=None]\u001b[A"
     ]
    },
    {
     "name": "stdout",
     "output_type": "stream",
     "text": [
      "158.93305988337693 108.72026292319026\n",
      "160.63551175287543"
     ]
    },
    {
     "name": "stderr",
     "output_type": "stream",
     "text": [
      "\n",
      "t:   9%|▉         | 111/1260 [00:20<03:51,  4.96it/s, now=None]\u001b[A"
     ]
    },
    {
     "name": "stdout",
     "output_type": "stream",
     "text": [
      " 120.90382685084398\n"
     ]
    },
    {
     "name": "stderr",
     "output_type": "stream",
     "text": [
      "\n",
      "t:   9%|▉         | 112/1260 [00:20<03:50,  4.98it/s, now=None]\u001b[A"
     ]
    },
    {
     "name": "stdout",
     "output_type": "stream",
     "text": [
      "157.31779853122507 130.58294101791932\n",
      "158.4663738929263 148.5345936321212\n"
     ]
    },
    {
     "name": "stderr",
     "output_type": "stream",
     "text": [
      "\n",
      "t:   9%|▉         | 113/1260 [00:21<03:45,  5.08it/s, now=None]\u001b[A\n",
      "t:   9%|▉         | 114/1260 [00:21<03:41,  5.18it/s, now=None]\u001b[A"
     ]
    },
    {
     "name": "stdout",
     "output_type": "stream",
     "text": [
      "145.74860576780753 123.7822535622872\n",
      "144.4933088070504"
     ]
    },
    {
     "name": "stderr",
     "output_type": "stream",
     "text": [
      "\n",
      "t:   9%|▉         | 115/1260 [00:21<03:43,  5.12it/s, now=None]\u001b[A"
     ]
    },
    {
     "name": "stdout",
     "output_type": "stream",
     "text": [
      " 131.6366664154331\n"
     ]
    },
    {
     "name": "stderr",
     "output_type": "stream",
     "text": [
      "\n",
      "t:   9%|▉         | 116/1260 [00:21<03:46,  5.04it/s, now=None]\u001b[A"
     ]
    },
    {
     "name": "stdout",
     "output_type": "stream",
     "text": [
      "134.10134141556583 129.84056340219118\n",
      "134.03676678619001"
     ]
    },
    {
     "name": "stderr",
     "output_type": "stream",
     "text": [
      "\n",
      "t:   9%|▉         | 117/1260 [00:21<03:44,  5.08it/s, now=None]\u001b[A"
     ]
    },
    {
     "name": "stdout",
     "output_type": "stream",
     "text": [
      " 117.44407960014271\n",
      "139.5909962488133 116.79923320740531\n"
     ]
    },
    {
     "name": "stderr",
     "output_type": "stream",
     "text": [
      "\n",
      "t:   9%|▉         | 118/1260 [00:21<03:42,  5.14it/s, now=None]\u001b[A\n",
      "t:   9%|▉         | 119/1260 [00:22<03:41,  5.14it/s, now=None]\u001b[A"
     ]
    },
    {
     "name": "stdout",
     "output_type": "stream",
     "text": [
      "136.1911936210985 118.28700575696489\n",
      "138.58089392311578"
     ]
    },
    {
     "name": "stderr",
     "output_type": "stream",
     "text": [
      "\n",
      "t:  10%|▉         | 120/1260 [00:22<03:41,  5.14it/s, now=None]\u001b[A"
     ]
    },
    {
     "name": "stdout",
     "output_type": "stream",
     "text": [
      " 122.43666316031755\n",
      "129.90558587261367 120.80584702154705"
     ]
    },
    {
     "name": "stderr",
     "output_type": "stream",
     "text": [
      "\n",
      "t:  10%|▉         | 121/1260 [00:22<03:40,  5.17it/s, now=None]\u001b[A"
     ]
    },
    {
     "name": "stdout",
     "output_type": "stream",
     "text": [
      "\n",
      "133.8434271465373 113.52665920845885\n"
     ]
    },
    {
     "name": "stderr",
     "output_type": "stream",
     "text": [
      "\n",
      "t:  10%|▉         | 122/1260 [00:22<03:34,  5.30it/s, now=None]\u001b[A\n",
      "t:  10%|▉         | 123/1260 [00:22<03:31,  5.37it/s, now=None]\u001b[A"
     ]
    },
    {
     "name": "stdout",
     "output_type": "stream",
     "text": [
      "133.73213035100167 107.5323559578328\n",
      "128.86491748624962 113.03147219812699\n"
     ]
    },
    {
     "name": "stderr",
     "output_type": "stream",
     "text": [
      "\n",
      "t:  10%|▉         | 124/1260 [00:23<03:36,  5.25it/s, now=None]\u001b[A\n",
      "t:  10%|▉         | 125/1260 [00:23<03:33,  5.31it/s, now=None]\u001b[A"
     ]
    },
    {
     "name": "stdout",
     "output_type": "stream",
     "text": [
      "130.8836524381422 114.11489241428508\n",
      "131.41266291676004"
     ]
    },
    {
     "name": "stderr",
     "output_type": "stream",
     "text": [
      "\n",
      "t:  10%|█         | 126/1260 [00:23<03:32,  5.34it/s, now=None]\u001b[A"
     ]
    },
    {
     "name": "stdout",
     "output_type": "stream",
     "text": [
      " 110.7193855471733\n",
      "140.55714739509853 121.09439559453278\n"
     ]
    },
    {
     "name": "stderr",
     "output_type": "stream",
     "text": [
      "\n",
      "t:  10%|█         | 127/1260 [00:23<03:30,  5.37it/s, now=None]\u001b[A\n",
      "t:  10%|█         | 128/1260 [00:23<03:29,  5.40it/s, now=None]\u001b[A"
     ]
    },
    {
     "name": "stdout",
     "output_type": "stream",
     "text": [
      "137.61285497722523 118.01196251145305\n",
      "142.4037363105063"
     ]
    },
    {
     "name": "stderr",
     "output_type": "stream",
     "text": [
      "\n",
      "t:  10%|█         | 129/1260 [00:24<03:31,  5.35it/s, now=None]\u001b[A"
     ]
    },
    {
     "name": "stdout",
     "output_type": "stream",
     "text": [
      " 118.61378890660508\n",
      "137.76661491172075 122.19419634203555\n"
     ]
    },
    {
     "name": "stderr",
     "output_type": "stream",
     "text": [
      "\n",
      "t:  10%|█         | 130/1260 [00:24<03:32,  5.32it/s, now=None]\u001b[A\n",
      "t:  10%|█         | 131/1260 [00:24<03:35,  5.24it/s, now=None]\u001b[A"
     ]
    },
    {
     "name": "stdout",
     "output_type": "stream",
     "text": [
      "150.76233917464305 130.96195457966442\n"
     ]
    },
    {
     "name": "stderr",
     "output_type": "stream",
     "text": [
      "\n",
      "t:  10%|█         | 132/1260 [00:24<03:36,  5.20it/s, now=None]\u001b[A"
     ]
    },
    {
     "name": "stdout",
     "output_type": "stream",
     "text": [
      "150.52676021012854 136.31132117889584\n",
      "154.48401566405764 142.9657118051122\n"
     ]
    },
    {
     "name": "stderr",
     "output_type": "stream",
     "text": [
      "\n",
      "t:  11%|█         | 133/1260 [00:24<03:32,  5.30it/s, now=None]\u001b[A\n",
      "t:  11%|█         | 134/1260 [00:24<03:30,  5.35it/s, now=None]\u001b[A\n"
     ]
    },
    {
     "name": "stdout",
     "output_type": "stream",
     "text": [
      "161.86259540462007 160.24288999731812\n",
      "161.5690835100674 160.68383423854604\n"
     ]
    },
    {
     "name": "stderr",
     "output_type": "stream",
     "text": [
      "t:  11%|█         | 135/1260 [00:25<03:25,  5.48it/s, now=None]\u001b[A\n",
      "t:  11%|█         | 136/1260 [00:25<03:29,  5.37it/s, now=None]\u001b[A"
     ]
    },
    {
     "name": "stdout",
     "output_type": "stream",
     "text": [
      "170.84140126595943 162.50409544546596\n",
      "172.4997046375591"
     ]
    },
    {
     "name": "stderr",
     "output_type": "stream",
     "text": [
      "\n",
      "t:  11%|█         | 137/1260 [00:25<03:34,  5.24it/s, now=None]\u001b[A"
     ]
    },
    {
     "name": "stdout",
     "output_type": "stream",
     "text": [
      " 161.34889542667557\n",
      "177.69173275731328 169.69511364320715\n"
     ]
    },
    {
     "name": "stderr",
     "output_type": "stream",
     "text": [
      "\n",
      "t:  11%|█         | 138/1260 [00:25<03:34,  5.24it/s, now=None]\u001b[A\n",
      "t:  11%|█         | 139/1260 [00:25<03:30,  5.34it/s, now=None]\u001b[A"
     ]
    },
    {
     "name": "stdout",
     "output_type": "stream",
     "text": [
      "187.94590471289686 182.41158110001894\n",
      "189.74323514831195 229.7872834749151\n"
     ]
    },
    {
     "name": "stderr",
     "output_type": "stream",
     "text": [
      "\n",
      "t:  11%|█         | 140/1260 [00:26<03:29,  5.34it/s, now=None]\u001b[A\n",
      "t:  11%|█         | 141/1260 [00:26<03:29,  5.35it/s, now=None]\u001b[A"
     ]
    },
    {
     "name": "stdout",
     "output_type": "stream",
     "text": [
      "199.2352145575707 222.79655138340587\n",
      "202.41000076996414"
     ]
    },
    {
     "name": "stderr",
     "output_type": "stream",
     "text": [
      "\n",
      "t:  11%|█▏        | 142/1260 [00:26<03:31,  5.28it/s, now=None]\u001b[A"
     ]
    },
    {
     "name": "stdout",
     "output_type": "stream",
     "text": [
      " 232.17047852740524\n",
      "213.4043414518066 190.6859767191849\n"
     ]
    },
    {
     "name": "stderr",
     "output_type": "stream",
     "text": [
      "\n",
      "t:  11%|█▏        | 143/1260 [00:26<03:29,  5.33it/s, now=None]\u001b[A\n",
      "t:  11%|█▏        | 144/1260 [00:26<03:27,  5.38it/s, now=None]\u001b[A"
     ]
    },
    {
     "name": "stdout",
     "output_type": "stream",
     "text": [
      "195.67810946516886 158.90919919229523\n",
      "199.50586793780093 167.78593832799257\n"
     ]
    },
    {
     "name": "stderr",
     "output_type": "stream",
     "text": [
      "\n",
      "t:  12%|█▏        | 145/1260 [00:27<03:26,  5.41it/s, now=None]\u001b[A\n",
      "t:  12%|█▏        | 146/1260 [00:27<03:24,  5.46it/s, now=None]\u001b[A"
     ]
    },
    {
     "name": "stdout",
     "output_type": "stream",
     "text": [
      "200.95821524777315 166.2567475727443\n",
      "199.0828200310741 160.82763959797583\n"
     ]
    },
    {
     "name": "stderr",
     "output_type": "stream",
     "text": [
      "\n",
      "t:  12%|█▏        | 147/1260 [00:27<03:21,  5.52it/s, now=None]\u001b[A\n",
      "t:  12%|█▏        | 148/1260 [00:27<03:20,  5.56it/s, now=None]\u001b[A\n"
     ]
    },
    {
     "name": "stdout",
     "output_type": "stream",
     "text": [
      "207.24045163650135 147.13857182820956\n",
      "184.69991525431547 155.8806339072698\n"
     ]
    },
    {
     "name": "stderr",
     "output_type": "stream",
     "text": [
      "t:  12%|█▏        | 149/1260 [00:27<03:20,  5.53it/s, now=None]\u001b[A\n",
      "t:  12%|█▏        | 150/1260 [00:27<03:22,  5.49it/s, now=None]\u001b[A"
     ]
    },
    {
     "name": "stdout",
     "output_type": "stream",
     "text": [
      "183.2368617133074 154.7169419533607\n",
      "183.3913470075586"
     ]
    },
    {
     "name": "stderr",
     "output_type": "stream",
     "text": [
      "\n",
      "t:  12%|█▏        | 151/1260 [00:28<03:25,  5.40it/s, now=None]\u001b[A"
     ]
    },
    {
     "name": "stdout",
     "output_type": "stream",
     "text": [
      " 155.76960034396052\n",
      "184.94643730868972"
     ]
    },
    {
     "name": "stderr",
     "output_type": "stream",
     "text": [
      "\n",
      "t:  12%|█▏        | 152/1260 [00:28<03:23,  5.44it/s, now=None]\u001b[A"
     ]
    },
    {
     "name": "stdout",
     "output_type": "stream",
     "text": [
      " 153.37153367389706\n"
     ]
    },
    {
     "name": "stderr",
     "output_type": "stream",
     "text": [
      "\n",
      "t:  12%|█▏        | 153/1260 [00:28<03:27,  5.33it/s, now=None]\u001b[A"
     ]
    },
    {
     "name": "stdout",
     "output_type": "stream",
     "text": [
      "192.57243563390506 151.71860621929994\n",
      "183.46035993862426 149.62104836699663\n"
     ]
    },
    {
     "name": "stderr",
     "output_type": "stream",
     "text": [
      "\n",
      "t:  12%|█▏        | 154/1260 [00:28<03:25,  5.39it/s, now=None]\u001b[A\n",
      "t:  12%|█▏        | 155/1260 [00:28<03:21,  5.49it/s, now=None]\u001b[A"
     ]
    },
    {
     "name": "stdout",
     "output_type": "stream",
     "text": [
      "199.66114015962123 143.5115904440627\n"
     ]
    },
    {
     "name": "stderr",
     "output_type": "stream",
     "text": [
      "\n",
      "t:  12%|█▏        | 156/1260 [00:29<03:25,  5.36it/s, now=None]\u001b[A"
     ]
    },
    {
     "name": "stdout",
     "output_type": "stream",
     "text": [
      "201.58166738262025 150.5309977449558\n",
      "191.78625963997723 146.90718857788045\n"
     ]
    },
    {
     "name": "stderr",
     "output_type": "stream",
     "text": [
      "\n",
      "t:  12%|█▏        | 157/1260 [00:29<03:28,  5.29it/s, now=None]\u001b[A\n",
      "t:  13%|█▎        | 158/1260 [00:29<03:29,  5.26it/s, now=None]\u001b[A"
     ]
    },
    {
     "name": "stdout",
     "output_type": "stream",
     "text": [
      "190.95634409255072 148.97578855359674\n",
      "181.58402916419573 125.23461958822129\n"
     ]
    },
    {
     "name": "stderr",
     "output_type": "stream",
     "text": [
      "\n",
      "t:  13%|█▎        | 159/1260 [00:29<03:31,  5.22it/s, now=None]\u001b[A\n",
      "t:  13%|█▎        | 160/1260 [00:29<03:32,  5.17it/s, now=None]\u001b[A"
     ]
    },
    {
     "name": "stdout",
     "output_type": "stream",
     "text": [
      "171.05978928913623 162.66120442169876\n",
      "171.2056748917728"
     ]
    },
    {
     "name": "stderr",
     "output_type": "stream",
     "text": [
      "\n",
      "t:  13%|█▎        | 161/1260 [00:30<03:31,  5.20it/s, now=None]\u001b[A"
     ]
    },
    {
     "name": "stdout",
     "output_type": "stream",
     "text": [
      " 150.97686965723304\n",
      "166.9378961364352 153.27452669468954\n"
     ]
    },
    {
     "name": "stderr",
     "output_type": "stream",
     "text": [
      "\n",
      "t:  13%|█▎        | 162/1260 [00:30<03:31,  5.19it/s, now=None]\u001b[A\n",
      "t:  13%|█▎        | 163/1260 [00:30<03:31,  5.19it/s, now=None]\u001b[A"
     ]
    },
    {
     "name": "stdout",
     "output_type": "stream",
     "text": [
      "173.42170110218996 139.48505270466995\n",
      "168.1926204282071 173.12507750834482\n"
     ]
    },
    {
     "name": "stderr",
     "output_type": "stream",
     "text": [
      "\n",
      "t:  13%|█▎        | 164/1260 [00:30<03:28,  5.26it/s, now=None]\u001b[A\n",
      "t:  13%|█▎        | 165/1260 [00:30<03:27,  5.27it/s, now=None]\u001b[A\n"
     ]
    },
    {
     "name": "stdout",
     "output_type": "stream",
     "text": [
      "162.4986682289072 141.73132828663393\n",
      "160.44536111324283 111.5088088874531\n"
     ]
    },
    {
     "name": "stderr",
     "output_type": "stream",
     "text": [
      "t:  13%|█▎        | 166/1260 [00:30<03:24,  5.35it/s, now=None]\u001b[A\n",
      "t:  13%|█▎        | 167/1260 [00:31<03:27,  5.27it/s, now=None]\u001b[A"
     ]
    },
    {
     "name": "stdout",
     "output_type": "stream",
     "text": [
      "159.9090866815561 115.23722001731436\n",
      "158.6161246495838"
     ]
    },
    {
     "name": "stderr",
     "output_type": "stream",
     "text": [
      "\n",
      "t:  13%|█▎        | 168/1260 [00:31<03:27,  5.26it/s, now=None]\u001b[A"
     ]
    },
    {
     "name": "stdout",
     "output_type": "stream",
     "text": [
      " 111.34380847285183\n",
      "178.23492648984305 111.41413429219939\n"
     ]
    },
    {
     "name": "stderr",
     "output_type": "stream",
     "text": [
      "\n",
      "t:  13%|█▎        | 169/1260 [00:31<03:30,  5.18it/s, now=None]\u001b[A\n",
      "t:  13%|█▎        | 170/1260 [00:31<03:28,  5.23it/s, now=None]\u001b[A"
     ]
    },
    {
     "name": "stdout",
     "output_type": "stream",
     "text": [
      "174.68614239725832 119.55382656345222\n",
      "197.37689818755854"
     ]
    },
    {
     "name": "stderr",
     "output_type": "stream",
     "text": [
      "\n",
      "t:  14%|█▎        | 171/1260 [00:31<03:26,  5.27it/s, now=None]\u001b[A"
     ]
    },
    {
     "name": "stdout",
     "output_type": "stream",
     "text": [
      " 102.90236064686968\n",
      "189.26767058429925 82.24649448076852\n"
     ]
    },
    {
     "name": "stderr",
     "output_type": "stream",
     "text": [
      "\n",
      "t:  14%|█▎        | 172/1260 [00:32<03:25,  5.30it/s, now=None]\u001b[A\n",
      "t:  14%|█▎        | 173/1260 [00:32<03:29,  5.18it/s, now=None]\u001b[A"
     ]
    },
    {
     "name": "stdout",
     "output_type": "stream",
     "text": [
      "185.62490583007985 89.47407077010416\n",
      "170.7212497440705 84.50929483063499\n"
     ]
    },
    {
     "name": "stderr",
     "output_type": "stream",
     "text": [
      "\n",
      "t:  14%|█▍        | 174/1260 [00:32<03:30,  5.17it/s, now=None]\u001b[A\n",
      "t:  14%|█▍        | 175/1260 [00:32<03:24,  5.30it/s, now=None]\u001b[A"
     ]
    },
    {
     "name": "stdout",
     "output_type": "stream",
     "text": [
      "160.4892194234736 82.79547516447552\n",
      "145.5671144794833 78.44637261464634\n"
     ]
    },
    {
     "name": "stderr",
     "output_type": "stream",
     "text": [
      "\n",
      "t:  14%|█▍        | 176/1260 [00:32<03:22,  5.34it/s, now=None]\u001b[A\n",
      "t:  14%|█▍        | 177/1260 [00:33<03:23,  5.32it/s, now=None]\u001b[A"
     ]
    },
    {
     "name": "stdout",
     "output_type": "stream",
     "text": [
      "141.04579557142506 79.37187954574084\n"
     ]
    },
    {
     "name": "stderr",
     "output_type": "stream",
     "text": [
      "\n",
      "t:  14%|█▍        | 178/1260 [00:33<03:27,  5.22it/s, now=None]\u001b[A"
     ]
    },
    {
     "name": "stdout",
     "output_type": "stream",
     "text": [
      "154.68663603768775 84.5754589996841\n"
     ]
    },
    {
     "name": "stderr",
     "output_type": "stream",
     "text": [
      "\n",
      "t:  14%|█▍        | 179/1260 [00:33<03:30,  5.13it/s, now=None]\u001b[A"
     ]
    },
    {
     "name": "stdout",
     "output_type": "stream",
     "text": [
      "146.9450356288682 93.98138681564416\n",
      "146.74406769970824 90.89905465233163\n"
     ]
    },
    {
     "name": "stderr",
     "output_type": "stream",
     "text": [
      "\n",
      "t:  14%|█▍        | 180/1260 [00:33<03:35,  5.00it/s, now=None]\u001b[A\n",
      "t:  14%|█▍        | 181/1260 [00:33<03:29,  5.15it/s, now=None]\u001b[A"
     ]
    },
    {
     "name": "stdout",
     "output_type": "stream",
     "text": [
      "162.73682687328778 96.41170289376885\n"
     ]
    },
    {
     "name": "stderr",
     "output_type": "stream",
     "text": [
      "\n",
      "t:  14%|█▍        | 182/1260 [00:34<03:30,  5.13it/s, now=None]\u001b[A"
     ]
    },
    {
     "name": "stdout",
     "output_type": "stream",
     "text": [
      "149.16541542096536 96.86229147266386\n",
      "139.75191954333332"
     ]
    },
    {
     "name": "stderr",
     "output_type": "stream",
     "text": [
      "\n",
      "t:  15%|█▍        | 183/1260 [00:34<03:40,  4.89it/s, now=None]\u001b[A"
     ]
    },
    {
     "name": "stdout",
     "output_type": "stream",
     "text": [
      " 106.3024574911574\n",
      "129.15859116351191"
     ]
    },
    {
     "name": "stderr",
     "output_type": "stream",
     "text": [
      "\n",
      "t:  15%|█▍        | 184/1260 [00:34<03:32,  5.06it/s, now=None]\u001b[A"
     ]
    },
    {
     "name": "stdout",
     "output_type": "stream",
     "text": [
      " 113.28993672087995\n"
     ]
    },
    {
     "name": "stderr",
     "output_type": "stream",
     "text": [
      "\n",
      "t:  15%|█▍        | 185/1260 [00:34<03:33,  5.03it/s, now=None]\u001b[A"
     ]
    },
    {
     "name": "stdout",
     "output_type": "stream",
     "text": [
      "120.87774250325059 101.61816134061138\n",
      "114.62615126859988 103.75012610714856\n"
     ]
    },
    {
     "name": "stderr",
     "output_type": "stream",
     "text": [
      "\n",
      "t:  15%|█▍        | 186/1260 [00:34<03:26,  5.20it/s, now=None]\u001b[A\n",
      "t:  15%|█▍        | 187/1260 [00:35<03:23,  5.28it/s, now=None]\u001b[A"
     ]
    },
    {
     "name": "stdout",
     "output_type": "stream",
     "text": [
      "101.6864115642375 90.39381989918832\n",
      "100.17004767469676 92.80791316507293\n"
     ]
    },
    {
     "name": "stderr",
     "output_type": "stream",
     "text": [
      "\n",
      "t:  15%|█▍        | 188/1260 [00:35<03:20,  5.34it/s, now=None]\u001b[A\n",
      "t:  15%|█▌        | 189/1260 [00:35<03:18,  5.41it/s, now=None]\u001b[A"
     ]
    },
    {
     "name": "stdout",
     "output_type": "stream",
     "text": [
      "98.34091145592883 94.91108176862679\n",
      "99.96153704655232"
     ]
    },
    {
     "name": "stderr",
     "output_type": "stream",
     "text": [
      "\n",
      "t:  15%|█▌        | 190/1260 [00:35<03:18,  5.39it/s, now=None]\u001b[A"
     ]
    },
    {
     "name": "stdout",
     "output_type": "stream",
     "text": [
      " 94.6101016335773\n",
      "103.48111291076744 98.44085438871396\n"
     ]
    },
    {
     "name": "stderr",
     "output_type": "stream",
     "text": [
      "\n",
      "t:  15%|█▌        | 191/1260 [00:35<03:14,  5.48it/s, now=None]\u001b[A\n",
      "t:  15%|█▌        | 192/1260 [00:35<03:16,  5.44it/s, now=None]\u001b[A"
     ]
    },
    {
     "name": "stdout",
     "output_type": "stream",
     "text": [
      "103.85434560611289 102.43265326742868\n",
      "112.24818706954343 103.9700842864437\n"
     ]
    },
    {
     "name": "stderr",
     "output_type": "stream",
     "text": [
      "\n",
      "t:  15%|█▌        | 193/1260 [00:36<03:18,  5.38it/s, now=None]\u001b[A\n",
      "t:  15%|█▌        | 194/1260 [00:36<03:19,  5.33it/s, now=None]\u001b[A"
     ]
    },
    {
     "name": "stdout",
     "output_type": "stream",
     "text": [
      "107.93665604013448 103.30451586322906\n",
      "111.80854615099514"
     ]
    },
    {
     "name": "stderr",
     "output_type": "stream",
     "text": [
      "\n",
      "t:  15%|█▌        | 195/1260 [00:36<03:22,  5.25it/s, now=None]\u001b[A"
     ]
    },
    {
     "name": "stdout",
     "output_type": "stream",
     "text": [
      " 101.71420456924398\n",
      "116.24874431155624"
     ]
    },
    {
     "name": "stderr",
     "output_type": "stream",
     "text": [
      "\n",
      "t:  16%|█▌        | 196/1260 [00:36<03:19,  5.32it/s, now=None]\u001b[A\n"
     ]
    },
    {
     "name": "stdout",
     "output_type": "stream",
     "text": [
      " 82.51345724106754\n",
      "137.1988755093488 115.94380140766404\n"
     ]
    },
    {
     "name": "stderr",
     "output_type": "stream",
     "text": [
      "t:  16%|█▌        | 197/1260 [00:36<03:14,  5.47it/s, now=None]\u001b[A\n",
      "t:  16%|█▌        | 198/1260 [00:37<03:10,  5.56it/s, now=None]\u001b[A"
     ]
    },
    {
     "name": "stdout",
     "output_type": "stream",
     "text": [
      "153.33576253249765 131.4186735823557\n",
      "175.03048065289215"
     ]
    },
    {
     "name": "stderr",
     "output_type": "stream",
     "text": [
      "\n",
      "t:  16%|█▌        | 199/1260 [00:37<03:12,  5.51it/s, now=None]\u001b[A"
     ]
    },
    {
     "name": "stdout",
     "output_type": "stream",
     "text": [
      " 127.4034536176036\n",
      "185.311368350554 129.3050745195648\n"
     ]
    },
    {
     "name": "stderr",
     "output_type": "stream",
     "text": [
      "\n",
      "t:  16%|█▌        | 200/1260 [00:37<03:18,  5.33it/s, now=None]\u001b[A\n",
      "t:  16%|█▌        | 201/1260 [00:37<03:23,  5.20it/s, now=None]\u001b[A"
     ]
    },
    {
     "name": "stdout",
     "output_type": "stream",
     "text": [
      "175.8508746366902 141.08559687584213\n",
      "182.23794069727623"
     ]
    },
    {
     "name": "stderr",
     "output_type": "stream",
     "text": [
      "\n",
      "t:  16%|█▌        | 202/1260 [00:37<03:21,  5.25it/s, now=None]\u001b[A"
     ]
    },
    {
     "name": "stdout",
     "output_type": "stream",
     "text": [
      " 168.11042136292468\n",
      "177.84609093823357 161.02098209863507\n"
     ]
    },
    {
     "name": "stderr",
     "output_type": "stream",
     "text": [
      "\n",
      "t:  16%|█▌        | 203/1260 [00:38<03:20,  5.26it/s, now=None]\u001b[A\n",
      "t:  16%|█▌        | 204/1260 [00:38<03:20,  5.26it/s, now=None]\u001b[A"
     ]
    },
    {
     "name": "stdout",
     "output_type": "stream",
     "text": [
      "168.65801092951924 149.91488760755024\n",
      "175.46905418255776"
     ]
    },
    {
     "name": "stderr",
     "output_type": "stream",
     "text": [
      "\n",
      "t:  16%|█▋        | 205/1260 [00:38<03:18,  5.31it/s, now=None]\u001b[A"
     ]
    },
    {
     "name": "stdout",
     "output_type": "stream",
     "text": [
      " 156.541743524346\n",
      "162.33001856630918 136.41249747497133\n"
     ]
    },
    {
     "name": "stderr",
     "output_type": "stream",
     "text": [
      "\n",
      "t:  16%|█▋        | 206/1260 [00:38<03:15,  5.40it/s, now=None]\u001b[A\n",
      "t:  16%|█▋        | 207/1260 [00:38<03:14,  5.41it/s, now=None]\u001b[A\n"
     ]
    },
    {
     "name": "stdout",
     "output_type": "stream",
     "text": [
      "158.24859270199414 132.85993717634344\n",
      "143.77981487345392 130.82475295726277\n"
     ]
    },
    {
     "name": "stderr",
     "output_type": "stream",
     "text": [
      "t:  17%|█▋        | 208/1260 [00:38<03:12,  5.46it/s, now=None]\u001b[A\n",
      "t:  17%|█▋        | 209/1260 [00:39<03:18,  5.29it/s, now=None]\u001b[A"
     ]
    },
    {
     "name": "stdout",
     "output_type": "stream",
     "text": [
      "137.72118419172884 138.42962978046032\n",
      "141.2939804435191 155.66466981634838\n"
     ]
    },
    {
     "name": "stderr",
     "output_type": "stream",
     "text": [
      "\n",
      "t:  17%|█▋        | 210/1260 [00:39<03:19,  5.27it/s, now=None]\u001b[A\n",
      "t:  17%|█▋        | 211/1260 [00:39<03:15,  5.36it/s, now=None]\u001b[A"
     ]
    },
    {
     "name": "stdout",
     "output_type": "stream",
     "text": [
      "144.39905995493902 146.16143882538802\n",
      "149.61227252219942 162.59689455117956\n"
     ]
    },
    {
     "name": "stderr",
     "output_type": "stream",
     "text": [
      "\n",
      "t:  17%|█▋        | 212/1260 [00:39<03:14,  5.39it/s, now=None]\u001b[A\n",
      "t:  17%|█▋        | 213/1260 [00:39<03:16,  5.33it/s, now=None]\u001b[A"
     ]
    },
    {
     "name": "stdout",
     "output_type": "stream",
     "text": [
      "148.92303733506864 183.3185677691274\n",
      "145.03149288265575 190.06713513190184\n"
     ]
    },
    {
     "name": "stderr",
     "output_type": "stream",
     "text": [
      "\n",
      "t:  17%|█▋        | 214/1260 [00:40<03:16,  5.32it/s, now=None]\u001b[A\n",
      "t:  17%|█▋        | 215/1260 [00:40<03:15,  5.34it/s, now=None]\u001b[A"
     ]
    },
    {
     "name": "stdout",
     "output_type": "stream",
     "text": [
      "141.15564491405132 193.6422364963793\n",
      "142.736996010094 192.24779424405128\n"
     ]
    },
    {
     "name": "stderr",
     "output_type": "stream",
     "text": [
      "\n",
      "t:  17%|█▋        | 216/1260 [00:40<03:16,  5.31it/s, now=None]\u001b[A\n",
      "t:  17%|█▋        | 217/1260 [00:40<03:16,  5.31it/s, now=None]\u001b[A"
     ]
    },
    {
     "name": "stdout",
     "output_type": "stream",
     "text": [
      "143.17702326778004 162.25903691820378\n"
     ]
    },
    {
     "name": "stderr",
     "output_type": "stream",
     "text": [
      "\n",
      "t:  17%|█▋        | 218/1260 [00:40<03:17,  5.28it/s, now=None]\u001b[A"
     ]
    },
    {
     "name": "stdout",
     "output_type": "stream",
     "text": [
      "143.7863109728773 150.51595113227106\n",
      "155.74665334409056 166.551219703934\n"
     ]
    },
    {
     "name": "stderr",
     "output_type": "stream",
     "text": [
      "\n",
      "t:  17%|█▋        | 219/1260 [00:41<03:14,  5.36it/s, now=None]\u001b[A\n",
      "t:  17%|█▋        | 220/1260 [00:41<03:19,  5.22it/s, now=None]\u001b[A"
     ]
    },
    {
     "name": "stdout",
     "output_type": "stream",
     "text": [
      "156.5944027222108 158.3967427956559\n",
      "166.59380075594382 140.04027248507435\n"
     ]
    },
    {
     "name": "stderr",
     "output_type": "stream",
     "text": [
      "\n",
      "t:  18%|█▊        | 221/1260 [00:41<03:17,  5.25it/s, now=None]\u001b[A\n",
      "t:  18%|█▊        | 222/1260 [00:41<03:18,  5.24it/s, now=None]\u001b[A"
     ]
    },
    {
     "name": "stdout",
     "output_type": "stream",
     "text": [
      "171.8695559501356 164.42642482740195\n"
     ]
    },
    {
     "name": "stderr",
     "output_type": "stream",
     "text": [
      "\n",
      "t:  18%|█▊        | 223/1260 [00:41<03:18,  5.22it/s, now=None]\u001b[A"
     ]
    },
    {
     "name": "stdout",
     "output_type": "stream",
     "text": [
      "175.02793857669027 168.90642356995178\n",
      "178.38721462744766 179.32890932119392\n"
     ]
    },
    {
     "name": "stderr",
     "output_type": "stream",
     "text": [
      "\n",
      "t:  18%|█▊        | 224/1260 [00:41<03:19,  5.18it/s, now=None]\u001b[A\n",
      "t:  18%|█▊        | 225/1260 [00:42<03:19,  5.20it/s, now=None]\u001b[A"
     ]
    },
    {
     "name": "stdout",
     "output_type": "stream",
     "text": [
      "176.54563948511114 166.0198395598349\n",
      "179.65358901449545 189.22352183205072\n"
     ]
    },
    {
     "name": "stderr",
     "output_type": "stream",
     "text": [
      "\n",
      "t:  18%|█▊        | 226/1260 [00:42<03:21,  5.14it/s, now=None]\u001b[A\n",
      "t:  18%|█▊        | 227/1260 [00:42<03:19,  5.18it/s, now=None]\u001b[A"
     ]
    },
    {
     "name": "stdout",
     "output_type": "stream",
     "text": [
      "174.27199217695514 124.1421071379012\n",
      "181.5790504006063"
     ]
    },
    {
     "name": "stderr",
     "output_type": "stream",
     "text": [
      "\n",
      "t:  18%|█▊        | 228/1260 [00:42<03:17,  5.22it/s, now=None]\u001b[A"
     ]
    },
    {
     "name": "stdout",
     "output_type": "stream",
     "text": [
      " 138.0346812754229\n",
      "198.11640821801618 147.00807827573163\n"
     ]
    },
    {
     "name": "stderr",
     "output_type": "stream",
     "text": [
      "\n",
      "t:  18%|█▊        | 229/1260 [00:42<03:13,  5.34it/s, now=None]\u001b[A\n",
      "t:  18%|█▊        | 230/1260 [00:43<03:13,  5.31it/s, now=None]\u001b[A"
     ]
    },
    {
     "name": "stdout",
     "output_type": "stream",
     "text": [
      "199.44538662630004 141.39669819763085\n",
      "211.70098855464477 149.62613971192096\n"
     ]
    },
    {
     "name": "stderr",
     "output_type": "stream",
     "text": [
      "\n",
      "t:  18%|█▊        | 231/1260 [00:43<03:12,  5.36it/s, now=None]\u001b[A\n",
      "t:  18%|█▊        | 232/1260 [00:43<03:14,  5.28it/s, now=None]\u001b[A"
     ]
    },
    {
     "name": "stdout",
     "output_type": "stream",
     "text": [
      "197.62338410744098 130.30316849284327\n",
      "212.16622885462803"
     ]
    },
    {
     "name": "stderr",
     "output_type": "stream",
     "text": [
      "\n",
      "t:  18%|█▊        | 233/1260 [00:43<03:14,  5.27it/s, now=None]\u001b[A"
     ]
    },
    {
     "name": "stdout",
     "output_type": "stream",
     "text": [
      " 96.5706892694629\n",
      "210.43342796025385 101.55187017277858\n"
     ]
    },
    {
     "name": "stderr",
     "output_type": "stream",
     "text": [
      "\n",
      "t:  19%|█▊        | 234/1260 [00:43<03:15,  5.25it/s, now=None]\u001b[A\n",
      "t:  19%|█▊        | 235/1260 [00:44<03:12,  5.32it/s, now=None]\u001b[A"
     ]
    },
    {
     "name": "stdout",
     "output_type": "stream",
     "text": [
      "203.46435385078738 112.2329445187853\n",
      "194.8489421192642 114.71063828100716\n"
     ]
    },
    {
     "name": "stderr",
     "output_type": "stream",
     "text": [
      "\n",
      "t:  19%|█▊        | 236/1260 [00:44<03:13,  5.28it/s, now=None]\u001b[A\n",
      "t:  19%|█▉        | 237/1260 [00:44<03:14,  5.27it/s, now=None]\u001b[A"
     ]
    },
    {
     "name": "stdout",
     "output_type": "stream",
     "text": [
      "180.07667363139976 108.39481344753149\n",
      "177.1730425604721 103.14490525391095\n"
     ]
    },
    {
     "name": "stderr",
     "output_type": "stream",
     "text": [
      "\n",
      "t:  19%|█▉        | 238/1260 [00:44<03:12,  5.30it/s, now=None]\u001b[A\n",
      "t:  19%|█▉        | 239/1260 [00:44<03:11,  5.32it/s, now=None]\u001b[A"
     ]
    },
    {
     "name": "stdout",
     "output_type": "stream",
     "text": [
      "166.52820180648726 94.68698777857306\n",
      "159.75133512004373"
     ]
    },
    {
     "name": "stderr",
     "output_type": "stream",
     "text": [
      "\n",
      "t:  19%|█▉        | 240/1260 [00:45<03:12,  5.30it/s, now=None]\u001b[A"
     ]
    },
    {
     "name": "stdout",
     "output_type": "stream",
     "text": [
      " 103.2205910750969\n",
      "162.12944609967485 105.96628405621776\n"
     ]
    },
    {
     "name": "stderr",
     "output_type": "stream",
     "text": [
      "\n",
      "t:  19%|█▉        | 241/1260 [00:45<03:11,  5.32it/s, now=None]\u001b[A\n",
      "t:  19%|█▉        | 242/1260 [00:45<03:09,  5.36it/s, now=None]\u001b[A"
     ]
    },
    {
     "name": "stdout",
     "output_type": "stream",
     "text": [
      "163.1233844259948 119.53638678962933\n",
      "163.3740354173259 117.39049219706452\n"
     ]
    },
    {
     "name": "stderr",
     "output_type": "stream",
     "text": [
      "\n",
      "t:  19%|█▉        | 243/1260 [00:45<03:08,  5.39it/s, now=None]\u001b[A\n",
      "t:  19%|█▉        | 244/1260 [00:45<03:07,  5.41it/s, now=None]\u001b[A"
     ]
    },
    {
     "name": "stdout",
     "output_type": "stream",
     "text": [
      "152.97937004896238 114.39369194379535\n",
      "160.05935365931657 106.57845967287398\n"
     ]
    },
    {
     "name": "stderr",
     "output_type": "stream",
     "text": [
      "\n",
      "t:  19%|█▉        | 245/1260 [00:45<03:10,  5.33it/s, now=None]\u001b[A\n",
      "t:  20%|█▉        | 246/1260 [00:46<03:07,  5.42it/s, now=None]\u001b[A\n"
     ]
    },
    {
     "name": "stdout",
     "output_type": "stream",
     "text": [
      "155.02667165277697 97.09940321394022\n",
      "152.37475159426828 86.679378240316\n"
     ]
    },
    {
     "name": "stderr",
     "output_type": "stream",
     "text": [
      "t:  20%|█▉        | 247/1260 [00:46<03:06,  5.43it/s, now=None]\u001b[A\n",
      "t:  20%|█▉        | 248/1260 [00:46<03:06,  5.42it/s, now=None]\u001b[A"
     ]
    },
    {
     "name": "stdout",
     "output_type": "stream",
     "text": [
      "154.62361557123245 102.25404514664474\n",
      "144.96073737904754 96.64999583449537\n"
     ]
    },
    {
     "name": "stderr",
     "output_type": "stream",
     "text": [
      "\n",
      "t:  20%|█▉        | 249/1260 [00:46<03:08,  5.37it/s, now=None]\u001b[A\n",
      "t:  20%|█▉        | 250/1260 [00:46<03:08,  5.37it/s, now=None]\u001b[A"
     ]
    },
    {
     "name": "stdout",
     "output_type": "stream",
     "text": [
      "154.51772422020656 99.75658329606249\n",
      "159.73956387484148 105.2854395456652\n"
     ]
    },
    {
     "name": "stderr",
     "output_type": "stream",
     "text": [
      "\n",
      "t:  20%|█▉        | 251/1260 [00:47<03:06,  5.40it/s, now=None]\u001b[A\n",
      "t:  20%|██        | 252/1260 [00:47<03:06,  5.41it/s, now=None]\u001b[A"
     ]
    },
    {
     "name": "stdout",
     "output_type": "stream",
     "text": [
      "162.74804249870817 105.03184332724092\n",
      "166.86942291604205 118.6933724959503\n"
     ]
    },
    {
     "name": "stderr",
     "output_type": "stream",
     "text": [
      "\n",
      "t:  20%|██        | 253/1260 [00:47<03:09,  5.31it/s, now=None]\u001b[A\n",
      "t:  20%|██        | 254/1260 [00:47<03:09,  5.31it/s, now=None]\u001b[A"
     ]
    },
    {
     "name": "stdout",
     "output_type": "stream",
     "text": [
      "176.61074792764086 122.9518209315068\n",
      "182.55501045061678 129.78011198153456\n"
     ]
    },
    {
     "name": "stderr",
     "output_type": "stream",
     "text": [
      "\n",
      "t:  20%|██        | 255/1260 [00:47<03:07,  5.35it/s, now=None]\u001b[A\n",
      "t:  20%|██        | 256/1260 [00:47<03:06,  5.38it/s, now=None]\u001b[A"
     ]
    },
    {
     "name": "stdout",
     "output_type": "stream",
     "text": [
      "173.29697188694664 132.25768067142795\n",
      "175.8000048456424 110.13959903500664\n"
     ]
    },
    {
     "name": "stderr",
     "output_type": "stream",
     "text": [
      "\n",
      "t:  20%|██        | 257/1260 [00:48<03:06,  5.38it/s, now=None]\u001b[A\n",
      "t:  20%|██        | 258/1260 [00:48<03:05,  5.41it/s, now=None]\u001b[A"
     ]
    },
    {
     "name": "stdout",
     "output_type": "stream",
     "text": [
      "168.81470915892984 103.85429035517521\n",
      "166.16455634716553"
     ]
    },
    {
     "name": "stderr",
     "output_type": "stream",
     "text": [
      "\n",
      "t:  21%|██        | 259/1260 [00:48<03:06,  5.37it/s, now=None]\u001b[A\n"
     ]
    },
    {
     "name": "stdout",
     "output_type": "stream",
     "text": [
      " 108.0433140004807\n",
      "179.72679715078144 109.52141054392483\n"
     ]
    },
    {
     "name": "stderr",
     "output_type": "stream",
     "text": [
      "t:  21%|██        | 260/1260 [00:48<03:02,  5.48it/s, now=None]\u001b[A\n",
      "t:  21%|██        | 261/1260 [00:48<03:06,  5.35it/s, now=None]\u001b[A"
     ]
    },
    {
     "name": "stdout",
     "output_type": "stream",
     "text": [
      "169.26160049867974 104.10874275777198\n",
      "183.97126278782144"
     ]
    },
    {
     "name": "stderr",
     "output_type": "stream",
     "text": [
      "\n",
      "t:  21%|██        | 262/1260 [00:49<03:08,  5.29it/s, now=None]\u001b[A"
     ]
    },
    {
     "name": "stdout",
     "output_type": "stream",
     "text": [
      " 114.50412242453928\n",
      "182.44363004620146 104.73619736613301\n"
     ]
    },
    {
     "name": "stderr",
     "output_type": "stream",
     "text": [
      "\n",
      "t:  21%|██        | 263/1260 [00:49<03:09,  5.27it/s, now=None]\u001b[A\n",
      "t:  21%|██        | 264/1260 [00:49<03:08,  5.29it/s, now=None]\u001b[A"
     ]
    },
    {
     "name": "stdout",
     "output_type": "stream",
     "text": [
      "179.56175868131098 116.42398488628844\n",
      "181.38053898647786"
     ]
    },
    {
     "name": "stderr",
     "output_type": "stream",
     "text": [
      "\n",
      "t:  21%|██        | 265/1260 [00:49<03:13,  5.15it/s, now=None]\u001b[A"
     ]
    },
    {
     "name": "stdout",
     "output_type": "stream",
     "text": [
      " 122.23508878316603\n",
      "182.45919199534296 136.96917760891264\n"
     ]
    },
    {
     "name": "stderr",
     "output_type": "stream",
     "text": [
      "\n",
      "t:  21%|██        | 266/1260 [00:49<03:12,  5.17it/s, now=None]\u001b[A\n",
      "t:  21%|██        | 267/1260 [00:50<03:11,  5.20it/s, now=None]\u001b[A"
     ]
    },
    {
     "name": "stdout",
     "output_type": "stream",
     "text": [
      "188.63257039577738 140.42160225517046\n",
      "180.36706081282622 149.61791161118256\n"
     ]
    },
    {
     "name": "stderr",
     "output_type": "stream",
     "text": [
      "\n",
      "t:  21%|██▏       | 268/1260 [00:50<03:07,  5.30it/s, now=None]\u001b[A\n",
      "t:  21%|██▏       | 269/1260 [00:50<03:08,  5.25it/s, now=None]\u001b[A"
     ]
    },
    {
     "name": "stdout",
     "output_type": "stream",
     "text": [
      "183.46445242272 156.40687677213563\n",
      "191.60372596208188"
     ]
    },
    {
     "name": "stderr",
     "output_type": "stream",
     "text": [
      "\n",
      "t:  21%|██▏       | 270/1260 [00:50<03:08,  5.25it/s, now=None]\u001b[A"
     ]
    },
    {
     "name": "stdout",
     "output_type": "stream",
     "text": [
      " 161.0547569427793\n",
      "194.17569153502058"
     ]
    },
    {
     "name": "stderr",
     "output_type": "stream",
     "text": [
      "\n",
      "t:  22%|██▏       | 271/1260 [00:50<03:07,  5.29it/s, now=None]\u001b[A"
     ]
    },
    {
     "name": "stdout",
     "output_type": "stream",
     "text": [
      " 177.95088071821235\n",
      "197.31697916769656"
     ]
    },
    {
     "name": "stderr",
     "output_type": "stream",
     "text": [
      "\n",
      "t:  22%|██▏       | 272/1260 [00:51<03:11,  5.15it/s, now=None]\u001b[A"
     ]
    },
    {
     "name": "stdout",
     "output_type": "stream",
     "text": [
      " 169.79337498877976\n",
      "188.25368127024385 158.0429260503148\n"
     ]
    },
    {
     "name": "stderr",
     "output_type": "stream",
     "text": [
      "\n",
      "t:  22%|██▏       | 273/1260 [00:51<03:07,  5.26it/s, now=None]\u001b[A\n",
      "t:  22%|██▏       | 274/1260 [00:51<03:05,  5.32it/s, now=None]\u001b[A"
     ]
    },
    {
     "name": "stdout",
     "output_type": "stream",
     "text": [
      "189.33985213046572 152.96157704339316\n"
     ]
    },
    {
     "name": "stderr",
     "output_type": "stream",
     "text": [
      "\n",
      "t:  22%|██▏       | 275/1260 [00:51<03:06,  5.28it/s, now=None]\u001b[A"
     ]
    },
    {
     "name": "stdout",
     "output_type": "stream",
     "text": [
      "189.9578093214185 146.5362512248249\n",
      "196.39564120243617 156.6415403470537\n"
     ]
    },
    {
     "name": "stderr",
     "output_type": "stream",
     "text": [
      "\n",
      "t:  22%|██▏       | 276/1260 [00:51<03:04,  5.34it/s, now=None]\u001b[A\n",
      "t:  22%|██▏       | 277/1260 [00:51<03:05,  5.31it/s, now=None]\u001b[A"
     ]
    },
    {
     "name": "stdout",
     "output_type": "stream",
     "text": [
      "214.68458586863352 169.14194572419737\n",
      "221.944057219863"
     ]
    },
    {
     "name": "stderr",
     "output_type": "stream",
     "text": [
      "\n",
      "t:  22%|██▏       | 278/1260 [00:52<03:10,  5.16it/s, now=None]\u001b[A"
     ]
    },
    {
     "name": "stdout",
     "output_type": "stream",
     "text": [
      " 176.28671518082697\n"
     ]
    },
    {
     "name": "stderr",
     "output_type": "stream",
     "text": [
      "\n",
      "t:  22%|██▏       | 279/1260 [00:52<03:16,  4.99it/s, now=None]\u001b[A"
     ]
    },
    {
     "name": "stdout",
     "output_type": "stream",
     "text": [
      "233.12431056474185 184.50796820406703\n"
     ]
    },
    {
     "name": "stderr",
     "output_type": "stream",
     "text": [
      "\n",
      "t:  22%|██▏       | 280/1260 [00:52<03:19,  4.91it/s, now=None]\u001b[A"
     ]
    },
    {
     "name": "stdout",
     "output_type": "stream",
     "text": [
      "234.75680165364926 189.92066241479847\n",
      "249.5197214726576"
     ]
    },
    {
     "name": "stderr",
     "output_type": "stream",
     "text": [
      "\n",
      "t:  22%|██▏       | 281/1260 [00:52<03:21,  4.87it/s, now=None]\u001b[A"
     ]
    },
    {
     "name": "stdout",
     "output_type": "stream",
     "text": [
      " 205.26484838838\n",
      "264.40967033066977 184.9178766840674\n"
     ]
    },
    {
     "name": "stderr",
     "output_type": "stream",
     "text": [
      "\n",
      "t:  22%|██▏       | 282/1260 [00:52<03:14,  5.02it/s, now=None]\u001b[A\n",
      "t:  22%|██▏       | 283/1260 [00:53<03:11,  5.10it/s, now=None]\u001b[A\n"
     ]
    },
    {
     "name": "stdout",
     "output_type": "stream",
     "text": [
      "256.05496202192984 190.93680425669314\n",
      "265.9659230140733 194.92739092283438\n"
     ]
    },
    {
     "name": "stderr",
     "output_type": "stream",
     "text": [
      "t:  23%|██▎       | 284/1260 [00:53<03:07,  5.19it/s, now=None]\u001b[A\n",
      "t:  23%|██▎       | 285/1260 [00:53<03:05,  5.25it/s, now=None]\u001b[A"
     ]
    },
    {
     "name": "stdout",
     "output_type": "stream",
     "text": [
      "263.04302415398473 187.07615017395932\n",
      "278.1464231333922 208.51207618172248\n"
     ]
    },
    {
     "name": "stderr",
     "output_type": "stream",
     "text": [
      "\n",
      "t:  23%|██▎       | 286/1260 [00:53<03:07,  5.20it/s, now=None]\u001b[A\n",
      "t:  23%|██▎       | 287/1260 [00:53<03:05,  5.25it/s, now=None]\u001b[A\n"
     ]
    },
    {
     "name": "stdout",
     "output_type": "stream",
     "text": [
      "298.5520299284595 217.92571532369362\n",
      "286.7101724130518 208.04844778976147\n"
     ]
    },
    {
     "name": "stderr",
     "output_type": "stream",
     "text": [
      "t:  23%|██▎       | 288/1260 [00:54<03:03,  5.31it/s, now=None]\u001b[A\n",
      "t:  23%|██▎       | 289/1260 [00:54<03:03,  5.28it/s, now=None]\u001b[A"
     ]
    },
    {
     "name": "stdout",
     "output_type": "stream",
     "text": [
      "326.64652691942365 229.98027929912823\n",
      "335.9012612389281"
     ]
    },
    {
     "name": "stderr",
     "output_type": "stream",
     "text": [
      "\n",
      "t:  23%|██▎       | 290/1260 [00:54<03:04,  5.27it/s, now=None]\u001b[A"
     ]
    },
    {
     "name": "stdout",
     "output_type": "stream",
     "text": [
      " 199.831925434583\n",
      "347.8586206223883 212.60729096733584\n"
     ]
    },
    {
     "name": "stderr",
     "output_type": "stream",
     "text": [
      "\n",
      "t:  23%|██▎       | 291/1260 [00:54<03:03,  5.28it/s, now=None]\u001b[A\n",
      "t:  23%|██▎       | 292/1260 [00:54<03:00,  5.36it/s, now=None]\u001b[A"
     ]
    },
    {
     "name": "stdout",
     "output_type": "stream",
     "text": [
      "318.46298747914307 236.06341040272613\n",
      "325.23958236789076 218.00704073571666\n"
     ]
    },
    {
     "name": "stderr",
     "output_type": "stream",
     "text": [
      "\n",
      "t:  23%|██▎       | 293/1260 [00:55<03:02,  5.30it/s, now=None]\u001b[A\n",
      "t:  23%|██▎       | 294/1260 [00:55<03:04,  5.25it/s, now=None]\u001b[A"
     ]
    },
    {
     "name": "stdout",
     "output_type": "stream",
     "text": [
      "345.8817771754375 200.7379490961767\n"
     ]
    },
    {
     "name": "stderr",
     "output_type": "stream",
     "text": [
      "\n",
      "t:  23%|██▎       | 295/1260 [00:55<03:05,  5.21it/s, now=None]\u001b[A"
     ]
    },
    {
     "name": "stdout",
     "output_type": "stream",
     "text": [
      "347.8041069876154 215.58489005488093\n",
      "364.2688440197529 223.7529321820007\n"
     ]
    },
    {
     "name": "stderr",
     "output_type": "stream",
     "text": [
      "\n",
      "t:  23%|██▎       | 296/1260 [00:55<03:01,  5.31it/s, now=None]\u001b[A\n",
      "t:  24%|██▎       | 297/1260 [00:55<03:00,  5.33it/s, now=None]\u001b[A"
     ]
    },
    {
     "name": "stdout",
     "output_type": "stream",
     "text": [
      "349.04497183135936 245.6336526559852\n",
      "377.2383181167714 289.2229270480956\n"
     ]
    },
    {
     "name": "stderr",
     "output_type": "stream",
     "text": [
      "\n",
      "t:  24%|██▎       | 298/1260 [00:55<03:00,  5.32it/s, now=None]\u001b[A\n",
      "t:  24%|██▎       | 299/1260 [00:56<03:00,  5.34it/s, now=None]\u001b[A"
     ]
    },
    {
     "name": "stdout",
     "output_type": "stream",
     "text": [
      "389.1039986153499 242.55139267930238\n",
      "385.55474525051807 239.77796708968754\n"
     ]
    },
    {
     "name": "stderr",
     "output_type": "stream",
     "text": [
      "\n",
      "t:  24%|██▍       | 300/1260 [00:56<02:58,  5.37it/s, now=None]\u001b[A\n",
      "t:  24%|██▍       | 301/1260 [00:56<02:59,  5.34it/s, now=None]\u001b[A"
     ]
    },
    {
     "name": "stdout",
     "output_type": "stream",
     "text": [
      "430.4165578750136 273.74185855118066\n",
      "475.6882094189635 294.1774538859245\n"
     ]
    },
    {
     "name": "stderr",
     "output_type": "stream",
     "text": [
      "\n",
      "t:  24%|██▍       | 302/1260 [00:56<02:59,  5.33it/s, now=None]\u001b[A\n",
      "t:  24%|██▍       | 303/1260 [00:56<03:01,  5.27it/s, now=None]\u001b[A"
     ]
    },
    {
     "name": "stdout",
     "output_type": "stream",
     "text": [
      "506.49514013691146 317.0151735552516\n",
      "501.0090105080287 410.2933597477324\n"
     ]
    },
    {
     "name": "stderr",
     "output_type": "stream",
     "text": [
      "\n",
      "t:  24%|██▍       | 304/1260 [00:57<02:59,  5.34it/s, now=None]\u001b[A\n",
      "t:  24%|██▍       | 305/1260 [00:57<03:00,  5.28it/s, now=None]\u001b[A"
     ]
    },
    {
     "name": "stdout",
     "output_type": "stream",
     "text": [
      "569.3028837018662 646.3104656814836\n",
      "601.2188075186618 1196.5807492242132\n"
     ]
    },
    {
     "name": "stderr",
     "output_type": "stream",
     "text": [
      "\n",
      "t:  24%|██▍       | 306/1260 [00:57<02:57,  5.37it/s, now=None]\u001b[A\n",
      "t:  24%|██▍       | 307/1260 [00:57<02:56,  5.41it/s, now=None]\u001b[A"
     ]
    },
    {
     "name": "stdout",
     "output_type": "stream",
     "text": [
      "611.565691813632 3633.316785905806\n",
      "661.7582242733207 1584.6851216621108\n"
     ]
    },
    {
     "name": "stderr",
     "output_type": "stream",
     "text": [
      "\n",
      "t:  24%|██▍       | 308/1260 [00:57<02:56,  5.41it/s, now=None]\u001b[A\n",
      "t:  25%|██▍       | 309/1260 [00:58<02:56,  5.40it/s, now=None]\u001b[A"
     ]
    },
    {
     "name": "stdout",
     "output_type": "stream",
     "text": [
      "907.5373510613085 728.6104404514334\n",
      "943.6379249306816 993.4740768838751\n"
     ]
    },
    {
     "name": "stderr",
     "output_type": "stream",
     "text": [
      "\n",
      "t:  25%|██▍       | 310/1260 [00:58<02:56,  5.37it/s, now=None]\u001b[A\n",
      "t:  25%|██▍       | 311/1260 [00:58<02:58,  5.31it/s, now=None]\u001b[A"
     ]
    },
    {
     "name": "stdout",
     "output_type": "stream",
     "text": [
      "972.7103418044003 530.2985123385133\n",
      "1114.0698037012892"
     ]
    },
    {
     "name": "stderr",
     "output_type": "stream",
     "text": [
      "\n",
      "t:  25%|██▍       | 312/1260 [00:58<02:57,  5.33it/s, now=None]\u001b[A"
     ]
    },
    {
     "name": "stdout",
     "output_type": "stream",
     "text": [
      " 650.3908221542371\n",
      "1813.4744622858952 735.5409816199615\n"
     ]
    },
    {
     "name": "stderr",
     "output_type": "stream",
     "text": [
      "\n",
      "t:  25%|██▍       | 313/1260 [00:58<02:56,  5.37it/s, now=None]\u001b[A"
     ]
    },
    {
     "name": "stdout",
     "output_type": "stream",
     "text": [
      "3420.8314909814953 862.6005470971083\n"
     ]
    },
    {
     "name": "stderr",
     "output_type": "stream",
     "text": [
      "\n",
      "t:  25%|██▍       | 314/1260 [00:58<02:58,  5.28it/s, now=None]\u001b[A\n",
      "t:  25%|██▌       | 315/1260 [00:59<02:59,  5.25it/s, now=None]\u001b[A"
     ]
    },
    {
     "name": "stdout",
     "output_type": "stream",
     "text": [
      "8781.756496220438 949.412439095452\n"
     ]
    },
    {
     "name": "stderr",
     "output_type": "stream",
     "text": [
      "\n",
      "t:  25%|██▌       | 316/1260 [00:59<03:02,  5.18it/s, now=None]\u001b[A"
     ]
    },
    {
     "name": "stdout",
     "output_type": "stream",
     "text": [
      "9050.9825089767 609.1206733081622\n"
     ]
    },
    {
     "name": "stderr",
     "output_type": "stream",
     "text": [
      "\n",
      "t:  25%|██▌       | 317/1260 [00:59<03:08,  5.00it/s, now=None]\u001b[A"
     ]
    },
    {
     "name": "stdout",
     "output_type": "stream",
     "text": [
      "22655.31430070862 480.6733688674281\n",
      "106876.82859076814 365.9529813428466\n"
     ]
    },
    {
     "name": "stderr",
     "output_type": "stream",
     "text": [
      "\n",
      "t:  25%|██▌       | 318/1260 [00:59<03:05,  5.08it/s, now=None]\u001b[A\n",
      "t:  25%|██▌       | 319/1260 [00:59<03:07,  5.02it/s, now=None]\u001b[A"
     ]
    },
    {
     "name": "stdout",
     "output_type": "stream",
     "text": [
      "126621.34073871141 234.04763966043166\n"
     ]
    },
    {
     "name": "stderr",
     "output_type": "stream",
     "text": [
      "\n",
      "t:  25%|██▌       | 320/1260 [01:00<03:08,  4.99it/s, now=None]\u001b[A"
     ]
    },
    {
     "name": "stdout",
     "output_type": "stream",
     "text": [
      "6572.290078385258 324.65354385200885\n",
      "6974.897484739381 299.0226429578495\n"
     ]
    },
    {
     "name": "stderr",
     "output_type": "stream",
     "text": [
      "\n",
      "t:  25%|██▌       | 321/1260 [01:00<03:06,  5.04it/s, now=None]\u001b[A\n",
      "t:  26%|██▌       | 322/1260 [01:00<03:03,  5.11it/s, now=None]\u001b[A\n"
     ]
    },
    {
     "name": "stdout",
     "output_type": "stream",
     "text": [
      "6176.274558068202 357.11699835194383\n",
      "15141.533514844657 330.05234835534947\n"
     ]
    },
    {
     "name": "stderr",
     "output_type": "stream",
     "text": [
      "t:  26%|██▌       | 323/1260 [01:00<02:59,  5.23it/s, now=None]\u001b[A\n",
      "t:  26%|██▌       | 324/1260 [01:00<02:56,  5.29it/s, now=None]\u001b[A"
     ]
    },
    {
     "name": "stdout",
     "output_type": "stream",
     "text": [
      "12313.700608583575 479.99478998387855\n",
      "22149.971464941078 469.3139795445192\n"
     ]
    },
    {
     "name": "stderr",
     "output_type": "stream",
     "text": [
      "\n",
      "t:  26%|██▌       | 325/1260 [01:01<02:55,  5.32it/s, now=None]\u001b[A\n",
      "t:  26%|██▌       | 326/1260 [01:01<02:55,  5.33it/s, now=None]\u001b[A"
     ]
    },
    {
     "name": "stdout",
     "output_type": "stream",
     "text": [
      "3149.5603582864082 523.8412803166422\n",
      "2185.0217348592582 649.8460247840137\n"
     ]
    },
    {
     "name": "stderr",
     "output_type": "stream",
     "text": [
      "\n",
      "t:  26%|██▌       | 327/1260 [01:01<02:55,  5.32it/s, now=None]\u001b[A\n",
      "t:  26%|██▌       | 328/1260 [01:01<02:54,  5.34it/s, now=None]\u001b[A"
     ]
    },
    {
     "name": "stdout",
     "output_type": "stream",
     "text": [
      "2810.7789453455443 801.2581109187684\n",
      "2404.2494946705974 1374.3644657158682\n"
     ]
    },
    {
     "name": "stderr",
     "output_type": "stream",
     "text": [
      "\n",
      "t:  26%|██▌       | 329/1260 [01:01<02:53,  5.36it/s, now=None]\u001b[A\n",
      "t:  26%|██▌       | 330/1260 [01:02<02:55,  5.31it/s, now=None]\u001b[A"
     ]
    },
    {
     "name": "stdout",
     "output_type": "stream",
     "text": [
      "2792.6550828531695 1714.1521672293093\n",
      "2667.5176764164744 1992.1265707003836\n"
     ]
    },
    {
     "name": "stderr",
     "output_type": "stream",
     "text": [
      "\n",
      "t:  26%|██▋       | 331/1260 [01:02<02:54,  5.32it/s, now=None]\u001b[A"
     ]
    },
    {
     "name": "stdout",
     "output_type": "stream",
     "text": [
      "4213.982027438337 859.1582807872021\n"
     ]
    },
    {
     "name": "stderr",
     "output_type": "stream",
     "text": [
      "\n",
      "t:  26%|██▋       | 332/1260 [01:02<02:55,  5.29it/s, now=None]\u001b[A\n",
      "t:  26%|██▋       | 333/1260 [01:02<02:52,  5.36it/s, now=None]\u001b[A"
     ]
    },
    {
     "name": "stdout",
     "output_type": "stream",
     "text": [
      "2892.1169714388852 592.0678212198834\n",
      "6213.555511960844"
     ]
    },
    {
     "name": "stderr",
     "output_type": "stream",
     "text": [
      "\n",
      "t:  27%|██▋       | 334/1260 [01:02<02:54,  5.31it/s, now=None]\u001b[A"
     ]
    },
    {
     "name": "stdout",
     "output_type": "stream",
     "text": [
      " 910.3254168641622\n",
      "3438.5686138155606"
     ]
    },
    {
     "name": "stderr",
     "output_type": "stream",
     "text": [
      "\n",
      "t:  27%|██▋       | 335/1260 [01:03<02:52,  5.36it/s, now=None]\u001b[A"
     ]
    },
    {
     "name": "stdout",
     "output_type": "stream",
     "text": [
      " 804.8639318993908\n",
      "4445.384938134442 1904.5729762588837\n"
     ]
    },
    {
     "name": "stderr",
     "output_type": "stream",
     "text": [
      "\n",
      "t:  27%|██▋       | 336/1260 [01:03<02:54,  5.30it/s, now=None]\u001b[A\n",
      "t:  27%|██▋       | 337/1260 [01:03<02:56,  5.23it/s, now=None]\u001b[A"
     ]
    },
    {
     "name": "stdout",
     "output_type": "stream",
     "text": [
      "5302.485149569706 977.1656507300997\n",
      "3158.944826794357 1559.4766002095907\n"
     ]
    },
    {
     "name": "stderr",
     "output_type": "stream",
     "text": [
      "\n",
      "t:  27%|██▋       | 338/1260 [01:03<02:53,  5.33it/s, now=None]\u001b[A\n",
      "t:  27%|██▋       | 339/1260 [01:03<02:52,  5.33it/s, now=None]\u001b[A"
     ]
    },
    {
     "name": "stdout",
     "output_type": "stream",
     "text": [
      "2484.275619457301 1910.6946417145075\n",
      "3228.167419854885 2593.7924852813426\n"
     ]
    },
    {
     "name": "stderr",
     "output_type": "stream",
     "text": [
      "\n",
      "t:  27%|██▋       | 340/1260 [01:03<02:53,  5.30it/s, now=None]\u001b[A\n",
      "t:  27%|██▋       | 341/1260 [01:04<02:53,  5.29it/s, now=None]\u001b[A"
     ]
    },
    {
     "name": "stdout",
     "output_type": "stream",
     "text": [
      "8190.475595181308 1737.0022956172356\n",
      "39023.46751227259 2335.871522214545\n"
     ]
    },
    {
     "name": "stderr",
     "output_type": "stream",
     "text": [
      "\n",
      "t:  27%|██▋       | 342/1260 [01:04<02:54,  5.27it/s, now=None]\u001b[A\n",
      "t:  27%|██▋       | 343/1260 [01:04<02:50,  5.39it/s, now=None]\u001b[A"
     ]
    },
    {
     "name": "stdout",
     "output_type": "stream",
     "text": [
      "7851.39309965872 357.72749592986077\n",
      "9734.108313135528"
     ]
    },
    {
     "name": "stderr",
     "output_type": "stream",
     "text": [
      "\n",
      "t:  27%|██▋       | 344/1260 [01:04<02:48,  5.42it/s, now=None]\u001b[A"
     ]
    },
    {
     "name": "stdout",
     "output_type": "stream",
     "text": [
      " 471.09352915146286\n",
      "31868.706545973022 512.6217065790696\n"
     ]
    },
    {
     "name": "stderr",
     "output_type": "stream",
     "text": [
      "\n",
      "t:  27%|██▋       | 345/1260 [01:04<02:45,  5.52it/s, now=None]\u001b[A\n",
      "t:  27%|██▋       | 346/1260 [01:05<02:49,  5.39it/s, now=None]\u001b[A"
     ]
    },
    {
     "name": "stdout",
     "output_type": "stream",
     "text": [
      "5886.590468959259 510.7994283362652\n",
      "5685.424659869402 725.4339117632836\n"
     ]
    },
    {
     "name": "stderr",
     "output_type": "stream",
     "text": [
      "\n",
      "t:  28%|██▊       | 347/1260 [01:05<02:49,  5.39it/s, now=None]\u001b[A\n",
      "t:  28%|██▊       | 348/1260 [01:05<02:48,  5.41it/s, now=None]\u001b[A"
     ]
    },
    {
     "name": "stdout",
     "output_type": "stream",
     "text": [
      "1541.3609574470565 541.3778801408433\n",
      "2358.422810779619"
     ]
    },
    {
     "name": "stderr",
     "output_type": "stream",
     "text": [
      "\n",
      "t:  28%|██▊       | 349/1260 [01:05<02:49,  5.37it/s, now=None]\u001b[A"
     ]
    },
    {
     "name": "stdout",
     "output_type": "stream",
     "text": [
      " 601.0994984635247\n",
      "3609.0805358243247 703.3136855848167\n"
     ]
    },
    {
     "name": "stderr",
     "output_type": "stream",
     "text": [
      "\n",
      "t:  28%|██▊       | 350/1260 [01:05<02:48,  5.40it/s, now=None]\u001b[A\n",
      "t:  28%|██▊       | 351/1260 [01:05<02:46,  5.46it/s, now=None]\u001b[A"
     ]
    },
    {
     "name": "stdout",
     "output_type": "stream",
     "text": [
      "2565.286762835985 963.101647751812\n",
      "1296.8914745860616"
     ]
    },
    {
     "name": "stderr",
     "output_type": "stream",
     "text": [
      "\n",
      "t:  28%|██▊       | 352/1260 [01:06<02:47,  5.41it/s, now=None]\u001b[A"
     ]
    },
    {
     "name": "stdout",
     "output_type": "stream",
     "text": [
      " 1282.9502134078625\n",
      "1107.054510945378"
     ]
    },
    {
     "name": "stderr",
     "output_type": "stream",
     "text": [
      "\n",
      "t:  28%|██▊       | 353/1260 [01:06<02:50,  5.33it/s, now=None]\u001b[A"
     ]
    },
    {
     "name": "stdout",
     "output_type": "stream",
     "text": [
      " 943.216017154507\n",
      "1663.0593925315063 "
     ]
    },
    {
     "name": "stderr",
     "output_type": "stream",
     "text": [
      "\n",
      "t:  28%|██▊       | 354/1260 [01:06<02:50,  5.31it/s, now=None]\u001b[A"
     ]
    },
    {
     "name": "stdout",
     "output_type": "stream",
     "text": [
      "590.5457701728681\n",
      "1409.95137317569"
     ]
    },
    {
     "name": "stderr",
     "output_type": "stream",
     "text": [
      "\n",
      "t:  28%|██▊       | 355/1260 [01:06<02:52,  5.24it/s, now=None]\u001b[A"
     ]
    },
    {
     "name": "stdout",
     "output_type": "stream",
     "text": [
      " 854.1823385398984\n",
      "1023.4253093923465"
     ]
    },
    {
     "name": "stderr",
     "output_type": "stream",
     "text": [
      "\n",
      "t:  28%|██▊       | 356/1260 [01:06<02:52,  5.23it/s, now=None]\u001b[A\n"
     ]
    },
    {
     "name": "stdout",
     "output_type": "stream",
     "text": [
      " 980.3343572069206\n",
      "1441.974613656403 787.1140132875244\n"
     ]
    },
    {
     "name": "stderr",
     "output_type": "stream",
     "text": [
      "t:  28%|██▊       | 357/1260 [01:07<02:49,  5.32it/s, now=None]\u001b[A\n",
      "t:  28%|██▊       | 358/1260 [01:07<02:49,  5.34it/s, now=None]\u001b[A"
     ]
    },
    {
     "name": "stdout",
     "output_type": "stream",
     "text": [
      "3336.653293867173 573.0895443012361\n",
      "2272.759460904294 555.6823902316163\n"
     ]
    },
    {
     "name": "stderr",
     "output_type": "stream",
     "text": [
      "\n",
      "t:  28%|██▊       | 359/1260 [01:07<02:48,  5.36it/s, now=None]\u001b[A\n",
      "t:  29%|██▊       | 360/1260 [01:07<02:47,  5.38it/s, now=None]\u001b[A"
     ]
    },
    {
     "name": "stdout",
     "output_type": "stream",
     "text": [
      "1959.4060502248387 564.985340728815\n",
      "1298.8652283685558 "
     ]
    },
    {
     "name": "stderr",
     "output_type": "stream",
     "text": [
      "\n",
      "t:  29%|██▊       | 361/1260 [01:07<02:49,  5.31it/s, now=None]\u001b[A"
     ]
    },
    {
     "name": "stdout",
     "output_type": "stream",
     "text": [
      "570.5989693931729\n",
      "770.4909923385521"
     ]
    },
    {
     "name": "stderr",
     "output_type": "stream",
     "text": [
      "\n",
      "t:  29%|██▊       | 362/1260 [01:08<02:49,  5.30it/s, now=None]\u001b[A"
     ]
    },
    {
     "name": "stdout",
     "output_type": "stream",
     "text": [
      " 609.4236911470475\n",
      "480.88924424553323"
     ]
    },
    {
     "name": "stderr",
     "output_type": "stream",
     "text": [
      "\n",
      "t:  29%|██▉       | 363/1260 [01:08<02:50,  5.26it/s, now=None]\u001b[A"
     ]
    },
    {
     "name": "stdout",
     "output_type": "stream",
     "text": [
      " 1423.6994699104034\n",
      "438.99858205306487"
     ]
    },
    {
     "name": "stderr",
     "output_type": "stream",
     "text": [
      "\n",
      "t:  29%|██▉       | 364/1260 [01:08<02:49,  5.29it/s, now=None]\u001b[A"
     ]
    },
    {
     "name": "stdout",
     "output_type": "stream",
     "text": [
      " 1014.6386683161608\n",
      "375.77442011171297"
     ]
    },
    {
     "name": "stderr",
     "output_type": "stream",
     "text": [
      "\n",
      "t:  29%|██▉       | 365/1260 [01:08<02:51,  5.20it/s, now=None]\u001b[A"
     ]
    },
    {
     "name": "stdout",
     "output_type": "stream",
     "text": [
      " 1354.2167721160401\n",
      "368.4733983147566 2349.596906380642\n"
     ]
    },
    {
     "name": "stderr",
     "output_type": "stream",
     "text": [
      "\n",
      "t:  29%|██▉       | 366/1260 [01:08<02:49,  5.28it/s, now=None]\u001b[A\n",
      "t:  29%|██▉       | 367/1260 [01:09<02:48,  5.31it/s, now=None]\u001b[A"
     ]
    },
    {
     "name": "stdout",
     "output_type": "stream",
     "text": [
      "359.46809290864155 1221.033265424186\n",
      "348.49043000708247"
     ]
    },
    {
     "name": "stderr",
     "output_type": "stream",
     "text": [
      "\n",
      "t:  29%|██▉       | 368/1260 [01:09<02:47,  5.33it/s, now=None]\u001b[A"
     ]
    },
    {
     "name": "stdout",
     "output_type": "stream",
     "text": [
      " 4203.944766410667\n",
      "360.4009682929321 6940.995163456911\n"
     ]
    },
    {
     "name": "stderr",
     "output_type": "stream",
     "text": [
      "\n",
      "t:  29%|██▉       | 369/1260 [01:09<02:49,  5.25it/s, now=None]\u001b[A\n",
      "t:  29%|██▉       | 370/1260 [01:09<02:44,  5.41it/s, now=None]\u001b[A"
     ]
    },
    {
     "name": "stdout",
     "output_type": "stream",
     "text": [
      "386.3068186915653 1161.2927744516671\n",
      "408.8184397988228"
     ]
    },
    {
     "name": "stderr",
     "output_type": "stream",
     "text": [
      "\n",
      "t:  29%|██▉       | 371/1260 [01:09<02:46,  5.33it/s, now=None]\u001b[A"
     ]
    },
    {
     "name": "stdout",
     "output_type": "stream",
     "text": [
      " 1193.4066305081258\n",
      "470.72210938320757 1174.731705092882\n"
     ]
    },
    {
     "name": "stderr",
     "output_type": "stream",
     "text": [
      "\n",
      "t:  30%|██▉       | 372/1260 [01:09<02:45,  5.36it/s, now=None]\u001b[A\n",
      "t:  30%|██▉       | 373/1260 [01:10<02:43,  5.43it/s, now=None]\u001b[A"
     ]
    },
    {
     "name": "stdout",
     "output_type": "stream",
     "text": [
      "555.9609668395827 1114.028718950844\n"
     ]
    },
    {
     "name": "stderr",
     "output_type": "stream",
     "text": [
      "\n",
      "t:  30%|██▉       | 374/1260 [01:10<02:45,  5.34it/s, now=None]\u001b[A"
     ]
    },
    {
     "name": "stdout",
     "output_type": "stream",
     "text": [
      "644.5229332279908 1142.234858557829\n",
      "896.5296701481686"
     ]
    },
    {
     "name": "stderr",
     "output_type": "stream",
     "text": [
      "\n",
      "t:  30%|██▉       | 375/1260 [01:10<02:44,  5.39it/s, now=None]\u001b[A"
     ]
    },
    {
     "name": "stdout",
     "output_type": "stream",
     "text": [
      " 23986.22069016399\n",
      "1665.8297252201455 27479.851392767152\n"
     ]
    },
    {
     "name": "stderr",
     "output_type": "stream",
     "text": [
      "\n",
      "t:  30%|██▉       | 376/1260 [01:10<02:42,  5.45it/s, now=None]\u001b[A\n",
      "t:  30%|██▉       | 377/1260 [01:10<02:43,  5.42it/s, now=None]\u001b[A\n"
     ]
    },
    {
     "name": "stdout",
     "output_type": "stream",
     "text": [
      "13767.238506905898 3352.6949410594307\n",
      "6079.4211567132015 6494.514101871592\n"
     ]
    },
    {
     "name": "stderr",
     "output_type": "stream",
     "text": [
      "t:  30%|███       | 378/1260 [01:11<02:40,  5.51it/s, now=None]\u001b[A\n",
      "t:  30%|███       | 379/1260 [01:11<02:37,  5.58it/s, now=None]\u001b[A"
     ]
    },
    {
     "name": "stdout",
     "output_type": "stream",
     "text": [
      "1635.205331035285 3063.266183068204\n",
      "1383.2434423292375"
     ]
    },
    {
     "name": "stderr",
     "output_type": "stream",
     "text": [
      "\n",
      "t:  30%|███       | 380/1260 [01:11<02:38,  5.57it/s, now=None]\u001b[A"
     ]
    },
    {
     "name": "stdout",
     "output_type": "stream",
     "text": [
      " 7371.795460493621\n",
      "1235.656180435515 6875.157348804086\n"
     ]
    },
    {
     "name": "stderr",
     "output_type": "stream",
     "text": [
      "\n",
      "t:  30%|███       | 381/1260 [01:11<02:41,  5.45it/s, now=None]\u001b[A\n",
      "t:  30%|███       | 382/1260 [01:11<02:41,  5.42it/s, now=None]\u001b[A"
     ]
    },
    {
     "name": "stdout",
     "output_type": "stream",
     "text": [
      "1201.4040433601933 18474.307407156295\n",
      "974.0805296386492 6006.811654382948\n"
     ]
    },
    {
     "name": "stderr",
     "output_type": "stream",
     "text": [
      "\n",
      "t:  30%|███       | 383/1260 [01:11<02:39,  5.51it/s, now=None]\u001b[A\n",
      "t:  30%|███       | 384/1260 [01:12<02:42,  5.39it/s, now=None]\u001b[A\n"
     ]
    },
    {
     "name": "stdout",
     "output_type": "stream",
     "text": [
      "766.6414180543743 132801.08362189043\n",
      "764.8920724544214 1566.0666060895828\n"
     ]
    },
    {
     "name": "stderr",
     "output_type": "stream",
     "text": [
      "t:  31%|███       | 385/1260 [01:12<02:42,  5.39it/s, now=None]\u001b[A\n",
      "t:  31%|███       | 386/1260 [01:12<02:40,  5.46it/s, now=None]\u001b[A"
     ]
    },
    {
     "name": "stdout",
     "output_type": "stream",
     "text": [
      "830.7585987863262 3792.357587004741\n",
      "972.995364614899 2645.345922820393\n"
     ]
    },
    {
     "name": "stderr",
     "output_type": "stream",
     "text": [
      "\n",
      "t:  31%|███       | 387/1260 [01:12<02:43,  5.35it/s, now=None]\u001b[A\n",
      "t:  31%|███       | 388/1260 [01:12<02:40,  5.43it/s, now=None]\u001b[A"
     ]
    },
    {
     "name": "stdout",
     "output_type": "stream",
     "text": [
      "1084.548472985755 4464.641420560857\n"
     ]
    },
    {
     "name": "stderr",
     "output_type": "stream",
     "text": [
      "\n",
      "t:  31%|███       | 389/1260 [01:13<02:45,  5.27it/s, now=None]\u001b[A"
     ]
    },
    {
     "name": "stdout",
     "output_type": "stream",
     "text": [
      "944.9837264470506 2737.645095782884\n",
      "1258.2365916361641"
     ]
    },
    {
     "name": "stderr",
     "output_type": "stream",
     "text": [
      "\n",
      "t:  31%|███       | 390/1260 [01:13<02:45,  5.25it/s, now=None]\u001b[A"
     ]
    },
    {
     "name": "stdout",
     "output_type": "stream",
     "text": [
      " 782.6613279531773\n",
      "1411.165437458997"
     ]
    },
    {
     "name": "stderr",
     "output_type": "stream",
     "text": [
      "\n",
      "t:  31%|███       | 391/1260 [01:13<02:46,  5.23it/s, now=None]\u001b[A"
     ]
    },
    {
     "name": "stdout",
     "output_type": "stream",
     "text": [
      " 1832.736267039517\n",
      "1431.7175219668954"
     ]
    },
    {
     "name": "stderr",
     "output_type": "stream",
     "text": [
      "\n",
      "t:  31%|███       | 392/1260 [01:13<02:46,  5.22it/s, now=None]\u001b[A"
     ]
    },
    {
     "name": "stdout",
     "output_type": "stream",
     "text": [
      " 55928.23563619794\n",
      "1794.1108377701746 1728.2232282913462\n"
     ]
    },
    {
     "name": "stderr",
     "output_type": "stream",
     "text": [
      "\n",
      "t:  31%|███       | 393/1260 [01:13<02:44,  5.27it/s, now=None]\u001b[A\n",
      "t:  31%|███▏      | 394/1260 [01:14<02:41,  5.37it/s, now=None]\u001b[A"
     ]
    },
    {
     "name": "stdout",
     "output_type": "stream",
     "text": [
      "1488.6839124104488 935.6438496587582\n",
      "1435.3537298036756 672.9043090794246\n"
     ]
    },
    {
     "name": "stderr",
     "output_type": "stream",
     "text": [
      "\n",
      "t:  31%|███▏      | 395/1260 [01:14<02:42,  5.33it/s, now=None]\u001b[A\n",
      "t:  31%|███▏      | 396/1260 [01:14<02:47,  5.17it/s, now=None]\u001b[A"
     ]
    },
    {
     "name": "stdout",
     "output_type": "stream",
     "text": [
      "1474.270695744944 743.395508894939\n",
      "1594.4683434174178 1361.6626671647457\n"
     ]
    },
    {
     "name": "stderr",
     "output_type": "stream",
     "text": [
      "\n",
      "t:  32%|███▏      | 397/1260 [01:14<02:44,  5.24it/s, now=None]\u001b[A\n",
      "t:  32%|███▏      | 398/1260 [01:14<02:43,  5.29it/s, now=None]\u001b[A"
     ]
    },
    {
     "name": "stdout",
     "output_type": "stream",
     "text": [
      "1728.7196648860506 1098.506979994566\n",
      "2125.8230178288964 1115.0569246422103"
     ]
    },
    {
     "name": "stderr",
     "output_type": "stream",
     "text": [
      "\n",
      "t:  32%|███▏      | 399/1260 [01:14<02:43,  5.28it/s, now=None]\u001b[A"
     ]
    },
    {
     "name": "stdout",
     "output_type": "stream",
     "text": [
      "\n",
      "2686.764169628771"
     ]
    },
    {
     "name": "stderr",
     "output_type": "stream",
     "text": [
      "\n",
      "t:  32%|███▏      | 400/1260 [01:15<02:45,  5.20it/s, now=None]\u001b[A"
     ]
    },
    {
     "name": "stdout",
     "output_type": "stream",
     "text": [
      " 970.34176039435\n",
      "1753.6915440022456 11394.020706515903\n"
     ]
    },
    {
     "name": "stderr",
     "output_type": "stream",
     "text": [
      "\n",
      "t:  32%|███▏      | 401/1260 [01:15<02:42,  5.29it/s, now=None]\u001b[A\n",
      "t:  32%|███▏      | 402/1260 [01:15<02:37,  5.43it/s, now=None]\u001b[A"
     ]
    },
    {
     "name": "stdout",
     "output_type": "stream",
     "text": [
      "2810.2382124748883 409.161019603462\n",
      "4508.52760566875"
     ]
    },
    {
     "name": "stderr",
     "output_type": "stream",
     "text": [
      "\n",
      "t:  32%|███▏      | 403/1260 [01:15<02:39,  5.39it/s, now=None]\u001b[A"
     ]
    },
    {
     "name": "stdout",
     "output_type": "stream",
     "text": [
      " 842.3623062364886\n",
      "214764.6193003268 1787.5879967601204\n"
     ]
    },
    {
     "name": "stderr",
     "output_type": "stream",
     "text": [
      "\n",
      "t:  32%|███▏      | 404/1260 [01:15<02:42,  5.27it/s, now=None]\u001b[A\n",
      "t:  32%|███▏      | 405/1260 [01:16<02:46,  5.13it/s, now=None]\u001b[A"
     ]
    },
    {
     "name": "stdout",
     "output_type": "stream",
     "text": [
      "132109.7240037921 1875.916777564231\n",
      "22819.061391196363"
     ]
    },
    {
     "name": "stderr",
     "output_type": "stream",
     "text": [
      "\n",
      "t:  32%|███▏      | 406/1260 [01:16<02:49,  5.03it/s, now=None]\u001b[A"
     ]
    },
    {
     "name": "stdout",
     "output_type": "stream",
     "text": [
      " 8939.801056663966\n",
      "26300.2039574364"
     ]
    },
    {
     "name": "stderr",
     "output_type": "stream",
     "text": [
      "\n",
      "t:  32%|███▏      | 407/1260 [01:16<02:51,  4.99it/s, now=None]\u001b[A"
     ]
    },
    {
     "name": "stdout",
     "output_type": "stream",
     "text": [
      " 932.0963571847553\n",
      "35925.45150522697 2003.1676202011267\n"
     ]
    },
    {
     "name": "stderr",
     "output_type": "stream",
     "text": [
      "\n",
      "t:  32%|███▏      | 408/1260 [01:16<02:48,  5.04it/s, now=None]\u001b[A\n",
      "t:  32%|███▏      | 409/1260 [01:16<02:49,  5.02it/s, now=None]\u001b[A"
     ]
    },
    {
     "name": "stdout",
     "output_type": "stream",
     "text": [
      "18834.815898666824 1513.4858409652713\n",
      "7618.224466383666 1708.8571771393747\n"
     ]
    },
    {
     "name": "stderr",
     "output_type": "stream",
     "text": [
      "\n",
      "t:  33%|███▎      | 410/1260 [01:17<02:49,  5.01it/s, now=None]\u001b[A\n",
      "t:  33%|███▎      | 411/1260 [01:17<02:52,  4.93it/s, now=None]\u001b[A"
     ]
    },
    {
     "name": "stdout",
     "output_type": "stream",
     "text": [
      "9242.247936092215 2302.8142933887657\n",
      "34047.90120303806"
     ]
    },
    {
     "name": "stderr",
     "output_type": "stream",
     "text": [
      "\n",
      "t:  33%|███▎      | 412/1260 [01:17<02:48,  5.03it/s, now=None]\u001b[A"
     ]
    },
    {
     "name": "stdout",
     "output_type": "stream",
     "text": [
      " 8835.054575130674\n",
      "5029.381316367749"
     ]
    },
    {
     "name": "stderr",
     "output_type": "stream",
     "text": [
      "\n",
      "t:  33%|███▎      | 413/1260 [01:17<02:49,  5.00it/s, now=None]\u001b[A"
     ]
    },
    {
     "name": "stdout",
     "output_type": "stream",
     "text": [
      " 2157.6575524881864\n",
      "2607.126985471657"
     ]
    },
    {
     "name": "stderr",
     "output_type": "stream",
     "text": [
      "\n",
      "t:  33%|███▎      | 414/1260 [01:17<02:48,  5.03it/s, now=None]\u001b[A"
     ]
    },
    {
     "name": "stdout",
     "output_type": "stream",
     "text": [
      " 891.477667725615\n"
     ]
    },
    {
     "name": "stderr",
     "output_type": "stream",
     "text": [
      "\n",
      "t:  33%|███▎      | 415/1260 [01:18<02:51,  4.94it/s, now=None]\u001b[A"
     ]
    },
    {
     "name": "stdout",
     "output_type": "stream",
     "text": [
      "1581.7853071938002 960.4266638117555\n",
      "1299.7219492216777"
     ]
    },
    {
     "name": "stderr",
     "output_type": "stream",
     "text": [
      "\n",
      "t:  33%|███▎      | 416/1260 [01:18<02:51,  4.93it/s, now=None]\u001b[A"
     ]
    },
    {
     "name": "stdout",
     "output_type": "stream",
     "text": [
      " 3545.041003440441\n",
      "1165.2354461943016 3372.7999590259215\n"
     ]
    },
    {
     "name": "stderr",
     "output_type": "stream",
     "text": [
      "\n",
      "t:  33%|███▎      | 417/1260 [01:18<02:52,  4.89it/s, now=None]\u001b[A\n",
      "t:  33%|███▎      | 418/1260 [01:18<02:55,  4.80it/s, now=None]\u001b[A"
     ]
    },
    {
     "name": "stdout",
     "output_type": "stream",
     "text": [
      "1077.2243883722213 978.5328450579616\n"
     ]
    },
    {
     "name": "stderr",
     "output_type": "stream",
     "text": [
      "\n",
      "t:  33%|███▎      | 419/1260 [01:18<02:53,  4.86it/s, now=None]\u001b[A"
     ]
    },
    {
     "name": "stdout",
     "output_type": "stream",
     "text": [
      "955.1681231176254 808.1785540213735\n"
     ]
    },
    {
     "name": "stderr",
     "output_type": "stream",
     "text": [
      "\n",
      "t:  33%|███▎      | 420/1260 [01:19<02:56,  4.77it/s, now=None]\u001b[A"
     ]
    },
    {
     "name": "stdout",
     "output_type": "stream",
     "text": [
      "900.513467361052 1464.210933432557\n",
      "887.7909240312631 2124.058918770029\n"
     ]
    },
    {
     "name": "stderr",
     "output_type": "stream",
     "text": [
      "\n",
      "t:  33%|███▎      | 421/1260 [01:19<02:52,  4.88it/s, now=None]\u001b[A\n",
      "t:  33%|███▎      | 422/1260 [01:19<02:47,  5.02it/s, now=None]\u001b[A"
     ]
    },
    {
     "name": "stdout",
     "output_type": "stream",
     "text": [
      "1013.5209075219714 1475.0952391854046\n",
      "948.4033653500136 2137.9789934678865\n"
     ]
    },
    {
     "name": "stderr",
     "output_type": "stream",
     "text": [
      "\n",
      "t:  34%|███▎      | 423/1260 [01:19<02:43,  5.13it/s, now=None]\u001b[A\n",
      "t:  34%|███▎      | 424/1260 [01:19<02:40,  5.22it/s, now=None]\u001b[A"
     ]
    },
    {
     "name": "stdout",
     "output_type": "stream",
     "text": [
      "1029.6584350226062 3314.6806582497206\n",
      "1309.7979252270798 828.764413132802\n"
     ]
    },
    {
     "name": "stderr",
     "output_type": "stream",
     "text": [
      "\n",
      "t:  34%|███▎      | 425/1260 [01:20<02:40,  5.19it/s, now=None]\u001b[A\n",
      "t:  34%|███▍      | 426/1260 [01:20<02:42,  5.15it/s, now=None]\u001b[A"
     ]
    },
    {
     "name": "stdout",
     "output_type": "stream",
     "text": [
      "1347.9116510067233 705.245101552017\n",
      "1397.5186205729826 538.3185761805156\n"
     ]
    },
    {
     "name": "stderr",
     "output_type": "stream",
     "text": [
      "\n",
      "t:  34%|███▍      | 427/1260 [01:20<02:46,  5.01it/s, now=None]\u001b[A\n",
      "t:  34%|███▍      | 428/1260 [01:20<02:44,  5.06it/s, now=None]\u001b[A"
     ]
    },
    {
     "name": "stdout",
     "output_type": "stream",
     "text": [
      "1792.8860996135036 756.2975537099508\n",
      "10945.745195928488"
     ]
    },
    {
     "name": "stderr",
     "output_type": "stream",
     "text": [
      "\n",
      "t:  34%|███▍      | 429/1260 [01:20<02:41,  5.16it/s, now=None]\u001b[A"
     ]
    },
    {
     "name": "stdout",
     "output_type": "stream",
     "text": [
      " 4082.9813502773163\n",
      "7563.785359565661"
     ]
    },
    {
     "name": "stderr",
     "output_type": "stream",
     "text": [
      "\n",
      "t:  34%|███▍      | 430/1260 [01:21<02:39,  5.21it/s, now=None]\u001b[A"
     ]
    },
    {
     "name": "stdout",
     "output_type": "stream",
     "text": [
      " 5944.347329310934\n",
      "5588.469778417704"
     ]
    },
    {
     "name": "stderr",
     "output_type": "stream",
     "text": [
      "\n",
      "t:  34%|███▍      | 431/1260 [01:21<02:41,  5.13it/s, now=None]\u001b[A"
     ]
    },
    {
     "name": "stdout",
     "output_type": "stream",
     "text": [
      " 2659.6563959477267\n",
      "13390.130915776357"
     ]
    },
    {
     "name": "stderr",
     "output_type": "stream",
     "text": [
      "\n",
      "t:  34%|███▍      | 432/1260 [01:21<02:40,  5.15it/s, now=None]\u001b[A"
     ]
    },
    {
     "name": "stdout",
     "output_type": "stream",
     "text": [
      " 14848.6472074871\n"
     ]
    },
    {
     "name": "stderr",
     "output_type": "stream",
     "text": [
      "\n",
      "t:  34%|███▍      | 433/1260 [01:21<02:44,  5.01it/s, now=None]\u001b[A"
     ]
    },
    {
     "name": "stdout",
     "output_type": "stream",
     "text": [
      "4565.976879898079 1776.9068625994805\n"
     ]
    },
    {
     "name": "stderr",
     "output_type": "stream",
     "text": [
      "\n",
      "t:  34%|███▍      | 434/1260 [01:21<02:49,  4.87it/s, now=None]\u001b[A"
     ]
    },
    {
     "name": "stdout",
     "output_type": "stream",
     "text": [
      "2334.2850845065072 8241.412502494266\n"
     ]
    },
    {
     "name": "stderr",
     "output_type": "stream",
     "text": [
      "\n",
      "t:  35%|███▍      | 435/1260 [01:22<02:52,  4.80it/s, now=None]\u001b[A"
     ]
    },
    {
     "name": "stdout",
     "output_type": "stream",
     "text": [
      "1143.6420594441759 2278.337183698973\n"
     ]
    },
    {
     "name": "stderr",
     "output_type": "stream",
     "text": [
      "\n",
      "t:  35%|███▍      | 436/1260 [01:22<02:54,  4.73it/s, now=None]\u001b[A"
     ]
    },
    {
     "name": "stdout",
     "output_type": "stream",
     "text": [
      "990.6098394839464 1117.475345377369\n",
      "827.3009380875246"
     ]
    },
    {
     "name": "stderr",
     "output_type": "stream",
     "text": [
      "\n",
      "t:  35%|███▍      | 437/1260 [01:22<02:50,  4.82it/s, now=None]\u001b[A"
     ]
    },
    {
     "name": "stdout",
     "output_type": "stream",
     "text": [
      " 545.2815049696857\n",
      "807.4733730016306"
     ]
    },
    {
     "name": "stderr",
     "output_type": "stream",
     "text": [
      "\n",
      "t:  35%|███▍      | 438/1260 [01:22<02:49,  4.85it/s, now=None]\u001b[A\n"
     ]
    },
    {
     "name": "stdout",
     "output_type": "stream",
     "text": [
      " 514.6109184998629\n",
      "940.5153956767687 739.328205468536\n"
     ]
    },
    {
     "name": "stderr",
     "output_type": "stream",
     "text": [
      "t:  35%|███▍      | 439/1260 [01:22<02:41,  5.09it/s, now=None]\u001b[A\n",
      "t:  35%|███▍      | 440/1260 [01:23<02:37,  5.21it/s, now=None]\u001b[A"
     ]
    },
    {
     "name": "stdout",
     "output_type": "stream",
     "text": [
      "714.0108167161525 2325.9453048813643\n",
      "675.674815381316"
     ]
    },
    {
     "name": "stderr",
     "output_type": "stream",
     "text": [
      "\n",
      "t:  35%|███▌      | 441/1260 [01:23<02:36,  5.25it/s, now=None]\u001b[A"
     ]
    },
    {
     "name": "stdout",
     "output_type": "stream",
     "text": [
      " 1193.4503456180425\n",
      "701.3769710167437 1340.7928040564136\n"
     ]
    },
    {
     "name": "stderr",
     "output_type": "stream",
     "text": [
      "\n",
      "t:  35%|███▌      | 442/1260 [01:23<02:34,  5.29it/s, now=None]\u001b[A\n",
      "t:  35%|███▌      | 443/1260 [01:23<02:34,  5.30it/s, now=None]\u001b[A"
     ]
    },
    {
     "name": "stdout",
     "output_type": "stream",
     "text": [
      "723.8203361025224 1542.2732737893066\n",
      "666.1402243737981"
     ]
    },
    {
     "name": "stderr",
     "output_type": "stream",
     "text": [
      "\n",
      "t:  35%|███▌      | 444/1260 [01:23<02:35,  5.24it/s, now=None]\u001b[A"
     ]
    },
    {
     "name": "stdout",
     "output_type": "stream",
     "text": [
      " 1053.0655107454418\n",
      "700.7831731345226"
     ]
    },
    {
     "name": "stderr",
     "output_type": "stream",
     "text": [
      "\n",
      "t:  35%|███▌      | 445/1260 [01:24<02:36,  5.20it/s, now=None]\u001b[A"
     ]
    },
    {
     "name": "stdout",
     "output_type": "stream",
     "text": [
      " 1057.3787770735416\n",
      "667.9907339091262"
     ]
    },
    {
     "name": "stderr",
     "output_type": "stream",
     "text": [
      "\n",
      "t:  35%|███▌      | 446/1260 [01:24<02:36,  5.22it/s, now=None]\u001b[A"
     ]
    },
    {
     "name": "stdout",
     "output_type": "stream",
     "text": [
      " 1493.429869155114\n",
      "830.5521116430723"
     ]
    },
    {
     "name": "stderr",
     "output_type": "stream",
     "text": [
      "\n",
      "t:  35%|███▌      | 447/1260 [01:24<02:34,  5.27it/s, now=None]\u001b[A"
     ]
    },
    {
     "name": "stdout",
     "output_type": "stream",
     "text": [
      " 618.0679868055328\n",
      "799.9587571888023"
     ]
    },
    {
     "name": "stderr",
     "output_type": "stream",
     "text": [
      "\n",
      "t:  36%|███▌      | 448/1260 [01:24<02:32,  5.32it/s, now=None]\u001b[A"
     ]
    },
    {
     "name": "stdout",
     "output_type": "stream",
     "text": [
      " 1039.8082134747224\n",
      "841.6241824745367 1351.5718261972977\n"
     ]
    },
    {
     "name": "stderr",
     "output_type": "stream",
     "text": [
      "\n",
      "t:  36%|███▌      | 449/1260 [01:24<02:31,  5.35it/s, now=None]\u001b[A\n",
      "t:  36%|███▌      | 450/1260 [01:25<02:30,  5.38it/s, now=None]\u001b[A"
     ]
    },
    {
     "name": "stdout",
     "output_type": "stream",
     "text": [
      "912.1451545295993 5500.790015012003\n",
      "1296.3778197998154"
     ]
    },
    {
     "name": "stderr",
     "output_type": "stream",
     "text": [
      "\n",
      "t:  36%|███▌      | 451/1260 [01:25<02:35,  5.21it/s, now=None]\u001b[A"
     ]
    },
    {
     "name": "stdout",
     "output_type": "stream",
     "text": [
      " 2866.5076166482313\n",
      "1862.207868984646"
     ]
    },
    {
     "name": "stderr",
     "output_type": "stream",
     "text": [
      "\n",
      "t:  36%|███▌      | 452/1260 [01:25<02:32,  5.28it/s, now=None]\u001b[A"
     ]
    },
    {
     "name": "stdout",
     "output_type": "stream",
     "text": [
      " 7920.676218670885\n",
      "2586.3084318477477"
     ]
    },
    {
     "name": "stderr",
     "output_type": "stream",
     "text": [
      "\n",
      "t:  36%|███▌      | 453/1260 [01:25<02:30,  5.37it/s, now=None]\u001b[A"
     ]
    },
    {
     "name": "stdout",
     "output_type": "stream",
     "text": [
      " 4734.700750896955\n",
      "4800.888614346465"
     ]
    },
    {
     "name": "stderr",
     "output_type": "stream",
     "text": [
      "\n",
      "t:  36%|███▌      | 454/1260 [01:25<02:30,  5.36it/s, now=None]\u001b[A"
     ]
    },
    {
     "name": "stdout",
     "output_type": "stream",
     "text": [
      " 1914.5988236272506\n",
      "6877.500809793503 4265.814663619975\n"
     ]
    },
    {
     "name": "stderr",
     "output_type": "stream",
     "text": [
      "\n",
      "t:  36%|███▌      | 455/1260 [01:25<02:29,  5.40it/s, now=None]\u001b[A\n",
      "t:  36%|███▌      | 456/1260 [01:26<02:29,  5.37it/s, now=None]\u001b[A"
     ]
    },
    {
     "name": "stdout",
     "output_type": "stream",
     "text": [
      "2382.30406231307 4785.599240169378\n",
      "1665.1443909373818"
     ]
    },
    {
     "name": "stderr",
     "output_type": "stream",
     "text": [
      "\n",
      "t:  36%|███▋      | 457/1260 [01:26<02:31,  5.29it/s, now=None]\u001b[A"
     ]
    },
    {
     "name": "stdout",
     "output_type": "stream",
     "text": [
      " 2211.00988921964\n",
      "1632.254614667076"
     ]
    },
    {
     "name": "stderr",
     "output_type": "stream",
     "text": [
      "\n",
      "t:  36%|███▋      | 458/1260 [01:26<02:33,  5.23it/s, now=None]\u001b[A"
     ]
    },
    {
     "name": "stdout",
     "output_type": "stream",
     "text": [
      " 2635.7158470970817\n",
      "1585.3420414012014 6213.3354701800135\n"
     ]
    },
    {
     "name": "stderr",
     "output_type": "stream",
     "text": [
      "\n",
      "t:  36%|███▋      | 459/1260 [01:26<02:29,  5.36it/s, now=None]\u001b[A\n",
      "t:  37%|███▋      | 460/1260 [01:26<02:29,  5.34it/s, now=None]\u001b[A"
     ]
    },
    {
     "name": "stdout",
     "output_type": "stream",
     "text": [
      "1251.2378802933722 7402.822134322519\n",
      "985.6015387425414 858.6979766626688\n"
     ]
    },
    {
     "name": "stderr",
     "output_type": "stream",
     "text": [
      "\n",
      "t:  37%|███▋      | 461/1260 [01:27<02:26,  5.45it/s, now=None]\u001b[A\n",
      "t:  37%|███▋      | 462/1260 [01:27<02:29,  5.33it/s, now=None]\u001b[A"
     ]
    },
    {
     "name": "stdout",
     "output_type": "stream",
     "text": [
      "1069.7869488587285 475.8518836577699\n",
      "1051.5943992951243"
     ]
    },
    {
     "name": "stderr",
     "output_type": "stream",
     "text": [
      "\n",
      "t:  37%|███▋      | 463/1260 [01:27<02:31,  5.27it/s, now=None]\u001b[A"
     ]
    },
    {
     "name": "stdout",
     "output_type": "stream",
     "text": [
      " 845.0317010577662\n",
      "989.2743598281957 668.0951333678684\n"
     ]
    },
    {
     "name": "stderr",
     "output_type": "stream",
     "text": [
      "\n",
      "t:  37%|███▋      | 464/1260 [01:27<02:30,  5.29it/s, now=None]\u001b[A\n",
      "t:  37%|███▋      | 465/1260 [01:27<02:32,  5.20it/s, now=None]\u001b[A"
     ]
    },
    {
     "name": "stdout",
     "output_type": "stream",
     "text": [
      "1006.5405308929396 663.700534912631\n",
      "1072.4971743535355"
     ]
    },
    {
     "name": "stderr",
     "output_type": "stream",
     "text": [
      "\n",
      "t:  37%|███▋      | 466/1260 [01:28<02:31,  5.23it/s, now=None]\u001b[A"
     ]
    },
    {
     "name": "stdout",
     "output_type": "stream",
     "text": [
      " 465.6916798121378\n",
      "1035.07326331982"
     ]
    },
    {
     "name": "stderr",
     "output_type": "stream",
     "text": [
      "\n",
      "t:  37%|███▋      | 467/1260 [01:28<02:31,  5.22it/s, now=None]\u001b[A"
     ]
    },
    {
     "name": "stdout",
     "output_type": "stream",
     "text": [
      " 619.5145697030887\n",
      "1035.457464020477"
     ]
    },
    {
     "name": "stderr",
     "output_type": "stream",
     "text": [
      "\n",
      "t:  37%|███▋      | 468/1260 [01:28<02:33,  5.16it/s, now=None]\u001b[A"
     ]
    },
    {
     "name": "stdout",
     "output_type": "stream",
     "text": [
      " 494.8579156146549\n",
      "1225.1082433082906"
     ]
    },
    {
     "name": "stderr",
     "output_type": "stream",
     "text": [
      "\n",
      "t:  37%|███▋      | 469/1260 [01:28<02:33,  5.14it/s, now=None]\u001b[A"
     ]
    },
    {
     "name": "stdout",
     "output_type": "stream",
     "text": [
      " 969.4474347735635\n",
      "1760.843232113198 1899.6734683344594\n"
     ]
    },
    {
     "name": "stderr",
     "output_type": "stream",
     "text": [
      "\n",
      "t:  37%|███▋      | 470/1260 [01:28<02:34,  5.12it/s, now=None]\u001b[A\n",
      "t:  37%|███▋      | 471/1260 [01:29<02:36,  5.05it/s, now=None]\u001b[A"
     ]
    },
    {
     "name": "stdout",
     "output_type": "stream",
     "text": [
      "1501.0574170740817 944.6847899566926\n"
     ]
    },
    {
     "name": "stderr",
     "output_type": "stream",
     "text": [
      "\n",
      "t:  37%|███▋      | 472/1260 [01:29<02:40,  4.92it/s, now=None]\u001b[A"
     ]
    },
    {
     "name": "stdout",
     "output_type": "stream",
     "text": [
      "1763.9592029865273 2394.5031855643947\n",
      "3182.11181297555"
     ]
    },
    {
     "name": "stderr",
     "output_type": "stream",
     "text": [
      "\n",
      "t:  38%|███▊      | 473/1260 [01:29<02:39,  4.92it/s, now=None]\u001b[A"
     ]
    },
    {
     "name": "stdout",
     "output_type": "stream",
     "text": [
      " 421.03914368085617\n",
      "4079.5443176979843"
     ]
    },
    {
     "name": "stderr",
     "output_type": "stream",
     "text": [
      "\n",
      "t:  38%|███▊      | 474/1260 [01:29<02:42,  4.85it/s, now=None]\u001b[A"
     ]
    },
    {
     "name": "stdout",
     "output_type": "stream",
     "text": [
      " 1254.1143983995935\n"
     ]
    },
    {
     "name": "stderr",
     "output_type": "stream",
     "text": [
      "\n",
      "t:  38%|███▊      | 475/1260 [01:29<02:46,  4.70it/s, now=None]\u001b[A"
     ]
    },
    {
     "name": "stdout",
     "output_type": "stream",
     "text": [
      "33796.376472997064 1169.3854816944327\n",
      "7340.458169465171"
     ]
    },
    {
     "name": "stderr",
     "output_type": "stream",
     "text": [
      "\n",
      "t:  38%|███▊      | 476/1260 [01:30<02:46,  4.72it/s, now=None]\u001b[A"
     ]
    },
    {
     "name": "stdout",
     "output_type": "stream",
     "text": [
      " 4505.901555503138\n",
      "3587.00435984689"
     ]
    },
    {
     "name": "stderr",
     "output_type": "stream",
     "text": [
      "\n",
      "t:  38%|███▊      | 477/1260 [01:30<02:42,  4.82it/s, now=None]\u001b[A"
     ]
    },
    {
     "name": "stdout",
     "output_type": "stream",
     "text": [
      " 3334.9970087254615\n"
     ]
    },
    {
     "name": "stderr",
     "output_type": "stream",
     "text": [
      "\n",
      "t:  38%|███▊      | 478/1260 [01:30<02:47,  4.66it/s, now=None]\u001b[A"
     ]
    },
    {
     "name": "stdout",
     "output_type": "stream",
     "text": [
      "6541.40521593415 6080.9473136074175\n"
     ]
    },
    {
     "name": "stderr",
     "output_type": "stream",
     "text": [
      "\n",
      "t:  38%|███▊      | 479/1260 [01:30<02:53,  4.51it/s, now=None]\u001b[A"
     ]
    },
    {
     "name": "stdout",
     "output_type": "stream",
     "text": [
      "1663.6633699289198 1589.13559076477\n"
     ]
    },
    {
     "name": "stderr",
     "output_type": "stream",
     "text": [
      "\n",
      "t:  38%|███▊      | 480/1260 [01:30<02:53,  4.50it/s, now=None]\u001b[A"
     ]
    },
    {
     "name": "stdout",
     "output_type": "stream",
     "text": [
      "1882.1961861660805 1261.249773746154\n"
     ]
    },
    {
     "name": "stderr",
     "output_type": "stream",
     "text": [
      "\n",
      "t:  38%|███▊      | 481/1260 [01:31<02:54,  4.47it/s, now=None]\u001b[A"
     ]
    },
    {
     "name": "stdout",
     "output_type": "stream",
     "text": [
      "1667.2928824180842 1588.5018188087656\n"
     ]
    },
    {
     "name": "stderr",
     "output_type": "stream",
     "text": [
      "\n",
      "t:  38%|███▊      | 482/1260 [01:31<02:56,  4.42it/s, now=None]\u001b[A"
     ]
    },
    {
     "name": "stdout",
     "output_type": "stream",
     "text": [
      "1232.8355181102827 20982.283179926042\n",
      "1438.039740120509"
     ]
    },
    {
     "name": "stderr",
     "output_type": "stream",
     "text": [
      "\n",
      "t:  38%|███▊      | 483/1260 [01:31<02:52,  4.50it/s, now=None]\u001b[A"
     ]
    },
    {
     "name": "stdout",
     "output_type": "stream",
     "text": [
      " 17195.742756155923\n"
     ]
    },
    {
     "name": "stderr",
     "output_type": "stream",
     "text": [
      "\n",
      "t:  38%|███▊      | 484/1260 [01:31<02:50,  4.54it/s, now=None]\u001b[A"
     ]
    },
    {
     "name": "stdout",
     "output_type": "stream",
     "text": [
      "1348.4070832286789 44889.77268225904\n"
     ]
    },
    {
     "name": "stderr",
     "output_type": "stream",
     "text": [
      "\n",
      "t:  38%|███▊      | 485/1260 [01:32<02:50,  4.55it/s, now=None]\u001b[A"
     ]
    },
    {
     "name": "stdout",
     "output_type": "stream",
     "text": [
      "1721.7145888293549 830.2204411347424\n",
      "2268.5067930689097 364.1842077580848\n"
     ]
    },
    {
     "name": "stderr",
     "output_type": "stream",
     "text": [
      "\n",
      "t:  39%|███▊      | 486/1260 [01:32<02:45,  4.69it/s, now=None]\u001b[A\n",
      "t:  39%|███▊      | 487/1260 [01:32<02:41,  4.78it/s, now=None]\u001b[A"
     ]
    },
    {
     "name": "stdout",
     "output_type": "stream",
     "text": [
      "1576.9623602324018 484.69083572608247\n"
     ]
    },
    {
     "name": "stderr",
     "output_type": "stream",
     "text": [
      "\n",
      "t:  39%|███▊      | 488/1260 [01:32<02:44,  4.70it/s, now=None]\u001b[A"
     ]
    },
    {
     "name": "stdout",
     "output_type": "stream",
     "text": [
      "2131.841936183977 810.7894492537183\n"
     ]
    },
    {
     "name": "stderr",
     "output_type": "stream",
     "text": [
      "\n",
      "t:  39%|███▉      | 489/1260 [01:32<02:50,  4.53it/s, now=None]\u001b[A"
     ]
    },
    {
     "name": "stdout",
     "output_type": "stream",
     "text": [
      "2791.276042482731 2488.5636635145906\n"
     ]
    },
    {
     "name": "stderr",
     "output_type": "stream",
     "text": [
      "\n",
      "t:  39%|███▉      | 490/1260 [01:33<02:51,  4.50it/s, now=None]\u001b[A"
     ]
    },
    {
     "name": "stdout",
     "output_type": "stream",
     "text": [
      "20378.246635714306 2679.1665458127263\n"
     ]
    },
    {
     "name": "stderr",
     "output_type": "stream",
     "text": [
      "\n",
      "t:  39%|███▉      | 491/1260 [01:33<02:52,  4.45it/s, now=None]\u001b[A"
     ]
    },
    {
     "name": "stdout",
     "output_type": "stream",
     "text": [
      "11413.818626748482 2434.2134314797167\n"
     ]
    },
    {
     "name": "stderr",
     "output_type": "stream",
     "text": [
      "\n",
      "t:  39%|███▉      | 492/1260 [01:33<02:47,  4.60it/s, now=None]\u001b[A"
     ]
    },
    {
     "name": "stdout",
     "output_type": "stream",
     "text": [
      "49677.82139944541 2121.8601901408097\n"
     ]
    },
    {
     "name": "stderr",
     "output_type": "stream",
     "text": [
      "\n",
      "t:  39%|███▉      | 493/1260 [01:33<02:44,  4.68it/s, now=None]\u001b[A"
     ]
    },
    {
     "name": "stdout",
     "output_type": "stream",
     "text": [
      "17027.015110954217 2331.9201696212294\n"
     ]
    },
    {
     "name": "stderr",
     "output_type": "stream",
     "text": [
      "\n",
      "t:  39%|███▉      | 494/1260 [01:34<02:45,  4.62it/s, now=None]\u001b[A"
     ]
    },
    {
     "name": "stdout",
     "output_type": "stream",
     "text": [
      "5664.668048722087 888029.5208574228\n"
     ]
    },
    {
     "name": "stderr",
     "output_type": "stream",
     "text": [
      "\n",
      "t:  39%|███▉      | 495/1260 [01:34<02:48,  4.53it/s, now=None]\u001b[A"
     ]
    },
    {
     "name": "stdout",
     "output_type": "stream",
     "text": [
      "4988.221536384363 4111.09443309177\n"
     ]
    },
    {
     "name": "stderr",
     "output_type": "stream",
     "text": [
      "\n",
      "t:  39%|███▉      | 496/1260 [01:34<02:56,  4.33it/s, now=None]\u001b[A"
     ]
    },
    {
     "name": "stdout",
     "output_type": "stream",
     "text": [
      "11423.960453406198 1539.6345196994257\n"
     ]
    },
    {
     "name": "stderr",
     "output_type": "stream",
     "text": [
      "\n",
      "t:  39%|███▉      | 497/1260 [01:34<03:04,  4.13it/s, now=None]\u001b[A"
     ]
    },
    {
     "name": "stdout",
     "output_type": "stream",
     "text": [
      "8985.328830896982 464.5713331957029\n"
     ]
    },
    {
     "name": "stderr",
     "output_type": "stream",
     "text": [
      "\n",
      "t:  40%|███▉      | 498/1260 [01:35<03:01,  4.19it/s, now=None]\u001b[A"
     ]
    },
    {
     "name": "stdout",
     "output_type": "stream",
     "text": [
      "7540.93373253951 486.8600661522562\n"
     ]
    },
    {
     "name": "stderr",
     "output_type": "stream",
     "text": [
      "\n",
      "t:  40%|███▉      | 499/1260 [01:35<03:01,  4.20it/s, now=None]\u001b[A"
     ]
    },
    {
     "name": "stdout",
     "output_type": "stream",
     "text": [
      "9820.592761897231 8639.428691344943\n"
     ]
    },
    {
     "name": "stderr",
     "output_type": "stream",
     "text": [
      "\n",
      "t:  40%|███▉      | 500/1260 [01:35<03:12,  3.96it/s, now=None]\u001b[A"
     ]
    },
    {
     "name": "stdout",
     "output_type": "stream",
     "text": [
      "4445.126607999818 1367.2600289041786\n"
     ]
    },
    {
     "name": "stderr",
     "output_type": "stream",
     "text": [
      "\n",
      "t:  40%|███▉      | 501/1260 [01:35<03:02,  4.16it/s, now=None]\u001b[A"
     ]
    },
    {
     "name": "stdout",
     "output_type": "stream",
     "text": [
      "3966.1022708446376 1185.213487906992\n",
      "5077.2397920071235"
     ]
    },
    {
     "name": "stderr",
     "output_type": "stream",
     "text": [
      "\n",
      "t:  40%|███▉      | 502/1260 [01:35<02:56,  4.29it/s, now=None]\u001b[A"
     ]
    },
    {
     "name": "stdout",
     "output_type": "stream",
     "text": [
      " 895.232249145612\n"
     ]
    },
    {
     "name": "stderr",
     "output_type": "stream",
     "text": [
      "\n",
      "t:  40%|███▉      | 503/1260 [01:36<03:03,  4.13it/s, now=None]\u001b[A"
     ]
    },
    {
     "name": "stdout",
     "output_type": "stream",
     "text": [
      "4108.370861215058 2002.6640873583883\n"
     ]
    },
    {
     "name": "stderr",
     "output_type": "stream",
     "text": [
      "\n",
      "t:  40%|████      | 504/1260 [01:36<03:02,  4.15it/s, now=None]\u001b[A"
     ]
    },
    {
     "name": "stdout",
     "output_type": "stream",
     "text": [
      "5612.366554645386 1628.4306857188994\n"
     ]
    },
    {
     "name": "stderr",
     "output_type": "stream",
     "text": [
      "\n",
      "t:  40%|████      | 505/1260 [01:36<02:56,  4.29it/s, now=None]\u001b[A"
     ]
    },
    {
     "name": "stdout",
     "output_type": "stream",
     "text": [
      "3387.1319121247916 1837.2458751733711\n"
     ]
    },
    {
     "name": "stderr",
     "output_type": "stream",
     "text": [
      "\n",
      "t:  40%|████      | 506/1260 [01:36<02:57,  4.24it/s, now=None]\u001b[A"
     ]
    },
    {
     "name": "stdout",
     "output_type": "stream",
     "text": [
      "6575.013647737922 1529.1475144847038\n",
      "3769.773120975487 2363.147632426053\n"
     ]
    },
    {
     "name": "stderr",
     "output_type": "stream",
     "text": [
      "\n",
      "t:  40%|████      | 507/1260 [01:37<02:51,  4.38it/s, now=None]\u001b[A\n",
      "t:  40%|████      | 508/1260 [01:37<02:48,  4.47it/s, now=None]\u001b[A"
     ]
    },
    {
     "name": "stdout",
     "output_type": "stream",
     "text": [
      "2090.64010272417 1805.1569216713801\n",
      "2875.955994499078"
     ]
    },
    {
     "name": "stderr",
     "output_type": "stream",
     "text": [
      "\n",
      "t:  40%|████      | 509/1260 [01:37<02:39,  4.71it/s, now=None]\u001b[A"
     ]
    },
    {
     "name": "stdout",
     "output_type": "stream",
     "text": [
      " 2322.171776773419\n",
      "2972.034778227076"
     ]
    },
    {
     "name": "stderr",
     "output_type": "stream",
     "text": [
      "\n",
      "t:  40%|████      | 510/1260 [01:37<02:34,  4.87it/s, now=None]\u001b[A"
     ]
    },
    {
     "name": "stdout",
     "output_type": "stream",
     "text": [
      " 711.7218750269908\n",
      "3450.6648872639826 404.8241180893274\n"
     ]
    },
    {
     "name": "stderr",
     "output_type": "stream",
     "text": [
      "\n",
      "t:  41%|████      | 511/1260 [01:37<02:30,  4.99it/s, now=None]\u001b[A\n",
      "t:  41%|████      | 512/1260 [01:38<02:31,  4.94it/s, now=None]\u001b[A"
     ]
    },
    {
     "name": "stdout",
     "output_type": "stream",
     "text": [
      "20193.116520857893 454.1667272305829\n",
      "20197.08824153453"
     ]
    },
    {
     "name": "stderr",
     "output_type": "stream",
     "text": [
      "\n",
      "t:  41%|████      | 513/1260 [01:38<02:28,  5.03it/s, now=None]\u001b[A"
     ]
    },
    {
     "name": "stdout",
     "output_type": "stream",
     "text": [
      " 581.163169634099\n",
      "20528.818501999398 1917.5570048663044\n"
     ]
    },
    {
     "name": "stderr",
     "output_type": "stream",
     "text": [
      "\n",
      "t:  41%|████      | 514/1260 [01:38<02:26,  5.11it/s, now=None]\u001b[A\n",
      "t:  41%|████      | 515/1260 [01:38<02:24,  5.16it/s, now=None]\u001b[A"
     ]
    },
    {
     "name": "stdout",
     "output_type": "stream",
     "text": [
      "3883.614328434572 2764.1736448385395\n",
      "3087.0154640173337 2331.959371436082\n"
     ]
    },
    {
     "name": "stderr",
     "output_type": "stream",
     "text": [
      "\n",
      "t:  41%|████      | 516/1260 [01:38<02:26,  5.08it/s, now=None]\u001b[A\n",
      "t:  41%|████      | 517/1260 [01:39<02:25,  5.11it/s, now=None]\u001b[A"
     ]
    },
    {
     "name": "stdout",
     "output_type": "stream",
     "text": [
      "3507.633335486155 7308.2929590360445\n",
      "1801.0822599070061 "
     ]
    },
    {
     "name": "stderr",
     "output_type": "stream",
     "text": [
      "\n",
      "t:  41%|████      | 518/1260 [01:39<02:25,  5.08it/s, now=None]\u001b[A"
     ]
    },
    {
     "name": "stdout",
     "output_type": "stream",
     "text": [
      "17018.95633190981\n",
      "1816.9709458805278"
     ]
    },
    {
     "name": "stderr",
     "output_type": "stream",
     "text": [
      "\n",
      "t:  41%|████      | 519/1260 [01:39<02:26,  5.07it/s, now=None]\u001b[A"
     ]
    },
    {
     "name": "stdout",
     "output_type": "stream",
     "text": [
      " 1947.9909112499956\n",
      "2113.965617458491 1053.6681279540796\n"
     ]
    },
    {
     "name": "stderr",
     "output_type": "stream",
     "text": [
      "\n",
      "t:  41%|████▏     | 520/1260 [01:39<02:23,  5.14it/s, now=None]\u001b[A\n",
      "t:  41%|████▏     | 521/1260 [01:39<02:28,  4.98it/s, now=None]\u001b[A"
     ]
    },
    {
     "name": "stdout",
     "output_type": "stream",
     "text": [
      "2043.969031588738 531.611068084896\n"
     ]
    },
    {
     "name": "stderr",
     "output_type": "stream",
     "text": [
      "\n",
      "t:  41%|████▏     | 522/1260 [01:40<02:32,  4.83it/s, now=None]\u001b[A"
     ]
    },
    {
     "name": "stdout",
     "output_type": "stream",
     "text": [
      "18381.78725337209 763.5628806002501\n"
     ]
    },
    {
     "name": "stderr",
     "output_type": "stream",
     "text": [
      "\n",
      "t:  42%|████▏     | 523/1260 [01:40<02:38,  4.64it/s, now=None]\u001b[A"
     ]
    },
    {
     "name": "stdout",
     "output_type": "stream",
     "text": [
      "6396.1268930045935 1110.2673485213502\n"
     ]
    },
    {
     "name": "stderr",
     "output_type": "stream",
     "text": [
      "\n",
      "t:  42%|████▏     | 524/1260 [01:40<02:39,  4.63it/s, now=None]\u001b[A"
     ]
    },
    {
     "name": "stdout",
     "output_type": "stream",
     "text": [
      "6253.586272110452 244.517930616444\n"
     ]
    },
    {
     "name": "stderr",
     "output_type": "stream",
     "text": [
      "\n",
      "t:  42%|████▏     | 525/1260 [01:40<02:36,  4.71it/s, now=None]\u001b[A"
     ]
    },
    {
     "name": "stdout",
     "output_type": "stream",
     "text": [
      "4359.263143098347 175.79786601900375\n",
      "2145.2345543240203"
     ]
    },
    {
     "name": "stderr",
     "output_type": "stream",
     "text": [
      "\n",
      "t:  42%|████▏     | 526/1260 [01:40<02:33,  4.80it/s, now=None]\u001b[A"
     ]
    },
    {
     "name": "stdout",
     "output_type": "stream",
     "text": [
      " 133.37299387353562\n",
      "4823.1195513081375"
     ]
    },
    {
     "name": "stderr",
     "output_type": "stream",
     "text": [
      "\n",
      "t:  42%|████▏     | 527/1260 [01:41<02:28,  4.94it/s, now=None]\u001b[A"
     ]
    },
    {
     "name": "stdout",
     "output_type": "stream",
     "text": [
      " 269.89996385257933\n",
      "2472.866530393094 517.4839408203409\n"
     ]
    },
    {
     "name": "stderr",
     "output_type": "stream",
     "text": [
      "\n",
      "t:  42%|████▏     | 528/1260 [01:41<02:24,  5.05it/s, now=None]\u001b[A\n",
      "t:  42%|████▏     | 529/1260 [01:41<02:25,  5.02it/s, now=None]\u001b[A"
     ]
    },
    {
     "name": "stdout",
     "output_type": "stream",
     "text": [
      "1458.1582914664846 195.48026471725777\n"
     ]
    },
    {
     "name": "stderr",
     "output_type": "stream",
     "text": [
      "\n",
      "t:  42%|████▏     | 530/1260 [01:41<02:28,  4.93it/s, now=None]\u001b[A"
     ]
    },
    {
     "name": "stdout",
     "output_type": "stream",
     "text": [
      "2336.2842763700046 270.89915084858933\n"
     ]
    },
    {
     "name": "stderr",
     "output_type": "stream",
     "text": [
      "\n",
      "t:  42%|████▏     | 531/1260 [01:41<02:30,  4.83it/s, now=None]\u001b[A"
     ]
    },
    {
     "name": "stdout",
     "output_type": "stream",
     "text": [
      "11249.996181159766 1309.0572900936916\n",
      "3364.892091789502"
     ]
    },
    {
     "name": "stderr",
     "output_type": "stream",
     "text": [
      "\n",
      "t:  42%|████▏     | 532/1260 [01:42<02:30,  4.84it/s, now=None]\u001b[A"
     ]
    },
    {
     "name": "stdout",
     "output_type": "stream",
     "text": [
      " 1886.4660974008816\n",
      "7304.390256871062"
     ]
    },
    {
     "name": "stderr",
     "output_type": "stream",
     "text": [
      "\n",
      "t:  42%|████▏     | 533/1260 [01:42<02:27,  4.93it/s, now=None]\u001b[A"
     ]
    },
    {
     "name": "stdout",
     "output_type": "stream",
     "text": [
      " 487.04641290574295\n",
      "4467.220141765449 234.15353315393293\n"
     ]
    },
    {
     "name": "stderr",
     "output_type": "stream",
     "text": [
      "\n",
      "t:  42%|████▏     | 534/1260 [01:42<02:25,  5.00it/s, now=None]\u001b[A\n",
      "t:  42%|████▏     | 535/1260 [01:42<02:25,  4.99it/s, now=None]\u001b[A"
     ]
    },
    {
     "name": "stdout",
     "output_type": "stream",
     "text": [
      "1801.8154747528981 221.04294940521194\n",
      "1343.173303187478 256.4658852588489\n"
     ]
    },
    {
     "name": "stderr",
     "output_type": "stream",
     "text": [
      "\n",
      "t:  43%|████▎     | 536/1260 [01:42<02:21,  5.10it/s, now=None]\u001b[A\n",
      "t:  43%|████▎     | 537/1260 [01:43<02:21,  5.10it/s, now=None]\u001b[A"
     ]
    },
    {
     "name": "stdout",
     "output_type": "stream",
     "text": [
      "1308.260032798462 246.8794173401912\n",
      "1324.7752801631584"
     ]
    },
    {
     "name": "stderr",
     "output_type": "stream",
     "text": [
      "\n",
      "t:  43%|████▎     | 538/1260 [01:43<02:24,  4.99it/s, now=None]\u001b[A"
     ]
    },
    {
     "name": "stdout",
     "output_type": "stream",
     "text": [
      " 205.26382968985476\n",
      "1078.4196757606546"
     ]
    },
    {
     "name": "stderr",
     "output_type": "stream",
     "text": [
      "\n",
      "t:  43%|████▎     | 539/1260 [01:43<02:23,  5.01it/s, now=None]\u001b[A"
     ]
    },
    {
     "name": "stdout",
     "output_type": "stream",
     "text": [
      " 432.478245759619\n",
      "1174.7321832360456 453.32862762502344\n"
     ]
    },
    {
     "name": "stderr",
     "output_type": "stream",
     "text": [
      "\n",
      "t:  43%|████▎     | 540/1260 [01:43<02:17,  5.22it/s, now=None]\u001b[A\n",
      "t:  43%|████▎     | 541/1260 [01:43<02:16,  5.28it/s, now=None]\u001b[A"
     ]
    },
    {
     "name": "stdout",
     "output_type": "stream",
     "text": [
      "1286.985148270471 778.4104595631842\n",
      "363398.8313893121"
     ]
    },
    {
     "name": "stderr",
     "output_type": "stream",
     "text": [
      "\n",
      "t:  43%|████▎     | 542/1260 [01:44<02:19,  5.13it/s, now=None]\u001b[A"
     ]
    },
    {
     "name": "stdout",
     "output_type": "stream",
     "text": [
      " 539.3572063221578\n",
      "3138.1189604675055 541.6443711984384\n"
     ]
    },
    {
     "name": "stderr",
     "output_type": "stream",
     "text": [
      "\n",
      "t:  43%|████▎     | 543/1260 [01:44<02:19,  5.14it/s, now=None]\u001b[A\n",
      "t:  43%|████▎     | 544/1260 [01:44<02:21,  5.07it/s, now=None]\u001b[A"
     ]
    },
    {
     "name": "stdout",
     "output_type": "stream",
     "text": [
      "628.9275738906117 497.5165779694263\n",
      "943.7580984407533"
     ]
    },
    {
     "name": "stderr",
     "output_type": "stream",
     "text": [
      "\n",
      "t:  43%|████▎     | 545/1260 [01:44<02:21,  5.06it/s, now=None]\u001b[A"
     ]
    },
    {
     "name": "stdout",
     "output_type": "stream",
     "text": [
      " 377.07448671656374\n"
     ]
    },
    {
     "name": "stderr",
     "output_type": "stream",
     "text": [
      "\n",
      "t:  43%|████▎     | 546/1260 [01:44<02:22,  5.03it/s, now=None]\u001b[A"
     ]
    },
    {
     "name": "stdout",
     "output_type": "stream",
     "text": [
      "8911.976645321882 306.4779209288297\n",
      "4123.837442451462 222.68693099467185\n"
     ]
    },
    {
     "name": "stderr",
     "output_type": "stream",
     "text": [
      "\n",
      "t:  43%|████▎     | 547/1260 [01:45<02:17,  5.17it/s, now=None]\u001b[A\n",
      "t:  43%|████▎     | 548/1260 [01:45<02:14,  5.29it/s, now=None]\u001b[A"
     ]
    },
    {
     "name": "stdout",
     "output_type": "stream",
     "text": [
      "718.6625867839152 235.04678392371812\n"
     ]
    },
    {
     "name": "stderr",
     "output_type": "stream",
     "text": [
      "\n",
      "t:  44%|████▎     | 549/1260 [01:45<02:17,  5.16it/s, now=None]\u001b[A"
     ]
    },
    {
     "name": "stdout",
     "output_type": "stream",
     "text": [
      "879.8433796911639 415.1923505803833\n",
      "603.6386606949968 273.49678699668937\n"
     ]
    },
    {
     "name": "stderr",
     "output_type": "stream",
     "text": [
      "\n",
      "t:  44%|████▎     | 550/1260 [01:45<02:15,  5.23it/s, now=None]\u001b[A\n",
      "t:  44%|████▎     | 551/1260 [01:45<02:16,  5.18it/s, now=None]\u001b[A"
     ]
    },
    {
     "name": "stdout",
     "output_type": "stream",
     "text": [
      "424.10139378688854 415.7527989729645\n",
      "517.1510312323563 461.537055933382\n"
     ]
    },
    {
     "name": "stderr",
     "output_type": "stream",
     "text": [
      "\n",
      "t:  44%|████▍     | 552/1260 [01:46<02:19,  5.08it/s, now=None]\u001b[A\n",
      "t:  44%|████▍     | 553/1260 [01:46<02:20,  5.04it/s, now=None]\u001b[A"
     ]
    },
    {
     "name": "stdout",
     "output_type": "stream",
     "text": [
      "623.192392665567 420.77190540420133\n",
      "2665.009157890288 577.274254370238\n"
     ]
    },
    {
     "name": "stderr",
     "output_type": "stream",
     "text": [
      "\n",
      "t:  44%|████▍     | 554/1260 [01:46<02:16,  5.19it/s, now=None]\u001b[A\n",
      "t:  44%|████▍     | 555/1260 [01:46<02:13,  5.27it/s, now=None]\u001b[A"
     ]
    },
    {
     "name": "stdout",
     "output_type": "stream",
     "text": [
      "1931.5904154605385 423.4890097797319\n",
      "3085.340008871707 140.15104022443396\n"
     ]
    },
    {
     "name": "stderr",
     "output_type": "stream",
     "text": [
      "\n",
      "t:  44%|████▍     | 556/1260 [01:46<02:09,  5.42it/s, now=None]\u001b[A\n",
      "t:  44%|████▍     | 557/1260 [01:46<02:08,  5.47it/s, now=None]\u001b[A"
     ]
    },
    {
     "name": "stdout",
     "output_type": "stream",
     "text": [
      "1161.123600722542 264.62740165586087\n",
      "656.6182484458685 551.8678262061533\n"
     ]
    },
    {
     "name": "stderr",
     "output_type": "stream",
     "text": [
      "\n",
      "t:  44%|████▍     | 558/1260 [01:47<02:07,  5.49it/s, now=None]\u001b[A\n",
      "t:  44%|████▍     | 559/1260 [01:47<02:07,  5.49it/s, now=None]\u001b[A\n"
     ]
    },
    {
     "name": "stdout",
     "output_type": "stream",
     "text": [
      "384.85648981964766 1307.6469249541035\n",
      "404.42834523824376 2176.38474963157\n"
     ]
    },
    {
     "name": "stderr",
     "output_type": "stream",
     "text": [
      "t:  44%|████▍     | 560/1260 [01:47<02:05,  5.56it/s, now=None]\u001b[A\n",
      "t:  45%|████▍     | 561/1260 [01:47<02:02,  5.70it/s, now=None]\u001b[A"
     ]
    },
    {
     "name": "stdout",
     "output_type": "stream",
     "text": [
      "450.9778434416228 588.5492637895784\n",
      "758.8917831119478 425.3683452360775\n"
     ]
    },
    {
     "name": "stderr",
     "output_type": "stream",
     "text": [
      "\n",
      "t:  45%|████▍     | 562/1260 [01:47<02:03,  5.64it/s, now=None]\u001b[A\n",
      "t:  45%|████▍     | 563/1260 [01:48<02:03,  5.66it/s, now=None]\u001b[A\n",
      "t:  45%|████▍     | 564/1260 [01:48<01:59,  5.82it/s, now=None]\u001b[A"
     ]
    },
    {
     "name": "stdout",
     "output_type": "stream",
     "text": [
      "15648.964637338435 457.8506283333731\n",
      "1540.2756272337913 2444.6818212145845\n"
     ]
    },
    {
     "name": "stderr",
     "output_type": "stream",
     "text": [
      "\n",
      "t:  45%|████▍     | 565/1260 [01:48<01:59,  5.80it/s, now=None]\u001b[A"
     ]
    },
    {
     "name": "stdout",
     "output_type": "stream",
     "text": [
      "702.643682369425 2169.276119958106\n",
      "754.6748186881466 230.41738032991515\n"
     ]
    },
    {
     "name": "stderr",
     "output_type": "stream",
     "text": [
      "\n",
      "t:  45%|████▍     | 566/1260 [01:48<01:58,  5.85it/s, now=None]\u001b[A\n",
      "t:  45%|████▌     | 567/1260 [01:48<01:56,  5.94it/s, now=None]\u001b[A\n"
     ]
    },
    {
     "name": "stdout",
     "output_type": "stream",
     "text": [
      "481.472960914204 371.12279863998305\n",
      "972.6252061214119 303.42738356542355\n"
     ]
    },
    {
     "name": "stderr",
     "output_type": "stream",
     "text": [
      "t:  45%|████▌     | 568/1260 [01:48<01:56,  5.94it/s, now=None]\u001b[A\n",
      "t:  45%|████▌     | 569/1260 [01:49<01:57,  5.87it/s, now=None]\u001b[A\n"
     ]
    },
    {
     "name": "stdout",
     "output_type": "stream",
     "text": [
      "1394.42349196245 335.6048660274163\n",
      "955.0026795235186 296.86407460240673\n"
     ]
    },
    {
     "name": "stderr",
     "output_type": "stream",
     "text": [
      "t:  45%|████▌     | 570/1260 [01:49<01:55,  5.97it/s, now=None]\u001b[A\n",
      "t:  45%|████▌     | 571/1260 [01:49<01:54,  6.00it/s, now=None]\u001b[A\n",
      "t:  45%|████▌     | 572/1260 [01:49<01:53,  6.06it/s, now=None]\u001b[A"
     ]
    },
    {
     "name": "stdout",
     "output_type": "stream",
     "text": [
      "1002.0486084356969 334.88380668863664\n",
      "1965.0251616828468 572.7307592997465\n"
     ]
    },
    {
     "name": "stderr",
     "output_type": "stream",
     "text": [
      "\n",
      "t:  45%|████▌     | 573/1260 [01:49<01:52,  6.13it/s, now=None]\u001b[A\n",
      "t:  46%|████▌     | 574/1260 [01:49<01:49,  6.29it/s, now=None]\u001b[A"
     ]
    },
    {
     "name": "stdout",
     "output_type": "stream",
     "text": [
      "7320.82130949371 497.8803170135826\n",
      "6680.828162064694 559.0736267780126\n"
     ]
    },
    {
     "name": "stderr",
     "output_type": "stream",
     "text": [
      "\n",
      "t:  46%|████▌     | 575/1260 [01:50<01:47,  6.39it/s, now=None]\u001b[A\n",
      "t:  46%|████▌     | 576/1260 [01:50<01:46,  6.41it/s, now=None]\u001b[A"
     ]
    },
    {
     "name": "stdout",
     "output_type": "stream",
     "text": [
      "1519.1570827248408 622.6740490503214\n",
      "357.36469832281773 620.0885145223913\n"
     ]
    },
    {
     "name": "stderr",
     "output_type": "stream",
     "text": [
      "\n",
      "t:  46%|████▌     | 577/1260 [01:50<01:47,  6.35it/s, now=None]\u001b[A"
     ]
    },
    {
     "name": "stdout",
     "output_type": "stream",
     "text": [
      "915.0820094522436 1009.589859646844\n",
      "301.20230054202335 4051.5467692186858\n"
     ]
    },
    {
     "name": "stderr",
     "output_type": "stream",
     "text": [
      "\n",
      "t:  46%|████▌     | 578/1260 [01:50<01:48,  6.26it/s, now=None]\u001b[A\n",
      "t:  46%|████▌     | 579/1260 [01:50<01:49,  6.23it/s, now=None]\u001b[A"
     ]
    },
    {
     "name": "stdout",
     "output_type": "stream",
     "text": [
      "1047.6809834242313 755.5238834460824\n",
      "750.4188588247026"
     ]
    },
    {
     "name": "stderr",
     "output_type": "stream",
     "text": [
      "\n",
      "t:  46%|████▌     | 580/1260 [01:50<01:55,  5.87it/s, now=None]\u001b[A"
     ]
    },
    {
     "name": "stdout",
     "output_type": "stream",
     "text": [
      " 460.2567029885614\n",
      "493.03233552893863 342.06292880588006\n"
     ]
    },
    {
     "name": "stderr",
     "output_type": "stream",
     "text": [
      "\n",
      "t:  46%|████▌     | 581/1260 [01:51<01:56,  5.84it/s, now=None]\u001b[A\n",
      "t:  46%|████▌     | 582/1260 [01:51<01:57,  5.75it/s, now=None]\u001b[A\n",
      "t:  46%|████▋     | 583/1260 [01:51<01:53,  5.99it/s, now=None]\u001b[A"
     ]
    },
    {
     "name": "stdout",
     "output_type": "stream",
     "text": [
      "324.4769849670171 381.405892802244\n",
      "804.6107663271579 366.92424649572456\n"
     ]
    },
    {
     "name": "stderr",
     "output_type": "stream",
     "text": [
      "\n",
      "t:  46%|████▋     | 584/1260 [01:51<01:52,  5.99it/s, now=None]\u001b[A"
     ]
    },
    {
     "name": "stdout",
     "output_type": "stream",
     "text": [
      "4169.683561290589 546.390564039109\n",
      "2349.4381678289724 462.6775768380399\n"
     ]
    },
    {
     "name": "stderr",
     "output_type": "stream",
     "text": [
      "\n",
      "t:  46%|████▋     | 585/1260 [01:51<01:53,  5.97it/s, now=None]\u001b[A\n",
      "t:  47%|████▋     | 586/1260 [01:51<01:50,  6.11it/s, now=None]\u001b[A\n",
      "t:  47%|████▋     | 587/1260 [01:51<01:45,  6.39it/s, now=None]\u001b[A"
     ]
    },
    {
     "name": "stdout",
     "output_type": "stream",
     "text": [
      "182.25030564768826 410.3108762145629\n",
      "895.4586051549459 372.59714884069973\n"
     ]
    },
    {
     "name": "stderr",
     "output_type": "stream",
     "text": [
      "\n",
      "t:  47%|████▋     | 588/1260 [01:52<01:41,  6.60it/s, now=None]\u001b[A\n",
      "t:  47%|████▋     | 589/1260 [01:52<01:43,  6.47it/s, now=None]\u001b[A"
     ]
    },
    {
     "name": "stdout",
     "output_type": "stream",
     "text": [
      "1047.8956476117003 351.08281683832683\n",
      "888.7433533974488 269.99565237478606\n"
     ]
    },
    {
     "name": "stderr",
     "output_type": "stream",
     "text": [
      "\n",
      "t:  47%|████▋     | 590/1260 [01:52<01:45,  6.36it/s, now=None]\u001b[A\n"
     ]
    },
    {
     "name": "stdout",
     "output_type": "stream",
     "text": [
      "1190.0414525142892 344.6748974436163\n",
      "1400.8371950385572 563.5904402798452\n"
     ]
    },
    {
     "name": "stderr",
     "output_type": "stream",
     "text": [
      "t:  47%|████▋     | 591/1260 [01:52<01:45,  6.36it/s, now=None]\u001b[A\n",
      "t:  47%|████▋     | 592/1260 [01:52<01:42,  6.53it/s, now=None]\u001b[A\n",
      "t:  47%|████▋     | 593/1260 [01:52<01:40,  6.65it/s, now=None]\u001b[A"
     ]
    },
    {
     "name": "stdout",
     "output_type": "stream",
     "text": [
      "1273.6223393072348 425.52493119088865\n",
      "3730.2125395495004 746.2102628194395\n"
     ]
    },
    {
     "name": "stderr",
     "output_type": "stream",
     "text": [
      "\n",
      "t:  47%|████▋     | 594/1260 [01:53<01:41,  6.56it/s, now=None]\u001b[A"
     ]
    },
    {
     "name": "stdout",
     "output_type": "stream",
     "text": [
      "1448.6067889305039 1494.9928982676395\n",
      "1021.2331894843904"
     ]
    },
    {
     "name": "stderr",
     "output_type": "stream",
     "text": [
      "\n",
      "t:  47%|████▋     | 595/1260 [01:53<01:48,  6.13it/s, now=None]\u001b[A"
     ]
    },
    {
     "name": "stdout",
     "output_type": "stream",
     "text": [
      " 1564.5283659740767\n",
      "1053.9319893616275 535.5533387251486\n"
     ]
    },
    {
     "name": "stderr",
     "output_type": "stream",
     "text": [
      "\n",
      "t:  47%|████▋     | 596/1260 [01:53<01:50,  6.01it/s, now=None]\u001b[A\n",
      "t:  47%|████▋     | 597/1260 [01:53<01:52,  5.89it/s, now=None]\u001b[A"
     ]
    },
    {
     "name": "stdout",
     "output_type": "stream",
     "text": [
      "1182.67701726611 735.7515232799068\n",
      "2591.4716161957463 734.595127309899\n"
     ]
    },
    {
     "name": "stderr",
     "output_type": "stream",
     "text": [
      "\n",
      "t:  47%|████▋     | 598/1260 [01:53<01:50,  5.98it/s, now=None]\u001b[A\n",
      "t:  48%|████▊     | 599/1260 [01:53<01:45,  6.26it/s, now=None]\u001b[A\n"
     ]
    },
    {
     "name": "stdout",
     "output_type": "stream",
     "text": [
      "1793.4648731964232 462.9818342901963\n",
      "3458.549448068293 389.9457556955074\n"
     ]
    },
    {
     "name": "stderr",
     "output_type": "stream",
     "text": [
      "t:  48%|████▊     | 600/1260 [01:54<01:46,  6.19it/s, now=None]\u001b[A\n",
      "t:  48%|████▊     | 601/1260 [01:54<01:49,  6.00it/s, now=None]\u001b[A"
     ]
    },
    {
     "name": "stdout",
     "output_type": "stream",
     "text": [
      "274.0270135534562 238.58515767084484\n",
      "172.70888937477437"
     ]
    },
    {
     "name": "stderr",
     "output_type": "stream",
     "text": [
      "\n",
      "t:  48%|████▊     | 602/1260 [01:54<01:50,  5.94it/s, now=None]\u001b[A\n",
      "t:  48%|████▊     | 603/1260 [01:54<01:46,  6.19it/s, now=None]\u001b[A"
     ]
    },
    {
     "name": "stdout",
     "output_type": "stream",
     "text": [
      " 379.01454639946104\n",
      "143.18168301350156 326.9231343696946\n"
     ]
    },
    {
     "name": "stderr",
     "output_type": "stream",
     "text": [
      "\n",
      "t:  48%|████▊     | 604/1260 [01:54<01:45,  6.23it/s, now=None]\u001b[A\n",
      "t:  48%|████▊     | 605/1260 [01:54<01:42,  6.37it/s, now=None]\u001b[A"
     ]
    },
    {
     "name": "stdout",
     "output_type": "stream",
     "text": [
      "142.4424558157699 222.9472451882915\n",
      "160.62542375127427 220.51990389241544\n"
     ]
    },
    {
     "name": "stderr",
     "output_type": "stream",
     "text": [
      "\n",
      "t:  48%|████▊     | 606/1260 [01:55<01:41,  6.43it/s, now=None]\u001b[A\n",
      "t:  48%|████▊     | 607/1260 [01:55<01:42,  6.36it/s, now=None]\u001b[A"
     ]
    },
    {
     "name": "stdout",
     "output_type": "stream",
     "text": [
      "125.46421809054434 134.44431495776232\n",
      "110.66900826637914 150.29972526027015\n"
     ]
    },
    {
     "name": "stderr",
     "output_type": "stream",
     "text": [
      "\n",
      "t:  48%|████▊     | 608/1260 [01:55<01:42,  6.34it/s, now=None]\u001b[A"
     ]
    },
    {
     "name": "stdout",
     "output_type": "stream",
     "text": [
      "97.65895273281335 149.99724008218948\n",
      "96.54067720259698"
     ]
    },
    {
     "name": "stderr",
     "output_type": "stream",
     "text": [
      "\n",
      "t:  48%|████▊     | 609/1260 [01:55<01:49,  5.96it/s, now=None]\u001b[A"
     ]
    },
    {
     "name": "stdout",
     "output_type": "stream",
     "text": [
      " 147.29200373096853\n",
      "103.63061549437764 162.0056480897772\n"
     ]
    },
    {
     "name": "stderr",
     "output_type": "stream",
     "text": [
      "\n",
      "t:  48%|████▊     | 610/1260 [01:55<01:48,  5.99it/s, now=None]\u001b[A\n",
      "t:  48%|████▊     | 611/1260 [01:55<01:51,  5.84it/s, now=None]\u001b[A\n"
     ]
    },
    {
     "name": "stdout",
     "output_type": "stream",
     "text": [
      "109.53026357615998 167.43115188592\n",
      "116.76527273324278 188.74918200113308\n"
     ]
    },
    {
     "name": "stderr",
     "output_type": "stream",
     "text": [
      "t:  49%|████▊     | 612/1260 [01:56<01:52,  5.75it/s, now=None]\u001b[A\n",
      "t:  49%|████▊     | 613/1260 [01:56<01:51,  5.79it/s, now=None]\u001b[A\n",
      "t:  49%|████▊     | 614/1260 [01:56<01:48,  5.94it/s, now=None]\u001b[A"
     ]
    },
    {
     "name": "stdout",
     "output_type": "stream",
     "text": [
      "114.47170332544539 156.66216210282957\n",
      "109.46400564605091 175.09751291277908\n"
     ]
    },
    {
     "name": "stderr",
     "output_type": "stream",
     "text": [
      "\n",
      "t:  49%|████▉     | 615/1260 [01:56<01:50,  5.86it/s, now=None]\u001b[A"
     ]
    },
    {
     "name": "stdout",
     "output_type": "stream",
     "text": [
      "114.62494057094311 159.46086826438386\n",
      "123.4911576963239 160.60981938695883\n"
     ]
    },
    {
     "name": "stderr",
     "output_type": "stream",
     "text": [
      "\n",
      "t:  49%|████▉     | 616/1260 [01:56<01:49,  5.86it/s, now=None]\u001b[A\n",
      "t:  49%|████▉     | 617/1260 [01:56<01:48,  5.92it/s, now=None]\u001b[A\n",
      "t:  49%|████▉     | 618/1260 [01:57<01:47,  5.99it/s, now=None]\u001b[A"
     ]
    },
    {
     "name": "stdout",
     "output_type": "stream",
     "text": [
      "130.0070816071386 199.98596133831953\n",
      "133.88458323276362 175.01004421936503\n"
     ]
    },
    {
     "name": "stderr",
     "output_type": "stream",
     "text": [
      "\n",
      "t:  49%|████▉     | 619/1260 [01:57<01:45,  6.10it/s, now=None]\u001b[A\n"
     ]
    },
    {
     "name": "stdout",
     "output_type": "stream",
     "text": [
      "135.6838998170255 195.51692542801376\n",
      "131.8532169753595 171.62154399138265\n"
     ]
    },
    {
     "name": "stderr",
     "output_type": "stream",
     "text": [
      "t:  49%|████▉     | 620/1260 [01:57<01:43,  6.17it/s, now=None]\u001b[A\n",
      "t:  49%|████▉     | 621/1260 [01:57<01:44,  6.13it/s, now=None]\u001b[A\n"
     ]
    },
    {
     "name": "stdout",
     "output_type": "stream",
     "text": [
      "154.61860076499588 196.34503902115125\n",
      "137.52486521658474 183.51767542700856\n"
     ]
    },
    {
     "name": "stderr",
     "output_type": "stream",
     "text": [
      "t:  49%|████▉     | 622/1260 [01:57<01:44,  6.09it/s, now=None]\u001b[A\n",
      "t:  49%|████▉     | 623/1260 [01:57<01:44,  6.10it/s, now=None]\u001b[A"
     ]
    },
    {
     "name": "stdout",
     "output_type": "stream",
     "text": [
      "130.93023032764052 232.29811171510914\n",
      "128.18471066794172 238.84761227126813\n"
     ]
    },
    {
     "name": "stderr",
     "output_type": "stream",
     "text": [
      "\n",
      "t:  50%|████▉     | 624/1260 [01:58<01:45,  6.05it/s, now=None]\u001b[A\n",
      "t:  50%|████▉     | 625/1260 [01:58<01:46,  5.96it/s, now=None]\u001b[A\n",
      "t:  50%|████▉     | 626/1260 [01:58<01:44,  6.07it/s, now=None]\u001b[A"
     ]
    },
    {
     "name": "stdout",
     "output_type": "stream",
     "text": [
      "118.4616716136471 197.8800960663828\n",
      "108.38839715673288 151.3520919624726\n"
     ]
    },
    {
     "name": "stderr",
     "output_type": "stream",
     "text": [
      "\n",
      "t:  50%|████▉     | 627/1260 [01:58<01:43,  6.10it/s, now=None]\u001b[A"
     ]
    },
    {
     "name": "stdout",
     "output_type": "stream",
     "text": [
      "109.44842692981092 153.26386259979333\n",
      "126.31682221594966 156.85473511603354\n"
     ]
    },
    {
     "name": "stderr",
     "output_type": "stream",
     "text": [
      "\n",
      "t:  50%|████▉     | 628/1260 [01:58<01:44,  6.07it/s, now=None]\u001b[A\n",
      "t:  50%|████▉     | 629/1260 [01:58<01:43,  6.12it/s, now=None]\u001b[A"
     ]
    },
    {
     "name": "stdout",
     "output_type": "stream",
     "text": [
      "137.17796985918272 101.74599675566962\n",
      "143.93504039910482 115.9662956940239\n"
     ]
    },
    {
     "name": "stderr",
     "output_type": "stream",
     "text": [
      "\n",
      "t:  50%|█████     | 630/1260 [01:58<01:41,  6.22it/s, now=None]\u001b[A\n",
      "t:  50%|█████     | 631/1260 [01:59<01:41,  6.20it/s, now=None]\u001b[A\n",
      "t:  50%|█████     | 632/1260 [01:59<01:41,  6.19it/s, now=None]\u001b[A"
     ]
    },
    {
     "name": "stdout",
     "output_type": "stream",
     "text": [
      "189.2520907767365 153.89929248287393\n",
      "204.53422117688305 191.21445703876836\n"
     ]
    },
    {
     "name": "stderr",
     "output_type": "stream",
     "text": [
      "\n",
      "t:  50%|█████     | 633/1260 [01:59<01:42,  6.11it/s, now=None]\u001b[A"
     ]
    },
    {
     "name": "stdout",
     "output_type": "stream",
     "text": [
      "222.21624378467493 236.22438468468323\n",
      "255.65349501593772 199.41734767044548\n"
     ]
    },
    {
     "name": "stderr",
     "output_type": "stream",
     "text": [
      "\n",
      "t:  50%|█████     | 634/1260 [01:59<01:43,  6.07it/s, now=None]\u001b[A\n",
      "t:  50%|█████     | 635/1260 [01:59<01:44,  5.98it/s, now=None]\u001b[A\n"
     ]
    },
    {
     "name": "stdout",
     "output_type": "stream",
     "text": [
      "227.32043248255064 169.47704064006163\n",
      "207.93996228535005 159.6210348410649\n"
     ]
    },
    {
     "name": "stderr",
     "output_type": "stream",
     "text": [
      "t:  50%|█████     | 636/1260 [02:00<01:45,  5.93it/s, now=None]\u001b[A\n",
      "t:  51%|█████     | 637/1260 [02:00<01:46,  5.87it/s, now=None]\u001b[A\n",
      "t:  51%|█████     | 638/1260 [02:00<01:44,  5.97it/s, now=None]\u001b[A"
     ]
    },
    {
     "name": "stdout",
     "output_type": "stream",
     "text": [
      "217.19343260185386 136.86086012319456\n",
      "215.3413453233806 112.4402936398631\n"
     ]
    },
    {
     "name": "stderr",
     "output_type": "stream",
     "text": [
      "\n",
      "t:  51%|█████     | 639/1260 [02:00<01:44,  5.93it/s, now=None]\u001b[A\n"
     ]
    },
    {
     "name": "stdout",
     "output_type": "stream",
     "text": [
      "234.5372480800143 110.70246964457509\n",
      "243.27340652918346 125.76638286475671\n"
     ]
    },
    {
     "name": "stderr",
     "output_type": "stream",
     "text": [
      "t:  51%|█████     | 640/1260 [02:00<01:43,  5.99it/s, now=None]\u001b[A\n",
      "t:  51%|█████     | 641/1260 [02:00<01:44,  5.93it/s, now=None]\u001b[A"
     ]
    },
    {
     "name": "stdout",
     "output_type": "stream",
     "text": [
      "246.88632878839798 158.76007437404434\n",
      "293.2186005662748 169.3279207316582\n"
     ]
    },
    {
     "name": "stderr",
     "output_type": "stream",
     "text": [
      "\n",
      "t:  51%|█████     | 642/1260 [02:01<01:45,  5.87it/s, now=None]\u001b[A\n",
      "t:  51%|█████     | 643/1260 [02:01<01:45,  5.83it/s, now=None]\u001b[A\n"
     ]
    },
    {
     "name": "stdout",
     "output_type": "stream",
     "text": [
      "302.290411867767 215.2891006256006\n",
      "299.62416262233626 174.26952155840672\n"
     ]
    },
    {
     "name": "stderr",
     "output_type": "stream",
     "text": [
      "t:  51%|█████     | 644/1260 [02:01<01:47,  5.73it/s, now=None]\u001b[A\n",
      "t:  51%|█████     | 645/1260 [02:01<01:46,  5.77it/s, now=None]\u001b[A"
     ]
    },
    {
     "name": "stdout",
     "output_type": "stream",
     "text": [
      "298.3899486681047 160.55631204736522\n",
      "259.2484684404286 144.7952490256134\n"
     ]
    },
    {
     "name": "stderr",
     "output_type": "stream",
     "text": [
      "\n",
      "t:  51%|█████▏    | 646/1260 [02:01<01:46,  5.78it/s, now=None]\u001b[A\n",
      "t:  51%|█████▏    | 647/1260 [02:01<01:47,  5.72it/s, now=None]\u001b[A\n"
     ]
    },
    {
     "name": "stdout",
     "output_type": "stream",
     "text": [
      "234.19414040665407 146.71999183484894\n",
      "210.95800886427807 168.836656806719\n"
     ]
    },
    {
     "name": "stderr",
     "output_type": "stream",
     "text": [
      "t:  51%|█████▏    | 648/1260 [02:02<01:47,  5.71it/s, now=None]\u001b[A\n",
      "t:  52%|█████▏    | 649/1260 [02:02<01:47,  5.67it/s, now=None]\u001b[A"
     ]
    },
    {
     "name": "stdout",
     "output_type": "stream",
     "text": [
      "204.11769145927508 181.3969200155993\n",
      "203.49434473100754 197.66003685634863\n"
     ]
    },
    {
     "name": "stderr",
     "output_type": "stream",
     "text": [
      "\n",
      "t:  52%|█████▏    | 650/1260 [02:02<01:46,  5.72it/s, now=None]\u001b[A\n",
      "t:  52%|█████▏    | 651/1260 [02:02<01:47,  5.69it/s, now=None]\u001b[A"
     ]
    },
    {
     "name": "stdout",
     "output_type": "stream",
     "text": [
      "215.98654496147606 210.70182935668456\n",
      "209.6851285346641 213.94122467857335\n"
     ]
    },
    {
     "name": "stderr",
     "output_type": "stream",
     "text": [
      "\n",
      "t:  52%|█████▏    | 652/1260 [02:02<01:47,  5.66it/s, now=None]\u001b[A\n",
      "t:  52%|█████▏    | 653/1260 [02:02<01:45,  5.74it/s, now=None]\u001b[A\n"
     ]
    },
    {
     "name": "stdout",
     "output_type": "stream",
     "text": [
      "217.6412992239598 208.34246218463787\n",
      "207.95627486831523 191.20690593830156\n"
     ]
    },
    {
     "name": "stderr",
     "output_type": "stream",
     "text": [
      "t:  52%|█████▏    | 654/1260 [02:03<01:45,  5.73it/s, now=None]\u001b[A\n",
      "t:  52%|█████▏    | 655/1260 [02:03<01:47,  5.61it/s, now=None]\u001b[A"
     ]
    },
    {
     "name": "stdout",
     "output_type": "stream",
     "text": [
      "182.195861778871 182.87447744045846\n"
     ]
    },
    {
     "name": "stderr",
     "output_type": "stream",
     "text": [
      "\n",
      "t:  52%|█████▏    | 656/1260 [02:03<01:50,  5.47it/s, now=None]\u001b[A"
     ]
    },
    {
     "name": "stdout",
     "output_type": "stream",
     "text": [
      "162.91679957115542 186.31347167660505\n",
      "150.64472618820284 175.58602534625817\n"
     ]
    },
    {
     "name": "stderr",
     "output_type": "stream",
     "text": [
      "\n",
      "t:  52%|█████▏    | 657/1260 [02:03<01:49,  5.50it/s, now=None]\u001b[A\n",
      "t:  52%|█████▏    | 658/1260 [02:03<01:53,  5.30it/s, now=None]\u001b[A"
     ]
    },
    {
     "name": "stdout",
     "output_type": "stream",
     "text": [
      "149.0333472775274 210.15078571492958\n",
      "156.78023382676827 204.79382223351456\n"
     ]
    },
    {
     "name": "stderr",
     "output_type": "stream",
     "text": [
      "\n",
      "t:  52%|█████▏    | 659/1260 [02:04<01:52,  5.33it/s, now=None]\u001b[A\n",
      "t:  52%|█████▏    | 660/1260 [02:04<01:50,  5.42it/s, now=None]\u001b[A\n"
     ]
    },
    {
     "name": "stdout",
     "output_type": "stream",
     "text": [
      "158.07966068921348 213.0645544615471\n",
      "160.66597204510873 225.39889842514512\n"
     ]
    },
    {
     "name": "stderr",
     "output_type": "stream",
     "text": [
      "t:  52%|█████▏    | 661/1260 [02:04<01:50,  5.44it/s, now=None]\u001b[A\n",
      "t:  53%|█████▎    | 662/1260 [02:04<01:50,  5.44it/s, now=None]\u001b[A\n"
     ]
    },
    {
     "name": "stdout",
     "output_type": "stream",
     "text": [
      "166.86369416611163 223.61264400130983\n",
      "168.2788849812506 269.174538013747\n"
     ]
    },
    {
     "name": "stderr",
     "output_type": "stream",
     "text": [
      "t:  53%|█████▎    | 663/1260 [02:04<01:47,  5.53it/s, now=None]\u001b[A\n",
      "t:  53%|█████▎    | 664/1260 [02:04<01:46,  5.60it/s, now=None]\u001b[A"
     ]
    },
    {
     "name": "stdout",
     "output_type": "stream",
     "text": [
      "183.34809953920686 260.1170343056638\n",
      "188.20182985966824 250.31837773833408\n"
     ]
    },
    {
     "name": "stderr",
     "output_type": "stream",
     "text": [
      "\n",
      "t:  53%|█████▎    | 665/1260 [02:05<01:46,  5.57it/s, now=None]\u001b[A\n",
      "t:  53%|█████▎    | 666/1260 [02:05<01:46,  5.59it/s, now=None]\u001b[A"
     ]
    },
    {
     "name": "stdout",
     "output_type": "stream",
     "text": [
      "187.91640782535418 243.44585853659498\n",
      "181.82912988171367 204.62715012891317\n"
     ]
    },
    {
     "name": "stderr",
     "output_type": "stream",
     "text": [
      "\n",
      "t:  53%|█████▎    | 667/1260 [02:05<01:44,  5.67it/s, now=None]\u001b[A\n",
      "t:  53%|█████▎    | 668/1260 [02:05<01:44,  5.69it/s, now=None]\u001b[A"
     ]
    },
    {
     "name": "stdout",
     "output_type": "stream",
     "text": [
      "193.824108268463 189.5139771551291\n",
      "209.27897056491554 187.16653630377795\n"
     ]
    },
    {
     "name": "stderr",
     "output_type": "stream",
     "text": [
      "\n",
      "t:  53%|█████▎    | 669/1260 [02:05<01:45,  5.60it/s, now=None]\u001b[A\n",
      "t:  53%|█████▎    | 670/1260 [02:06<01:46,  5.53it/s, now=None]\u001b[A"
     ]
    },
    {
     "name": "stdout",
     "output_type": "stream",
     "text": [
      "228.43906486941796 204.02811349689628\n",
      "226.62056390873084 197.83136601601962\n"
     ]
    },
    {
     "name": "stderr",
     "output_type": "stream",
     "text": [
      "\n",
      "t:  53%|█████▎    | 671/1260 [02:06<01:48,  5.43it/s, now=None]\u001b[A\n",
      "t:  53%|█████▎    | 672/1260 [02:06<01:50,  5.34it/s, now=None]\u001b[A"
     ]
    },
    {
     "name": "stdout",
     "output_type": "stream",
     "text": [
      "232.56310437799547 225.71466070355734\n",
      "227.92489692919892 189.35386492784653\n"
     ]
    },
    {
     "name": "stderr",
     "output_type": "stream",
     "text": [
      "\n",
      "t:  53%|█████▎    | 673/1260 [02:06<01:48,  5.41it/s, now=None]\u001b[A\n",
      "t:  53%|█████▎    | 674/1260 [02:06<01:51,  5.24it/s, now=None]\u001b[A"
     ]
    },
    {
     "name": "stdout",
     "output_type": "stream",
     "text": [
      "239.21687545254608 217.3621172119104\n"
     ]
    },
    {
     "name": "stderr",
     "output_type": "stream",
     "text": [
      "\n",
      "t:  54%|█████▎    | 675/1260 [02:07<01:57,  4.99it/s, now=None]\u001b[A"
     ]
    },
    {
     "name": "stdout",
     "output_type": "stream",
     "text": [
      "241.94510906083897 214.87110578033364\n",
      "255.4634153364969 211.24992603498606\n"
     ]
    },
    {
     "name": "stderr",
     "output_type": "stream",
     "text": [
      "\n",
      "t:  54%|█████▎    | 676/1260 [02:07<01:53,  5.17it/s, now=None]\u001b[A\n",
      "t:  54%|█████▎    | 677/1260 [02:07<01:50,  5.29it/s, now=None]\u001b[A"
     ]
    },
    {
     "name": "stdout",
     "output_type": "stream",
     "text": [
      "280.1822326447958 198.24986500294537\n",
      "244.5642743100072 202.1700426450238\n"
     ]
    },
    {
     "name": "stderr",
     "output_type": "stream",
     "text": [
      "\n",
      "t:  54%|█████▍    | 678/1260 [02:07<01:47,  5.42it/s, now=None]\u001b[A\n",
      "t:  54%|█████▍    | 679/1260 [02:07<01:44,  5.57it/s, now=None]\u001b[A\n"
     ]
    },
    {
     "name": "stdout",
     "output_type": "stream",
     "text": [
      "297.4460569168002 222.19899362291673\n",
      "277.2024067998976 159.195904965116\n"
     ]
    },
    {
     "name": "stderr",
     "output_type": "stream",
     "text": [
      "t:  54%|█████▍    | 680/1260 [02:07<01:42,  5.66it/s, now=None]\u001b[A\n",
      "t:  54%|█████▍    | 681/1260 [02:08<01:43,  5.62it/s, now=None]\u001b[A"
     ]
    },
    {
     "name": "stdout",
     "output_type": "stream",
     "text": [
      "279.738156010547 169.9958081117447\n",
      "239.71044946320507"
     ]
    },
    {
     "name": "stderr",
     "output_type": "stream",
     "text": [
      "\n",
      "t:  54%|█████▍    | 682/1260 [02:08<01:44,  5.53it/s, now=None]\u001b[A\n"
     ]
    },
    {
     "name": "stdout",
     "output_type": "stream",
     "text": [
      " 204.1948514164402\n",
      "251.43445513600676 198.28352501961444\n"
     ]
    },
    {
     "name": "stderr",
     "output_type": "stream",
     "text": [
      "t:  54%|█████▍    | 683/1260 [02:08<01:45,  5.44it/s, now=None]\u001b[A\n",
      "t:  54%|█████▍    | 684/1260 [02:08<01:46,  5.42it/s, now=None]\u001b[A"
     ]
    },
    {
     "name": "stdout",
     "output_type": "stream",
     "text": [
      "261.25450689472376 180.38151663448664\n",
      "216.69279887993784 196.28510021125894\n"
     ]
    },
    {
     "name": "stderr",
     "output_type": "stream",
     "text": [
      "\n",
      "t:  54%|█████▍    | 685/1260 [02:08<01:44,  5.48it/s, now=None]\u001b[A\n",
      "t:  54%|█████▍    | 686/1260 [02:09<01:44,  5.48it/s, now=None]\u001b[A"
     ]
    },
    {
     "name": "stdout",
     "output_type": "stream",
     "text": [
      "216.47575827303427 207.29882352201335\n",
      "195.26176657092205 199.82440362898424\n"
     ]
    },
    {
     "name": "stderr",
     "output_type": "stream",
     "text": [
      "\n",
      "t:  55%|█████▍    | 687/1260 [02:09<01:48,  5.30it/s, now=None]\u001b[A\n",
      "t:  55%|█████▍    | 688/1260 [02:09<01:45,  5.40it/s, now=None]\u001b[A"
     ]
    },
    {
     "name": "stdout",
     "output_type": "stream",
     "text": [
      "216.13917043628206 209.84669610104828\n",
      "194.16321443972888 224.27237467774478\n"
     ]
    },
    {
     "name": "stderr",
     "output_type": "stream",
     "text": [
      "\n",
      "t:  55%|█████▍    | 689/1260 [02:09<01:44,  5.44it/s, now=None]\u001b[A\n",
      "t:  55%|█████▍    | 690/1260 [02:09<01:44,  5.45it/s, now=None]\u001b[A"
     ]
    },
    {
     "name": "stdout",
     "output_type": "stream",
     "text": [
      "208.38180439106316 219.87780135466792\n",
      "180.66840182074296 227.5041602484928\n"
     ]
    },
    {
     "name": "stderr",
     "output_type": "stream",
     "text": [
      "\n",
      "t:  55%|█████▍    | 691/1260 [02:09<01:47,  5.27it/s, now=None]\u001b[A\n",
      "t:  55%|█████▍    | 692/1260 [02:10<01:48,  5.23it/s, now=None]\u001b[A"
     ]
    },
    {
     "name": "stdout",
     "output_type": "stream",
     "text": [
      "173.0914163678865 229.99002016854988\n",
      "156.41459536335762 178.8542434499082\n"
     ]
    },
    {
     "name": "stderr",
     "output_type": "stream",
     "text": [
      "\n",
      "t:  55%|█████▌    | 693/1260 [02:10<01:45,  5.39it/s, now=None]\u001b[A\n",
      "t:  55%|█████▌    | 694/1260 [02:10<01:45,  5.36it/s, now=None]\u001b[A"
     ]
    },
    {
     "name": "stdout",
     "output_type": "stream",
     "text": [
      "150.37336624605211 191.09806040985256\n",
      "159.430337809417 188.10772913016172\n"
     ]
    },
    {
     "name": "stderr",
     "output_type": "stream",
     "text": [
      "\n",
      "t:  55%|█████▌    | 695/1260 [02:10<01:43,  5.48it/s, now=None]\u001b[A\n",
      "t:  55%|█████▌    | 696/1260 [02:10<01:42,  5.51it/s, now=None]\u001b[A"
     ]
    },
    {
     "name": "stdout",
     "output_type": "stream",
     "text": [
      "153.2710442578925 172.35481367443907\n",
      "153.46179655490616 183.44896394843914"
     ]
    },
    {
     "name": "stderr",
     "output_type": "stream",
     "text": [
      "\n",
      "t:  55%|█████▌    | 697/1260 [02:11<01:43,  5.43it/s, now=None]\u001b[A"
     ]
    },
    {
     "name": "stdout",
     "output_type": "stream",
     "text": [
      "\n",
      "150.54939469437016"
     ]
    },
    {
     "name": "stderr",
     "output_type": "stream",
     "text": [
      "\n",
      "t:  55%|█████▌    | 698/1260 [02:11<01:44,  5.38it/s, now=None]\u001b[A\n"
     ]
    },
    {
     "name": "stdout",
     "output_type": "stream",
     "text": [
      " 178.89626675983106\n",
      "147.43659392913466 167.84811316656118\n"
     ]
    },
    {
     "name": "stderr",
     "output_type": "stream",
     "text": [
      "t:  55%|█████▌    | 699/1260 [02:11<01:42,  5.46it/s, now=None]\u001b[A\n",
      "t:  56%|█████▌    | 700/1260 [02:11<01:41,  5.51it/s, now=None]\u001b[A\n",
      "t:  56%|█████▌    | 701/1260 [02:11<01:38,  5.65it/s, now=None]\u001b[A"
     ]
    },
    {
     "name": "stdout",
     "output_type": "stream",
     "text": [
      "162.61017764745765 190.34486427756474\n",
      "154.1407643653183 184.01177837768415\n"
     ]
    },
    {
     "name": "stderr",
     "output_type": "stream",
     "text": [
      "\n",
      "t:  56%|█████▌    | 702/1260 [02:11<01:38,  5.66it/s, now=None]\u001b[A"
     ]
    },
    {
     "name": "stdout",
     "output_type": "stream",
     "text": [
      "165.5322598780675 171.3267347585735\n",
      "162.02914016537352 172.5744255498082\n"
     ]
    },
    {
     "name": "stderr",
     "output_type": "stream",
     "text": [
      "\n",
      "t:  56%|█████▌    | 703/1260 [02:12<01:37,  5.71it/s, now=None]\u001b[A\n",
      "t:  56%|█████▌    | 704/1260 [02:12<01:39,  5.57it/s, now=None]\u001b[A"
     ]
    },
    {
     "name": "stdout",
     "output_type": "stream",
     "text": [
      "181.1984001791615 140.61959292990656\n",
      "179.4330707434544 131.24974784361376\n"
     ]
    },
    {
     "name": "stderr",
     "output_type": "stream",
     "text": [
      "\n",
      "t:  56%|█████▌    | 705/1260 [02:12<01:38,  5.62it/s, now=None]\u001b[A\n",
      "t:  56%|█████▌    | 706/1260 [02:12<01:38,  5.63it/s, now=None]\u001b[A"
     ]
    },
    {
     "name": "stdout",
     "output_type": "stream",
     "text": [
      "162.71734885349514 135.4342800688947\n",
      "175.02290335214028 141.76866751580573\n"
     ]
    },
    {
     "name": "stderr",
     "output_type": "stream",
     "text": [
      "\n",
      "t:  56%|█████▌    | 707/1260 [02:12<01:37,  5.64it/s, now=None]\u001b[A\n",
      "t:  56%|█████▌    | 708/1260 [02:13<01:37,  5.65it/s, now=None]\u001b[A\n"
     ]
    },
    {
     "name": "stdout",
     "output_type": "stream",
     "text": [
      "174.96378548538357 148.32448762001778\n",
      "205.86741212281976 154.2917068721771\n"
     ]
    },
    {
     "name": "stderr",
     "output_type": "stream",
     "text": [
      "t:  56%|█████▋    | 709/1260 [02:13<01:36,  5.73it/s, now=None]\u001b[A\n",
      "t:  56%|█████▋    | 710/1260 [02:13<01:37,  5.67it/s, now=None]\u001b[A"
     ]
    },
    {
     "name": "stdout",
     "output_type": "stream",
     "text": [
      "205.8361365905256 150.73013327474928\n",
      "177.73010799875757 155.80279756052929\n"
     ]
    },
    {
     "name": "stderr",
     "output_type": "stream",
     "text": [
      "\n",
      "t:  56%|█████▋    | 711/1260 [02:13<01:37,  5.65it/s, now=None]\u001b[A\n",
      "t:  57%|█████▋    | 712/1260 [02:13<01:35,  5.74it/s, now=None]\u001b[A"
     ]
    },
    {
     "name": "stdout",
     "output_type": "stream",
     "text": [
      "196.557013528507 162.659174811498\n",
      "223.56628348169696 173.54762733206283\n"
     ]
    },
    {
     "name": "stderr",
     "output_type": "stream",
     "text": [
      "\n",
      "t:  57%|█████▋    | 713/1260 [02:13<01:35,  5.72it/s, now=None]\u001b[A\n",
      "t:  57%|█████▋    | 714/1260 [02:14<01:37,  5.62it/s, now=None]\u001b[A"
     ]
    },
    {
     "name": "stdout",
     "output_type": "stream",
     "text": [
      "211.47894970366076 182.53683493035348\n",
      "181.28944355018"
     ]
    },
    {
     "name": "stderr",
     "output_type": "stream",
     "text": [
      "\n",
      "t:  57%|█████▋    | 715/1260 [02:14<01:38,  5.53it/s, now=None]\u001b[A\n"
     ]
    },
    {
     "name": "stdout",
     "output_type": "stream",
     "text": [
      " 170.8326831483849\n",
      "171.4679747608978 140.1388115756022\n"
     ]
    },
    {
     "name": "stderr",
     "output_type": "stream",
     "text": [
      "t:  57%|█████▋    | 716/1260 [02:14<01:36,  5.66it/s, now=None]\u001b[A\n",
      "t:  57%|█████▋    | 717/1260 [02:14<01:34,  5.72it/s, now=None]\u001b[A\n",
      "t:  57%|█████▋    | 718/1260 [02:14<01:31,  5.90it/s, now=None]\u001b[A"
     ]
    },
    {
     "name": "stdout",
     "output_type": "stream",
     "text": [
      "172.44990685312126 134.18418661337597\n",
      "189.2517520695713 159.11655501310506\n"
     ]
    },
    {
     "name": "stderr",
     "output_type": "stream",
     "text": [
      "\n",
      "t:  57%|█████▋    | 719/1260 [02:14<01:33,  5.79it/s, now=None]\u001b[A"
     ]
    },
    {
     "name": "stdout",
     "output_type": "stream",
     "text": [
      "183.71151100016453 167.43058317696523\n",
      "185.35450800690137 190.6466915603761\n"
     ]
    },
    {
     "name": "stderr",
     "output_type": "stream",
     "text": [
      "\n",
      "t:  57%|█████▋    | 720/1260 [02:15<01:33,  5.76it/s, now=None]\u001b[A\n",
      "t:  57%|█████▋    | 721/1260 [02:15<01:33,  5.76it/s, now=None]\u001b[A\n"
     ]
    },
    {
     "name": "stdout",
     "output_type": "stream",
     "text": [
      "189.42287001772695 170.29649592261205\n",
      "180.6276098006582 182.94472555883652\n"
     ]
    },
    {
     "name": "stderr",
     "output_type": "stream",
     "text": [
      "t:  57%|█████▋    | 722/1260 [02:15<01:32,  5.84it/s, now=None]\u001b[A\n",
      "t:  57%|█████▋    | 723/1260 [02:15<01:32,  5.77it/s, now=None]\u001b[A\n"
     ]
    },
    {
     "name": "stdout",
     "output_type": "stream",
     "text": [
      "205.4062766216696 200.14101302365407\n",
      "191.68406886208024 202.85319941542787\n"
     ]
    },
    {
     "name": "stderr",
     "output_type": "stream",
     "text": [
      "t:  57%|█████▋    | 724/1260 [02:15<01:31,  5.83it/s, now=None]\u001b[A\n",
      "t:  58%|█████▊    | 725/1260 [02:15<01:31,  5.87it/s, now=None]\u001b[A"
     ]
    },
    {
     "name": "stdout",
     "output_type": "stream",
     "text": [
      "188.6754584910685 202.02411069498018\n",
      "200.06286735565953 213.59797185451532\n"
     ]
    },
    {
     "name": "stderr",
     "output_type": "stream",
     "text": [
      "\n",
      "t:  58%|█████▊    | 726/1260 [02:16<01:33,  5.71it/s, now=None]\u001b[A\n",
      "t:  58%|█████▊    | 727/1260 [02:16<01:35,  5.56it/s, now=None]\u001b[A"
     ]
    },
    {
     "name": "stdout",
     "output_type": "stream",
     "text": [
      "190.97150199992825 212.6023913392923\n",
      "172.34620273394876 203.8401452936344\n"
     ]
    },
    {
     "name": "stderr",
     "output_type": "stream",
     "text": [
      "\n",
      "t:  58%|█████▊    | 728/1260 [02:16<01:34,  5.61it/s, now=None]\u001b[A\n",
      "t:  58%|█████▊    | 729/1260 [02:16<01:32,  5.71it/s, now=None]\u001b[A"
     ]
    },
    {
     "name": "stdout",
     "output_type": "stream",
     "text": [
      "184.30097208859746 195.02655592070585\n",
      "169.465958854303 185.32063344090173\n"
     ]
    },
    {
     "name": "stderr",
     "output_type": "stream",
     "text": [
      "\n",
      "t:  58%|█████▊    | 730/1260 [02:16<01:32,  5.70it/s, now=None]\u001b[A\n",
      "t:  58%|█████▊    | 731/1260 [02:17<01:33,  5.65it/s, now=None]\u001b[A"
     ]
    },
    {
     "name": "stdout",
     "output_type": "stream",
     "text": [
      "164.31375739307526 192.98101877958544\n",
      "157.73143196072257"
     ]
    },
    {
     "name": "stderr",
     "output_type": "stream",
     "text": [
      "\n",
      "t:  58%|█████▊    | 732/1260 [02:17<01:35,  5.53it/s, now=None]\u001b[A"
     ]
    },
    {
     "name": "stdout",
     "output_type": "stream",
     "text": [
      " 178.54943680174893\n",
      "164.07215012022715 163.84716031304555\n"
     ]
    },
    {
     "name": "stderr",
     "output_type": "stream",
     "text": [
      "\n",
      "t:  58%|█████▊    | 733/1260 [02:17<01:33,  5.62it/s, now=None]\u001b[A\n",
      "t:  58%|█████▊    | 734/1260 [02:17<01:33,  5.65it/s, now=None]\u001b[A"
     ]
    },
    {
     "name": "stdout",
     "output_type": "stream",
     "text": [
      "161.12471419775815 150.607449381535\n",
      "166.13342464375427 166.6305979484139\n"
     ]
    },
    {
     "name": "stderr",
     "output_type": "stream",
     "text": [
      "\n",
      "t:  58%|█████▊    | 735/1260 [02:17<01:35,  5.49it/s, now=None]\u001b[A\n",
      "t:  58%|█████▊    | 736/1260 [02:17<01:35,  5.50it/s, now=None]\u001b[A"
     ]
    },
    {
     "name": "stdout",
     "output_type": "stream",
     "text": [
      "181.07954760729953 170.52991034423334\n",
      "176.74621696604274 175.33329518065145\n"
     ]
    },
    {
     "name": "stderr",
     "output_type": "stream",
     "text": [
      "\n",
      "t:  58%|█████▊    | 737/1260 [02:18<01:35,  5.48it/s, now=None]\u001b[A\n",
      "t:  59%|█████▊    | 738/1260 [02:18<01:33,  5.56it/s, now=None]\u001b[A\n"
     ]
    },
    {
     "name": "stdout",
     "output_type": "stream",
     "text": [
      "195.2265157437861 182.56974466958732\n",
      "167.43418910816575 164.7134324000477\n"
     ]
    },
    {
     "name": "stderr",
     "output_type": "stream",
     "text": [
      "t:  59%|█████▊    | 739/1260 [02:18<01:32,  5.66it/s, now=None]\u001b[A\n",
      "t:  59%|█████▊    | 740/1260 [02:18<01:31,  5.66it/s, now=None]\u001b[A"
     ]
    },
    {
     "name": "stdout",
     "output_type": "stream",
     "text": [
      "177.61643696101655 152.64155435746704\n",
      "197.00232758980806 130.1164594799568\n"
     ]
    },
    {
     "name": "stderr",
     "output_type": "stream",
     "text": [
      "\n",
      "t:  59%|█████▉    | 741/1260 [02:18<01:30,  5.74it/s, now=None]\u001b[A\n",
      "t:  59%|█████▉    | 742/1260 [02:18<01:30,  5.70it/s, now=None]\u001b[A"
     ]
    },
    {
     "name": "stdout",
     "output_type": "stream",
     "text": [
      "200.44342473570975 138.73200130839547\n",
      "197.48132857868376 132.5666407702422\n"
     ]
    },
    {
     "name": "stderr",
     "output_type": "stream",
     "text": [
      "\n",
      "t:  59%|█████▉    | 743/1260 [02:19<01:29,  5.78it/s, now=None]\u001b[A\n",
      "t:  59%|█████▉    | 744/1260 [02:19<01:30,  5.73it/s, now=None]\u001b[A\n"
     ]
    },
    {
     "name": "stdout",
     "output_type": "stream",
     "text": [
      "185.28689774703489 142.05417129083668\n",
      "203.68212025122236 140.04849101235226\n"
     ]
    },
    {
     "name": "stderr",
     "output_type": "stream",
     "text": [
      "t:  59%|█████▉    | 745/1260 [02:19<01:29,  5.72it/s, now=None]\u001b[A\n",
      "t:  59%|█████▉    | 746/1260 [02:19<01:29,  5.72it/s, now=None]\u001b[A\n"
     ]
    },
    {
     "name": "stdout",
     "output_type": "stream",
     "text": [
      "210.8152259671723 147.29723481201535\n",
      "208.2506298740098 161.16586094239744\n"
     ]
    },
    {
     "name": "stderr",
     "output_type": "stream",
     "text": [
      "t:  59%|█████▉    | 747/1260 [02:19<01:29,  5.75it/s, now=None]\u001b[A\n",
      "t:  59%|█████▉    | 748/1260 [02:20<01:29,  5.69it/s, now=None]\u001b[A\n"
     ]
    },
    {
     "name": "stdout",
     "output_type": "stream",
     "text": [
      "209.7602126261065 159.06725021253598\n",
      "216.6147871798134 168.29904899613496\n"
     ]
    },
    {
     "name": "stderr",
     "output_type": "stream",
     "text": [
      "t:  59%|█████▉    | 749/1260 [02:20<01:30,  5.66it/s, now=None]\u001b[A\n",
      "t:  60%|█████▉    | 750/1260 [02:20<01:30,  5.66it/s, now=None]\u001b[A"
     ]
    },
    {
     "name": "stdout",
     "output_type": "stream",
     "text": [
      "217.0929498119831 170.29064160682216\n",
      "215.27506745219523 174.7531524798954\n"
     ]
    },
    {
     "name": "stderr",
     "output_type": "stream",
     "text": [
      "\n",
      "t:  60%|█████▉    | 751/1260 [02:20<01:31,  5.57it/s, now=None]\u001b[A\n",
      "t:  60%|█████▉    | 752/1260 [02:20<01:31,  5.56it/s, now=None]\u001b[A"
     ]
    },
    {
     "name": "stdout",
     "output_type": "stream",
     "text": [
      "208.63132124187297 173.38198233025932\n",
      "221.15306865236985 195.83872554595047\n"
     ]
    },
    {
     "name": "stderr",
     "output_type": "stream",
     "text": [
      "\n",
      "t:  60%|█████▉    | 753/1260 [02:20<01:33,  5.41it/s, now=None]\u001b[A\n",
      "t:  60%|█████▉    | 754/1260 [02:21<01:31,  5.53it/s, now=None]\u001b[A"
     ]
    },
    {
     "name": "stdout",
     "output_type": "stream",
     "text": [
      "193.72314488715168 170.69211776993194\n",
      "173.55208236449425 177.25981746345667\n"
     ]
    },
    {
     "name": "stderr",
     "output_type": "stream",
     "text": [
      "\n",
      "t:  60%|█████▉    | 755/1260 [02:21<01:31,  5.53it/s, now=None]\u001b[A\n",
      "t:  60%|██████    | 756/1260 [02:21<01:30,  5.58it/s, now=None]\u001b[A\n"
     ]
    },
    {
     "name": "stdout",
     "output_type": "stream",
     "text": [
      "187.66609839306736 183.37568859844447\n",
      "224.41065902051741 203.78927455012217\n"
     ]
    },
    {
     "name": "stderr",
     "output_type": "stream",
     "text": [
      "t:  60%|██████    | 757/1260 [02:21<01:28,  5.70it/s, now=None]\u001b[A\n",
      "t:  60%|██████    | 758/1260 [02:21<01:28,  5.67it/s, now=None]\u001b[A"
     ]
    },
    {
     "name": "stdout",
     "output_type": "stream",
     "text": [
      "193.02270271302942 198.34398477590935\n",
      "208.2997745836628 196.4605304238205\n"
     ]
    },
    {
     "name": "stderr",
     "output_type": "stream",
     "text": [
      "\n",
      "t:  60%|██████    | 759/1260 [02:22<01:29,  5.61it/s, now=None]\u001b[A\n",
      "t:  60%|██████    | 760/1260 [02:22<01:30,  5.53it/s, now=None]\u001b[A"
     ]
    },
    {
     "name": "stdout",
     "output_type": "stream",
     "text": [
      "182.29295088012645 212.31425730135552\n",
      "177.93549376065246 232.9614670812802\n"
     ]
    },
    {
     "name": "stderr",
     "output_type": "stream",
     "text": [
      "\n",
      "t:  60%|██████    | 761/1260 [02:22<01:30,  5.49it/s, now=None]\u001b[A\n",
      "t:  60%|██████    | 762/1260 [02:22<01:28,  5.60it/s, now=None]\u001b[A"
     ]
    },
    {
     "name": "stdout",
     "output_type": "stream",
     "text": [
      "179.09665300658318 228.12269684978233\n",
      "189.49542359941725 241.16958232866912\n"
     ]
    },
    {
     "name": "stderr",
     "output_type": "stream",
     "text": [
      "\n",
      "t:  61%|██████    | 763/1260 [02:22<01:27,  5.65it/s, now=None]\u001b[A\n",
      "t:  61%|██████    | 764/1260 [02:22<01:27,  5.64it/s, now=None]\u001b[A"
     ]
    },
    {
     "name": "stdout",
     "output_type": "stream",
     "text": [
      "178.1379673144224 291.6546009240504\n",
      "167.94320573566938 298.1355004073862\n"
     ]
    },
    {
     "name": "stderr",
     "output_type": "stream",
     "text": [
      "\n",
      "t:  61%|██████    | 765/1260 [02:23<01:26,  5.71it/s, now=None]\u001b[A\n",
      "t:  61%|██████    | 766/1260 [02:23<01:31,  5.42it/s, now=None]\u001b[A"
     ]
    },
    {
     "name": "stdout",
     "output_type": "stream",
     "text": [
      "173.6385964830648 213.57887354950574\n",
      "163.68757396400176"
     ]
    },
    {
     "name": "stderr",
     "output_type": "stream",
     "text": [
      "\n",
      "t:  61%|██████    | 767/1260 [02:23<01:32,  5.34it/s, now=None]\u001b[A\n"
     ]
    },
    {
     "name": "stdout",
     "output_type": "stream",
     "text": [
      " 256.88424488776076\n",
      "153.60643248013392 224.48679562696742\n"
     ]
    },
    {
     "name": "stderr",
     "output_type": "stream",
     "text": [
      "t:  61%|██████    | 768/1260 [02:23<01:29,  5.48it/s, now=None]\u001b[A\n",
      "t:  61%|██████    | 769/1260 [02:23<01:29,  5.47it/s, now=None]\u001b[A"
     ]
    },
    {
     "name": "stdout",
     "output_type": "stream",
     "text": [
      "151.71177226135507 227.26059529979412\n",
      "156.2876636550108"
     ]
    },
    {
     "name": "stderr",
     "output_type": "stream",
     "text": [
      "\n",
      "t:  61%|██████    | 770/1260 [02:24<01:29,  5.46it/s, now=None]\u001b[A"
     ]
    },
    {
     "name": "stdout",
     "output_type": "stream",
     "text": [
      " 214.59390184891515\n",
      "156.50585360027378 215.87855979858622\n"
     ]
    },
    {
     "name": "stderr",
     "output_type": "stream",
     "text": [
      "\n",
      "t:  61%|██████    | 771/1260 [02:24<01:29,  5.46it/s, now=None]\u001b[A\n",
      "t:  61%|██████▏   | 772/1260 [02:24<01:28,  5.50it/s, now=None]\u001b[A"
     ]
    },
    {
     "name": "stdout",
     "output_type": "stream",
     "text": [
      "162.0376243646669 226.5210899223256\n",
      "167.53635576873225"
     ]
    },
    {
     "name": "stderr",
     "output_type": "stream",
     "text": [
      "\n",
      "t:  61%|██████▏   | 773/1260 [02:24<01:27,  5.55it/s, now=None]\u001b[A"
     ]
    },
    {
     "name": "stdout",
     "output_type": "stream",
     "text": [
      " 236.95433381284946\n",
      "180.35286143856766 258.2141141900081\n"
     ]
    },
    {
     "name": "stderr",
     "output_type": "stream",
     "text": [
      "\n",
      "t:  61%|██████▏   | 774/1260 [02:24<01:26,  5.65it/s, now=None]\u001b[A\n",
      "t:  62%|██████▏   | 775/1260 [02:24<01:26,  5.59it/s, now=None]\u001b[A"
     ]
    },
    {
     "name": "stdout",
     "output_type": "stream",
     "text": [
      "185.8529383221577 227.26153976438405\n",
      "188.73168718010112 219.62967405457218\n"
     ]
    },
    {
     "name": "stderr",
     "output_type": "stream",
     "text": [
      "\n",
      "t:  62%|██████▏   | 776/1260 [02:25<01:26,  5.58it/s, now=None]\u001b[A\n",
      "t:  62%|██████▏   | 777/1260 [02:25<01:30,  5.35it/s, now=None]\u001b[A"
     ]
    },
    {
     "name": "stdout",
     "output_type": "stream",
     "text": [
      "186.85162311434377 191.39192191294927\n",
      "183.2331391778891"
     ]
    },
    {
     "name": "stderr",
     "output_type": "stream",
     "text": [
      "\n",
      "t:  62%|██████▏   | 778/1260 [02:25<01:29,  5.40it/s, now=None]\u001b[A"
     ]
    },
    {
     "name": "stdout",
     "output_type": "stream",
     "text": [
      " 178.79689623963893\n",
      "176.28255380900455 162.1981352218527\n"
     ]
    },
    {
     "name": "stderr",
     "output_type": "stream",
     "text": [
      "\n",
      "t:  62%|██████▏   | 779/1260 [02:25<01:27,  5.50it/s, now=None]\u001b[A\n",
      "t:  62%|██████▏   | 780/1260 [02:25<01:28,  5.40it/s, now=None]\u001b[A"
     ]
    },
    {
     "name": "stdout",
     "output_type": "stream",
     "text": [
      "181.17010951104606 176.2893500450146\n",
      "186.49575087470194"
     ]
    },
    {
     "name": "stderr",
     "output_type": "stream",
     "text": [
      "\n",
      "t:  62%|██████▏   | 781/1260 [02:26<01:31,  5.21it/s, now=None]\u001b[A"
     ]
    },
    {
     "name": "stdout",
     "output_type": "stream",
     "text": [
      " 172.97934405668366\n"
     ]
    },
    {
     "name": "stderr",
     "output_type": "stream",
     "text": [
      "\n",
      "t:  62%|██████▏   | 782/1260 [02:26<01:31,  5.22it/s, now=None]\u001b[A"
     ]
    },
    {
     "name": "stdout",
     "output_type": "stream",
     "text": [
      "203.09469011884946 191.03542387902593\n",
      "215.6493968180235 181.49407052495314\n"
     ]
    },
    {
     "name": "stderr",
     "output_type": "stream",
     "text": [
      "\n",
      "t:  62%|██████▏   | 783/1260 [02:26<01:34,  5.07it/s, now=None]\u001b[A\n",
      "t:  62%|██████▏   | 784/1260 [02:26<01:33,  5.07it/s, now=None]\u001b[A\n"
     ]
    },
    {
     "name": "stdout",
     "output_type": "stream",
     "text": [
      "226.33434900423336 195.201013505428\n",
      "240.58040098674687 207.34362333881808\n"
     ]
    },
    {
     "name": "stderr",
     "output_type": "stream",
     "text": [
      "t:  62%|██████▏   | 785/1260 [02:26<01:31,  5.18it/s, now=None]\u001b[A\n",
      "t:  62%|██████▏   | 786/1260 [02:27<01:37,  4.85it/s, now=None]\u001b[A"
     ]
    },
    {
     "name": "stdout",
     "output_type": "stream",
     "text": [
      "244.2536060729822 212.63253082759002\n"
     ]
    },
    {
     "name": "stderr",
     "output_type": "stream",
     "text": [
      "\n",
      "t:  62%|██████▏   | 787/1260 [02:27<01:39,  4.74it/s, now=None]\u001b[A"
     ]
    },
    {
     "name": "stdout",
     "output_type": "stream",
     "text": [
      "259.3115189763532 217.2620686622163\n"
     ]
    },
    {
     "name": "stderr",
     "output_type": "stream",
     "text": [
      "\n",
      "t:  63%|██████▎   | 788/1260 [02:27<01:40,  4.69it/s, now=None]\u001b[A"
     ]
    },
    {
     "name": "stdout",
     "output_type": "stream",
     "text": [
      "242.21530352810097 219.1330635315928\n"
     ]
    },
    {
     "name": "stderr",
     "output_type": "stream",
     "text": [
      "\n",
      "t:  63%|██████▎   | 789/1260 [02:27<01:37,  4.82it/s, now=None]\u001b[A"
     ]
    },
    {
     "name": "stdout",
     "output_type": "stream",
     "text": [
      "264.37883892962094 246.1061159810459\n",
      "252.83267733471575 176.31385906780946\n"
     ]
    },
    {
     "name": "stderr",
     "output_type": "stream",
     "text": [
      "\n",
      "t:  63%|██████▎   | 790/1260 [02:27<01:33,  5.04it/s, now=None]\u001b[A\n",
      "t:  63%|██████▎   | 791/1260 [02:28<01:32,  5.07it/s, now=None]\u001b[A"
     ]
    },
    {
     "name": "stdout",
     "output_type": "stream",
     "text": [
      "257.9225305094751 216.14092674602256\n",
      "264.9265530350373"
     ]
    },
    {
     "name": "stderr",
     "output_type": "stream",
     "text": [
      "\n",
      "t:  63%|██████▎   | 792/1260 [02:28<01:32,  5.04it/s, now=None]\u001b[A"
     ]
    },
    {
     "name": "stdout",
     "output_type": "stream",
     "text": [
      " 211.0164153112196\n"
     ]
    },
    {
     "name": "stderr",
     "output_type": "stream",
     "text": [
      "\n",
      "t:  63%|██████▎   | 793/1260 [02:28<01:36,  4.83it/s, now=None]\u001b[A"
     ]
    },
    {
     "name": "stdout",
     "output_type": "stream",
     "text": [
      "274.348978387696 262.17600658664566\n"
     ]
    },
    {
     "name": "stderr",
     "output_type": "stream",
     "text": [
      "\n",
      "t:  63%|██████▎   | 794/1260 [02:28<01:36,  4.81it/s, now=None]\u001b[A"
     ]
    },
    {
     "name": "stdout",
     "output_type": "stream",
     "text": [
      "282.99946021776645 257.0490651086766\n",
      "289.015376680095 259.33813855043286\n"
     ]
    },
    {
     "name": "stderr",
     "output_type": "stream",
     "text": [
      "\n",
      "t:  63%|██████▎   | 795/1260 [02:28<01:35,  4.84it/s, now=None]\u001b[A\n",
      "t:  63%|██████▎   | 796/1260 [02:29<01:34,  4.90it/s, now=None]\u001b[A"
     ]
    },
    {
     "name": "stdout",
     "output_type": "stream",
     "text": [
      "305.9579450824239 298.31781637115273\n",
      "297.9430716817114"
     ]
    },
    {
     "name": "stderr",
     "output_type": "stream",
     "text": [
      "\n",
      "t:  63%|██████▎   | 797/1260 [02:29<01:33,  4.96it/s, now=None]\u001b[A"
     ]
    },
    {
     "name": "stdout",
     "output_type": "stream",
     "text": [
      " 255.04518933961057\n",
      "315.70853613808146"
     ]
    },
    {
     "name": "stderr",
     "output_type": "stream",
     "text": [
      "\n",
      "t:  63%|██████▎   | 798/1260 [02:29<01:31,  5.05it/s, now=None]\u001b[A"
     ]
    },
    {
     "name": "stdout",
     "output_type": "stream",
     "text": [
      " 280.51683221605623\n",
      "291.56959727212825"
     ]
    },
    {
     "name": "stderr",
     "output_type": "stream",
     "text": [
      "\n",
      "t:  63%|██████▎   | 799/1260 [02:29<01:29,  5.15it/s, now=None]\u001b[A"
     ]
    },
    {
     "name": "stdout",
     "output_type": "stream",
     "text": [
      " 282.08797757500804\n",
      "286.13313341064764"
     ]
    },
    {
     "name": "stderr",
     "output_type": "stream",
     "text": [
      "\n",
      "t:  63%|██████▎   | 800/1260 [02:29<01:28,  5.21it/s, now=None]\u001b[A"
     ]
    },
    {
     "name": "stdout",
     "output_type": "stream",
     "text": [
      " 384.6209092671462\n",
      "325.6918900312417"
     ]
    },
    {
     "name": "stderr",
     "output_type": "stream",
     "text": [
      "\n",
      "t:  64%|██████▎   | 801/1260 [02:30<01:30,  5.09it/s, now=None]\u001b[A"
     ]
    },
    {
     "name": "stdout",
     "output_type": "stream",
     "text": [
      " 470.73915983691006\n",
      "313.240682640116"
     ]
    },
    {
     "name": "stderr",
     "output_type": "stream",
     "text": [
      "\n",
      "t:  64%|██████▎   | 802/1260 [02:30<01:31,  5.03it/s, now=None]\u001b[A"
     ]
    },
    {
     "name": "stdout",
     "output_type": "stream",
     "text": [
      " 337.0067370632755\n",
      "297.49322620606637"
     ]
    },
    {
     "name": "stderr",
     "output_type": "stream",
     "text": [
      "\n",
      "t:  64%|██████▎   | 803/1260 [02:30<01:31,  5.02it/s, now=None]\u001b[A"
     ]
    },
    {
     "name": "stdout",
     "output_type": "stream",
     "text": [
      " 384.45464843693816\n",
      "281.80759539987895"
     ]
    },
    {
     "name": "stderr",
     "output_type": "stream",
     "text": [
      "\n",
      "t:  64%|██████▍   | 804/1260 [02:30<01:30,  5.04it/s, now=None]\u001b[A"
     ]
    },
    {
     "name": "stdout",
     "output_type": "stream",
     "text": [
      " 340.5056307737705\n"
     ]
    },
    {
     "name": "stderr",
     "output_type": "stream",
     "text": [
      "\n",
      "t:  64%|██████▍   | 805/1260 [02:30<01:34,  4.82it/s, now=None]\u001b[A"
     ]
    },
    {
     "name": "stdout",
     "output_type": "stream",
     "text": [
      "234.21127299823257 302.8113357371363\n"
     ]
    },
    {
     "name": "stderr",
     "output_type": "stream",
     "text": [
      "\n",
      "t:  64%|██████▍   | 806/1260 [02:31<01:36,  4.72it/s, now=None]\u001b[A"
     ]
    },
    {
     "name": "stdout",
     "output_type": "stream",
     "text": [
      "209.50428334151547 279.0310698981345\n"
     ]
    },
    {
     "name": "stderr",
     "output_type": "stream",
     "text": [
      "\n",
      "t:  64%|██████▍   | 807/1260 [02:31<01:40,  4.51it/s, now=None]\u001b[A"
     ]
    },
    {
     "name": "stdout",
     "output_type": "stream",
     "text": [
      "193.33441809990407 260.7487224025906\n"
     ]
    },
    {
     "name": "stderr",
     "output_type": "stream",
     "text": [
      "\n",
      "t:  64%|██████▍   | 808/1260 [02:31<01:38,  4.59it/s, now=None]\u001b[A"
     ]
    },
    {
     "name": "stdout",
     "output_type": "stream",
     "text": [
      "202.63999909216517 262.9754166885484\n",
      "193.49915537680295 279.62172284590315\n"
     ]
    },
    {
     "name": "stderr",
     "output_type": "stream",
     "text": [
      "\n",
      "t:  64%|██████▍   | 809/1260 [02:31<01:33,  4.84it/s, now=None]\u001b[A\n",
      "t:  64%|██████▍   | 810/1260 [02:31<01:32,  4.84it/s, now=None]\u001b[A"
     ]
    },
    {
     "name": "stdout",
     "output_type": "stream",
     "text": [
      "192.89709006582834 274.0126770121458\n",
      "188.73127612705105"
     ]
    },
    {
     "name": "stderr",
     "output_type": "stream",
     "text": [
      "\n",
      "t:  64%|██████▍   | 811/1260 [02:32<01:30,  4.95it/s, now=None]\u001b[A"
     ]
    },
    {
     "name": "stdout",
     "output_type": "stream",
     "text": [
      " 308.6940750492762\n",
      "183.9073244034589 189.24604398306676\n"
     ]
    },
    {
     "name": "stderr",
     "output_type": "stream",
     "text": [
      "\n",
      "t:  64%|██████▍   | 812/1260 [02:32<01:27,  5.14it/s, now=None]\u001b[A\n",
      "t:  65%|██████▍   | 813/1260 [02:32<01:24,  5.26it/s, now=None]\u001b[A"
     ]
    },
    {
     "name": "stdout",
     "output_type": "stream",
     "text": [
      "188.005478344296 193.56961888483508\n",
      "189.1376602824439"
     ]
    },
    {
     "name": "stderr",
     "output_type": "stream",
     "text": [
      "\n",
      "t:  65%|██████▍   | 814/1260 [02:32<01:25,  5.24it/s, now=None]\u001b[A"
     ]
    },
    {
     "name": "stdout",
     "output_type": "stream",
     "text": [
      " 187.0482189975339\n"
     ]
    },
    {
     "name": "stderr",
     "output_type": "stream",
     "text": [
      "\n",
      "t:  65%|██████▍   | 815/1260 [02:32<01:32,  4.79it/s, now=None]\u001b[A"
     ]
    },
    {
     "name": "stdout",
     "output_type": "stream",
     "text": [
      "202.47762725884277 185.8962693751539\n"
     ]
    },
    {
     "name": "stderr",
     "output_type": "stream",
     "text": [
      "\n",
      "t:  65%|██████▍   | 816/1260 [02:33<01:34,  4.72it/s, now=None]\u001b[A"
     ]
    },
    {
     "name": "stdout",
     "output_type": "stream",
     "text": [
      "207.57392794446935 146.35810294902802\n"
     ]
    },
    {
     "name": "stderr",
     "output_type": "stream",
     "text": [
      "\n",
      "t:  65%|██████▍   | 817/1260 [02:33<01:35,  4.64it/s, now=None]\u001b[A"
     ]
    },
    {
     "name": "stdout",
     "output_type": "stream",
     "text": [
      "211.42723542922317 148.01292145829146\n",
      "195.0014498064164"
     ]
    },
    {
     "name": "stderr",
     "output_type": "stream",
     "text": [
      "\n",
      "t:  65%|██████▍   | 818/1260 [02:33<01:32,  4.78it/s, now=None]\u001b[A"
     ]
    },
    {
     "name": "stdout",
     "output_type": "stream",
     "text": [
      " 143.6817849593235\n"
     ]
    },
    {
     "name": "stderr",
     "output_type": "stream",
     "text": [
      "\n",
      "t:  65%|██████▌   | 819/1260 [02:33<01:31,  4.81it/s, now=None]\u001b[A"
     ]
    },
    {
     "name": "stdout",
     "output_type": "stream",
     "text": [
      "197.14218865233497 138.88679924663552\n",
      "209.51050954908428"
     ]
    },
    {
     "name": "stderr",
     "output_type": "stream",
     "text": [
      "\n",
      "t:  65%|██████▌   | 820/1260 [02:33<01:30,  4.87it/s, now=None]\u001b[A"
     ]
    },
    {
     "name": "stdout",
     "output_type": "stream",
     "text": [
      " 145.27017848928938\n",
      "211.0753818067146"
     ]
    },
    {
     "name": "stderr",
     "output_type": "stream",
     "text": [
      "\n",
      "t:  65%|██████▌   | 821/1260 [02:34<01:28,  4.98it/s, now=None]\u001b[A"
     ]
    },
    {
     "name": "stdout",
     "output_type": "stream",
     "text": [
      " 149.01184538986897\n",
      "238.7497904184387 161.29387424049762\n"
     ]
    },
    {
     "name": "stderr",
     "output_type": "stream",
     "text": [
      "\n",
      "t:  65%|██████▌   | 822/1260 [02:34<01:26,  5.04it/s, now=None]\u001b[A\n",
      "t:  65%|██████▌   | 823/1260 [02:34<01:25,  5.10it/s, now=None]\u001b[A"
     ]
    },
    {
     "name": "stdout",
     "output_type": "stream",
     "text": [
      "231.84630751057733 164.39500084108676\n",
      "251.17879536748063"
     ]
    },
    {
     "name": "stderr",
     "output_type": "stream",
     "text": [
      "\n",
      "t:  65%|██████▌   | 824/1260 [02:34<01:23,  5.20it/s, now=None]\u001b[A"
     ]
    },
    {
     "name": "stdout",
     "output_type": "stream",
     "text": [
      " 158.155442556602\n",
      "310.6524274757534"
     ]
    },
    {
     "name": "stderr",
     "output_type": "stream",
     "text": [
      "\n",
      "t:  65%|██████▌   | 825/1260 [02:34<01:23,  5.18it/s, now=None]\u001b[A"
     ]
    },
    {
     "name": "stdout",
     "output_type": "stream",
     "text": [
      " 171.88952556736731\n",
      "292.04353605536687"
     ]
    },
    {
     "name": "stderr",
     "output_type": "stream",
     "text": [
      "\n",
      "t:  66%|██████▌   | 826/1260 [02:35<01:24,  5.15it/s, now=None]\u001b[A"
     ]
    },
    {
     "name": "stdout",
     "output_type": "stream",
     "text": [
      " 158.14711580375595\n",
      "239.94304271329347"
     ]
    },
    {
     "name": "stderr",
     "output_type": "stream",
     "text": [
      "\n",
      "t:  66%|██████▌   | 827/1260 [02:35<01:24,  5.10it/s, now=None]\u001b[A"
     ]
    },
    {
     "name": "stdout",
     "output_type": "stream",
     "text": [
      " 153.22823713926076\n",
      "209.92885722618126 144.52160424949162\n"
     ]
    },
    {
     "name": "stderr",
     "output_type": "stream",
     "text": [
      "\n",
      "t:  66%|██████▌   | 828/1260 [02:35<01:23,  5.18it/s, now=None]\u001b[A\n",
      "t:  66%|██████▌   | 829/1260 [02:35<01:22,  5.24it/s, now=None]\u001b[A"
     ]
    },
    {
     "name": "stdout",
     "output_type": "stream",
     "text": [
      "257.1041230976478 157.5131717378507\n",
      "205.9530006648238"
     ]
    },
    {
     "name": "stderr",
     "output_type": "stream",
     "text": [
      "\n",
      "t:  66%|██████▌   | 830/1260 [02:35<01:20,  5.32it/s, now=None]\u001b[A"
     ]
    },
    {
     "name": "stdout",
     "output_type": "stream",
     "text": [
      " 156.95713793997578\n",
      "229.45826553257822"
     ]
    },
    {
     "name": "stderr",
     "output_type": "stream",
     "text": [
      "\n",
      "t:  66%|██████▌   | 831/1260 [02:36<01:20,  5.35it/s, now=None]\u001b[A"
     ]
    },
    {
     "name": "stdout",
     "output_type": "stream",
     "text": [
      " 153.6889489237827\n",
      "218.4097192123606 159.3820685448021\n"
     ]
    },
    {
     "name": "stderr",
     "output_type": "stream",
     "text": [
      "\n",
      "t:  66%|██████▌   | 832/1260 [02:36<01:19,  5.37it/s, now=None]\u001b[A\n",
      "t:  66%|██████▌   | 833/1260 [02:36<01:17,  5.48it/s, now=None]\u001b[A"
     ]
    },
    {
     "name": "stdout",
     "output_type": "stream",
     "text": [
      "220.99512817535174 166.80926413653646\n",
      "219.06913962420649 172.82735604448342\n"
     ]
    },
    {
     "name": "stderr",
     "output_type": "stream",
     "text": [
      "\n",
      "t:  66%|██████▌   | 834/1260 [02:36<01:17,  5.53it/s, now=None]\u001b[A\n",
      "t:  66%|██████▋   | 835/1260 [02:36<01:18,  5.45it/s, now=None]\u001b[A"
     ]
    },
    {
     "name": "stdout",
     "output_type": "stream",
     "text": [
      "204.01936103984477 189.2040757743313\n",
      "182.9377815475424 181.0617310178942\n"
     ]
    },
    {
     "name": "stderr",
     "output_type": "stream",
     "text": [
      "\n",
      "t:  66%|██████▋   | 836/1260 [02:36<01:15,  5.62it/s, now=None]\u001b[A\n",
      "t:  66%|██████▋   | 837/1260 [02:37<01:14,  5.68it/s, now=None]\u001b[A"
     ]
    },
    {
     "name": "stdout",
     "output_type": "stream",
     "text": [
      "181.76136785318275 192.017936378784\n",
      "185.81731318813675 242.39373481509128\n"
     ]
    },
    {
     "name": "stderr",
     "output_type": "stream",
     "text": [
      "\n",
      "t:  67%|██████▋   | 838/1260 [02:37<01:13,  5.74it/s, now=None]\u001b[A\n",
      "t:  67%|██████▋   | 839/1260 [02:37<01:13,  5.70it/s, now=None]\u001b[A"
     ]
    },
    {
     "name": "stdout",
     "output_type": "stream",
     "text": [
      "185.20566890883163 197.33998585678174\n",
      "173.61266317152874 199.39938360309242\n"
     ]
    },
    {
     "name": "stderr",
     "output_type": "stream",
     "text": [
      "\n",
      "t:  67%|██████▋   | 840/1260 [02:37<01:14,  5.63it/s, now=None]\u001b[A\n",
      "t:  67%|██████▋   | 841/1260 [02:37<01:15,  5.57it/s, now=None]\u001b[A"
     ]
    },
    {
     "name": "stdout",
     "output_type": "stream",
     "text": [
      "164.93993697273206 165.76144136090764\n",
      "166.40508527200427 193.3393716316782\n"
     ]
    },
    {
     "name": "stderr",
     "output_type": "stream",
     "text": [
      "\n",
      "t:  67%|██████▋   | 842/1260 [02:38<01:14,  5.61it/s, now=None]\u001b[A\n",
      "t:  67%|██████▋   | 843/1260 [02:38<01:14,  5.63it/s, now=None]\u001b[A"
     ]
    },
    {
     "name": "stdout",
     "output_type": "stream",
     "text": [
      "178.47658797896983 211.55940163979565\n",
      "186.68788642188483"
     ]
    },
    {
     "name": "stderr",
     "output_type": "stream",
     "text": [
      "\n",
      "t:  67%|██████▋   | 844/1260 [02:38<01:15,  5.53it/s, now=None]\u001b[A"
     ]
    },
    {
     "name": "stdout",
     "output_type": "stream",
     "text": [
      " 192.8111726088264\n",
      "172.61201265178744 204.0367624997555\n"
     ]
    },
    {
     "name": "stderr",
     "output_type": "stream",
     "text": [
      "\n",
      "t:  67%|██████▋   | 845/1260 [02:38<01:16,  5.45it/s, now=None]\u001b[A\n",
      "t:  67%|██████▋   | 846/1260 [02:38<01:15,  5.45it/s, now=None]\u001b[A"
     ]
    },
    {
     "name": "stdout",
     "output_type": "stream",
     "text": [
      "190.9259606213456 209.36589303008168\n",
      "184.89357795951696 241.86897226598202\n"
     ]
    },
    {
     "name": "stderr",
     "output_type": "stream",
     "text": [
      "\n",
      "t:  67%|██████▋   | 847/1260 [02:38<01:14,  5.58it/s, now=None]\u001b[A\n",
      "t:  67%|██████▋   | 848/1260 [02:39<01:13,  5.57it/s, now=None]\u001b[A"
     ]
    },
    {
     "name": "stdout",
     "output_type": "stream",
     "text": [
      "217.47486103710642 301.96651160666494\n",
      "212.7546822584604"
     ]
    },
    {
     "name": "stderr",
     "output_type": "stream",
     "text": [
      "\n",
      "t:  67%|██████▋   | 849/1260 [02:39<01:15,  5.47it/s, now=None]\u001b[A"
     ]
    },
    {
     "name": "stdout",
     "output_type": "stream",
     "text": [
      " 289.4170790120728\n",
      "219.48671896035052"
     ]
    },
    {
     "name": "stderr",
     "output_type": "stream",
     "text": [
      "\n",
      "t:  67%|██████▋   | 850/1260 [02:39<01:17,  5.30it/s, now=None]\u001b[A"
     ]
    },
    {
     "name": "stdout",
     "output_type": "stream",
     "text": [
      " 272.34363517210625\n"
     ]
    },
    {
     "name": "stderr",
     "output_type": "stream",
     "text": [
      "\n",
      "t:  68%|██████▊   | 851/1260 [02:39<01:21,  5.02it/s, now=None]\u001b[A"
     ]
    },
    {
     "name": "stdout",
     "output_type": "stream",
     "text": [
      "252.11001154950807 264.5361738775259\n"
     ]
    },
    {
     "name": "stderr",
     "output_type": "stream",
     "text": [
      "\n",
      "t:  68%|██████▊   | 852/1260 [02:39<01:21,  4.98it/s, now=None]\u001b[A"
     ]
    },
    {
     "name": "stdout",
     "output_type": "stream",
     "text": [
      "265.04332818735776 245.62685041110936\n",
      "298.07068665849624 305.7320805989692\n"
     ]
    },
    {
     "name": "stderr",
     "output_type": "stream",
     "text": [
      "\n",
      "t:  68%|██████▊   | 853/1260 [02:40<01:23,  4.90it/s, now=None]\u001b[A\n",
      "t:  68%|██████▊   | 854/1260 [02:40<01:21,  4.99it/s, now=None]\u001b[A"
     ]
    },
    {
     "name": "stdout",
     "output_type": "stream",
     "text": [
      "265.97321471125986 218.24488651829435\n",
      "265.5213160405666"
     ]
    },
    {
     "name": "stderr",
     "output_type": "stream",
     "text": [
      "\n",
      "t:  68%|██████▊   | 855/1260 [02:40<01:21,  4.97it/s, now=None]\u001b[A"
     ]
    },
    {
     "name": "stdout",
     "output_type": "stream",
     "text": [
      " 242.05374874999188\n"
     ]
    },
    {
     "name": "stderr",
     "output_type": "stream",
     "text": [
      "\n",
      "t:  68%|██████▊   | 856/1260 [02:40<01:27,  4.63it/s, now=None]\u001b[A"
     ]
    },
    {
     "name": "stdout",
     "output_type": "stream",
     "text": [
      "281.4006480925178 257.22583046051903\n",
      "302.7943971646989 220.80352217903163\n"
     ]
    },
    {
     "name": "stderr",
     "output_type": "stream",
     "text": [
      "\n",
      "t:  68%|██████▊   | 857/1260 [02:40<01:23,  4.82it/s, now=None]\u001b[A\n",
      "t:  68%|██████▊   | 858/1260 [02:41<01:25,  4.70it/s, now=None]\u001b[A"
     ]
    },
    {
     "name": "stdout",
     "output_type": "stream",
     "text": [
      "295.0682118259569 220.54296520691628\n",
      "295.11903361241025 192.00398828694614\n"
     ]
    },
    {
     "name": "stderr",
     "output_type": "stream",
     "text": [
      "\n",
      "t:  68%|██████▊   | 859/1260 [02:41<01:20,  4.97it/s, now=None]\u001b[A\n",
      "t:  68%|██████▊   | 860/1260 [02:41<01:22,  4.83it/s, now=None]\u001b[A"
     ]
    },
    {
     "name": "stdout",
     "output_type": "stream",
     "text": [
      "295.5610220648314 197.0786241030674\n",
      "278.76564649153363 193.07187727964165\n"
     ]
    },
    {
     "name": "stderr",
     "output_type": "stream",
     "text": [
      "\n",
      "t:  68%|██████▊   | 861/1260 [02:41<01:18,  5.06it/s, now=None]\u001b[A\n",
      "t:  68%|██████▊   | 862/1260 [02:41<01:17,  5.16it/s, now=None]\u001b[A"
     ]
    },
    {
     "name": "stdout",
     "output_type": "stream",
     "text": [
      "305.77937412088005 202.5694021767623\n",
      "310.0287452908862 194.21887915469\n"
     ]
    },
    {
     "name": "stderr",
     "output_type": "stream",
     "text": [
      "\n",
      "t:  68%|██████▊   | 863/1260 [02:42<01:14,  5.33it/s, now=None]\u001b[A\n",
      "t:  69%|██████▊   | 864/1260 [02:42<01:12,  5.43it/s, now=None]\u001b[A"
     ]
    },
    {
     "name": "stdout",
     "output_type": "stream",
     "text": [
      "271.0981441639361 197.02283854995923\n",
      "291.67350731554114 201.28992553158773\n"
     ]
    },
    {
     "name": "stderr",
     "output_type": "stream",
     "text": [
      "\n",
      "t:  69%|██████▊   | 865/1260 [02:42<01:12,  5.46it/s, now=None]\u001b[A\n",
      "t:  69%|██████▊   | 866/1260 [02:42<01:12,  5.43it/s, now=None]\u001b[A"
     ]
    },
    {
     "name": "stdout",
     "output_type": "stream",
     "text": [
      "271.62415322687576 197.76310997091122\n",
      "304.2747173281392 191.05162562768385\n"
     ]
    },
    {
     "name": "stderr",
     "output_type": "stream",
     "text": [
      "\n",
      "t:  69%|██████▉   | 867/1260 [02:42<01:14,  5.28it/s, now=None]\u001b[A\n",
      "t:  69%|██████▉   | 868/1260 [02:43<01:18,  5.02it/s, now=None]\u001b[A"
     ]
    },
    {
     "name": "stdout",
     "output_type": "stream",
     "text": [
      "271.8268172044274 189.1961855171105\n",
      "283.1646680710595 189.78348233633668\n"
     ]
    },
    {
     "name": "stderr",
     "output_type": "stream",
     "text": [
      "\n",
      "t:  69%|██████▉   | 869/1260 [02:43<01:17,  5.02it/s, now=None]\u001b[A\n",
      "t:  69%|██████▉   | 870/1260 [02:43<01:21,  4.81it/s, now=None]\u001b[A"
     ]
    },
    {
     "name": "stdout",
     "output_type": "stream",
     "text": [
      "304.3833676508154 198.89430618577035\n",
      "311.1953583710951"
     ]
    },
    {
     "name": "stderr",
     "output_type": "stream",
     "text": [
      "\n",
      "t:  69%|██████▉   | 871/1260 [02:43<01:17,  5.00it/s, now=None]\u001b[A"
     ]
    },
    {
     "name": "stdout",
     "output_type": "stream",
     "text": [
      " 195.32562924925853\n",
      "258.83855995797643 189.4442638797963\n"
     ]
    },
    {
     "name": "stderr",
     "output_type": "stream",
     "text": [
      "\n",
      "t:  69%|██████▉   | 872/1260 [02:43<01:19,  4.89it/s, now=None]\u001b[A\n",
      "t:  69%|██████▉   | 873/1260 [02:44<01:18,  4.91it/s, now=None]\u001b[A"
     ]
    },
    {
     "name": "stdout",
     "output_type": "stream",
     "text": [
      "265.24437287691586 248.79725130976516\n"
     ]
    },
    {
     "name": "stderr",
     "output_type": "stream",
     "text": [
      "\n",
      "t:  69%|██████▉   | 874/1260 [02:44<01:22,  4.66it/s, now=None]\u001b[A"
     ]
    },
    {
     "name": "stdout",
     "output_type": "stream",
     "text": [
      "277.08426903016203 293.6892168348565\n"
     ]
    },
    {
     "name": "stderr",
     "output_type": "stream",
     "text": [
      "\n",
      "t:  69%|██████▉   | 875/1260 [02:44<01:23,  4.60it/s, now=None]\u001b[A"
     ]
    },
    {
     "name": "stdout",
     "output_type": "stream",
     "text": [
      "244.6235474844495 236.63873104242805\n",
      "222.15138374544097 327.08482628195543\n"
     ]
    },
    {
     "name": "stderr",
     "output_type": "stream",
     "text": [
      "\n",
      "t:  70%|██████▉   | 876/1260 [02:44<01:22,  4.64it/s, now=None]\u001b[A\n",
      "t:  70%|██████▉   | 877/1260 [02:45<01:23,  4.57it/s, now=None]\u001b[A"
     ]
    },
    {
     "name": "stdout",
     "output_type": "stream",
     "text": [
      "223.36725920262552 327.7296760780678\n"
     ]
    },
    {
     "name": "stderr",
     "output_type": "stream",
     "text": [
      "\n",
      "t:  70%|██████▉   | 878/1260 [02:45<01:25,  4.47it/s, now=None]\u001b[A"
     ]
    },
    {
     "name": "stdout",
     "output_type": "stream",
     "text": [
      "236.4100615935587 271.674087733231\n"
     ]
    },
    {
     "name": "stderr",
     "output_type": "stream",
     "text": [
      "\n",
      "t:  70%|██████▉   | 879/1260 [02:45<01:24,  4.51it/s, now=None]\u001b[A"
     ]
    },
    {
     "name": "stdout",
     "output_type": "stream",
     "text": [
      "231.48987861932713 311.55180431238864\n",
      "232.7426547370568"
     ]
    },
    {
     "name": "stderr",
     "output_type": "stream",
     "text": [
      "\n",
      "t:  70%|██████▉   | 880/1260 [02:45<01:21,  4.68it/s, now=None]\u001b[A"
     ]
    },
    {
     "name": "stdout",
     "output_type": "stream",
     "text": [
      " 284.2382995957605\n"
     ]
    },
    {
     "name": "stderr",
     "output_type": "stream",
     "text": [
      "\n",
      "t:  70%|██████▉   | 881/1260 [02:45<01:19,  4.77it/s, now=None]\u001b[A"
     ]
    },
    {
     "name": "stdout",
     "output_type": "stream",
     "text": [
      "245.78607450546153 253.56573234680795\n"
     ]
    },
    {
     "name": "stderr",
     "output_type": "stream",
     "text": [
      "\n",
      "t:  70%|███████   | 882/1260 [02:46<01:20,  4.72it/s, now=None]\u001b[A"
     ]
    },
    {
     "name": "stdout",
     "output_type": "stream",
     "text": [
      "230.5502621473603 281.41751154450725\n",
      "249.19580874863087 354.50185301863644\n"
     ]
    },
    {
     "name": "stderr",
     "output_type": "stream",
     "text": [
      "\n",
      "t:  70%|███████   | 883/1260 [02:46<01:17,  4.88it/s, now=None]\u001b[A\n",
      "t:  70%|███████   | 884/1260 [02:46<01:14,  5.02it/s, now=None]\u001b[A"
     ]
    },
    {
     "name": "stdout",
     "output_type": "stream",
     "text": [
      "268.3761493171745 287.449320514857\n"
     ]
    },
    {
     "name": "stderr",
     "output_type": "stream",
     "text": [
      "\n",
      "t:  70%|███████   | 885/1260 [02:46<01:17,  4.84it/s, now=None]\u001b[A"
     ]
    },
    {
     "name": "stdout",
     "output_type": "stream",
     "text": [
      "269.37379468133435 225.59688183832773\n"
     ]
    },
    {
     "name": "stderr",
     "output_type": "stream",
     "text": [
      "\n",
      "t:  70%|███████   | 886/1260 [02:46<01:16,  4.88it/s, now=None]\u001b[A"
     ]
    },
    {
     "name": "stdout",
     "output_type": "stream",
     "text": [
      "283.5357545259866 339.6955761219337\n",
      "325.2869033120043 234.71548571324624\n"
     ]
    },
    {
     "name": "stderr",
     "output_type": "stream",
     "text": [
      "\n",
      "t:  70%|███████   | 887/1260 [02:47<01:13,  5.08it/s, now=None]\u001b[A\n",
      "t:  70%|███████   | 888/1260 [02:47<01:11,  5.18it/s, now=None]\u001b[A"
     ]
    },
    {
     "name": "stdout",
     "output_type": "stream",
     "text": [
      "351.584184833572 330.46365667449237\n"
     ]
    },
    {
     "name": "stderr",
     "output_type": "stream",
     "text": [
      "\n",
      "t:  71%|███████   | 889/1260 [02:47<01:12,  5.10it/s, now=None]\u001b[A"
     ]
    },
    {
     "name": "stdout",
     "output_type": "stream",
     "text": [
      "370.74679291205723 248.25268054756972\n",
      "440.08063040422905 239.6221624386517\n"
     ]
    },
    {
     "name": "stderr",
     "output_type": "stream",
     "text": [
      "\n",
      "t:  71%|███████   | 890/1260 [02:47<01:10,  5.27it/s, now=None]\u001b[A\n",
      "t:  71%|███████   | 891/1260 [02:47<01:09,  5.32it/s, now=None]\u001b[A"
     ]
    },
    {
     "name": "stdout",
     "output_type": "stream",
     "text": [
      "448.4614030489943 246.12076966944053\n",
      "539.0304129636706 278.280107386584\n"
     ]
    },
    {
     "name": "stderr",
     "output_type": "stream",
     "text": [
      "\n",
      "t:  71%|███████   | 892/1260 [02:48<01:08,  5.36it/s, now=None]\u001b[A\n",
      "t:  71%|███████   | 893/1260 [02:48<01:08,  5.34it/s, now=None]\u001b[A"
     ]
    },
    {
     "name": "stdout",
     "output_type": "stream",
     "text": [
      "616.8606944052228 273.96712685524193\n",
      "561.8358643909529 432.68209116506074\n"
     ]
    },
    {
     "name": "stderr",
     "output_type": "stream",
     "text": [
      "\n",
      "t:  71%|███████   | 894/1260 [02:48<01:07,  5.39it/s, now=None]\u001b[A\n",
      "t:  71%|███████   | 895/1260 [02:48<01:06,  5.50it/s, now=None]\u001b[A"
     ]
    },
    {
     "name": "stdout",
     "output_type": "stream",
     "text": [
      "521.4979620653456 289.28667026760377\n",
      "489.77464516447566"
     ]
    },
    {
     "name": "stderr",
     "output_type": "stream",
     "text": [
      "\n",
      "t:  71%|███████   | 896/1260 [02:48<01:06,  5.46it/s, now=None]\u001b[A\n"
     ]
    },
    {
     "name": "stdout",
     "output_type": "stream",
     "text": [
      " 291.97891476739\n",
      "487.3248619765051 236.02403380101586\n"
     ]
    },
    {
     "name": "stderr",
     "output_type": "stream",
     "text": [
      "t:  71%|███████   | 897/1260 [02:48<01:06,  5.49it/s, now=None]\u001b[A\n",
      "t:  71%|███████▏  | 898/1260 [02:49<01:05,  5.52it/s, now=None]\u001b[A"
     ]
    },
    {
     "name": "stdout",
     "output_type": "stream",
     "text": [
      "448.9420673334163 232.77772467570847\n"
     ]
    },
    {
     "name": "stderr",
     "output_type": "stream",
     "text": [
      "\n",
      "t:  71%|███████▏  | 899/1260 [02:49<01:10,  5.09it/s, now=None]\u001b[A"
     ]
    },
    {
     "name": "stdout",
     "output_type": "stream",
     "text": [
      "595.7560761829611 264.8332151760484\n",
      "420.5571428612396 215.58923952076128\n"
     ]
    },
    {
     "name": "stderr",
     "output_type": "stream",
     "text": [
      "\n",
      "t:  71%|███████▏  | 900/1260 [02:49<01:10,  5.10it/s, now=None]\u001b[A\n",
      "t:  72%|███████▏  | 901/1260 [02:49<01:11,  5.03it/s, now=None]\u001b[A"
     ]
    },
    {
     "name": "stdout",
     "output_type": "stream",
     "text": [
      "378.4158585232135 213.18621544083953\n",
      "354.19644415214947 201.00701269019012\n"
     ]
    },
    {
     "name": "stderr",
     "output_type": "stream",
     "text": [
      "\n",
      "t:  72%|███████▏  | 902/1260 [02:49<01:10,  5.05it/s, now=None]\u001b[A\n",
      "t:  72%|███████▏  | 903/1260 [02:50<01:10,  5.08it/s, now=None]\u001b[A"
     ]
    },
    {
     "name": "stdout",
     "output_type": "stream",
     "text": [
      "333.2527916573602 200.27306132562447\n"
     ]
    },
    {
     "name": "stderr",
     "output_type": "stream",
     "text": [
      "\n",
      "t:  72%|███████▏  | 904/1260 [02:50<01:12,  4.90it/s, now=None]\u001b[A"
     ]
    },
    {
     "name": "stdout",
     "output_type": "stream",
     "text": [
      "322.9904720567148 201.73107702127555\n"
     ]
    },
    {
     "name": "stderr",
     "output_type": "stream",
     "text": [
      "\n",
      "t:  72%|███████▏  | 905/1260 [02:50<01:11,  4.95it/s, now=None]\u001b[A"
     ]
    },
    {
     "name": "stdout",
     "output_type": "stream",
     "text": [
      "303.4952937428286 192.26493000868206\n",
      "293.2861087135608"
     ]
    },
    {
     "name": "stderr",
     "output_type": "stream",
     "text": [
      "\n",
      "t:  72%|███████▏  | 906/1260 [02:50<01:11,  4.98it/s, now=None]\u001b[A"
     ]
    },
    {
     "name": "stdout",
     "output_type": "stream",
     "text": [
      " 163.23135678753894\n",
      "281.42356786939706 165.98435631076956\n"
     ]
    },
    {
     "name": "stderr",
     "output_type": "stream",
     "text": [
      "\n",
      "t:  72%|███████▏  | 907/1260 [02:50<01:12,  4.87it/s, now=None]\u001b[A\n",
      "t:  72%|███████▏  | 908/1260 [02:51<01:09,  5.05it/s, now=None]\u001b[A"
     ]
    },
    {
     "name": "stdout",
     "output_type": "stream",
     "text": [
      "269.23574707460875 174.00039371074726\n"
     ]
    },
    {
     "name": "stderr",
     "output_type": "stream",
     "text": [
      "\n",
      "t:  72%|███████▏  | 909/1260 [02:51<01:12,  4.83it/s, now=None]\u001b[A\n",
      "t:  72%|███████▏  | 910/1260 [02:51<01:08,  5.13it/s, now=None]"
     ]
    },
    {
     "name": "stdout",
     "output_type": "stream",
     "text": [
      "250.70456296912397 180.89331651438073\n",
      "259.8303636551217 189.05318985500708\n"
     ]
    },
    {
     "name": "stderr",
     "output_type": "stream",
     "text": [
      "\u001b[A\n",
      "t:  72%|███████▏  | 911/1260 [02:51<01:07,  5.19it/s, now=None]\u001b[A"
     ]
    },
    {
     "name": "stdout",
     "output_type": "stream",
     "text": [
      "220.6290764258119 161.78179545916356\n",
      "231.96500493611828 176.27102203464824\n"
     ]
    },
    {
     "name": "stderr",
     "output_type": "stream",
     "text": [
      "\n",
      "t:  72%|███████▏  | 912/1260 [02:51<01:05,  5.31it/s, now=None]\u001b[A\n",
      "t:  72%|███████▏  | 913/1260 [02:52<01:05,  5.31it/s, now=None]\u001b[A"
     ]
    },
    {
     "name": "stdout",
     "output_type": "stream",
     "text": [
      "203.42006487480748 180.3206416670437\n",
      "214.32064204745691"
     ]
    },
    {
     "name": "stderr",
     "output_type": "stream",
     "text": [
      "\n",
      "t:  73%|███████▎  | 914/1260 [02:52<01:05,  5.30it/s, now=None]\u001b[A"
     ]
    },
    {
     "name": "stdout",
     "output_type": "stream",
     "text": [
      " 180.84137615908773\n",
      "203.25078984503708 194.3839625466997\n"
     ]
    },
    {
     "name": "stderr",
     "output_type": "stream",
     "text": [
      "\n",
      "t:  73%|███████▎  | 915/1260 [02:52<01:07,  5.14it/s, now=None]\u001b[A\n",
      "t:  73%|███████▎  | 916/1260 [02:52<01:07,  5.07it/s, now=None]\u001b[A"
     ]
    },
    {
     "name": "stdout",
     "output_type": "stream",
     "text": [
      "197.65829637304446 201.47125067178968\n"
     ]
    },
    {
     "name": "stderr",
     "output_type": "stream",
     "text": [
      "\n",
      "t:  73%|███████▎  | 917/1260 [02:52<01:07,  5.06it/s, now=None]\u001b[A"
     ]
    },
    {
     "name": "stdout",
     "output_type": "stream",
     "text": [
      "186.0753212908613 197.24644705273727\n",
      "197.9553633350455"
     ]
    },
    {
     "name": "stderr",
     "output_type": "stream",
     "text": [
      "\n",
      "t:  73%|███████▎  | 918/1260 [02:53<01:07,  5.05it/s, now=None]\u001b[A"
     ]
    },
    {
     "name": "stdout",
     "output_type": "stream",
     "text": [
      " 226.47333209096885\n",
      "189.7515165345319"
     ]
    },
    {
     "name": "stderr",
     "output_type": "stream",
     "text": [
      "\n",
      "t:  73%|███████▎  | 919/1260 [02:53<01:07,  5.07it/s, now=None]\u001b[A"
     ]
    },
    {
     "name": "stdout",
     "output_type": "stream",
     "text": [
      " 282.3336127012794\n",
      "218.183586400537"
     ]
    },
    {
     "name": "stderr",
     "output_type": "stream",
     "text": [
      "\n",
      "t:  73%|███████▎  | 920/1260 [02:53<01:07,  5.02it/s, now=None]\u001b[A"
     ]
    },
    {
     "name": "stdout",
     "output_type": "stream",
     "text": [
      " 278.729051060865\n",
      "198.1339426547344"
     ]
    },
    {
     "name": "stderr",
     "output_type": "stream",
     "text": [
      "\n",
      "t:  73%|███████▎  | 921/1260 [02:53<01:07,  5.01it/s, now=None]\u001b[A"
     ]
    },
    {
     "name": "stdout",
     "output_type": "stream",
     "text": [
      " 260.07561067054763\n"
     ]
    },
    {
     "name": "stderr",
     "output_type": "stream",
     "text": [
      "\n",
      "t:  73%|███████▎  | 922/1260 [02:53<01:10,  4.79it/s, now=None]\u001b[A"
     ]
    },
    {
     "name": "stdout",
     "output_type": "stream",
     "text": [
      "197.37175026213495 280.9364809173903\n",
      "224.7058821396146"
     ]
    },
    {
     "name": "stderr",
     "output_type": "stream",
     "text": [
      "\n",
      "t:  73%|███████▎  | 923/1260 [02:54<01:11,  4.72it/s, now=None]\u001b[A"
     ]
    },
    {
     "name": "stdout",
     "output_type": "stream",
     "text": [
      " 247.6161978158926\n",
      "216.76847481326362 230.49035355270553\n"
     ]
    },
    {
     "name": "stderr",
     "output_type": "stream",
     "text": [
      "\n",
      "t:  73%|███████▎  | 924/1260 [02:54<01:08,  4.87it/s, now=None]\u001b[A\n",
      "t:  73%|███████▎  | 925/1260 [02:54<01:08,  4.93it/s, now=None]\u001b[A"
     ]
    },
    {
     "name": "stdout",
     "output_type": "stream",
     "text": [
      "252.31094952601717 234.66735960754323\n",
      "260.7872905251251 228.96769511288952\n"
     ]
    },
    {
     "name": "stderr",
     "output_type": "stream",
     "text": [
      "\n",
      "t:  73%|███████▎  | 926/1260 [02:54<01:07,  4.98it/s, now=None]\u001b[A\n",
      "t:  74%|███████▎  | 927/1260 [02:54<01:05,  5.09it/s, now=None]\u001b[A"
     ]
    },
    {
     "name": "stdout",
     "output_type": "stream",
     "text": [
      "255.35304157846986 216.1510339285473\n",
      "292.1966413285955"
     ]
    },
    {
     "name": "stderr",
     "output_type": "stream",
     "text": [
      "\n",
      "t:  74%|███████▎  | 928/1260 [02:55<01:04,  5.17it/s, now=None]\u001b[A"
     ]
    },
    {
     "name": "stdout",
     "output_type": "stream",
     "text": [
      " 234.0626812165288\n",
      "326.94413126815095"
     ]
    },
    {
     "name": "stderr",
     "output_type": "stream",
     "text": [
      "\n",
      "t:  74%|███████▎  | 929/1260 [02:55<01:04,  5.14it/s, now=None]\u001b[A"
     ]
    },
    {
     "name": "stdout",
     "output_type": "stream",
     "text": [
      " 230.15872730879175\n",
      "361.54034223483654"
     ]
    },
    {
     "name": "stderr",
     "output_type": "stream",
     "text": [
      "\n",
      "t:  74%|███████▍  | 930/1260 [02:55<01:03,  5.17it/s, now=None]\u001b[A"
     ]
    },
    {
     "name": "stdout",
     "output_type": "stream",
     "text": [
      " 226.4001964365815\n",
      "409.57667878430254"
     ]
    },
    {
     "name": "stderr",
     "output_type": "stream",
     "text": [
      "\n",
      "t:  74%|███████▍  | 931/1260 [02:55<01:03,  5.21it/s, now=None]\u001b[A"
     ]
    },
    {
     "name": "stdout",
     "output_type": "stream",
     "text": [
      " 231.98146815973269\n",
      "359.5663240000975"
     ]
    },
    {
     "name": "stderr",
     "output_type": "stream",
     "text": [
      "\n",
      "t:  74%|███████▍  | 932/1260 [02:55<01:02,  5.21it/s, now=None]\u001b[A"
     ]
    },
    {
     "name": "stdout",
     "output_type": "stream",
     "text": [
      " 172.27148938192377\n",
      "412.5879570738007 165.84854537052942\n"
     ]
    },
    {
     "name": "stderr",
     "output_type": "stream",
     "text": [
      "\n",
      "t:  74%|███████▍  | 933/1260 [02:56<01:02,  5.26it/s, now=None]\u001b[A\n",
      "t:  74%|███████▍  | 934/1260 [02:56<01:01,  5.29it/s, now=None]\u001b[A"
     ]
    },
    {
     "name": "stdout",
     "output_type": "stream",
     "text": [
      "371.1977946791952 160.75559997001318\n",
      "280.94846062002364"
     ]
    },
    {
     "name": "stderr",
     "output_type": "stream",
     "text": [
      "\n",
      "t:  74%|███████▍  | 935/1260 [02:56<01:00,  5.35it/s, now=None]\u001b[A"
     ]
    },
    {
     "name": "stdout",
     "output_type": "stream",
     "text": [
      " 163.47113301628784\n",
      "262.06414179268654 167.2343672417846\n"
     ]
    },
    {
     "name": "stderr",
     "output_type": "stream",
     "text": [
      "\n",
      "t:  74%|███████▍  | 936/1260 [02:56<01:00,  5.32it/s, now=None]\u001b[A\n",
      "t:  74%|███████▍  | 937/1260 [02:56<00:59,  5.39it/s, now=None]\u001b[A"
     ]
    },
    {
     "name": "stdout",
     "output_type": "stream",
     "text": [
      "230.54243511655 149.5856016965049\n",
      "227.94300927995334 158.9858063845101\n"
     ]
    },
    {
     "name": "stderr",
     "output_type": "stream",
     "text": [
      "\n",
      "t:  74%|███████▍  | 938/1260 [02:56<01:00,  5.34it/s, now=None]\u001b[A\n",
      "t:  75%|███████▍  | 939/1260 [02:57<01:00,  5.30it/s, now=None]\u001b[A"
     ]
    },
    {
     "name": "stdout",
     "output_type": "stream",
     "text": [
      "236.00421270007115 167.51898433540683\n",
      "237.52584774346033"
     ]
    },
    {
     "name": "stderr",
     "output_type": "stream",
     "text": [
      "\n",
      "t:  75%|███████▍  | 940/1260 [02:57<01:00,  5.30it/s, now=None]\u001b[A"
     ]
    },
    {
     "name": "stdout",
     "output_type": "stream",
     "text": [
      " 165.72746710565372\n",
      "214.964592551067"
     ]
    },
    {
     "name": "stderr",
     "output_type": "stream",
     "text": [
      "\n",
      "t:  75%|███████▍  | 941/1260 [02:57<01:00,  5.30it/s, now=None]\u001b[A"
     ]
    },
    {
     "name": "stdout",
     "output_type": "stream",
     "text": [
      " 174.50129092939682\n",
      "199.7524793352125"
     ]
    },
    {
     "name": "stderr",
     "output_type": "stream",
     "text": [
      "\n",
      "t:  75%|███████▍  | 942/1260 [02:57<00:59,  5.34it/s, now=None]\u001b[A"
     ]
    },
    {
     "name": "stdout",
     "output_type": "stream",
     "text": [
      " 165.14617783704043\n",
      "195.61520561281114"
     ]
    },
    {
     "name": "stderr",
     "output_type": "stream",
     "text": [
      "\n",
      "t:  75%|███████▍  | 943/1260 [02:57<00:59,  5.35it/s, now=None]\u001b[A"
     ]
    },
    {
     "name": "stdout",
     "output_type": "stream",
     "text": [
      " 194.18947374493462\n",
      "195.46153047231408"
     ]
    },
    {
     "name": "stderr",
     "output_type": "stream",
     "text": [
      "\n",
      "t:  75%|███████▍  | 944/1260 [02:58<00:59,  5.33it/s, now=None]\u001b[A"
     ]
    },
    {
     "name": "stdout",
     "output_type": "stream",
     "text": [
      " 196.50820810994537\n",
      "209.81523095491258 218.31956188259315\n"
     ]
    },
    {
     "name": "stderr",
     "output_type": "stream",
     "text": [
      "\n",
      "t:  75%|███████▌  | 945/1260 [02:58<00:57,  5.44it/s, now=None]\u001b[A\n",
      "t:  75%|███████▌  | 946/1260 [02:58<00:57,  5.46it/s, now=None]\u001b[A"
     ]
    },
    {
     "name": "stdout",
     "output_type": "stream",
     "text": [
      "189.62278209106827 189.26900527833925\n",
      "207.2102523180952 189.156898517555\n"
     ]
    },
    {
     "name": "stderr",
     "output_type": "stream",
     "text": [
      "\n",
      "t:  75%|███████▌  | 947/1260 [02:58<00:57,  5.42it/s, now=None]\u001b[A\n",
      "t:  75%|███████▌  | 948/1260 [02:58<00:58,  5.31it/s, now=None]\u001b[A"
     ]
    },
    {
     "name": "stdout",
     "output_type": "stream",
     "text": [
      "215.98354132078867 209.6358526590902\n"
     ]
    },
    {
     "name": "stderr",
     "output_type": "stream",
     "text": [
      "\n",
      "t:  75%|███████▌  | 949/1260 [02:59<00:59,  5.19it/s, now=None]\u001b[A"
     ]
    },
    {
     "name": "stdout",
     "output_type": "stream",
     "text": [
      "207.45999563020249 223.8792898491758\n"
     ]
    },
    {
     "name": "stderr",
     "output_type": "stream",
     "text": [
      "\n",
      "t:  75%|███████▌  | 950/1260 [02:59<01:00,  5.14it/s, now=None]\u001b[A"
     ]
    },
    {
     "name": "stdout",
     "output_type": "stream",
     "text": [
      "233.6601852961336 217.56022130302296\n",
      "270.6543196363802 211.64489300551347\n"
     ]
    },
    {
     "name": "stderr",
     "output_type": "stream",
     "text": [
      "\n",
      "t:  75%|███████▌  | 951/1260 [02:59<00:59,  5.18it/s, now=None]\u001b[A\n",
      "t:  76%|███████▌  | 952/1260 [02:59<00:58,  5.27it/s, now=None]\u001b[A"
     ]
    },
    {
     "name": "stdout",
     "output_type": "stream",
     "text": [
      "298.0148104925609 236.03380896282394\n",
      "331.1427646759678 363.3531101314983\n"
     ]
    },
    {
     "name": "stderr",
     "output_type": "stream",
     "text": [
      "\n",
      "t:  76%|███████▌  | 953/1260 [02:59<00:56,  5.43it/s, now=None]\u001b[A\n",
      "t:  76%|███████▌  | 954/1260 [02:59<00:55,  5.49it/s, now=None]\u001b[A"
     ]
    },
    {
     "name": "stdout",
     "output_type": "stream",
     "text": [
      "267.20191480986597 503.14737592430356\n",
      "297.4333121934553"
     ]
    },
    {
     "name": "stderr",
     "output_type": "stream",
     "text": [
      "\n",
      "t:  76%|███████▌  | 955/1260 [03:00<00:55,  5.48it/s, now=None]\u001b[A"
     ]
    },
    {
     "name": "stdout",
     "output_type": "stream",
     "text": [
      " 578.1379357986283\n",
      "301.8791331199467 485.48602862097573\n"
     ]
    },
    {
     "name": "stderr",
     "output_type": "stream",
     "text": [
      "\n",
      "t:  76%|███████▌  | 956/1260 [03:00<00:55,  5.49it/s, now=None]\u001b[A\n",
      "t:  76%|███████▌  | 957/1260 [03:00<00:55,  5.41it/s, now=None]\u001b[A"
     ]
    },
    {
     "name": "stdout",
     "output_type": "stream",
     "text": [
      "279.9679508544684 356.877450692913\n",
      "266.5410202794781"
     ]
    },
    {
     "name": "stderr",
     "output_type": "stream",
     "text": [
      "\n",
      "t:  76%|███████▌  | 958/1260 [03:00<00:56,  5.34it/s, now=None]\u001b[A"
     ]
    },
    {
     "name": "stdout",
     "output_type": "stream",
     "text": [
      " 458.83554059369305\n",
      "286.8727692642451"
     ]
    },
    {
     "name": "stderr",
     "output_type": "stream",
     "text": [
      "\n",
      "t:  76%|███████▌  | 959/1260 [03:00<00:56,  5.31it/s, now=None]\u001b[A"
     ]
    },
    {
     "name": "stdout",
     "output_type": "stream",
     "text": [
      " 269.8820435242003\n"
     ]
    },
    {
     "name": "stderr",
     "output_type": "stream",
     "text": [
      "\n",
      "t:  76%|███████▌  | 960/1260 [03:01<00:59,  5.08it/s, now=None]\u001b[A"
     ]
    },
    {
     "name": "stdout",
     "output_type": "stream",
     "text": [
      "241.3300664973982 284.6371842255865\n",
      "258.626623412218 287.7706956579551\n"
     ]
    },
    {
     "name": "stderr",
     "output_type": "stream",
     "text": [
      "\n",
      "t:  76%|███████▋  | 961/1260 [03:01<00:58,  5.11it/s, now=None]\u001b[A\n",
      "t:  76%|███████▋  | 962/1260 [03:01<00:58,  5.11it/s, now=None]\u001b[A"
     ]
    },
    {
     "name": "stdout",
     "output_type": "stream",
     "text": [
      "267.0132667386969 303.8844154347374\n",
      "286.73884158016693"
     ]
    },
    {
     "name": "stderr",
     "output_type": "stream",
     "text": [
      "\n",
      "t:  76%|███████▋  | 963/1260 [03:01<00:58,  5.09it/s, now=None]\u001b[A"
     ]
    },
    {
     "name": "stdout",
     "output_type": "stream",
     "text": [
      " 300.82760132421134\n",
      "319.53288567082086"
     ]
    },
    {
     "name": "stderr",
     "output_type": "stream",
     "text": [
      "\n",
      "t:  77%|███████▋  | 964/1260 [03:01<00:57,  5.11it/s, now=None]\u001b[A"
     ]
    },
    {
     "name": "stdout",
     "output_type": "stream",
     "text": [
      " 294.56500670088406\n"
     ]
    },
    {
     "name": "stderr",
     "output_type": "stream",
     "text": [
      "\n",
      "t:  77%|███████▋  | 965/1260 [03:02<01:00,  4.91it/s, now=None]\u001b[A"
     ]
    },
    {
     "name": "stdout",
     "output_type": "stream",
     "text": [
      "310.473662184905 379.35223302863665\n",
      "339.1220194941133"
     ]
    },
    {
     "name": "stderr",
     "output_type": "stream",
     "text": [
      "\n",
      "t:  77%|███████▋  | 966/1260 [03:02<00:58,  5.00it/s, now=None]\u001b[A"
     ]
    },
    {
     "name": "stdout",
     "output_type": "stream",
     "text": [
      " 615.9206119421311\n",
      "355.6342859559302"
     ]
    },
    {
     "name": "stderr",
     "output_type": "stream",
     "text": [
      "\n",
      "t:  77%|███████▋  | 967/1260 [03:02<00:57,  5.08it/s, now=None]\u001b[A"
     ]
    },
    {
     "name": "stdout",
     "output_type": "stream",
     "text": [
      " 366.2638788262471\n",
      "354.2980142827052"
     ]
    },
    {
     "name": "stderr",
     "output_type": "stream",
     "text": [
      "\n",
      "t:  77%|███████▋  | 968/1260 [03:02<00:57,  5.11it/s, now=None]\u001b[A"
     ]
    },
    {
     "name": "stdout",
     "output_type": "stream",
     "text": [
      " 334.4728299119795\n",
      "403.1465760655754 333.932088010481\n"
     ]
    },
    {
     "name": "stderr",
     "output_type": "stream",
     "text": [
      "\n",
      "t:  77%|███████▋  | 969/1260 [03:02<00:55,  5.27it/s, now=None]\u001b[A\n",
      "t:  77%|███████▋  | 970/1260 [03:03<00:54,  5.29it/s, now=None]\u001b[A"
     ]
    },
    {
     "name": "stdout",
     "output_type": "stream",
     "text": [
      "482.3395808127148 344.1189374257159\n",
      "556.1283013817753"
     ]
    },
    {
     "name": "stderr",
     "output_type": "stream",
     "text": [
      "\n",
      "t:  77%|███████▋  | 971/1260 [03:03<00:54,  5.34it/s, now=None]\u001b[A"
     ]
    },
    {
     "name": "stdout",
     "output_type": "stream",
     "text": [
      " 332.5346567333095\n",
      "551.3518431704324 413.5522206687745\n"
     ]
    },
    {
     "name": "stderr",
     "output_type": "stream",
     "text": [
      "\n",
      "t:  77%|███████▋  | 972/1260 [03:03<00:52,  5.46it/s, now=None]\u001b[A\n",
      "t:  77%|███████▋  | 973/1260 [03:03<00:51,  5.55it/s, now=None]\u001b[A\n"
     ]
    },
    {
     "name": "stdout",
     "output_type": "stream",
     "text": [
      "695.5265564658515 343.1625007438333\n",
      "869.9616231352072 340.92491423343955\n"
     ]
    },
    {
     "name": "stderr",
     "output_type": "stream",
     "text": [
      "t:  77%|███████▋  | 974/1260 [03:03<00:51,  5.60it/s, now=None]\u001b[A\n",
      "t:  77%|███████▋  | 975/1260 [03:03<00:50,  5.60it/s, now=None]\u001b[A"
     ]
    },
    {
     "name": "stdout",
     "output_type": "stream",
     "text": [
      "1400.2159961536368 401.0205040006528\n",
      "1721.3399578241622"
     ]
    },
    {
     "name": "stderr",
     "output_type": "stream",
     "text": [
      "\n",
      "t:  77%|███████▋  | 976/1260 [03:04<00:52,  5.43it/s, now=None]\u001b[A"
     ]
    },
    {
     "name": "stdout",
     "output_type": "stream",
     "text": [
      " 438.4160330618842\n",
      "1966.6750470376892 541.6138930238432\n"
     ]
    },
    {
     "name": "stderr",
     "output_type": "stream",
     "text": [
      "\n",
      "t:  78%|███████▊  | 977/1260 [03:04<00:51,  5.49it/s, now=None]\u001b[A\n",
      "t:  78%|███████▊  | 978/1260 [03:04<00:50,  5.57it/s, now=None]\u001b[A\n"
     ]
    },
    {
     "name": "stdout",
     "output_type": "stream",
     "text": [
      "5818.782372465154 351.7836854209923\n",
      "5584.294245581396 194.55472155107415\n"
     ]
    },
    {
     "name": "stderr",
     "output_type": "stream",
     "text": [
      "t:  78%|███████▊  | 979/1260 [03:04<00:50,  5.61it/s, now=None]\u001b[A\n",
      "t:  78%|███████▊  | 980/1260 [03:04<00:49,  5.62it/s, now=None]\u001b[A\n"
     ]
    },
    {
     "name": "stdout",
     "output_type": "stream",
     "text": [
      "1104.326736070467 192.12251868140652\n",
      "833.8313212546395 179.4343817693343\n"
     ]
    },
    {
     "name": "stderr",
     "output_type": "stream",
     "text": [
      "t:  78%|███████▊  | 981/1260 [03:05<00:48,  5.70it/s, now=None]\u001b[A\n",
      "t:  78%|███████▊  | 982/1260 [03:05<00:47,  5.80it/s, now=None]\u001b[A\n",
      "t:  78%|███████▊  | 983/1260 [03:05<00:47,  5.89it/s, now=None]"
     ]
    },
    {
     "name": "stdout",
     "output_type": "stream",
     "text": [
      "1399.5358505120084 184.58709071168926\n",
      "294.90747232227125 209.92145127257828\n"
     ]
    },
    {
     "name": "stderr",
     "output_type": "stream",
     "text": [
      "\u001b[A\n",
      "t:  78%|███████▊  | 984/1260 [03:05<00:49,  5.63it/s, now=None]\u001b[A\n",
      "t:  78%|███████▊  | 985/1260 [03:05<00:47,  5.78it/s, now=None]\u001b[A"
     ]
    },
    {
     "name": "stdout",
     "output_type": "stream",
     "text": [
      "249.96872166790857 211.89255793402916\n",
      "266.8364270343192 212.9501546011218\n"
     ]
    },
    {
     "name": "stderr",
     "output_type": "stream",
     "text": [
      "\n",
      "t:  78%|███████▊  | 986/1260 [03:05<00:47,  5.71it/s, now=None]\u001b[A"
     ]
    },
    {
     "name": "stdout",
     "output_type": "stream",
     "text": [
      "309.6112121476088 190.1201862711361\n",
      "451.00149226339806 193.87309287940295\n"
     ]
    },
    {
     "name": "stderr",
     "output_type": "stream",
     "text": [
      "\n",
      "t:  78%|███████▊  | 987/1260 [03:06<00:47,  5.75it/s, now=None]\u001b[A\n",
      "t:  78%|███████▊  | 988/1260 [03:06<00:47,  5.69it/s, now=None]\u001b[A"
     ]
    },
    {
     "name": "stdout",
     "output_type": "stream",
     "text": [
      "407.43556478593246 192.45472367721214\n",
      "1495.5474195503243 144.12593239033293\n"
     ]
    },
    {
     "name": "stderr",
     "output_type": "stream",
     "text": [
      "\n",
      "t:  78%|███████▊  | 989/1260 [03:06<00:46,  5.79it/s, now=None]\u001b[A\n",
      "t:  79%|███████▊  | 990/1260 [03:06<00:46,  5.82it/s, now=None]\u001b[A\n"
     ]
    },
    {
     "name": "stdout",
     "output_type": "stream",
     "text": [
      "1708.5384486151206 107.3223198160688\n",
      "1258.2505487386352 117.67558503154993\n"
     ]
    },
    {
     "name": "stderr",
     "output_type": "stream",
     "text": [
      "t:  79%|███████▊  | 991/1260 [03:06<00:46,  5.76it/s, now=None]\u001b[A\n",
      "t:  79%|███████▊  | 992/1260 [03:06<00:46,  5.80it/s, now=None]\u001b[A"
     ]
    },
    {
     "name": "stdout",
     "output_type": "stream",
     "text": [
      "790.4267706012386 146.81317310202024\n",
      "883.9082075296626 138.42487485562208\n"
     ]
    },
    {
     "name": "stderr",
     "output_type": "stream",
     "text": [
      "\n",
      "t:  79%|███████▉  | 993/1260 [03:07<00:46,  5.77it/s, now=None]\u001b[A\n",
      "t:  79%|███████▉  | 994/1260 [03:07<00:48,  5.46it/s, now=None]\u001b[A"
     ]
    },
    {
     "name": "stdout",
     "output_type": "stream",
     "text": [
      "1840.045308748028 169.54656025289407\n",
      "1155.4062281748602"
     ]
    },
    {
     "name": "stderr",
     "output_type": "stream",
     "text": [
      "\n",
      "t:  79%|███████▉  | 995/1260 [03:07<00:48,  5.47it/s, now=None]\u001b[A\n",
      "t:  79%|███████▉  | 996/1260 [03:07<00:46,  5.68it/s, now=None]\u001b[A"
     ]
    },
    {
     "name": "stdout",
     "output_type": "stream",
     "text": [
      " 152.841779526222\n",
      "253.760693445898 145.64853342218862\n"
     ]
    },
    {
     "name": "stderr",
     "output_type": "stream",
     "text": [
      "\n",
      "t:  79%|███████▉  | 997/1260 [03:07<00:46,  5.64it/s, now=None]\u001b[A"
     ]
    },
    {
     "name": "stdout",
     "output_type": "stream",
     "text": [
      "1299.903268888877 149.48309729656748\n",
      "110.85415137592936 159.4098443966737\n"
     ]
    },
    {
     "name": "stderr",
     "output_type": "stream",
     "text": [
      "\n",
      "t:  79%|███████▉  | 998/1260 [03:07<00:45,  5.74it/s, now=None]\u001b[A\n",
      "t:  79%|███████▉  | 999/1260 [03:08<00:45,  5.71it/s, now=None]\u001b[A"
     ]
    },
    {
     "name": "stdout",
     "output_type": "stream",
     "text": [
      "105.86245383434698 176.80016594697338\n",
      "126.95846729842624 226.10142606276847\n"
     ]
    },
    {
     "name": "stderr",
     "output_type": "stream",
     "text": [
      "\n",
      "t:  79%|███████▉  | 1000/1260 [03:08<00:45,  5.75it/s, now=None]\u001b[A\n",
      "t:  79%|███████▉  | 1001/1260 [03:08<00:44,  5.81it/s, now=None]\u001b[A"
     ]
    },
    {
     "name": "stdout",
     "output_type": "stream",
     "text": [
      "168.83218863299388 1234.0164765707225\n",
      "199.86277559396962 266.7956458310201\n"
     ]
    },
    {
     "name": "stderr",
     "output_type": "stream",
     "text": [
      "\n",
      "t:  80%|███████▉  | 1002/1260 [03:08<00:45,  5.73it/s, now=None]\u001b[A\n",
      "t:  80%|███████▉  | 1003/1260 [03:08<00:44,  5.77it/s, now=None]\u001b[A"
     ]
    },
    {
     "name": "stdout",
     "output_type": "stream",
     "text": [
      "273.87903264736786 292.49773727566685\n",
      "348.7530515487138 329.81600446956656\n"
     ]
    },
    {
     "name": "stderr",
     "output_type": "stream",
     "text": [
      "\n",
      "t:  80%|███████▉  | 1004/1260 [03:09<00:44,  5.76it/s, now=None]\u001b[A\n",
      "t:  80%|███████▉  | 1005/1260 [03:09<00:43,  5.81it/s, now=None]\u001b[A"
     ]
    },
    {
     "name": "stdout",
     "output_type": "stream",
     "text": [
      "344.21233621341685 158.05092250836776\n",
      "313.3348562994374 152.38580418264377\n"
     ]
    },
    {
     "name": "stderr",
     "output_type": "stream",
     "text": [
      "\n",
      "t:  80%|███████▉  | 1006/1260 [03:09<00:43,  5.87it/s, now=None]\u001b[A\n",
      "t:  80%|███████▉  | 1007/1260 [03:09<00:43,  5.85it/s, now=None]\u001b[A"
     ]
    },
    {
     "name": "stdout",
     "output_type": "stream",
     "text": [
      "415.05645721315426 163.94534909853988\n",
      "344.0917054201676 165.79692580313997\n"
     ]
    },
    {
     "name": "stderr",
     "output_type": "stream",
     "text": [
      "\n",
      "t:  80%|████████  | 1008/1260 [03:09<00:43,  5.73it/s, now=None]\u001b[A\n",
      "t:  80%|████████  | 1009/1260 [03:09<00:44,  5.58it/s, now=None]\u001b[A"
     ]
    },
    {
     "name": "stdout",
     "output_type": "stream",
     "text": [
      "228.05032077593796 151.59319038848173\n"
     ]
    },
    {
     "name": "stderr",
     "output_type": "stream",
     "text": [
      "\n",
      "t:  80%|████████  | 1010/1260 [03:10<00:46,  5.43it/s, now=None]\u001b[A\n",
      "t:  80%|████████  | 1011/1260 [03:10<00:44,  5.65it/s, now=None]\u001b[A"
     ]
    },
    {
     "name": "stdout",
     "output_type": "stream",
     "text": [
      "266.6524634694969 157.90856116182673\n",
      "257.053288073421 168.33501249284214\n"
     ]
    },
    {
     "name": "stderr",
     "output_type": "stream",
     "text": [
      "\n",
      "t:  80%|████████  | 1012/1260 [03:10<00:42,  5.86it/s, now=None]\u001b[A\n"
     ]
    },
    {
     "name": "stdout",
     "output_type": "stream",
     "text": [
      "712.1647665137128 163.82683215024062\n",
      "778.7327785136763 199.7045615955345\n"
     ]
    },
    {
     "name": "stderr",
     "output_type": "stream",
     "text": [
      "t:  80%|████████  | 1013/1260 [03:10<00:41,  5.93it/s, now=None]\u001b[A\n",
      "t:  80%|████████  | 1014/1260 [03:10<00:41,  5.96it/s, now=None]\u001b[A\n",
      "t:  81%|████████  | 1015/1260 [03:10<00:40,  6.09it/s, now=None]\u001b[A"
     ]
    },
    {
     "name": "stdout",
     "output_type": "stream",
     "text": [
      "647.9374227908464 195.71792777149898\n",
      "1466.9101551515287 203.0427648020416\n"
     ]
    },
    {
     "name": "stderr",
     "output_type": "stream",
     "text": [
      "\n",
      "t:  81%|████████  | 1016/1260 [03:11<00:40,  6.07it/s, now=None]\u001b[A\n",
      "t:  81%|████████  | 1017/1260 [03:11<00:39,  6.11it/s, now=None]\u001b[A"
     ]
    },
    {
     "name": "stdout",
     "output_type": "stream",
     "text": [
      "774.4988900531447 165.72083416501573\n",
      "320.0239092968004 157.98272927956998\n"
     ]
    },
    {
     "name": "stderr",
     "output_type": "stream",
     "text": [
      "\n",
      "t:  81%|████████  | 1018/1260 [03:11<00:39,  6.09it/s, now=None]\u001b[A\n",
      "t:  81%|████████  | 1019/1260 [03:11<00:38,  6.21it/s, now=None]\u001b[A"
     ]
    },
    {
     "name": "stdout",
     "output_type": "stream",
     "text": [
      "279.5862575107826 197.77649690969486\n",
      "305.90000651012286 257.685249459121\n"
     ]
    },
    {
     "name": "stderr",
     "output_type": "stream",
     "text": [
      "\n",
      "t:  81%|████████  | 1020/1260 [03:11<00:38,  6.24it/s, now=None]\u001b[A\n",
      "t:  81%|████████  | 1021/1260 [03:11<00:37,  6.31it/s, now=None]\u001b[A"
     ]
    },
    {
     "name": "stdout",
     "output_type": "stream",
     "text": [
      "316.745956315774 282.9476698286946\n",
      "312.7633551710224 253.52040895960417\n"
     ]
    },
    {
     "name": "stderr",
     "output_type": "stream",
     "text": [
      "\n",
      "t:  81%|████████  | 1022/1260 [03:12<00:38,  6.23it/s, now=None]\u001b[A"
     ]
    },
    {
     "name": "stdout",
     "output_type": "stream",
     "text": [
      "266.6757637883816 269.7053642396895\n",
      "360.2832483973118 323.3815330280595\n"
     ]
    },
    {
     "name": "stderr",
     "output_type": "stream",
     "text": [
      "\n",
      "t:  81%|████████  | 1023/1260 [03:12<00:38,  6.09it/s, now=None]\u001b[A\n",
      "t:  81%|████████▏ | 1024/1260 [03:12<00:38,  6.10it/s, now=None]\u001b[A"
     ]
    },
    {
     "name": "stdout",
     "output_type": "stream",
     "text": [
      "280.655344942848 324.95867257324846\n",
      "200.34948674949615 342.8436921349366\n"
     ]
    },
    {
     "name": "stderr",
     "output_type": "stream",
     "text": [
      "\n",
      "t:  81%|████████▏ | 1025/1260 [03:12<00:38,  6.08it/s, now=None]\u001b[A\n",
      "t:  81%|████████▏ | 1026/1260 [03:12<00:38,  6.05it/s, now=None]\u001b[A"
     ]
    },
    {
     "name": "stdout",
     "output_type": "stream",
     "text": [
      "218.6032418118322 364.00857061961904\n",
      "167.18516418652538 253.52395685049075\n"
     ]
    },
    {
     "name": "stderr",
     "output_type": "stream",
     "text": [
      "\n",
      "t:  82%|████████▏ | 1027/1260 [03:12<00:38,  6.06it/s, now=None]\u001b[A\n",
      "t:  82%|████████▏ | 1028/1260 [03:13<00:38,  6.09it/s, now=None]\u001b[A\n"
     ]
    },
    {
     "name": "stdout",
     "output_type": "stream",
     "text": [
      "189.44542878879508 186.7979271968405\n",
      "175.44747158827585 151.35438705550436\n"
     ]
    },
    {
     "name": "stderr",
     "output_type": "stream",
     "text": [
      "t:  82%|████████▏ | 1029/1260 [03:13<00:37,  6.09it/s, now=None]\u001b[A\n",
      "t:  82%|████████▏ | 1030/1260 [03:13<00:39,  5.86it/s, now=None]\u001b[A"
     ]
    },
    {
     "name": "stdout",
     "output_type": "stream",
     "text": [
      "171.70643917745508 147.67133889446296\n",
      "170.185118853978 139.09517406866274\n"
     ]
    },
    {
     "name": "stderr",
     "output_type": "stream",
     "text": [
      "\n",
      "t:  82%|████████▏ | 1031/1260 [03:13<00:39,  5.84it/s, now=None]\u001b[A\n",
      "t:  82%|████████▏ | 1032/1260 [03:13<00:39,  5.84it/s, now=None]\u001b[A"
     ]
    },
    {
     "name": "stdout",
     "output_type": "stream",
     "text": [
      "168.07351786201747 131.12273460144633\n",
      "227.49624599272613 135.1822457885459\n"
     ]
    },
    {
     "name": "stderr",
     "output_type": "stream",
     "text": [
      "\n",
      "t:  82%|████████▏ | 1033/1260 [03:13<00:39,  5.80it/s, now=None]\u001b[A\n",
      "t:  82%|████████▏ | 1034/1260 [03:14<00:39,  5.71it/s, now=None]\u001b[A\n"
     ]
    },
    {
     "name": "stdout",
     "output_type": "stream",
     "text": [
      "220.12595643037957 144.99957136481237\n",
      "210.52785900999174 144.9694453298334\n"
     ]
    },
    {
     "name": "stderr",
     "output_type": "stream",
     "text": [
      "t:  82%|████████▏ | 1035/1260 [03:14<00:39,  5.75it/s, now=None]\u001b[A\n",
      "t:  82%|████████▏ | 1036/1260 [03:14<00:38,  5.85it/s, now=None]\u001b[A"
     ]
    },
    {
     "name": "stdout",
     "output_type": "stream",
     "text": [
      "227.94482857793548 135.1603952724297\n",
      "172.15958380872075 130.51107622717302\n"
     ]
    },
    {
     "name": "stderr",
     "output_type": "stream",
     "text": [
      "\n",
      "t:  82%|████████▏ | 1037/1260 [03:14<00:37,  5.88it/s, now=None]\u001b[A\n",
      "t:  82%|████████▏ | 1038/1260 [03:14<00:38,  5.82it/s, now=None]\u001b[A"
     ]
    },
    {
     "name": "stdout",
     "output_type": "stream",
     "text": [
      "161.29945558347472 131.59584123466755\n",
      "136.31528826734032"
     ]
    },
    {
     "name": "stderr",
     "output_type": "stream",
     "text": [
      "\n",
      "t:  82%|████████▏ | 1039/1260 [03:14<00:38,  5.75it/s, now=None]\u001b[A\n",
      "t:  83%|████████▎ | 1040/1260 [03:15<00:36,  6.05it/s, now=None]\u001b[A"
     ]
    },
    {
     "name": "stdout",
     "output_type": "stream",
     "text": [
      " 117.10546384618492\n",
      "126.04126650525896 117.59248899463412\n"
     ]
    },
    {
     "name": "stderr",
     "output_type": "stream",
     "text": [
      "\n",
      "t:  83%|████████▎ | 1041/1260 [03:15<00:35,  6.18it/s, now=None]\u001b[A\n"
     ]
    },
    {
     "name": "stdout",
     "output_type": "stream",
     "text": [
      "147.84873780280915 143.82921262829075\n",
      "139.21913079095955 178.2252046320606\n"
     ]
    },
    {
     "name": "stderr",
     "output_type": "stream",
     "text": [
      "t:  83%|████████▎ | 1042/1260 [03:15<00:35,  6.16it/s, now=None]\u001b[A\n",
      "t:  83%|████████▎ | 1043/1260 [03:15<00:34,  6.24it/s, now=None]\u001b[A\n",
      "t:  83%|████████▎ | 1044/1260 [03:15<00:34,  6.34it/s, now=None]\u001b[A"
     ]
    },
    {
     "name": "stdout",
     "output_type": "stream",
     "text": [
      "142.32121262957727 152.93742457569806\n",
      "142.86487228053463 173.67457158389308\n"
     ]
    },
    {
     "name": "stderr",
     "output_type": "stream",
     "text": [
      "\n",
      "t:  83%|████████▎ | 1045/1260 [03:15<00:33,  6.38it/s, now=None]\u001b[A\n",
      "t:  83%|████████▎ | 1046/1260 [03:16<00:33,  6.45it/s, now=None]\u001b[A"
     ]
    },
    {
     "name": "stdout",
     "output_type": "stream",
     "text": [
      "149.66988133357273 196.02931136931954\n",
      "153.49277957958552 226.7458153947806\n"
     ]
    },
    {
     "name": "stderr",
     "output_type": "stream",
     "text": [
      "\n",
      "t:  83%|████████▎ | 1047/1260 [03:16<00:33,  6.35it/s, now=None]\u001b[A"
     ]
    },
    {
     "name": "stdout",
     "output_type": "stream",
     "text": [
      "179.4284823716409 232.48259007122627\n",
      "190.20287490277312"
     ]
    },
    {
     "name": "stderr",
     "output_type": "stream",
     "text": [
      "\n",
      "t:  83%|████████▎ | 1048/1260 [03:16<00:34,  6.08it/s, now=None]\u001b[A"
     ]
    },
    {
     "name": "stdout",
     "output_type": "stream",
     "text": [
      " 253.2422173505544\n",
      "196.3353292489059 329.2584473150475\n"
     ]
    },
    {
     "name": "stderr",
     "output_type": "stream",
     "text": [
      "\n",
      "t:  83%|████████▎ | 1049/1260 [03:16<00:34,  6.09it/s, now=None]\u001b[A\n",
      "t:  83%|████████▎ | 1050/1260 [03:16<00:35,  5.95it/s, now=None]\u001b[A\n"
     ]
    },
    {
     "name": "stdout",
     "output_type": "stream",
     "text": [
      "227.6651750758923 304.20635090595835\n",
      "278.6202137083242 328.37147970831523\n"
     ]
    },
    {
     "name": "stderr",
     "output_type": "stream",
     "text": [
      "t:  83%|████████▎ | 1051/1260 [03:16<00:35,  5.96it/s, now=None]\u001b[A\n",
      "t:  83%|████████▎ | 1052/1260 [03:17<00:34,  6.03it/s, now=None]\u001b[A\n",
      "t:  84%|████████▎ | 1053/1260 [03:17<00:33,  6.11it/s, now=None]\u001b[A"
     ]
    },
    {
     "name": "stdout",
     "output_type": "stream",
     "text": [
      "319.44198507186985 466.41763664328624\n",
      "418.6998874845805 486.7443941831625\n"
     ]
    },
    {
     "name": "stderr",
     "output_type": "stream",
     "text": [
      "\n",
      "t:  84%|████████▎ | 1054/1260 [03:17<00:35,  5.87it/s, now=None]\u001b[A\n"
     ]
    },
    {
     "name": "stdout",
     "output_type": "stream",
     "text": [
      "431.4803089683694 458.87833805431825\n",
      "332.75103747214575 258.30527098609195\n"
     ]
    },
    {
     "name": "stderr",
     "output_type": "stream",
     "text": [
      "t:  84%|████████▎ | 1055/1260 [03:17<00:35,  5.73it/s, now=None]\u001b[A\n",
      "t:  84%|████████▍ | 1056/1260 [03:17<00:37,  5.45it/s, now=None]\u001b[A"
     ]
    },
    {
     "name": "stdout",
     "output_type": "stream",
     "text": [
      "343.6100591442727 243.35945058720432\n",
      "337.65495163169555"
     ]
    },
    {
     "name": "stderr",
     "output_type": "stream",
     "text": [
      "\n",
      "t:  84%|████████▍ | 1057/1260 [03:17<00:37,  5.34it/s, now=None]\u001b[A\n"
     ]
    },
    {
     "name": "stdout",
     "output_type": "stream",
     "text": [
      " 204.39063113455006\n",
      "436.3371737808985 208.82138730624345\n"
     ]
    },
    {
     "name": "stderr",
     "output_type": "stream",
     "text": [
      "t:  84%|████████▍ | 1058/1260 [03:18<00:36,  5.47it/s, now=None]\u001b[A\n",
      "t:  84%|████████▍ | 1059/1260 [03:18<00:37,  5.30it/s, now=None]\u001b[A"
     ]
    },
    {
     "name": "stdout",
     "output_type": "stream",
     "text": [
      "367.25884847946236 199.17953830534677\n",
      "315.95129153757483 148.2362681631162\n"
     ]
    },
    {
     "name": "stderr",
     "output_type": "stream",
     "text": [
      "\n",
      "t:  84%|████████▍ | 1060/1260 [03:18<00:37,  5.31it/s, now=None]\u001b[A\n",
      "t:  84%|████████▍ | 1061/1260 [03:18<00:37,  5.29it/s, now=None]\u001b[A\n"
     ]
    },
    {
     "name": "stdout",
     "output_type": "stream",
     "text": [
      "270.81580694157446 131.82347828558164\n",
      "310.87603548780197 122.26583786491467\n"
     ]
    },
    {
     "name": "stderr",
     "output_type": "stream",
     "text": [
      "t:  84%|████████▍ | 1062/1260 [03:18<00:35,  5.51it/s, now=None]\u001b[A\n",
      "t:  84%|████████▍ | 1063/1260 [03:19<00:36,  5.42it/s, now=None]\u001b[A"
     ]
    },
    {
     "name": "stdout",
     "output_type": "stream",
     "text": [
      "276.64605014829533 134.8750596023399\n",
      "287.96850490931996 172.105197099647\n"
     ]
    },
    {
     "name": "stderr",
     "output_type": "stream",
     "text": [
      "\n",
      "t:  84%|████████▍ | 1064/1260 [03:19<00:36,  5.36it/s, now=None]\u001b[A\n",
      "t:  85%|████████▍ | 1065/1260 [03:19<00:36,  5.39it/s, now=None]\u001b[A"
     ]
    },
    {
     "name": "stdout",
     "output_type": "stream",
     "text": [
      "392.56169883081674 193.47809072972714\n",
      "412.78349495734335 229.41675567223967\n"
     ]
    },
    {
     "name": "stderr",
     "output_type": "stream",
     "text": [
      "\n",
      "t:  85%|████████▍ | 1066/1260 [03:19<00:35,  5.50it/s, now=None]\u001b[A\n",
      "t:  85%|████████▍ | 1067/1260 [03:19<00:35,  5.48it/s, now=None]\u001b[A"
     ]
    },
    {
     "name": "stdout",
     "output_type": "stream",
     "text": [
      "405.93277441576646 252.39172348357963\n",
      "427.10568179386155"
     ]
    },
    {
     "name": "stderr",
     "output_type": "stream",
     "text": [
      "\n",
      "t:  85%|████████▍ | 1068/1260 [03:19<00:36,  5.32it/s, now=None]\u001b[A\n"
     ]
    },
    {
     "name": "stdout",
     "output_type": "stream",
     "text": [
      " 200.98506643511655\n",
      "545.164969083466 217.9393986863658\n"
     ]
    },
    {
     "name": "stderr",
     "output_type": "stream",
     "text": [
      "t:  85%|████████▍ | 1069/1260 [03:20<00:35,  5.44it/s, now=None]\u001b[A\n",
      "t:  85%|████████▍ | 1070/1260 [03:20<00:35,  5.38it/s, now=None]\u001b[A"
     ]
    },
    {
     "name": "stdout",
     "output_type": "stream",
     "text": [
      "464.33401496453274 209.0202226482441\n",
      "392.84476613336517"
     ]
    },
    {
     "name": "stderr",
     "output_type": "stream",
     "text": [
      "\n",
      "t:  85%|████████▌ | 1071/1260 [03:20<00:35,  5.34it/s, now=None]\u001b[A"
     ]
    },
    {
     "name": "stdout",
     "output_type": "stream",
     "text": [
      " 205.28333667831484\n",
      "496.51094744908977 241.17341785471285\n"
     ]
    },
    {
     "name": "stderr",
     "output_type": "stream",
     "text": [
      "\n",
      "t:  85%|████████▌ | 1072/1260 [03:20<00:34,  5.47it/s, now=None]\u001b[A\n",
      "t:  85%|████████▌ | 1073/1260 [03:20<00:34,  5.49it/s, now=None]\u001b[A\n"
     ]
    },
    {
     "name": "stdout",
     "output_type": "stream",
     "text": [
      "366.8087308312685 235.40526304684298\n",
      "495.1015480617679 358.7511817746856\n"
     ]
    },
    {
     "name": "stderr",
     "output_type": "stream",
     "text": [
      "t:  85%|████████▌ | 1074/1260 [03:21<00:33,  5.56it/s, now=None]\u001b[A\n",
      "t:  85%|████████▌ | 1075/1260 [03:21<00:33,  5.57it/s, now=None]\u001b[A\n"
     ]
    },
    {
     "name": "stdout",
     "output_type": "stream",
     "text": [
      "377.38590549851546 291.85567299814005\n",
      "394.043439172845 458.10407934482043\n"
     ]
    },
    {
     "name": "stderr",
     "output_type": "stream",
     "text": [
      "t:  85%|████████▌ | 1076/1260 [03:21<00:33,  5.57it/s, now=None]\u001b[A\n",
      "t:  85%|████████▌ | 1077/1260 [03:21<00:32,  5.60it/s, now=None]\u001b[A"
     ]
    },
    {
     "name": "stdout",
     "output_type": "stream",
     "text": [
      "341.94208479505437 291.93174738823063\n",
      "259.73190401630984 238.72886426370295\n"
     ]
    },
    {
     "name": "stderr",
     "output_type": "stream",
     "text": [
      "\n",
      "t:  86%|████████▌ | 1078/1260 [03:21<00:32,  5.64it/s, now=None]\u001b[A\n",
      "t:  86%|████████▌ | 1079/1260 [03:21<00:32,  5.59it/s, now=None]\u001b[A"
     ]
    },
    {
     "name": "stdout",
     "output_type": "stream",
     "text": [
      "283.2554803188378 230.52269811351968\n",
      "257.8912403075229"
     ]
    },
    {
     "name": "stderr",
     "output_type": "stream",
     "text": [
      "\n",
      "t:  86%|████████▌ | 1080/1260 [03:22<00:33,  5.37it/s, now=None]\u001b[A"
     ]
    },
    {
     "name": "stdout",
     "output_type": "stream",
     "text": [
      " 238.22290339983482\n"
     ]
    },
    {
     "name": "stderr",
     "output_type": "stream",
     "text": [
      "\n",
      "t:  86%|████████▌ | 1081/1260 [03:22<00:35,  5.01it/s, now=None]\u001b[A"
     ]
    },
    {
     "name": "stdout",
     "output_type": "stream",
     "text": [
      "255.17632613122146 245.23946285665215\n"
     ]
    },
    {
     "name": "stderr",
     "output_type": "stream",
     "text": [
      "\n",
      "t:  86%|████████▌ | 1082/1260 [03:22<00:35,  5.02it/s, now=None]\u001b[A"
     ]
    },
    {
     "name": "stdout",
     "output_type": "stream",
     "text": [
      "298.4897521892395 252.7821764035922\n",
      "272.1952744953048"
     ]
    },
    {
     "name": "stderr",
     "output_type": "stream",
     "text": [
      "\n",
      "t:  86%|████████▌ | 1083/1260 [03:22<00:34,  5.07it/s, now=None]\u001b[A"
     ]
    },
    {
     "name": "stdout",
     "output_type": "stream",
     "text": [
      " 256.42309322279027\n",
      "254.68899254992948 189.9893327192587\n"
     ]
    },
    {
     "name": "stderr",
     "output_type": "stream",
     "text": [
      "\n",
      "t:  86%|████████▌ | 1084/1260 [03:22<00:34,  5.17it/s, now=None]\u001b[A\n",
      "t:  86%|████████▌ | 1085/1260 [03:23<00:33,  5.23it/s, now=None]\u001b[A"
     ]
    },
    {
     "name": "stdout",
     "output_type": "stream",
     "text": [
      "270.4082022748651 206.63886728068906\n",
      "273.93453025082465 197.64319684249665\n"
     ]
    },
    {
     "name": "stderr",
     "output_type": "stream",
     "text": [
      "\n",
      "t:  86%|████████▌ | 1086/1260 [03:23<00:33,  5.17it/s, now=None]\u001b[A\n",
      "t:  86%|████████▋ | 1087/1260 [03:23<00:33,  5.21it/s, now=None]\u001b[A\n"
     ]
    },
    {
     "name": "stdout",
     "output_type": "stream",
     "text": [
      "297.43428065568145 221.98183999392003\n",
      "280.66732257907313 240.8596151277128\n"
     ]
    },
    {
     "name": "stderr",
     "output_type": "stream",
     "text": [
      "t:  86%|████████▋ | 1088/1260 [03:23<00:32,  5.34it/s, now=None]\u001b[A\n",
      "t:  86%|████████▋ | 1089/1260 [03:23<00:31,  5.44it/s, now=None]\u001b[A"
     ]
    },
    {
     "name": "stdout",
     "output_type": "stream",
     "text": [
      "307.69936317299675 233.3317300705378\n",
      "309.06113019697705"
     ]
    },
    {
     "name": "stderr",
     "output_type": "stream",
     "text": [
      "\n",
      "t:  87%|████████▋ | 1090/1260 [03:24<00:32,  5.31it/s, now=None]\u001b[A"
     ]
    },
    {
     "name": "stdout",
     "output_type": "stream",
     "text": [
      " 210.12920198007816\n",
      "350.2412069938083 204.1027948524388\n"
     ]
    },
    {
     "name": "stderr",
     "output_type": "stream",
     "text": [
      "\n",
      "t:  87%|████████▋ | 1091/1260 [03:24<00:31,  5.37it/s, now=None]\u001b[A\n",
      "t:  87%|████████▋ | 1092/1260 [03:24<00:33,  5.02it/s, now=None]\u001b[A"
     ]
    },
    {
     "name": "stdout",
     "output_type": "stream",
     "text": [
      "413.59929302381903 217.62877489831067\n",
      "428.16296164818124 199.11761335752018\n"
     ]
    },
    {
     "name": "stderr",
     "output_type": "stream",
     "text": [
      "\n",
      "t:  87%|████████▋ | 1093/1260 [03:24<00:32,  5.07it/s, now=None]\u001b[A\n",
      "t:  87%|████████▋ | 1094/1260 [03:24<00:32,  5.14it/s, now=None]\u001b[A"
     ]
    },
    {
     "name": "stdout",
     "output_type": "stream",
     "text": [
      "450.46298903391926 205.33351407348357\n"
     ]
    },
    {
     "name": "stderr",
     "output_type": "stream",
     "text": [
      "\n",
      "t:  87%|████████▋ | 1095/1260 [03:25<00:32,  5.11it/s, now=None]\u001b[A"
     ]
    },
    {
     "name": "stdout",
     "output_type": "stream",
     "text": [
      "466.32686773862395 315.82018618000075\n",
      "458.83405141982064 310.7313129301641\n"
     ]
    },
    {
     "name": "stderr",
     "output_type": "stream",
     "text": [
      "\n",
      "t:  87%|████████▋ | 1096/1260 [03:25<00:31,  5.18it/s, now=None]\u001b[A\n",
      "t:  87%|████████▋ | 1097/1260 [03:25<00:31,  5.12it/s, now=None]\u001b[A"
     ]
    },
    {
     "name": "stdout",
     "output_type": "stream",
     "text": [
      "476.8539200334471 361.84241004571675\n",
      "478.2966557201215 497.7238675309424\n"
     ]
    },
    {
     "name": "stderr",
     "output_type": "stream",
     "text": [
      "\n",
      "t:  87%|████████▋ | 1098/1260 [03:25<00:30,  5.25it/s, now=None]\u001b[A\n",
      "t:  87%|████████▋ | 1099/1260 [03:25<00:29,  5.38it/s, now=None]\u001b[A"
     ]
    },
    {
     "name": "stdout",
     "output_type": "stream",
     "text": [
      "619.4850526148831 377.6993666396551\n",
      "567.0941962192355 405.79956367772115\n"
     ]
    },
    {
     "name": "stderr",
     "output_type": "stream",
     "text": [
      "\n",
      "t:  87%|████████▋ | 1100/1260 [03:26<00:29,  5.41it/s, now=None]\u001b[A\n",
      "t:  87%|████████▋ | 1101/1260 [03:26<00:29,  5.38it/s, now=None]\u001b[A"
     ]
    },
    {
     "name": "stdout",
     "output_type": "stream",
     "text": [
      "425.45610495212543 301.74545910245234\n",
      "406.5660895168838 277.9635877669622\n"
     ]
    },
    {
     "name": "stderr",
     "output_type": "stream",
     "text": [
      "\n",
      "t:  87%|████████▋ | 1102/1260 [03:26<00:29,  5.35it/s, now=None]\u001b[A\n",
      "t:  88%|████████▊ | 1103/1260 [03:26<00:29,  5.34it/s, now=None]\u001b[A"
     ]
    },
    {
     "name": "stdout",
     "output_type": "stream",
     "text": [
      "551.346360099655 393.63844254701354\n",
      "453.56857644067185 340.9947119484324\n"
     ]
    },
    {
     "name": "stderr",
     "output_type": "stream",
     "text": [
      "\n",
      "t:  88%|████████▊ | 1104/1260 [03:26<00:29,  5.31it/s, now=None]\u001b[A\n",
      "t:  88%|████████▊ | 1105/1260 [03:26<00:29,  5.27it/s, now=None]\u001b[A"
     ]
    },
    {
     "name": "stdout",
     "output_type": "stream",
     "text": [
      "390.1760764816589 355.1794583131698\n",
      "365.8341966564811 326.7051353641329\n"
     ]
    },
    {
     "name": "stderr",
     "output_type": "stream",
     "text": [
      "\n",
      "t:  88%|████████▊ | 1106/1260 [03:27<00:29,  5.27it/s, now=None]\u001b[A\n",
      "t:  88%|████████▊ | 1107/1260 [03:27<00:28,  5.30it/s, now=None]\u001b[A"
     ]
    },
    {
     "name": "stdout",
     "output_type": "stream",
     "text": [
      "320.55119059159097 170.39674895903366\n",
      "324.3033983104101"
     ]
    },
    {
     "name": "stderr",
     "output_type": "stream",
     "text": [
      "\n",
      "t:  88%|████████▊ | 1108/1260 [03:27<00:28,  5.26it/s, now=None]\u001b[A"
     ]
    },
    {
     "name": "stdout",
     "output_type": "stream",
     "text": [
      " 166.4926981839477\n"
     ]
    },
    {
     "name": "stderr",
     "output_type": "stream",
     "text": [
      "\n",
      "t:  88%|████████▊ | 1109/1260 [03:27<00:28,  5.24it/s, now=None]\u001b[A"
     ]
    },
    {
     "name": "stdout",
     "output_type": "stream",
     "text": [
      "323.96347055114484 181.48143703033256\n",
      "318.6509933005868 196.33971205362937\n"
     ]
    },
    {
     "name": "stderr",
     "output_type": "stream",
     "text": [
      "\n",
      "t:  88%|████████▊ | 1110/1260 [03:27<00:28,  5.25it/s, now=None]\u001b[A\n",
      "t:  88%|████████▊ | 1111/1260 [03:28<00:28,  5.25it/s, now=None]\u001b[A"
     ]
    },
    {
     "name": "stdout",
     "output_type": "stream",
     "text": [
      "329.02862481852145 162.05460220099928\n",
      "325.7546496287215 149.537752527939\n"
     ]
    },
    {
     "name": "stderr",
     "output_type": "stream",
     "text": [
      "\n",
      "t:  88%|████████▊ | 1112/1260 [03:28<00:28,  5.28it/s, now=None]\u001b[A\n",
      "t:  88%|████████▊ | 1113/1260 [03:28<00:28,  5.22it/s, now=None]\u001b[A"
     ]
    },
    {
     "name": "stdout",
     "output_type": "stream",
     "text": [
      "373.88115849992295 156.05058354794724\n",
      "400.43326203564135 149.77567363253073\n"
     ]
    },
    {
     "name": "stderr",
     "output_type": "stream",
     "text": [
      "\n",
      "t:  88%|████████▊ | 1114/1260 [03:28<00:28,  5.14it/s, now=None]\u001b[A\n",
      "t:  88%|████████▊ | 1115/1260 [03:28<00:28,  5.12it/s, now=None]\u001b[A"
     ]
    },
    {
     "name": "stdout",
     "output_type": "stream",
     "text": [
      "403.5957401243723 141.1779370163855\n",
      "431.37333666688556 153.36653358224564\n"
     ]
    },
    {
     "name": "stderr",
     "output_type": "stream",
     "text": [
      "\n",
      "t:  89%|████████▊ | 1116/1260 [03:29<00:27,  5.27it/s, now=None]\u001b[A\n",
      "t:  89%|████████▊ | 1117/1260 [03:29<00:27,  5.25it/s, now=None]\u001b[A"
     ]
    },
    {
     "name": "stdout",
     "output_type": "stream",
     "text": [
      "392.406491461264 157.59995248157662\n",
      "382.97850166846905 206.17473050733784\n"
     ]
    },
    {
     "name": "stderr",
     "output_type": "stream",
     "text": [
      "\n",
      "t:  89%|████████▊ | 1118/1260 [03:29<00:28,  5.07it/s, now=None]\u001b[A\n",
      "t:  89%|████████▉ | 1119/1260 [03:29<00:27,  5.16it/s, now=None]\u001b[A"
     ]
    },
    {
     "name": "stdout",
     "output_type": "stream",
     "text": [
      "378.8825049135317 231.6058968923441\n",
      "427.5417989835369"
     ]
    },
    {
     "name": "stderr",
     "output_type": "stream",
     "text": [
      "\n",
      "t:  89%|████████▉ | 1120/1260 [03:29<00:26,  5.20it/s, now=None]\u001b[A"
     ]
    },
    {
     "name": "stdout",
     "output_type": "stream",
     "text": [
      " 204.6302285638074\n"
     ]
    },
    {
     "name": "stderr",
     "output_type": "stream",
     "text": [
      "\n",
      "t:  89%|████████▉ | 1121/1260 [03:30<00:27,  5.03it/s, now=None]\u001b[A"
     ]
    },
    {
     "name": "stdout",
     "output_type": "stream",
     "text": [
      "412.16428724785516 225.0764293773906\n"
     ]
    },
    {
     "name": "stderr",
     "output_type": "stream",
     "text": [
      "\n",
      "t:  89%|████████▉ | 1122/1260 [03:30<00:28,  4.86it/s, now=None]\u001b[A"
     ]
    },
    {
     "name": "stdout",
     "output_type": "stream",
     "text": [
      "425.59248544631265 256.8637120642322\n"
     ]
    },
    {
     "name": "stderr",
     "output_type": "stream",
     "text": [
      "\n",
      "t:  89%|████████▉ | 1123/1260 [03:30<00:28,  4.82it/s, now=None]\u001b[A"
     ]
    },
    {
     "name": "stdout",
     "output_type": "stream",
     "text": [
      "427.1243522724094 318.41803501240685\n"
     ]
    },
    {
     "name": "stderr",
     "output_type": "stream",
     "text": [
      "\n",
      "t:  89%|████████▉ | 1124/1260 [03:30<00:29,  4.60it/s, now=None]\u001b[A"
     ]
    },
    {
     "name": "stdout",
     "output_type": "stream",
     "text": [
      "414.4261945411628 313.64262996802\n",
      "373.11785879316903"
     ]
    },
    {
     "name": "stderr",
     "output_type": "stream",
     "text": [
      "\n",
      "t:  89%|████████▉ | 1125/1260 [03:30<00:28,  4.78it/s, now=None]\u001b[A"
     ]
    },
    {
     "name": "stdout",
     "output_type": "stream",
     "text": [
      " 214.1738933807245\n",
      "347.6151378950192 287.42061552556305\n"
     ]
    },
    {
     "name": "stderr",
     "output_type": "stream",
     "text": [
      "\n",
      "t:  89%|████████▉ | 1126/1260 [03:31<00:27,  4.83it/s, now=None]\u001b[A\n",
      "t:  89%|████████▉ | 1127/1260 [03:31<00:27,  4.90it/s, now=None]\u001b[A"
     ]
    },
    {
     "name": "stdout",
     "output_type": "stream",
     "text": [
      "314.86999859685426 243.28818528756716\n"
     ]
    },
    {
     "name": "stderr",
     "output_type": "stream",
     "text": [
      "\n",
      "t:  90%|████████▉ | 1128/1260 [03:31<00:28,  4.71it/s, now=None]\u001b[A"
     ]
    },
    {
     "name": "stdout",
     "output_type": "stream",
     "text": [
      "270.8444829703494 261.0115404918558\n"
     ]
    },
    {
     "name": "stderr",
     "output_type": "stream",
     "text": [
      "\n",
      "t:  90%|████████▉ | 1129/1260 [03:31<00:27,  4.69it/s, now=None]\u001b[A"
     ]
    },
    {
     "name": "stdout",
     "output_type": "stream",
     "text": [
      "263.35747469922956 229.11297878333465\n"
     ]
    },
    {
     "name": "stderr",
     "output_type": "stream",
     "text": [
      "\n",
      "t:  90%|████████▉ | 1130/1260 [03:31<00:27,  4.72it/s, now=None]\u001b[A"
     ]
    },
    {
     "name": "stdout",
     "output_type": "stream",
     "text": [
      "236.33273840266054 233.6048248769091\n",
      "243.47808014203022"
     ]
    },
    {
     "name": "stderr",
     "output_type": "stream",
     "text": [
      "\n",
      "t:  90%|████████▉ | 1131/1260 [03:32<00:27,  4.75it/s, now=None]\u001b[A"
     ]
    },
    {
     "name": "stdout",
     "output_type": "stream",
     "text": [
      " 244.42260956027022\n"
     ]
    },
    {
     "name": "stderr",
     "output_type": "stream",
     "text": [
      "\n",
      "t:  90%|████████▉ | 1132/1260 [03:32<00:27,  4.60it/s, now=None]\u001b[A"
     ]
    },
    {
     "name": "stdout",
     "output_type": "stream",
     "text": [
      "240.20480126922402 249.7231246373251\n",
      "268.29621084358007"
     ]
    },
    {
     "name": "stderr",
     "output_type": "stream",
     "text": [
      "\n",
      "t:  90%|████████▉ | 1133/1260 [03:32<00:27,  4.65it/s, now=None]\u001b[A"
     ]
    },
    {
     "name": "stdout",
     "output_type": "stream",
     "text": [
      " 222.9098526853992\n"
     ]
    },
    {
     "name": "stderr",
     "output_type": "stream",
     "text": [
      "\n",
      "t:  90%|█████████ | 1134/1260 [03:32<00:26,  4.72it/s, now=None]\u001b[A"
     ]
    },
    {
     "name": "stdout",
     "output_type": "stream",
     "text": [
      "286.58423000289923 253.88696658578624\n",
      "333.0305836538582"
     ]
    },
    {
     "name": "stderr",
     "output_type": "stream",
     "text": [
      "\n",
      "t:  90%|█████████ | 1135/1260 [03:33<00:25,  4.84it/s, now=None]\u001b[A"
     ]
    },
    {
     "name": "stdout",
     "output_type": "stream",
     "text": [
      " 251.77598900812998\n",
      "351.326846742582 245.00417477574095\n"
     ]
    },
    {
     "name": "stderr",
     "output_type": "stream",
     "text": [
      "\n",
      "t:  90%|█████████ | 1136/1260 [03:33<00:25,  4.87it/s, now=None]\u001b[A\n",
      "t:  90%|█████████ | 1137/1260 [03:33<00:24,  4.94it/s, now=None]\u001b[A"
     ]
    },
    {
     "name": "stdout",
     "output_type": "stream",
     "text": [
      "408.5352341252087 262.6974788080266\n",
      "416.7486212799772"
     ]
    },
    {
     "name": "stderr",
     "output_type": "stream",
     "text": [
      "\n",
      "t:  90%|█████████ | 1138/1260 [03:33<00:24,  5.07it/s, now=None]\u001b[A"
     ]
    },
    {
     "name": "stdout",
     "output_type": "stream",
     "text": [
      " 232.8869542307692\n"
     ]
    },
    {
     "name": "stderr",
     "output_type": "stream",
     "text": [
      "\n",
      "t:  90%|█████████ | 1139/1260 [03:33<00:24,  5.02it/s, now=None]\u001b[A"
     ]
    },
    {
     "name": "stdout",
     "output_type": "stream",
     "text": [
      "418.27195919254063 235.2359138162572\n"
     ]
    },
    {
     "name": "stderr",
     "output_type": "stream",
     "text": [
      "\n",
      "t:  90%|█████████ | 1140/1260 [03:34<00:24,  4.92it/s, now=None]\u001b[A"
     ]
    },
    {
     "name": "stdout",
     "output_type": "stream",
     "text": [
      "406.65386346706583 229.8191076481272\n"
     ]
    },
    {
     "name": "stderr",
     "output_type": "stream",
     "text": [
      "\n",
      "t:  91%|█████████ | 1141/1260 [03:34<00:24,  4.82it/s, now=None]\u001b[A"
     ]
    },
    {
     "name": "stdout",
     "output_type": "stream",
     "text": [
      "399.4796174772496 228.2518055714148\n",
      "419.29031883683757"
     ]
    },
    {
     "name": "stderr",
     "output_type": "stream",
     "text": [
      "\n",
      "t:  91%|█████████ | 1142/1260 [03:34<00:24,  4.81it/s, now=None]\u001b[A"
     ]
    },
    {
     "name": "stdout",
     "output_type": "stream",
     "text": [
      " 243.7154691444341\n",
      "482.5016559366557"
     ]
    },
    {
     "name": "stderr",
     "output_type": "stream",
     "text": [
      "\n",
      "t:  91%|█████████ | 1143/1260 [03:34<00:23,  4.92it/s, now=None]\u001b[A"
     ]
    },
    {
     "name": "stdout",
     "output_type": "stream",
     "text": [
      " 260.69842130215557\n"
     ]
    },
    {
     "name": "stderr",
     "output_type": "stream",
     "text": [
      "\n",
      "t:  91%|█████████ | 1144/1260 [03:34<00:23,  4.91it/s, now=None]\u001b[A"
     ]
    },
    {
     "name": "stdout",
     "output_type": "stream",
     "text": [
      "433.0098461530891 227.94038149233964\n"
     ]
    },
    {
     "name": "stderr",
     "output_type": "stream",
     "text": [
      "\n",
      "t:  91%|█████████ | 1145/1260 [03:35<00:24,  4.69it/s, now=None]\u001b[A"
     ]
    },
    {
     "name": "stdout",
     "output_type": "stream",
     "text": [
      "464.9045989211413 222.74901040435205\n"
     ]
    },
    {
     "name": "stderr",
     "output_type": "stream",
     "text": [
      "\n",
      "t:  91%|█████████ | 1146/1260 [03:35<00:24,  4.64it/s, now=None]\u001b[A"
     ]
    },
    {
     "name": "stdout",
     "output_type": "stream",
     "text": [
      "436.95185917659785 199.3067988912049\n"
     ]
    },
    {
     "name": "stderr",
     "output_type": "stream",
     "text": [
      "\n",
      "t:  91%|█████████ | 1147/1260 [03:35<00:24,  4.66it/s, now=None]\u001b[A"
     ]
    },
    {
     "name": "stdout",
     "output_type": "stream",
     "text": [
      "428.54023499374364 199.08361432778156\n",
      "464.9480702502193 170.38177781785342\n"
     ]
    },
    {
     "name": "stderr",
     "output_type": "stream",
     "text": [
      "\n",
      "t:  91%|█████████ | 1148/1260 [03:35<00:23,  4.73it/s, now=None]\u001b[A\n",
      "t:  91%|█████████ | 1149/1260 [03:35<00:22,  4.86it/s, now=None]\u001b[A"
     ]
    },
    {
     "name": "stdout",
     "output_type": "stream",
     "text": [
      "464.63321985454934 193.8390802299401\n",
      "412.9830015935576"
     ]
    },
    {
     "name": "stderr",
     "output_type": "stream",
     "text": [
      "\n",
      "t:  91%|█████████▏| 1150/1260 [03:36<00:22,  4.89it/s, now=None]\u001b[A"
     ]
    },
    {
     "name": "stdout",
     "output_type": "stream",
     "text": [
      " 217.59489478083367\n"
     ]
    },
    {
     "name": "stderr",
     "output_type": "stream",
     "text": [
      "\n",
      "t:  91%|█████████▏| 1151/1260 [03:36<00:22,  4.89it/s, now=None]\u001b[A"
     ]
    },
    {
     "name": "stdout",
     "output_type": "stream",
     "text": [
      "357.4799791205834 197.56826423637713\n",
      "322.8617538424826"
     ]
    },
    {
     "name": "stderr",
     "output_type": "stream",
     "text": [
      "\n",
      "t:  91%|█████████▏| 1152/1260 [03:36<00:21,  5.01it/s, now=None]\u001b[A"
     ]
    },
    {
     "name": "stdout",
     "output_type": "stream",
     "text": [
      " 189.89198953072028\n",
      "301.4106221909222 171.10419068530578\n"
     ]
    },
    {
     "name": "stderr",
     "output_type": "stream",
     "text": [
      "\n",
      "t:  92%|█████████▏| 1153/1260 [03:36<00:21,  5.08it/s, now=None]\u001b[A\n",
      "t:  92%|█████████▏| 1154/1260 [03:36<00:20,  5.09it/s, now=None]\u001b[A"
     ]
    },
    {
     "name": "stdout",
     "output_type": "stream",
     "text": [
      "289.79127144795 197.02500462085428\n",
      "295.813135250573"
     ]
    },
    {
     "name": "stderr",
     "output_type": "stream",
     "text": [
      "\n",
      "t:  92%|█████████▏| 1155/1260 [03:37<00:20,  5.04it/s, now=None]\u001b[A"
     ]
    },
    {
     "name": "stdout",
     "output_type": "stream",
     "text": [
      " 212.33339550318973\n",
      "275.631473223711"
     ]
    },
    {
     "name": "stderr",
     "output_type": "stream",
     "text": [
      "\n",
      "t:  92%|█████████▏| 1156/1260 [03:37<00:20,  5.08it/s, now=None]\u001b[A"
     ]
    },
    {
     "name": "stdout",
     "output_type": "stream",
     "text": [
      " 186.86949744307503\n",
      "278.89925768949826"
     ]
    },
    {
     "name": "stderr",
     "output_type": "stream",
     "text": [
      "\n",
      "t:  92%|█████████▏| 1157/1260 [03:37<00:20,  5.08it/s, now=None]\u001b[A"
     ]
    },
    {
     "name": "stdout",
     "output_type": "stream",
     "text": [
      " 186.5762579179912\n"
     ]
    },
    {
     "name": "stderr",
     "output_type": "stream",
     "text": [
      "\n",
      "t:  92%|█████████▏| 1158/1260 [03:37<00:20,  5.00it/s, now=None]\u001b[A"
     ]
    },
    {
     "name": "stdout",
     "output_type": "stream",
     "text": [
      "278.70649975766685 208.73061392290177\n",
      "238.38466995279964 198.92223669794103\n"
     ]
    },
    {
     "name": "stderr",
     "output_type": "stream",
     "text": [
      "\n",
      "t:  92%|█████████▏| 1159/1260 [03:37<00:20,  5.04it/s, now=None]\u001b[A\n",
      "t:  92%|█████████▏| 1160/1260 [03:38<00:19,  5.07it/s, now=None]\u001b[A"
     ]
    },
    {
     "name": "stdout",
     "output_type": "stream",
     "text": [
      "233.571133622912 215.82303500568153\n",
      "218.5055959609296"
     ]
    },
    {
     "name": "stderr",
     "output_type": "stream",
     "text": [
      "\n",
      "t:  92%|█████████▏| 1161/1260 [03:38<00:19,  5.05it/s, now=None]\u001b[A"
     ]
    },
    {
     "name": "stdout",
     "output_type": "stream",
     "text": [
      " 184.9232610632237\n",
      "195.7257302743371"
     ]
    },
    {
     "name": "stderr",
     "output_type": "stream",
     "text": [
      "\n",
      "t:  92%|█████████▏| 1162/1260 [03:38<00:19,  5.09it/s, now=None]\u001b[A"
     ]
    },
    {
     "name": "stdout",
     "output_type": "stream",
     "text": [
      " 189.06932903195607\n",
      "199.89055134082318 204.10994003836436\n"
     ]
    },
    {
     "name": "stderr",
     "output_type": "stream",
     "text": [
      "\n",
      "t:  92%|█████████▏| 1163/1260 [03:38<00:18,  5.28it/s, now=None]\u001b[A\n",
      "t:  92%|█████████▏| 1164/1260 [03:38<00:18,  5.23it/s, now=None]\u001b[A"
     ]
    },
    {
     "name": "stdout",
     "output_type": "stream",
     "text": [
      "209.8728654307873 148.11923779404597\n",
      "218.65266322192298 166.68501502776948\n"
     ]
    },
    {
     "name": "stderr",
     "output_type": "stream",
     "text": [
      "\n",
      "t:  92%|█████████▏| 1165/1260 [03:39<00:18,  5.15it/s, now=None]\u001b[A\n",
      "t:  93%|█████████▎| 1166/1260 [03:39<00:17,  5.26it/s, now=None]\u001b[A"
     ]
    },
    {
     "name": "stdout",
     "output_type": "stream",
     "text": [
      "229.4216184557249 181.97881094672059\n",
      "240.63621833045752 203.6400026293969\n"
     ]
    },
    {
     "name": "stderr",
     "output_type": "stream",
     "text": [
      "\n",
      "t:  93%|█████████▎| 1167/1260 [03:39<00:17,  5.28it/s, now=None]\u001b[A\n",
      "t:  93%|█████████▎| 1168/1260 [03:39<00:18,  5.06it/s, now=None]\u001b[A"
     ]
    },
    {
     "name": "stdout",
     "output_type": "stream",
     "text": [
      "262.74778710777065 214.16906970750904\n",
      "295.48413697286287"
     ]
    },
    {
     "name": "stderr",
     "output_type": "stream",
     "text": [
      "\n",
      "t:  93%|█████████▎| 1169/1260 [03:39<00:18,  4.81it/s, now=None]\u001b[A"
     ]
    },
    {
     "name": "stdout",
     "output_type": "stream",
     "text": [
      " 178.90936232009992\n"
     ]
    },
    {
     "name": "stderr",
     "output_type": "stream",
     "text": [
      "\n",
      "t:  93%|█████████▎| 1170/1260 [03:40<00:18,  4.86it/s, now=None]\u001b[A"
     ]
    },
    {
     "name": "stdout",
     "output_type": "stream",
     "text": [
      "323.11054717268644 194.3020359545143\n",
      "389.8563550839598"
     ]
    },
    {
     "name": "stderr",
     "output_type": "stream",
     "text": [
      "\n",
      "t:  93%|█████████▎| 1171/1260 [03:40<00:17,  4.95it/s, now=None]\u001b[A"
     ]
    },
    {
     "name": "stdout",
     "output_type": "stream",
     "text": [
      " 190.8974631402755\n",
      "412.37044257345826"
     ]
    },
    {
     "name": "stderr",
     "output_type": "stream",
     "text": [
      "\n",
      "t:  93%|█████████▎| 1172/1260 [03:40<00:17,  4.94it/s, now=None]\u001b[A"
     ]
    },
    {
     "name": "stdout",
     "output_type": "stream",
     "text": [
      " 193.44824681556437\n"
     ]
    },
    {
     "name": "stderr",
     "output_type": "stream",
     "text": [
      "\n",
      "t:  93%|█████████▎| 1173/1260 [03:40<00:17,  4.84it/s, now=None]\u001b[A"
     ]
    },
    {
     "name": "stdout",
     "output_type": "stream",
     "text": [
      "423.41024580168136 190.95288851679288\n"
     ]
    },
    {
     "name": "stderr",
     "output_type": "stream",
     "text": [
      "\n",
      "t:  93%|█████████▎| 1174/1260 [03:40<00:17,  4.80it/s, now=None]\u001b[A"
     ]
    },
    {
     "name": "stdout",
     "output_type": "stream",
     "text": [
      "450.56116697374176 206.34003072627408\n",
      "447.9783135165765"
     ]
    },
    {
     "name": "stderr",
     "output_type": "stream",
     "text": [
      "\n",
      "t:  93%|█████████▎| 1175/1260 [03:41<00:17,  4.89it/s, now=None]\u001b[A"
     ]
    },
    {
     "name": "stdout",
     "output_type": "stream",
     "text": [
      " 310.95068697221853\n",
      "489.4619617868126"
     ]
    },
    {
     "name": "stderr",
     "output_type": "stream",
     "text": [
      "\n",
      "t:  93%|█████████▎| 1176/1260 [03:41<00:17,  4.83it/s, now=None]\u001b[A"
     ]
    },
    {
     "name": "stdout",
     "output_type": "stream",
     "text": [
      " 274.47848873818174\n",
      "492.6894160429748"
     ]
    },
    {
     "name": "stderr",
     "output_type": "stream",
     "text": [
      "\n",
      "t:  93%|█████████▎| 1177/1260 [03:41<00:17,  4.87it/s, now=None]\u001b[A"
     ]
    },
    {
     "name": "stdout",
     "output_type": "stream",
     "text": [
      " 273.7427692897234\n"
     ]
    },
    {
     "name": "stderr",
     "output_type": "stream",
     "text": [
      "\n",
      "t:  93%|█████████▎| 1178/1260 [03:41<00:16,  4.84it/s, now=None]\u001b[A"
     ]
    },
    {
     "name": "stdout",
     "output_type": "stream",
     "text": [
      "469.7248845833383 252.06166145996315\n",
      "497.2204248572823"
     ]
    },
    {
     "name": "stderr",
     "output_type": "stream",
     "text": [
      "\n",
      "t:  94%|█████████▎| 1179/1260 [03:41<00:16,  4.85it/s, now=None]\u001b[A"
     ]
    },
    {
     "name": "stdout",
     "output_type": "stream",
     "text": [
      " 280.55235810670933\n",
      "520.9088430361606 211.9918958680288"
     ]
    },
    {
     "name": "stderr",
     "output_type": "stream",
     "text": [
      "\n",
      "t:  94%|█████████▎| 1180/1260 [03:42<00:16,  4.84it/s, now=None]\u001b[A"
     ]
    },
    {
     "name": "stdout",
     "output_type": "stream",
     "text": [
      "\n",
      "618.8284598433843 218.0004383671025\n"
     ]
    },
    {
     "name": "stderr",
     "output_type": "stream",
     "text": [
      "\n",
      "t:  94%|█████████▎| 1181/1260 [03:42<00:16,  4.89it/s, now=None]\u001b[A\n",
      "t:  94%|█████████▍| 1182/1260 [03:42<00:15,  4.92it/s, now=None]\u001b[A"
     ]
    },
    {
     "name": "stdout",
     "output_type": "stream",
     "text": [
      "503.9623690504263 208.9074822447678\n"
     ]
    },
    {
     "name": "stderr",
     "output_type": "stream",
     "text": [
      "\n",
      "t:  94%|█████████▍| 1183/1260 [03:42<00:15,  4.85it/s, now=None]\u001b[A"
     ]
    },
    {
     "name": "stdout",
     "output_type": "stream",
     "text": [
      "540.9395033618464 226.26270383659227\n"
     ]
    },
    {
     "name": "stderr",
     "output_type": "stream",
     "text": [
      "\n",
      "t:  94%|█████████▍| 1184/1260 [03:42<00:15,  4.85it/s, now=None]\u001b[A"
     ]
    },
    {
     "name": "stdout",
     "output_type": "stream",
     "text": [
      "473.69771033724464 219.22856952210756\n"
     ]
    },
    {
     "name": "stderr",
     "output_type": "stream",
     "text": [
      "\n",
      "t:  94%|█████████▍| 1185/1260 [03:43<00:15,  4.90it/s, now=None]\u001b[A"
     ]
    },
    {
     "name": "stdout",
     "output_type": "stream",
     "text": [
      "362.50126918736265 216.75371695061995\n",
      "303.864994542783"
     ]
    },
    {
     "name": "stderr",
     "output_type": "stream",
     "text": [
      "\n",
      "t:  94%|█████████▍| 1186/1260 [03:43<00:14,  4.95it/s, now=None]\u001b[A"
     ]
    },
    {
     "name": "stdout",
     "output_type": "stream",
     "text": [
      " 186.5490877452407\n",
      "320.2186411941081"
     ]
    },
    {
     "name": "stderr",
     "output_type": "stream",
     "text": [
      "\n",
      "t:  94%|█████████▍| 1187/1260 [03:43<00:14,  4.93it/s, now=None]\u001b[A"
     ]
    },
    {
     "name": "stdout",
     "output_type": "stream",
     "text": [
      " 197.5231302423409\n",
      "266.7942749081839"
     ]
    },
    {
     "name": "stderr",
     "output_type": "stream",
     "text": [
      "\n",
      "t:  94%|█████████▍| 1188/1260 [03:43<00:14,  4.95it/s, now=None]\u001b[A"
     ]
    },
    {
     "name": "stdout",
     "output_type": "stream",
     "text": [
      " 229.71606512506295\n",
      "264.6298068060932 250.26202072129536\n"
     ]
    },
    {
     "name": "stderr",
     "output_type": "stream",
     "text": [
      "\n",
      "t:  94%|█████████▍| 1189/1260 [03:43<00:14,  4.98it/s, now=None]\u001b[A\n",
      "t:  94%|█████████▍| 1190/1260 [03:44<00:14,  4.98it/s, now=None]\u001b[A"
     ]
    },
    {
     "name": "stdout",
     "output_type": "stream",
     "text": [
      "267.339854210828 266.4954674410652\n"
     ]
    },
    {
     "name": "stderr",
     "output_type": "stream",
     "text": [
      "\n",
      "t:  95%|█████████▍| 1191/1260 [03:44<00:14,  4.89it/s, now=None]\u001b[A"
     ]
    },
    {
     "name": "stdout",
     "output_type": "stream",
     "text": [
      "254.04226426936242 223.09126963473946\n",
      "240.62245453621915"
     ]
    },
    {
     "name": "stderr",
     "output_type": "stream",
     "text": [
      "\n",
      "t:  95%|█████████▍| 1192/1260 [03:44<00:13,  5.07it/s, now=None]\u001b[A"
     ]
    },
    {
     "name": "stdout",
     "output_type": "stream",
     "text": [
      " 229.30351705270226\n",
      "249.27262559156586 200.1223813856337\n"
     ]
    },
    {
     "name": "stderr",
     "output_type": "stream",
     "text": [
      "\n",
      "t:  95%|█████████▍| 1193/1260 [03:44<00:13,  5.11it/s, now=None]\u001b[A\n",
      "t:  95%|█████████▍| 1194/1260 [03:44<00:12,  5.13it/s, now=None]\u001b[A"
     ]
    },
    {
     "name": "stdout",
     "output_type": "stream",
     "text": [
      "253.82100540648605 193.16505818030865\n"
     ]
    },
    {
     "name": "stderr",
     "output_type": "stream",
     "text": [
      "\n",
      "t:  95%|█████████▍| 1195/1260 [03:45<00:12,  5.07it/s, now=None]\u001b[A"
     ]
    },
    {
     "name": "stdout",
     "output_type": "stream",
     "text": [
      "251.137867887799 197.23486793131903\n",
      "219.69517736285218 179.13786922761116\n"
     ]
    },
    {
     "name": "stderr",
     "output_type": "stream",
     "text": [
      "\n",
      "t:  95%|█████████▍| 1196/1260 [03:45<00:12,  5.11it/s, now=None]\u001b[A\n",
      "t:  95%|█████████▌| 1197/1260 [03:45<00:12,  5.20it/s, now=None]\u001b[A"
     ]
    },
    {
     "name": "stdout",
     "output_type": "stream",
     "text": [
      "213.4982573128859 161.9575554796232\n",
      "228.0206924532998 188.43494908976925\n"
     ]
    },
    {
     "name": "stderr",
     "output_type": "stream",
     "text": [
      "\n",
      "t:  95%|█████████▌| 1198/1260 [03:45<00:11,  5.23it/s, now=None]\u001b[A\n",
      "t:  95%|█████████▌| 1199/1260 [03:45<00:11,  5.18it/s, now=None]\u001b[A"
     ]
    },
    {
     "name": "stdout",
     "output_type": "stream",
     "text": [
      "235.64478584671073 186.09945518846564\n"
     ]
    },
    {
     "name": "stderr",
     "output_type": "stream",
     "text": [
      "\n",
      "t:  95%|█████████▌| 1200/1260 [03:46<00:12,  4.90it/s, now=None]\u001b[A"
     ]
    },
    {
     "name": "stdout",
     "output_type": "stream",
     "text": [
      "258.16598064172393 193.53000647231121\n",
      "293.93900979363536"
     ]
    },
    {
     "name": "stderr",
     "output_type": "stream",
     "text": [
      "\n",
      "t:  95%|█████████▌| 1201/1260 [03:46<00:11,  4.99it/s, now=None]\u001b[A"
     ]
    },
    {
     "name": "stdout",
     "output_type": "stream",
     "text": [
      " 202.15923143144147\n",
      "292.0126876890551 186.38710530411117\n"
     ]
    },
    {
     "name": "stderr",
     "output_type": "stream",
     "text": [
      "\n",
      "t:  95%|█████████▌| 1202/1260 [03:46<00:11,  5.03it/s, now=None]\u001b[A\n",
      "t:  95%|█████████▌| 1203/1260 [03:46<00:11,  5.02it/s, now=None]\u001b[A"
     ]
    },
    {
     "name": "stdout",
     "output_type": "stream",
     "text": [
      "290.10300261043045 197.1962570109776\n",
      "286.4134971121065 173.64085841357132\n"
     ]
    },
    {
     "name": "stderr",
     "output_type": "stream",
     "text": [
      "\n",
      "t:  96%|█████████▌| 1204/1260 [03:46<00:11,  5.07it/s, now=None]\u001b[A\n",
      "t:  96%|█████████▌| 1205/1260 [03:47<00:11,  4.90it/s, now=None]\u001b[A"
     ]
    },
    {
     "name": "stdout",
     "output_type": "stream",
     "text": [
      "250.80509180631742 159.1915521425972\n",
      "231.35726572874754"
     ]
    },
    {
     "name": "stderr",
     "output_type": "stream",
     "text": [
      "\n",
      "t:  96%|█████████▌| 1206/1260 [03:47<00:10,  4.95it/s, now=None]\u001b[A"
     ]
    },
    {
     "name": "stdout",
     "output_type": "stream",
     "text": [
      " 154.11142024235622\n",
      "218.7196891126643"
     ]
    },
    {
     "name": "stderr",
     "output_type": "stream",
     "text": [
      "\n",
      "t:  96%|█████████▌| 1207/1260 [03:47<00:10,  5.13it/s, now=None]\u001b[A"
     ]
    },
    {
     "name": "stdout",
     "output_type": "stream",
     "text": [
      " 137.81406693099186\n",
      "216.73244072874843 140.40123475179757\n"
     ]
    },
    {
     "name": "stderr",
     "output_type": "stream",
     "text": [
      "\n",
      "t:  96%|█████████▌| 1208/1260 [03:47<00:09,  5.30it/s, now=None]\u001b[A\n",
      "t:  96%|█████████▌| 1209/1260 [03:47<00:09,  5.25it/s, now=None]\u001b[A"
     ]
    },
    {
     "name": "stdout",
     "output_type": "stream",
     "text": [
      "210.16673126011338 145.820938806513\n",
      "206.4573562614254 160.66203460386836\n"
     ]
    },
    {
     "name": "stderr",
     "output_type": "stream",
     "text": [
      "\n",
      "t:  96%|█████████▌| 1210/1260 [03:48<00:09,  5.22it/s, now=None]\u001b[A\n",
      "t:  96%|█████████▌| 1211/1260 [03:48<00:09,  5.23it/s, now=None]\u001b[A"
     ]
    },
    {
     "name": "stdout",
     "output_type": "stream",
     "text": [
      "218.64910443939385 164.62883066738135\n",
      "219.46130999530232"
     ]
    },
    {
     "name": "stderr",
     "output_type": "stream",
     "text": [
      "\n",
      "t:  96%|█████████▌| 1212/1260 [03:48<00:09,  5.09it/s, now=None]\u001b[A"
     ]
    },
    {
     "name": "stdout",
     "output_type": "stream",
     "text": [
      " 165.1845174328307\n",
      "242.15790559324725"
     ]
    },
    {
     "name": "stderr",
     "output_type": "stream",
     "text": [
      "\n",
      "t:  96%|█████████▋| 1213/1260 [03:48<00:09,  5.22it/s, now=None]\u001b[A"
     ]
    },
    {
     "name": "stdout",
     "output_type": "stream",
     "text": [
      " 200.99889180989646\n",
      "242.79521687714646 213.25594531200525\n"
     ]
    },
    {
     "name": "stderr",
     "output_type": "stream",
     "text": [
      "\n",
      "t:  96%|█████████▋| 1214/1260 [03:48<00:08,  5.18it/s, now=None]\u001b[A\n",
      "t:  96%|█████████▋| 1215/1260 [03:49<00:08,  5.14it/s, now=None]\u001b[A"
     ]
    },
    {
     "name": "stdout",
     "output_type": "stream",
     "text": [
      "263.191009770442 196.45547903724145\n",
      "279.91293928236973 183.1190700006472\n"
     ]
    },
    {
     "name": "stderr",
     "output_type": "stream",
     "text": [
      "\n",
      "t:  97%|█████████▋| 1216/1260 [03:49<00:08,  5.08it/s, now=None]\u001b[A\n",
      "t:  97%|█████████▋| 1217/1260 [03:49<00:08,  5.06it/s, now=None]\u001b[A"
     ]
    },
    {
     "name": "stdout",
     "output_type": "stream",
     "text": [
      "304.2435815776937 180.34956210128414\n",
      "313.7053773166876 178.91451642769962\n"
     ]
    },
    {
     "name": "stderr",
     "output_type": "stream",
     "text": [
      "\n",
      "t:  97%|█████████▋| 1218/1260 [03:49<00:08,  5.14it/s, now=None]\u001b[A\n",
      "t:  97%|█████████▋| 1219/1260 [03:49<00:07,  5.13it/s, now=None]\u001b[A"
     ]
    },
    {
     "name": "stdout",
     "output_type": "stream",
     "text": [
      "344.63183053644406 193.5037817151228\n",
      "350.2078030055154"
     ]
    },
    {
     "name": "stderr",
     "output_type": "stream",
     "text": [
      "\n",
      "t:  97%|█████████▋| 1220/1260 [03:50<00:07,  5.12it/s, now=None]\u001b[A"
     ]
    },
    {
     "name": "stdout",
     "output_type": "stream",
     "text": [
      " 275.040531974009\n",
      "359.31643470480884"
     ]
    },
    {
     "name": "stderr",
     "output_type": "stream",
     "text": [
      "\n",
      "t:  97%|█████████▋| 1221/1260 [03:50<00:07,  5.08it/s, now=None]\u001b[A"
     ]
    },
    {
     "name": "stdout",
     "output_type": "stream",
     "text": [
      " 215.58375452365988\n",
      "366.1882103312581 201.99929065573178\n"
     ]
    },
    {
     "name": "stderr",
     "output_type": "stream",
     "text": [
      "\n",
      "t:  97%|█████████▋| 1222/1260 [03:50<00:07,  5.06it/s, now=None]\u001b[A\n",
      "t:  97%|█████████▋| 1223/1260 [03:50<00:07,  5.01it/s, now=None]\u001b[A"
     ]
    },
    {
     "name": "stdout",
     "output_type": "stream",
     "text": [
      "340.46690164784906 225.96663948792772\n",
      "330.01253122315603 197.13126222900468"
     ]
    },
    {
     "name": "stderr",
     "output_type": "stream",
     "text": [
      "\n",
      "t:  97%|█████████▋| 1224/1260 [03:50<00:07,  4.98it/s, now=None]\u001b[A"
     ]
    },
    {
     "name": "stdout",
     "output_type": "stream",
     "text": [
      "\n"
     ]
    },
    {
     "name": "stderr",
     "output_type": "stream",
     "text": [
      "\n",
      "t:  97%|█████████▋| 1225/1260 [03:51<00:07,  4.90it/s, now=None]\u001b[A"
     ]
    },
    {
     "name": "stdout",
     "output_type": "stream",
     "text": [
      "320.48709418852354 212.14705427280649\n",
      "356.7794760091369 180.8064578674519\n"
     ]
    },
    {
     "name": "stderr",
     "output_type": "stream",
     "text": [
      "\n",
      "t:  97%|█████████▋| 1226/1260 [03:51<00:06,  4.99it/s, now=None]\u001b[A\n",
      "t:  97%|█████████▋| 1227/1260 [03:51<00:06,  4.99it/s, now=None]\u001b[A"
     ]
    },
    {
     "name": "stdout",
     "output_type": "stream",
     "text": [
      "387.6611610006385 186.55396984531518\n"
     ]
    },
    {
     "name": "stderr",
     "output_type": "stream",
     "text": [
      "\n",
      "t:  97%|█████████▋| 1228/1260 [03:51<00:06,  4.99it/s, now=None]\u001b[A"
     ]
    },
    {
     "name": "stdout",
     "output_type": "stream",
     "text": [
      "458.57675661 198.96140012810986\n"
     ]
    },
    {
     "name": "stderr",
     "output_type": "stream",
     "text": [
      "\n",
      "t:  98%|█████████▊| 1229/1260 [03:51<00:06,  4.79it/s, now=None]\u001b[A"
     ]
    },
    {
     "name": "stdout",
     "output_type": "stream",
     "text": [
      "476.95883098238227 196.7196686103318\n"
     ]
    },
    {
     "name": "stderr",
     "output_type": "stream",
     "text": [
      "\n",
      "t:  98%|█████████▊| 1230/1260 [03:52<00:06,  4.71it/s, now=None]\u001b[A"
     ]
    },
    {
     "name": "stdout",
     "output_type": "stream",
     "text": [
      "524.15466295284 208.63299327894163\n",
      "540.621106983636"
     ]
    },
    {
     "name": "stderr",
     "output_type": "stream",
     "text": [
      "\n",
      "t:  98%|█████████▊| 1231/1260 [03:52<00:06,  4.73it/s, now=None]\u001b[A"
     ]
    },
    {
     "name": "stdout",
     "output_type": "stream",
     "text": [
      " 259.49757312695476\n"
     ]
    },
    {
     "name": "stderr",
     "output_type": "stream",
     "text": [
      "\n",
      "t:  98%|█████████▊| 1232/1260 [03:52<00:06,  4.67it/s, now=None]\u001b[A"
     ]
    },
    {
     "name": "stdout",
     "output_type": "stream",
     "text": [
      "545.0300937443 365.0586078979629\n"
     ]
    },
    {
     "name": "stderr",
     "output_type": "stream",
     "text": [
      "\n",
      "t:  98%|█████████▊| 1233/1260 [03:52<00:05,  4.63it/s, now=None]\u001b[A"
     ]
    },
    {
     "name": "stdout",
     "output_type": "stream",
     "text": [
      "558.3892023524736 361.58279905394215\n"
     ]
    },
    {
     "name": "stderr",
     "output_type": "stream",
     "text": [
      "\n",
      "t:  98%|█████████▊| 1234/1260 [03:52<00:05,  4.68it/s, now=None]\u001b[A"
     ]
    },
    {
     "name": "stdout",
     "output_type": "stream",
     "text": [
      "581.8650232097666 687.3203870305149\n",
      "643.1863347455007"
     ]
    },
    {
     "name": "stderr",
     "output_type": "stream",
     "text": [
      "\n",
      "t:  98%|█████████▊| 1235/1260 [03:53<00:05,  4.70it/s, now=None]\u001b[A"
     ]
    },
    {
     "name": "stdout",
     "output_type": "stream",
     "text": [
      " 488.18099636611106\n"
     ]
    },
    {
     "name": "stderr",
     "output_type": "stream",
     "text": [
      "\n",
      "t:  98%|█████████▊| 1236/1260 [03:53<00:05,  4.67it/s, now=None]\u001b[A"
     ]
    },
    {
     "name": "stdout",
     "output_type": "stream",
     "text": [
      "730.1138825216282 550.3656913207922\n",
      "792.9370531537829"
     ]
    },
    {
     "name": "stderr",
     "output_type": "stream",
     "text": [
      "\n",
      "t:  98%|█████████▊| 1237/1260 [03:53<00:04,  4.76it/s, now=None]\u001b[A"
     ]
    },
    {
     "name": "stdout",
     "output_type": "stream",
     "text": [
      " 455.6169088353355\n",
      "1259.647291780835 449.10270073148524\n"
     ]
    },
    {
     "name": "stderr",
     "output_type": "stream",
     "text": [
      "\n",
      "t:  98%|█████████▊| 1238/1260 [03:53<00:04,  4.84it/s, now=None]\u001b[A\n",
      "t:  98%|█████████▊| 1239/1260 [03:53<00:04,  4.82it/s, now=None]\u001b[A"
     ]
    },
    {
     "name": "stdout",
     "output_type": "stream",
     "text": [
      "1806.0931769943224 501.9993569564828\n",
      "1839.8246677045588"
     ]
    },
    {
     "name": "stderr",
     "output_type": "stream",
     "text": [
      "\n",
      "t:  98%|█████████▊| 1240/1260 [03:54<00:04,  4.81it/s, now=None]\u001b[A"
     ]
    },
    {
     "name": "stdout",
     "output_type": "stream",
     "text": [
      " 505.2713185045293\n"
     ]
    },
    {
     "name": "stderr",
     "output_type": "stream",
     "text": [
      "\n",
      "t:  98%|█████████▊| 1241/1260 [03:54<00:03,  4.79it/s, now=None]\u001b[A"
     ]
    },
    {
     "name": "stdout",
     "output_type": "stream",
     "text": [
      "1561.4990930038737 620.4922154049052\n",
      "1208.557170723872 540.2776884600967\n"
     ]
    },
    {
     "name": "stderr",
     "output_type": "stream",
     "text": [
      "\n",
      "t:  99%|█████████▊| 1242/1260 [03:54<00:03,  4.74it/s, now=None]\u001b[A\n",
      "t:  99%|█████████▊| 1243/1260 [03:54<00:03,  4.89it/s, now=None]\u001b[A"
     ]
    },
    {
     "name": "stdout",
     "output_type": "stream",
     "text": [
      "1065.8280923175776 1151.3666214680927\n",
      "1154.7712588348395"
     ]
    },
    {
     "name": "stderr",
     "output_type": "stream",
     "text": [
      "\n",
      "t:  99%|█████████▊| 1244/1260 [03:54<00:03,  4.87it/s, now=None]\u001b[A"
     ]
    },
    {
     "name": "stdout",
     "output_type": "stream",
     "text": [
      " 1075.203467504443\n",
      "977.420897272133"
     ]
    },
    {
     "name": "stderr",
     "output_type": "stream",
     "text": [
      "\n",
      "t:  99%|█████████▉| 1245/1260 [03:55<00:03,  4.94it/s, now=None]\u001b[A"
     ]
    },
    {
     "name": "stdout",
     "output_type": "stream",
     "text": [
      " 2162.285446724328\n"
     ]
    },
    {
     "name": "stderr",
     "output_type": "stream",
     "text": [
      "\n",
      "t:  99%|█████████▉| 1246/1260 [03:55<00:02,  4.68it/s, now=None]\u001b[A"
     ]
    },
    {
     "name": "stdout",
     "output_type": "stream",
     "text": [
      "940.3347530451317 74433.25141778727\n",
      "817.5203040400957"
     ]
    },
    {
     "name": "stderr",
     "output_type": "stream",
     "text": [
      "\n",
      "t:  99%|█████████▉| 1247/1260 [03:55<00:02,  4.77it/s, now=None]\u001b[A"
     ]
    },
    {
     "name": "stdout",
     "output_type": "stream",
     "text": [
      " 2376.3322312394953\n"
     ]
    },
    {
     "name": "stderr",
     "output_type": "stream",
     "text": [
      "\n",
      "t:  99%|█████████▉| 1248/1260 [03:55<00:02,  4.65it/s, now=None]\u001b[A"
     ]
    },
    {
     "name": "stdout",
     "output_type": "stream",
     "text": [
      "862.1244547197566 791.9824829190984\n"
     ]
    },
    {
     "name": "stderr",
     "output_type": "stream",
     "text": [
      "\n",
      "t:  99%|█████████▉| 1249/1260 [03:56<00:02,  4.67it/s, now=None]\u001b[A"
     ]
    },
    {
     "name": "stdout",
     "output_type": "stream",
     "text": [
      "1022.0032678331534 806.4093625901512\n",
      "1301.5451906558408"
     ]
    },
    {
     "name": "stderr",
     "output_type": "stream",
     "text": [
      "\n",
      "t:  99%|█████████▉| 1250/1260 [03:56<00:02,  4.64it/s, now=None]\u001b[A"
     ]
    },
    {
     "name": "stdout",
     "output_type": "stream",
     "text": [
      " 983.6110575717613\n",
      "1934.0748882070607 1421.6802834716775\n"
     ]
    },
    {
     "name": "stderr",
     "output_type": "stream",
     "text": [
      "\n",
      "t:  99%|█████████▉| 1251/1260 [03:56<00:01,  4.74it/s, now=None]\u001b[A\n",
      "t:  99%|█████████▉| 1252/1260 [03:56<00:01,  4.91it/s, now=None]\u001b[A"
     ]
    },
    {
     "name": "stdout",
     "output_type": "stream",
     "text": [
      "1789.7954139395836 876.6135138011734\n",
      "2009.7994223942064"
     ]
    },
    {
     "name": "stderr",
     "output_type": "stream",
     "text": [
      "\n",
      "t:  99%|█████████▉| 1253/1260 [03:56<00:01,  4.86it/s, now=None]\u001b[A"
     ]
    },
    {
     "name": "stdout",
     "output_type": "stream",
     "text": [
      " 574.9903727179291\n"
     ]
    },
    {
     "name": "stderr",
     "output_type": "stream",
     "text": [
      "\n",
      "t: 100%|█████████▉| 1254/1260 [03:57<00:01,  4.83it/s, now=None]\u001b[A"
     ]
    },
    {
     "name": "stdout",
     "output_type": "stream",
     "text": [
      "2317.204125487378 7458.784889692923\n"
     ]
    },
    {
     "name": "stderr",
     "output_type": "stream",
     "text": [
      "\n",
      "t: 100%|█████████▉| 1255/1260 [03:57<00:01,  4.80it/s, now=None]\u001b[A"
     ]
    },
    {
     "name": "stdout",
     "output_type": "stream",
     "text": [
      "2864.255879088118 1610.5125755575\n",
      "5019.3734650931665"
     ]
    },
    {
     "name": "stderr",
     "output_type": "stream",
     "text": [
      "\n",
      "t: 100%|█████████▉| 1256/1260 [03:57<00:00,  4.81it/s, now=None]\u001b[A"
     ]
    },
    {
     "name": "stdout",
     "output_type": "stream",
     "text": [
      " 1948.5322000310093\n"
     ]
    },
    {
     "name": "stderr",
     "output_type": "stream",
     "text": [
      "\n",
      "t: 100%|█████████▉| 1257/1260 [03:57<00:00,  4.87it/s, now=None]\u001b[A"
     ]
    },
    {
     "name": "stdout",
     "output_type": "stream",
     "text": [
      "5143.125733820608 5959.025966868791\n",
      "4502.2911792316845 1230.5055587469972"
     ]
    },
    {
     "name": "stderr",
     "output_type": "stream",
     "text": [
      "\n",
      "t: 100%|█████████▉| 1258/1260 [03:57<00:00,  4.80it/s, now=None]\u001b[A"
     ]
    },
    {
     "name": "stdout",
     "output_type": "stream",
     "text": [
      "\n",
      "15535.880116996153"
     ]
    },
    {
     "name": "stderr",
     "output_type": "stream",
     "text": [
      "\n",
      "t: 100%|█████████▉| 1259/1260 [03:58<00:00,  4.75it/s, now=None]\u001b[A"
     ]
    },
    {
     "name": "stdout",
     "output_type": "stream",
     "text": [
      " 574.0630320671768\n"
     ]
    },
    {
     "name": "stderr",
     "output_type": "stream",
     "text": [
      "\n",
      "t: 100%|██████████| 1260/1260 [03:58<00:00,  4.77it/s, now=None]\u001b[A"
     ]
    },
    {
     "name": "stdout",
     "output_type": "stream",
     "text": [
      "4871.156885276669 760.0696332542788\n",
      "4667.957818218097 681.3815468861512\n"
     ]
    },
    {
     "name": "stderr",
     "output_type": "stream",
     "text": [
      "\n",
      "t:  51%|█████     | 607/1199 [49:17<01:46,  5.58it/s, now=None] \u001b[A"
     ]
    },
    {
     "name": "stdout",
     "output_type": "stream",
     "text": [
      "Moviepy - Done !\n",
      "Moviepy - video ready project_video_out.mp4\n",
      "Wall time: 3min 58s\n"
     ]
    }
   ],
   "source": [
    "white_output = 'project_video_out.mp4'\n",
    "## To speed up the testing process you may want to try your pipeline on a shorter subclip of the video\n",
    "## To do so add .subclip(start_second,end_second) to the end of the line below\n",
    "## Where start_second and end_second are integer values representing the start and end of the subclip\n",
    "## You may also uncomment the following line for a subclip of the first 5 seconds\n",
    "##clip1 = VideoFileClip(\"test_videos/solidWhiteRight.mp4\").subclip(0,5)\n",
    "clip1 = VideoFileClip(\"project_video.mp4\")\n",
    "white_clip = clip1.fl_image(process_image) #NOTE: this function expects color images!!\n",
    "%time white_clip.write_videofile(white_output, audio=False)"
   ]
  },
  {
   "cell_type": "code",
   "execution_count": 33,
   "metadata": {},
   "outputs": [
    {
     "data": {
      "text/html": [
       "\n",
       "<video width=\"960\" height=\"540\" controls>\n",
       "  <source src=\"project_video_out.mp4\">\n",
       "</video>\n"
      ],
      "text/plain": [
       "<IPython.core.display.HTML object>"
      ]
     },
     "execution_count": 33,
     "metadata": {},
     "output_type": "execute_result"
    }
   ],
   "source": [
    "HTML(\"\"\"\n",
    "<video width=\"960\" height=\"540\" controls>\n",
    "  <source src=\"{0}\">\n",
    "</video>\n",
    "\"\"\".format(white_output))"
   ]
  },
  {
   "cell_type": "code",
   "execution_count": 28,
   "metadata": {},
   "outputs": [
    {
     "name": "stderr",
     "output_type": "stream",
     "text": [
      "t:  51%|█████     | 607/1199 [04:46<01:46,  5.58it/s, now=None]\n",
      "t:   0%|          | 0/485 [00:00<?, ?it/s, now=None]\u001b[A\n"
     ]
    },
    {
     "name": "stdout",
     "output_type": "stream",
     "text": [
      "67.46525879239577 112.09183844485797\n",
      "Moviepy - Building video challenge_video_out.mp4.\n",
      "Moviepy - Writing video challenge_video_out.mp4\n",
      "\n",
      "67.46525879239577 112.09183844485797\n"
     ]
    },
    {
     "name": "stderr",
     "output_type": "stream",
     "text": [
      "t:   0%|          | 2/485 [00:00<00:36, 13.16it/s, now=None]\u001b[A\n",
      "t:   1%|          | 3/485 [00:00<00:46, 10.41it/s, now=None]\u001b[A\n",
      "t:   1%|          | 4/485 [00:00<00:54,  8.91it/s, now=None]\u001b[A"
     ]
    },
    {
     "name": "stdout",
     "output_type": "stream",
     "text": [
      "99.52016874341187 84.42617318336734\n",
      "61.76495953818627 104.34372745453706\n"
     ]
    },
    {
     "name": "stderr",
     "output_type": "stream",
     "text": [
      "\n",
      "t:   1%|          | 5/485 [00:00<01:00,  7.99it/s, now=None]\u001b[A"
     ]
    },
    {
     "name": "stdout",
     "output_type": "stream",
     "text": [
      "59.96527252541918 123.26347486736833\n",
      "43.32456317518724 144.40109735452756\n"
     ]
    },
    {
     "name": "stderr",
     "output_type": "stream",
     "text": [
      "\n",
      "t:   1%|          | 6/485 [00:00<01:04,  7.44it/s, now=None]\u001b[A\n",
      "t:   1%|▏         | 7/485 [00:00<01:05,  7.30it/s, now=None]\u001b[A\n",
      "t:   2%|▏         | 8/485 [00:01<01:06,  7.13it/s, now=None]\u001b[A"
     ]
    },
    {
     "name": "stdout",
     "output_type": "stream",
     "text": [
      "37.027503205193845 140.72207840764247\n",
      "43.05799498267148 131.38347963915956\n"
     ]
    },
    {
     "name": "stderr",
     "output_type": "stream",
     "text": [
      "\n",
      "t:   2%|▏         | 9/485 [00:01<01:09,  6.88it/s, now=None]\u001b[A\n",
      "t:   2%|▏         | 10/485 [00:01<01:09,  6.86it/s, now=None]\u001b[A"
     ]
    },
    {
     "name": "stdout",
     "output_type": "stream",
     "text": [
      "45.89293119887958 141.9529165475105\n",
      "38.863674797011306 141.71227458768084\n"
     ]
    },
    {
     "name": "stderr",
     "output_type": "stream",
     "text": [
      "\n",
      "t:   2%|▏         | 11/485 [00:01<01:11,  6.60it/s, now=None]\u001b[A"
     ]
    },
    {
     "name": "stdout",
     "output_type": "stream",
     "text": [
      "32.17720882007229 117.59244435474214\n",
      "29.866253794799082 90.50654384409765\n"
     ]
    },
    {
     "name": "stderr",
     "output_type": "stream",
     "text": [
      "\n",
      "t:   2%|▏         | 12/485 [00:01<01:13,  6.44it/s, now=None]\u001b[A\n",
      "t:   3%|▎         | 13/485 [00:01<01:17,  6.08it/s, now=None]\u001b[A"
     ]
    },
    {
     "name": "stdout",
     "output_type": "stream",
     "text": [
      "25.705105563006484 94.504696349916\n",
      "46.76115832294776"
     ]
    },
    {
     "name": "stderr",
     "output_type": "stream",
     "text": [
      "\n",
      "t:   3%|▎         | 14/485 [00:02<01:19,  5.93it/s, now=None]\u001b[A\n",
      "t:   3%|▎         | 15/485 [00:02<01:17,  6.10it/s, now=None]\u001b[A"
     ]
    },
    {
     "name": "stdout",
     "output_type": "stream",
     "text": [
      " 108.41620880957342\n",
      "63.63422161315247 94.27944661702145\n"
     ]
    },
    {
     "name": "stderr",
     "output_type": "stream",
     "text": [
      "\n",
      "t:   3%|▎         | 16/485 [00:02<01:17,  6.08it/s, now=None]\u001b[A"
     ]
    },
    {
     "name": "stdout",
     "output_type": "stream",
     "text": [
      "39.79623144818665 113.92755039192427\n",
      "65.61832360142432 90.22236876865271\n"
     ]
    },
    {
     "name": "stderr",
     "output_type": "stream",
     "text": [
      "\n",
      "t:   4%|▎         | 17/485 [00:02<01:16,  6.15it/s, now=None]\u001b[A\n",
      "t:   4%|▎         | 18/485 [00:02<01:14,  6.29it/s, now=None]\u001b[A\n",
      "t:   4%|▍         | 19/485 [00:02<01:13,  6.36it/s, now=None]\u001b[A"
     ]
    },
    {
     "name": "stdout",
     "output_type": "stream",
     "text": [
      "50.76914145304739 90.2718902651632\n",
      "48.208591790538556 335.9366059239754\n"
     ]
    },
    {
     "name": "stderr",
     "output_type": "stream",
     "text": [
      "\n",
      "t:   4%|▍         | 20/485 [00:03<01:15,  6.14it/s, now=None]\u001b[A"
     ]
    },
    {
     "name": "stdout",
     "output_type": "stream",
     "text": [
      "15.881785450452504 94.80758792097191\n",
      "113.17895801158191 315.35740832297375\n"
     ]
    },
    {
     "name": "stderr",
     "output_type": "stream",
     "text": [
      "\n",
      "t:   4%|▍         | 21/485 [00:03<01:15,  6.13it/s, now=None]\u001b[A\n",
      "t:   5%|▍         | 22/485 [00:03<01:16,  6.06it/s, now=None]\u001b[A"
     ]
    },
    {
     "name": "stdout",
     "output_type": "stream",
     "text": [
      "162.77508112755544 738.3879498429142\n",
      "22.348765617644236 59.19193829185498\n"
     ]
    },
    {
     "name": "stderr",
     "output_type": "stream",
     "text": [
      "\n",
      "t:   5%|▍         | 23/485 [00:03<01:15,  6.11it/s, now=None]\u001b[A\n",
      "t:   5%|▍         | 24/485 [00:03<01:16,  6.00it/s, now=None]\u001b[A"
     ]
    },
    {
     "name": "stdout",
     "output_type": "stream",
     "text": [
      "39.66507911851303 56.773883519637494\n",
      "22.384233613540157 260.13291965178445\n"
     ]
    },
    {
     "name": "stderr",
     "output_type": "stream",
     "text": [
      "\n",
      "t:   5%|▌         | 25/485 [00:03<01:17,  5.91it/s, now=None]\u001b[A\n",
      "t:   5%|▌         | 26/485 [00:04<01:17,  5.96it/s, now=None]\u001b[A"
     ]
    },
    {
     "name": "stdout",
     "output_type": "stream",
     "text": [
      "75.87229968408948 50.581378188967356\n",
      "35.69422811651797"
     ]
    },
    {
     "name": "stderr",
     "output_type": "stream",
     "text": [
      "\n",
      "t:   6%|▌         | 27/485 [00:04<01:18,  5.81it/s, now=None]\u001b[A"
     ]
    },
    {
     "name": "stdout",
     "output_type": "stream",
     "text": [
      " 39.931502926855636\n",
      "492.51254934855695 "
     ]
    },
    {
     "name": "stderr",
     "output_type": "stream",
     "text": [
      "\n",
      "t:   6%|▌         | 28/485 [00:04<01:21,  5.59it/s, now=None]\u001b[A"
     ]
    },
    {
     "name": "stdout",
     "output_type": "stream",
     "text": [
      "150.05770622491778\n",
      "64.1897175471871"
     ]
    },
    {
     "name": "stderr",
     "output_type": "stream",
     "text": [
      "\n",
      "t:   6%|▌         | 29/485 [00:04<01:22,  5.55it/s, now=None]\u001b[A"
     ]
    },
    {
     "name": "stdout",
     "output_type": "stream",
     "text": [
      " 47.28509215718856\n",
      "52.73532352087595 1938.457821166326\n"
     ]
    },
    {
     "name": "stderr",
     "output_type": "stream",
     "text": [
      "\n",
      "t:   6%|▌         | 30/485 [00:04<01:21,  5.60it/s, now=None]\u001b[A\n",
      "t:   6%|▋         | 31/485 [00:04<01:19,  5.69it/s, now=None]\u001b[A"
     ]
    },
    {
     "name": "stdout",
     "output_type": "stream",
     "text": [
      "48.85684592048018 43.46899102989792\n"
     ]
    },
    {
     "name": "stderr",
     "output_type": "stream",
     "text": [
      "\n",
      "t:   7%|▋         | 32/485 [00:05<01:23,  5.41it/s, now=None]\u001b[A"
     ]
    },
    {
     "name": "stdout",
     "output_type": "stream",
     "text": [
      "54.925439761155076 352.4372279053329\n",
      "42.37858202845932"
     ]
    },
    {
     "name": "stderr",
     "output_type": "stream",
     "text": [
      "\n",
      "t:   7%|▋         | 33/485 [00:05<01:24,  5.37it/s, now=None]\u001b[A"
     ]
    },
    {
     "name": "stdout",
     "output_type": "stream",
     "text": [
      " 658.846564924155\n",
      "56.399008923305324"
     ]
    },
    {
     "name": "stderr",
     "output_type": "stream",
     "text": [
      "\n",
      "t:   7%|▋         | 34/485 [00:05<01:24,  5.32it/s, now=None]\u001b[A"
     ]
    },
    {
     "name": "stdout",
     "output_type": "stream",
     "text": [
      " 169.9740163498526\n",
      "183.80064824801534"
     ]
    },
    {
     "name": "stderr",
     "output_type": "stream",
     "text": [
      "\n",
      "t:   7%|▋         | 35/485 [00:05<01:26,  5.20it/s, now=None]\u001b[A"
     ]
    },
    {
     "name": "stdout",
     "output_type": "stream",
     "text": [
      " 97.30888227829456\n",
      "81.88901900578963"
     ]
    },
    {
     "name": "stderr",
     "output_type": "stream",
     "text": [
      "\n",
      "t:   7%|▋         | 36/485 [00:05<01:27,  5.14it/s, now=None]\u001b[A"
     ]
    },
    {
     "name": "stdout",
     "output_type": "stream",
     "text": [
      " 92.87053069690744\n",
      "83.17839544188556"
     ]
    },
    {
     "name": "stderr",
     "output_type": "stream",
     "text": [
      "\n",
      "t:   8%|▊         | 37/485 [00:06<01:26,  5.18it/s, now=None]\u001b[A"
     ]
    },
    {
     "name": "stdout",
     "output_type": "stream",
     "text": [
      " 29.146142199871434\n",
      "37.401575812282566"
     ]
    },
    {
     "name": "stderr",
     "output_type": "stream",
     "text": [
      "\n",
      "t:   8%|▊         | 38/485 [00:06<01:26,  5.16it/s, now=None]\u001b[A"
     ]
    },
    {
     "name": "stdout",
     "output_type": "stream",
     "text": [
      " 21.21080024280664\n",
      "144.5268498780384"
     ]
    },
    {
     "name": "stderr",
     "output_type": "stream",
     "text": [
      "\n",
      "t:   8%|▊         | 39/485 [00:06<01:26,  5.18it/s, now=None]\u001b[A"
     ]
    },
    {
     "name": "stdout",
     "output_type": "stream",
     "text": [
      " 22.737799827342716\n"
     ]
    },
    {
     "name": "stderr",
     "output_type": "stream",
     "text": [
      "\n",
      "t:   8%|▊         | 40/485 [00:06<01:26,  5.12it/s, now=None]\u001b[A"
     ]
    },
    {
     "name": "stdout",
     "output_type": "stream",
     "text": [
      "117.77466272831417 27.89983867941343\n",
      "32.791531305640206"
     ]
    },
    {
     "name": "stderr",
     "output_type": "stream",
     "text": [
      "\n",
      "t:   8%|▊         | 41/485 [00:06<01:26,  5.10it/s, now=None]\u001b[A"
     ]
    },
    {
     "name": "stdout",
     "output_type": "stream",
     "text": [
      " 36.235077378625896\n"
     ]
    },
    {
     "name": "stderr",
     "output_type": "stream",
     "text": [
      "\n",
      "t:   9%|▊         | 42/485 [00:07<01:30,  4.91it/s, now=None]\u001b[A"
     ]
    },
    {
     "name": "stdout",
     "output_type": "stream",
     "text": [
      "180.41562382298167 85.00168956682188\n",
      "107.86690523701621 "
     ]
    },
    {
     "name": "stderr",
     "output_type": "stream",
     "text": [
      "\n",
      "t:   9%|▉         | 43/485 [00:07<01:27,  5.08it/s, now=None]\u001b[A"
     ]
    },
    {
     "name": "stdout",
     "output_type": "stream",
     "text": [
      "121.99523318895189\n",
      "91.85901349386542"
     ]
    },
    {
     "name": "stderr",
     "output_type": "stream",
     "text": [
      "\n",
      "t:   9%|▉         | 44/485 [00:07<01:26,  5.12it/s, now=None]\u001b[A"
     ]
    },
    {
     "name": "stdout",
     "output_type": "stream",
     "text": [
      " 77.38764564227975\n",
      "116.3333511362756 105.64338108182274\n"
     ]
    },
    {
     "name": "stderr",
     "output_type": "stream",
     "text": [
      "\n",
      "t:   9%|▉         | 45/485 [00:07<01:23,  5.27it/s, now=None]\u001b[A\n",
      "t:   9%|▉         | 46/485 [00:07<01:21,  5.40it/s, now=None]\u001b[A"
     ]
    },
    {
     "name": "stdout",
     "output_type": "stream",
     "text": [
      "389.4139158793087 121.36437466809707\n",
      "776.1235755567861"
     ]
    },
    {
     "name": "stderr",
     "output_type": "stream",
     "text": [
      "\n",
      "t:  10%|▉         | 47/485 [00:08<01:21,  5.39it/s, now=None]\u001b[A"
     ]
    },
    {
     "name": "stdout",
     "output_type": "stream",
     "text": [
      " 57.70163675847747\n",
      "67.26454975112998"
     ]
    },
    {
     "name": "stderr",
     "output_type": "stream",
     "text": [
      "\n",
      "t:  10%|▉         | 48/485 [00:08<01:20,  5.40it/s, now=None]\u001b[A"
     ]
    },
    {
     "name": "stdout",
     "output_type": "stream",
     "text": [
      " 177.9913834728304\n",
      "129.75925318475805"
     ]
    },
    {
     "name": "stderr",
     "output_type": "stream",
     "text": [
      "\n",
      "t:  10%|█         | 49/485 [00:08<01:21,  5.32it/s, now=None]\u001b[A"
     ]
    },
    {
     "name": "stdout",
     "output_type": "stream",
     "text": [
      " 364.8200272455445\n",
      "125.0999275531694 231.19479983855166\n"
     ]
    },
    {
     "name": "stderr",
     "output_type": "stream",
     "text": [
      "\n",
      "t:  10%|█         | 50/485 [00:08<01:18,  5.56it/s, now=None]\u001b[A\n",
      "t:  11%|█         | 51/485 [00:08<01:14,  5.79it/s, now=None]\u001b[A\n",
      "t:  11%|█         | 52/485 [00:08<01:11,  6.03it/s, now=None]\u001b[A"
     ]
    },
    {
     "name": "stdout",
     "output_type": "stream",
     "text": [
      "80.81833392863403 46.6113488346693\n",
      "121.01667421568068 38.30522369332057\n"
     ]
    },
    {
     "name": "stderr",
     "output_type": "stream",
     "text": [
      "\n",
      "t:  11%|█         | 53/485 [00:09<01:09,  6.21it/s, now=None]\u001b[A\n",
      "t:  11%|█         | 54/485 [00:09<01:08,  6.25it/s, now=None]\u001b[A"
     ]
    },
    {
     "name": "stdout",
     "output_type": "stream",
     "text": [
      "141.50548700396158 40.96128135082158\n",
      "507.56183207477056 38.579333915220786\n"
     ]
    },
    {
     "name": "stderr",
     "output_type": "stream",
     "text": [
      "\n",
      "t:  11%|█▏        | 55/485 [00:09<01:07,  6.34it/s, now=None]\u001b[A\n",
      "t:  12%|█▏        | 56/485 [00:09<01:06,  6.41it/s, now=None]\u001b[A"
     ]
    },
    {
     "name": "stdout",
     "output_type": "stream",
     "text": [
      "245.05890148278777 41.55653949292571\n",
      "168.69321569423596 42.956892018338834\n"
     ]
    },
    {
     "name": "stderr",
     "output_type": "stream",
     "text": [
      "\n",
      "t:  12%|█▏        | 57/485 [00:09<01:06,  6.42it/s, now=None]\u001b[A\n",
      "t:  12%|█▏        | 58/485 [00:09<01:05,  6.53it/s, now=None]\u001b[A"
     ]
    },
    {
     "name": "stdout",
     "output_type": "stream",
     "text": [
      "144.29071835869053 45.42694342485307\n",
      "178.98104188738657 45.112963529406336\n"
     ]
    },
    {
     "name": "stderr",
     "output_type": "stream",
     "text": [
      "\n",
      "t:  12%|█▏        | 59/485 [00:09<01:04,  6.60it/s, now=None]\u001b[A\n",
      "t:  12%|█▏        | 60/485 [00:10<01:04,  6.62it/s, now=None]\u001b[A"
     ]
    },
    {
     "name": "stdout",
     "output_type": "stream",
     "text": [
      "801.0901059851068 47.927757558888324\n",
      "40.55789886503509 48.97677115199796\n"
     ]
    },
    {
     "name": "stderr",
     "output_type": "stream",
     "text": [
      "\n",
      "t:  13%|█▎        | 61/485 [00:10<01:04,  6.53it/s, now=None]\u001b[A\n",
      "t:  13%|█▎        | 62/485 [00:10<01:04,  6.56it/s, now=None]\u001b[A"
     ]
    },
    {
     "name": "stdout",
     "output_type": "stream",
     "text": [
      "39.22379060634412 48.67907145095029\n",
      "120.67168153138617 46.720570410438626\n"
     ]
    },
    {
     "name": "stderr",
     "output_type": "stream",
     "text": [
      "\n",
      "t:  13%|█▎        | 63/485 [00:10<01:03,  6.62it/s, now=None]\u001b[A\n",
      "t:  13%|█▎        | 64/485 [00:10<01:03,  6.60it/s, now=None]\u001b[A"
     ]
    },
    {
     "name": "stdout",
     "output_type": "stream",
     "text": [
      "74.38204267606773 31.033737627892567\n",
      "68.686636232957 2390.213073143532\n"
     ]
    },
    {
     "name": "stderr",
     "output_type": "stream",
     "text": [
      "\n",
      "t:  13%|█▎        | 65/485 [00:10<01:03,  6.64it/s, now=None]\u001b[A\n",
      "t:  14%|█▎        | 66/485 [00:10<01:04,  6.54it/s, now=None]\u001b[A"
     ]
    },
    {
     "name": "stdout",
     "output_type": "stream",
     "text": [
      "123.66213212549525 45.20802079982704\n",
      "203.1562782312551 46.82277397809661\n"
     ]
    },
    {
     "name": "stderr",
     "output_type": "stream",
     "text": [
      "\n",
      "t:  14%|█▍        | 67/485 [00:11<01:02,  6.64it/s, now=None]\u001b[A\n",
      "t:  14%|█▍        | 68/485 [00:11<01:01,  6.77it/s, now=None]\u001b[A"
     ]
    },
    {
     "name": "stdout",
     "output_type": "stream",
     "text": [
      "185.65182792516975 46.601465234873785\n",
      "46.312600017814795 44.74839815345119\n"
     ]
    },
    {
     "name": "stderr",
     "output_type": "stream",
     "text": [
      "\n",
      "t:  14%|█▍        | 69/485 [00:11<01:01,  6.78it/s, now=None]\u001b[A\n",
      "t:  14%|█▍        | 70/485 [00:11<01:01,  6.77it/s, now=None]\u001b[A"
     ]
    },
    {
     "name": "stdout",
     "output_type": "stream",
     "text": [
      "51.20866155007341 47.24279412267303\n",
      "131.50452747536505 44.71469530641582\n"
     ]
    },
    {
     "name": "stderr",
     "output_type": "stream",
     "text": [
      "\n",
      "t:  15%|█▍        | 71/485 [00:11<01:02,  6.63it/s, now=None]\u001b[A\n",
      "t:  15%|█▍        | 72/485 [00:11<01:01,  6.67it/s, now=None]\u001b[A"
     ]
    },
    {
     "name": "stdout",
     "output_type": "stream",
     "text": [
      "113.5785170279373 48.16772949076705\n",
      "144.45700301497766 48.89747292623919\n"
     ]
    },
    {
     "name": "stderr",
     "output_type": "stream",
     "text": [
      "\n",
      "t:  15%|█▌        | 73/485 [00:12<01:02,  6.60it/s, now=None]\u001b[A\n",
      "t:  15%|█▌        | 74/485 [00:12<01:01,  6.66it/s, now=None]\u001b[A"
     ]
    },
    {
     "name": "stdout",
     "output_type": "stream",
     "text": [
      "155.35416768022353 57.465801563370164\n",
      "126.10556520197716 59.35297079411476\n"
     ]
    },
    {
     "name": "stderr",
     "output_type": "stream",
     "text": [
      "\n",
      "t:  15%|█▌        | 75/485 [00:12<01:01,  6.64it/s, now=None]\u001b[A\n",
      "t:  16%|█▌        | 76/485 [00:12<01:01,  6.65it/s, now=None]\u001b[A"
     ]
    },
    {
     "name": "stdout",
     "output_type": "stream",
     "text": [
      "135.1018971015745 59.098793029755676\n",
      "92.50563787056473 65.08814038401735\n"
     ]
    },
    {
     "name": "stderr",
     "output_type": "stream",
     "text": [
      "\n",
      "t:  16%|█▌        | 77/485 [00:12<01:00,  6.76it/s, now=None]\u001b[A"
     ]
    },
    {
     "name": "stdout",
     "output_type": "stream",
     "text": [
      "128.12933671684854 67.28527071436336\n",
      "130.76176379385245 69.99748792302388\n"
     ]
    },
    {
     "name": "stderr",
     "output_type": "stream",
     "text": [
      "\n",
      "t:  16%|█▌        | 78/485 [00:12<01:01,  6.61it/s, now=None]\u001b[A\n",
      "t:  16%|█▋        | 79/485 [00:12<01:01,  6.64it/s, now=None]\u001b[A\n",
      "t:  16%|█▋        | 80/485 [00:13<01:00,  6.66it/s, now=None]\u001b[A"
     ]
    },
    {
     "name": "stdout",
     "output_type": "stream",
     "text": [
      "127.93747517586243 68.65097475832238\n",
      "118.50173146821524 63.97447701552032\n"
     ]
    },
    {
     "name": "stderr",
     "output_type": "stream",
     "text": [
      "\n",
      "t:  17%|█▋        | 81/485 [00:13<01:00,  6.69it/s, now=None]\u001b[A"
     ]
    },
    {
     "name": "stdout",
     "output_type": "stream",
     "text": [
      "69.96261019397348 66.3998990606194\n",
      "63.1452637138398 61.45050298738677\n"
     ]
    },
    {
     "name": "stderr",
     "output_type": "stream",
     "text": [
      "\n",
      "t:  17%|█▋        | 82/485 [00:13<01:01,  6.58it/s, now=None]\u001b[A\n",
      "t:  17%|█▋        | 83/485 [00:13<01:01,  6.54it/s, now=None]\u001b[A\n",
      "t:  17%|█▋        | 84/485 [00:13<01:00,  6.59it/s, now=None]\u001b[A"
     ]
    },
    {
     "name": "stdout",
     "output_type": "stream",
     "text": [
      "83.77223615768091 70.15131148911225\n",
      "146.61298246729064 73.10437292407453\n"
     ]
    },
    {
     "name": "stderr",
     "output_type": "stream",
     "text": [
      "\n",
      "t:  18%|█▊        | 85/485 [00:13<01:01,  6.55it/s, now=None]\u001b[A\n",
      "t:  18%|█▊        | 86/485 [00:14<01:02,  6.41it/s, now=None]"
     ]
    },
    {
     "name": "stdout",
     "output_type": "stream",
     "text": [
      "154.64606099648267 71.13516758869004\n",
      "116.41675564201466 73.11382169764315\n"
     ]
    },
    {
     "name": "stderr",
     "output_type": "stream",
     "text": [
      "\u001b[A\n",
      "t:  18%|█▊        | 87/485 [00:14<01:01,  6.48it/s, now=None]\u001b[A\n",
      "t:  18%|█▊        | 88/485 [00:14<01:01,  6.50it/s, now=None]\u001b[A"
     ]
    },
    {
     "name": "stdout",
     "output_type": "stream",
     "text": [
      "151.1583963502853 75.69697134730988\n",
      "154.87794289473436 74.73885798884638\n"
     ]
    },
    {
     "name": "stderr",
     "output_type": "stream",
     "text": [
      "\n",
      "t:  18%|█▊        | 89/485 [00:14<01:01,  6.47it/s, now=None]\u001b[A"
     ]
    },
    {
     "name": "stdout",
     "output_type": "stream",
     "text": [
      "146.33980850074227 72.69418183036106\n",
      "129.7626497338889 73.50643600640788\n"
     ]
    },
    {
     "name": "stderr",
     "output_type": "stream",
     "text": [
      "\n",
      "t:  19%|█▊        | 90/485 [00:14<01:03,  6.22it/s, now=None]\u001b[A\n",
      "t:  19%|█▉        | 91/485 [00:14<01:01,  6.41it/s, now=None]\u001b[A\n",
      "t:  19%|█▉        | 92/485 [00:14<01:01,  6.41it/s, now=None]\u001b[A"
     ]
    },
    {
     "name": "stdout",
     "output_type": "stream",
     "text": [
      "94.21129019021554 75.62862746244578\n",
      "167.10242395544688 73.65184807327806\n"
     ]
    },
    {
     "name": "stderr",
     "output_type": "stream",
     "text": [
      "\n",
      "t:  19%|█▉        | 93/485 [00:15<01:00,  6.52it/s, now=None]\u001b[A\n",
      "t:  19%|█▉        | 94/485 [00:15<00:59,  6.53it/s, now=None]"
     ]
    },
    {
     "name": "stdout",
     "output_type": "stream",
     "text": [
      "153.67076173790502 74.1707416290547\n",
      "152.11124013328666 81.06758073807505\n"
     ]
    },
    {
     "name": "stderr",
     "output_type": "stream",
     "text": [
      "\u001b[A\n",
      "t:  20%|█▉        | 95/485 [00:15<00:59,  6.54it/s, now=None]\u001b[A\n",
      "t:  20%|█▉        | 96/485 [00:15<01:00,  6.48it/s, now=None]\u001b[A"
     ]
    },
    {
     "name": "stdout",
     "output_type": "stream",
     "text": [
      "141.70423013088765 84.63516212480714\n",
      "132.3213756485777 71.385657181077\n"
     ]
    },
    {
     "name": "stderr",
     "output_type": "stream",
     "text": [
      "\n",
      "t:  20%|██        | 97/485 [00:15<00:58,  6.60it/s, now=None]\u001b[A\n",
      "t:  20%|██        | 98/485 [00:15<00:58,  6.63it/s, now=None]\u001b[A"
     ]
    },
    {
     "name": "stdout",
     "output_type": "stream",
     "text": [
      "172.99907151549257 520.7754529384514\n",
      "170.1448633197282 813.8139551762355\n"
     ]
    },
    {
     "name": "stderr",
     "output_type": "stream",
     "text": [
      "\n",
      "t:  20%|██        | 99/485 [00:15<00:58,  6.62it/s, now=None]\u001b[A\n",
      "t:  21%|██        | 100/485 [00:16<00:58,  6.62it/s, now=None]\u001b[A"
     ]
    },
    {
     "name": "stdout",
     "output_type": "stream",
     "text": [
      "231.57815557423214 74.97717501833102\n",
      "81.21779419730042 100.0422129196622\n"
     ]
    },
    {
     "name": "stderr",
     "output_type": "stream",
     "text": [
      "\n",
      "t:  21%|██        | 101/485 [00:16<00:58,  6.53it/s, now=None]\u001b[A\n",
      "t:  21%|██        | 102/485 [00:16<00:57,  6.63it/s, now=None]\u001b[A"
     ]
    },
    {
     "name": "stdout",
     "output_type": "stream",
     "text": [
      "66.45268803058461 80.15968897143468\n",
      "45.567600000951856 288.0621029188048\n"
     ]
    },
    {
     "name": "stderr",
     "output_type": "stream",
     "text": [
      "\n",
      "t:  21%|██        | 103/485 [00:16<00:58,  6.53it/s, now=None]\u001b[A"
     ]
    },
    {
     "name": "stdout",
     "output_type": "stream",
     "text": [
      "45.20357470663456 535.9436457705746\n",
      "51.640135332030134 102.7168776527854\n"
     ]
    },
    {
     "name": "stderr",
     "output_type": "stream",
     "text": [
      "\n",
      "t:  21%|██▏       | 104/485 [00:16<00:57,  6.59it/s, now=None]\u001b[A\n",
      "t:  22%|██▏       | 105/485 [00:16<00:58,  6.53it/s, now=None]\u001b[A\n",
      "t:  22%|██▏       | 106/485 [00:17<00:57,  6.62it/s, now=None]\u001b[A"
     ]
    },
    {
     "name": "stdout",
     "output_type": "stream",
     "text": [
      "46.340935914873604 75.24075831558581\n",
      "57.74835170957654 99.5950202058473\n"
     ]
    },
    {
     "name": "stderr",
     "output_type": "stream",
     "text": [
      "\n",
      "t:  22%|██▏       | 107/485 [00:17<00:56,  6.69it/s, now=None]\u001b[A\n",
      "t:  22%|██▏       | 108/485 [00:17<00:57,  6.59it/s, now=None]\u001b[A"
     ]
    },
    {
     "name": "stdout",
     "output_type": "stream",
     "text": [
      "39.894558384394685 122.30293145164556\n",
      "55.651550970223184 90.06705024671423\n"
     ]
    },
    {
     "name": "stderr",
     "output_type": "stream",
     "text": [
      "\n",
      "t:  22%|██▏       | 109/485 [00:17<00:57,  6.55it/s, now=None]\u001b[A\n",
      "t:  23%|██▎       | 110/485 [00:17<00:56,  6.62it/s, now=None]\u001b[A"
     ]
    },
    {
     "name": "stdout",
     "output_type": "stream",
     "text": [
      "42.960047426396265 113.99060071911335\n",
      "49.646211905822014 106.23595864594625\n"
     ]
    },
    {
     "name": "stderr",
     "output_type": "stream",
     "text": [
      "\n",
      "t:  23%|██▎       | 111/485 [00:17<00:56,  6.57it/s, now=None]\u001b[A\n",
      "t:  23%|██▎       | 112/485 [00:17<00:56,  6.56it/s, now=None]\u001b[A"
     ]
    },
    {
     "name": "stdout",
     "output_type": "stream",
     "text": [
      "48.6888653777281 291.5538810676696\n",
      "31.291628617423907 280.0080300732402\n"
     ]
    },
    {
     "name": "stderr",
     "output_type": "stream",
     "text": [
      "\n",
      "t:  23%|██▎       | 113/485 [00:18<00:55,  6.73it/s, now=None]\u001b[A\n",
      "t:  24%|██▎       | 114/485 [00:18<00:54,  6.85it/s, now=None]\u001b[A"
     ]
    },
    {
     "name": "stdout",
     "output_type": "stream",
     "text": [
      "27.644876712371317 114.88404506705213\n",
      "26.653621001850556 109.69964946069103\n"
     ]
    },
    {
     "name": "stderr",
     "output_type": "stream",
     "text": [
      "\n",
      "t:  24%|██▎       | 115/485 [00:18<00:54,  6.83it/s, now=None]\u001b[A\n",
      "t:  24%|██▍       | 116/485 [00:18<00:54,  6.82it/s, now=None]\u001b[A"
     ]
    },
    {
     "name": "stdout",
     "output_type": "stream",
     "text": [
      "45.07813467184031 100.0212635702668\n",
      "30.70559938764447 107.23873842518316\n"
     ]
    },
    {
     "name": "stderr",
     "output_type": "stream",
     "text": [
      "\n",
      "t:  24%|██▍       | 117/485 [00:18<00:54,  6.75it/s, now=None]\u001b[A\n",
      "t:  24%|██▍       | 118/485 [00:18<00:54,  6.70it/s, now=None]\u001b[A"
     ]
    },
    {
     "name": "stdout",
     "output_type": "stream",
     "text": [
      "33.310023168468376 119.59302021295088\n",
      "28.953520014141677 102.71058391268271\n"
     ]
    },
    {
     "name": "stderr",
     "output_type": "stream",
     "text": [
      "\n",
      "t:  25%|██▍       | 119/485 [00:19<00:55,  6.65it/s, now=None]\u001b[A\n",
      "t:  25%|██▍       | 120/485 [00:19<00:54,  6.67it/s, now=None]\u001b[A"
     ]
    },
    {
     "name": "stdout",
     "output_type": "stream",
     "text": [
      "19.73428940712572 93.46104281856081\n",
      "539.8368697540567 84.99901609996247\n"
     ]
    },
    {
     "name": "stderr",
     "output_type": "stream",
     "text": [
      "\n",
      "t:  25%|██▍       | 121/485 [00:19<00:55,  6.57it/s, now=None]\u001b[A\n",
      "t:  25%|██▌       | 122/485 [00:19<00:55,  6.51it/s, now=None]\u001b[A"
     ]
    },
    {
     "name": "stdout",
     "output_type": "stream",
     "text": [
      "336.14519465212356 82.75475089399026\n",
      "203.61522833565292 70.26708714211811\n"
     ]
    },
    {
     "name": "stderr",
     "output_type": "stream",
     "text": [
      "\n",
      "t:  25%|██▌       | 123/485 [00:19<00:55,  6.49it/s, now=None]\u001b[A\n",
      "t:  26%|██▌       | 124/485 [00:19<00:55,  6.45it/s, now=None]\u001b[A"
     ]
    },
    {
     "name": "stdout",
     "output_type": "stream",
     "text": [
      "187.6117961504569 70.01999391549418\n",
      "193.93144486740852 78.56132117962643\n"
     ]
    },
    {
     "name": "stderr",
     "output_type": "stream",
     "text": [
      "\n",
      "t:  26%|██▌       | 125/485 [00:19<00:55,  6.49it/s, now=None]\u001b[A\n",
      "t:  26%|██▌       | 126/485 [00:20<00:55,  6.48it/s, now=None]\u001b[A"
     ]
    },
    {
     "name": "stdout",
     "output_type": "stream",
     "text": [
      "117.75444539140992 76.69843962170673\n",
      "27.14599282583904 77.1438176284831\n"
     ]
    },
    {
     "name": "stderr",
     "output_type": "stream",
     "text": [
      "\n",
      "t:  26%|██▌       | 127/485 [00:20<00:53,  6.64it/s, now=None]\u001b[A\n",
      "t:  26%|██▋       | 128/485 [00:20<00:53,  6.70it/s, now=None]\u001b[A"
     ]
    },
    {
     "name": "stdout",
     "output_type": "stream",
     "text": [
      "16.118420936690004 85.03614835625338\n",
      "11.131204244047419 87.17632939629038\n"
     ]
    },
    {
     "name": "stderr",
     "output_type": "stream",
     "text": [
      "\n",
      "t:  27%|██▋       | 129/485 [00:20<00:52,  6.73it/s, now=None]\u001b[A\n",
      "t:  27%|██▋       | 130/485 [00:20<00:52,  6.71it/s, now=None]\u001b[A"
     ]
    },
    {
     "name": "stdout",
     "output_type": "stream",
     "text": [
      "7.085633142194373 90.93204148155102\n",
      "3.6135284157102587 91.25347335242384\n"
     ]
    },
    {
     "name": "stderr",
     "output_type": "stream",
     "text": [
      "\n",
      "t:  27%|██▋       | 131/485 [00:20<00:51,  6.85it/s, now=None]\u001b[A\n",
      "t:  27%|██▋       | 132/485 [00:20<00:52,  6.71it/s, now=None]\u001b[A"
     ]
    },
    {
     "name": "stdout",
     "output_type": "stream",
     "text": [
      "2.7694934037537293 89.58900579820627\n",
      "8.69889849688659 86.02341610469561\n"
     ]
    },
    {
     "name": "stderr",
     "output_type": "stream",
     "text": [
      "\n",
      "t:  27%|██▋       | 133/485 [00:21<00:51,  6.88it/s, now=None]\u001b[A\n",
      "t:  28%|██▊       | 134/485 [00:21<00:51,  6.83it/s, now=None]\u001b[A"
     ]
    },
    {
     "name": "stdout",
     "output_type": "stream",
     "text": [
      "0.5776099246830019 80.0139806061736\n",
      "4947.366748724651 54.12941893631682\n"
     ]
    },
    {
     "name": "stderr",
     "output_type": "stream",
     "text": [
      "\n",
      "t:  28%|██▊       | 135/485 [00:21<00:51,  6.78it/s, now=None]\u001b[A\n",
      "t:  28%|██▊       | 136/485 [00:21<00:52,  6.69it/s, now=None]\u001b[A"
     ]
    },
    {
     "name": "stdout",
     "output_type": "stream",
     "text": [
      "373.41470592622335 74.05112843093804\n",
      "1302.639304193627 93.62881528778378\n"
     ]
    },
    {
     "name": "stderr",
     "output_type": "stream",
     "text": [
      "\n",
      "t:  28%|██▊       | 137/485 [00:21<00:53,  6.55it/s, now=None]\u001b[A\n",
      "t:  28%|██▊       | 138/485 [00:21<00:53,  6.55it/s, now=None]\u001b[A"
     ]
    },
    {
     "name": "stdout",
     "output_type": "stream",
     "text": [
      "624.9338182503757 81.14705354661346\n",
      "535.4107516059543 88.25375099891043\n"
     ]
    },
    {
     "name": "stderr",
     "output_type": "stream",
     "text": [
      "\n",
      "t:  29%|██▊       | 139/485 [00:22<00:52,  6.57it/s, now=None]\u001b[A"
     ]
    },
    {
     "name": "stdout",
     "output_type": "stream",
     "text": [
      "575.5000612823984 76.78013963815003\n",
      "390.4224588636901 84.73455825109332\n"
     ]
    },
    {
     "name": "stderr",
     "output_type": "stream",
     "text": [
      "\n",
      "t:  29%|██▉       | 140/485 [00:22<00:53,  6.41it/s, now=None]\u001b[A\n",
      "t:  29%|██▉       | 141/485 [00:22<00:55,  6.25it/s, now=None]\u001b[A\n",
      "t:  29%|██▉       | 142/485 [00:22<00:53,  6.37it/s, now=None]\u001b[A"
     ]
    },
    {
     "name": "stdout",
     "output_type": "stream",
     "text": [
      "1461.7509814348914 78.37766020674489\n",
      "2512.822296946693 72.56784135547416\n"
     ]
    },
    {
     "name": "stderr",
     "output_type": "stream",
     "text": [
      "\n",
      "t:  29%|██▉       | 143/485 [00:22<00:52,  6.49it/s, now=None]\u001b[A\n",
      "t:  30%|██▉       | 144/485 [00:22<00:51,  6.56it/s, now=None]\u001b[A"
     ]
    },
    {
     "name": "stdout",
     "output_type": "stream",
     "text": [
      "909.0492147539396 66.14336239124266\n",
      "254.65571103977396 65.54986820700994\n"
     ]
    },
    {
     "name": "stderr",
     "output_type": "stream",
     "text": [
      "\n",
      "t:  30%|██▉       | 145/485 [00:22<00:51,  6.56it/s, now=None]\u001b[A\n",
      "t:  30%|███       | 146/485 [00:23<00:51,  6.57it/s, now=None]\u001b[A"
     ]
    },
    {
     "name": "stdout",
     "output_type": "stream",
     "text": [
      "409.25637051068867 69.11228614718783\n",
      "328.04058794807287 70.80296344998256\n"
     ]
    },
    {
     "name": "stderr",
     "output_type": "stream",
     "text": [
      "\n",
      "t:  30%|███       | 147/485 [00:23<00:51,  6.61it/s, now=None]\u001b[A"
     ]
    },
    {
     "name": "stdout",
     "output_type": "stream",
     "text": [
      "729.3363113624769 78.28692470071465\n",
      "998.3407733840287 81.54027195417724\n"
     ]
    },
    {
     "name": "stderr",
     "output_type": "stream",
     "text": [
      "\n",
      "t:  31%|███       | 148/485 [00:23<00:53,  6.33it/s, now=None]\u001b[A\n",
      "t:  31%|███       | 149/485 [00:23<00:53,  6.27it/s, now=None]\u001b[A\n",
      "t:  31%|███       | 150/485 [00:23<00:52,  6.37it/s, now=None]\u001b[A"
     ]
    },
    {
     "name": "stdout",
     "output_type": "stream",
     "text": [
      "624.6306676389256 83.12434431650638\n",
      "487.20702799189627 81.13587624113279\n"
     ]
    },
    {
     "name": "stderr",
     "output_type": "stream",
     "text": [
      "\n",
      "t:  31%|███       | 151/485 [00:23<00:52,  6.41it/s, now=None]\u001b[A\n"
     ]
    },
    {
     "name": "stdout",
     "output_type": "stream",
     "text": [
      "504.8352009679714 88.21703217449239\n",
      "232.48823203998265 81.1143027107654\n"
     ]
    },
    {
     "name": "stderr",
     "output_type": "stream",
     "text": [
      "t:  31%|███▏      | 152/485 [00:24<00:52,  6.30it/s, now=None]\u001b[A\n",
      "t:  32%|███▏      | 153/485 [00:24<00:52,  6.29it/s, now=None]\u001b[A"
     ]
    },
    {
     "name": "stdout",
     "output_type": "stream",
     "text": [
      "245.80577266963306 89.15825739162113\n",
      "214.24547130649728 84.05605408330963\n"
     ]
    },
    {
     "name": "stderr",
     "output_type": "stream",
     "text": [
      "\n",
      "t:  32%|███▏      | 154/485 [00:24<00:53,  6.15it/s, now=None]\u001b[A\n",
      "t:  32%|███▏      | 155/485 [00:24<00:52,  6.30it/s, now=None]\u001b[A\n",
      "t:  32%|███▏      | 156/485 [00:24<00:52,  6.28it/s, now=None]\u001b[A"
     ]
    },
    {
     "name": "stdout",
     "output_type": "stream",
     "text": [
      "231.68026900209554 88.73143573233197\n",
      "243.2958439269059 92.13720593371393\n"
     ]
    },
    {
     "name": "stderr",
     "output_type": "stream",
     "text": [
      "\n",
      "t:  32%|███▏      | 157/485 [00:24<00:52,  6.26it/s, now=None]\u001b[A\n"
     ]
    },
    {
     "name": "stdout",
     "output_type": "stream",
     "text": [
      "230.58615611890028 94.06619201674566\n",
      "229.3405307620989 95.71685048390172\n"
     ]
    },
    {
     "name": "stderr",
     "output_type": "stream",
     "text": [
      "t:  33%|███▎      | 158/485 [00:25<00:52,  6.19it/s, now=None]\u001b[A\n",
      "t:  33%|███▎      | 159/485 [00:25<00:52,  6.26it/s, now=None]\u001b[A\n"
     ]
    },
    {
     "name": "stdout",
     "output_type": "stream",
     "text": [
      "151.30997468087668 92.7040568457873\n",
      "144.45675011366905 92.77188561780669\n"
     ]
    },
    {
     "name": "stderr",
     "output_type": "stream",
     "text": [
      "t:  33%|███▎      | 160/485 [00:25<00:52,  6.16it/s, now=None]\u001b[A\n",
      "t:  33%|███▎      | 161/485 [00:25<00:52,  6.22it/s, now=None]\u001b[A"
     ]
    },
    {
     "name": "stdout",
     "output_type": "stream",
     "text": [
      "130.64276199638732 78.78725819731766\n",
      "123.45013217964781 81.23057493495754\n"
     ]
    },
    {
     "name": "stderr",
     "output_type": "stream",
     "text": [
      "\n",
      "t:  33%|███▎      | 162/485 [00:25<00:51,  6.22it/s, now=None]\u001b[A\n",
      "t:  34%|███▎      | 163/485 [00:25<00:51,  6.27it/s, now=None]\u001b[A\n",
      "t:  34%|███▍      | 164/485 [00:25<00:51,  6.25it/s, now=None]\u001b[A"
     ]
    },
    {
     "name": "stdout",
     "output_type": "stream",
     "text": [
      "121.94461360025888 71.13057313298843\n",
      "125.28306065947558 80.88587241490163\n"
     ]
    },
    {
     "name": "stderr",
     "output_type": "stream",
     "text": [
      "\n",
      "t:  34%|███▍      | 165/485 [00:26<00:50,  6.28it/s, now=None]\u001b[A"
     ]
    },
    {
     "name": "stdout",
     "output_type": "stream",
     "text": [
      "137.68801947011818 91.08096781001899\n",
      "117.14067646689115 79.91450112839094\n"
     ]
    },
    {
     "name": "stderr",
     "output_type": "stream",
     "text": [
      "\n",
      "t:  34%|███▍      | 166/485 [00:26<00:50,  6.27it/s, now=None]\u001b[A\n",
      "t:  34%|███▍      | 167/485 [00:26<00:50,  6.35it/s, now=None]\u001b[A"
     ]
    },
    {
     "name": "stdout",
     "output_type": "stream",
     "text": [
      "117.68363348137501 80.07389205880433\n",
      "125.72973129561771 88.87943017575462\n"
     ]
    },
    {
     "name": "stderr",
     "output_type": "stream",
     "text": [
      "\n",
      "t:  35%|███▍      | 168/485 [00:26<00:50,  6.32it/s, now=None]\u001b[A\n",
      "t:  35%|███▍      | 169/485 [00:26<00:48,  6.49it/s, now=None]\u001b[A\n",
      "t:  35%|███▌      | 170/485 [00:26<00:48,  6.54it/s, now=None]\u001b[A"
     ]
    },
    {
     "name": "stdout",
     "output_type": "stream",
     "text": [
      "124.17568390290926 92.2561099168062\n",
      "109.75935143677765 93.56395025074238\n"
     ]
    },
    {
     "name": "stderr",
     "output_type": "stream",
     "text": [
      "\n",
      "t:  35%|███▌      | 171/485 [00:27<00:48,  6.50it/s, now=None]\u001b[A\n",
      "t:  35%|███▌      | 172/485 [00:27<00:47,  6.57it/s, now=None]\u001b[A"
     ]
    },
    {
     "name": "stdout",
     "output_type": "stream",
     "text": [
      "102.89380139871933 92.05674687329962\n",
      "102.06219009676961 95.36178586439155\n"
     ]
    },
    {
     "name": "stderr",
     "output_type": "stream",
     "text": [
      "\n",
      "t:  36%|███▌      | 173/485 [00:27<00:47,  6.57it/s, now=None]\u001b[A\n"
     ]
    },
    {
     "name": "stdout",
     "output_type": "stream",
     "text": [
      "99.91089423641026 97.47587299283066\n",
      "97.41863434802305 100.12138993295851\n"
     ]
    },
    {
     "name": "stderr",
     "output_type": "stream",
     "text": [
      "t:  36%|███▌      | 174/485 [00:27<00:47,  6.52it/s, now=None]\u001b[A\n",
      "t:  36%|███▌      | 175/485 [00:27<00:48,  6.45it/s, now=None]\u001b[A\n",
      "t:  36%|███▋      | 176/485 [00:27<00:47,  6.49it/s, now=None]\u001b[A"
     ]
    },
    {
     "name": "stdout",
     "output_type": "stream",
     "text": [
      "95.50696732448262 105.03558855271052\n",
      "96.07855596835043 103.03350029731904\n"
     ]
    },
    {
     "name": "stderr",
     "output_type": "stream",
     "text": [
      "\n",
      "t:  36%|███▋      | 177/485 [00:27<00:47,  6.54it/s, now=None]\u001b[A\n",
      "t:  37%|███▋      | 178/485 [00:28<00:46,  6.66it/s, now=None]\u001b[A"
     ]
    },
    {
     "name": "stdout",
     "output_type": "stream",
     "text": [
      "94.45209766073047 114.03041594549913\n",
      "94.52148183167715 113.94406601575163\n"
     ]
    },
    {
     "name": "stderr",
     "output_type": "stream",
     "text": [
      "\n",
      "t:  37%|███▋      | 179/485 [00:28<00:46,  6.61it/s, now=None]\u001b[A\n"
     ]
    },
    {
     "name": "stdout",
     "output_type": "stream",
     "text": [
      "91.4528241402651 109.14187755422104\n",
      "91.70450707471348 102.8363535864883\n"
     ]
    },
    {
     "name": "stderr",
     "output_type": "stream",
     "text": [
      "t:  37%|███▋      | 180/485 [00:28<00:47,  6.48it/s, now=None]\u001b[A\n",
      "t:  37%|███▋      | 181/485 [00:28<00:46,  6.55it/s, now=None]\u001b[A\n",
      "t:  38%|███▊      | 182/485 [00:28<00:45,  6.61it/s, now=None]\u001b[A"
     ]
    },
    {
     "name": "stdout",
     "output_type": "stream",
     "text": [
      "103.35273991961625 103.68583528218349\n",
      "105.52374224670433 110.73236447458787\n"
     ]
    },
    {
     "name": "stderr",
     "output_type": "stream",
     "text": [
      "\n",
      "t:  38%|███▊      | 183/485 [00:28<00:45,  6.57it/s, now=None]\u001b[A\n",
      "t:  38%|███▊      | 184/485 [00:29<00:45,  6.55it/s, now=None]\u001b[A"
     ]
    },
    {
     "name": "stdout",
     "output_type": "stream",
     "text": [
      "101.48443395697615 111.2896826612767\n",
      "90.55726946678142 116.09760122263485\n"
     ]
    },
    {
     "name": "stderr",
     "output_type": "stream",
     "text": [
      "\n",
      "t:  38%|███▊      | 185/485 [00:29<00:47,  6.36it/s, now=None]\u001b[A\n",
      "t:  38%|███▊      | 186/485 [00:29<00:47,  6.34it/s, now=None]\u001b[A"
     ]
    },
    {
     "name": "stdout",
     "output_type": "stream",
     "text": [
      "103.93015268373819 123.9961436897766\n",
      "90.82614959856282 126.32890416981436\n"
     ]
    },
    {
     "name": "stderr",
     "output_type": "stream",
     "text": [
      "\n",
      "t:  39%|███▊      | 187/485 [00:29<00:46,  6.38it/s, now=None]\u001b[A\n",
      "t:  39%|███▉      | 188/485 [00:29<00:45,  6.48it/s, now=None]\u001b[A"
     ]
    },
    {
     "name": "stdout",
     "output_type": "stream",
     "text": [
      "85.99489488719317 110.91623635604816\n",
      "84.37079167460931 75.87942280637881\n"
     ]
    },
    {
     "name": "stderr",
     "output_type": "stream",
     "text": [
      "\n",
      "t:  39%|███▉      | 189/485 [00:29<00:45,  6.50it/s, now=None]\u001b[A"
     ]
    },
    {
     "name": "stdout",
     "output_type": "stream",
     "text": [
      "89.31866815420895 164.54480281348648\n",
      "87.69622682391137 126.97485488613141\n"
     ]
    },
    {
     "name": "stderr",
     "output_type": "stream",
     "text": [
      "\n",
      "t:  39%|███▉      | 190/485 [00:29<00:45,  6.45it/s, now=None]\u001b[A\n",
      "t:  39%|███▉      | 191/485 [00:30<00:44,  6.55it/s, now=None]\u001b[A\n",
      "t:  40%|███▉      | 192/485 [00:30<00:45,  6.47it/s, now=None]\u001b[A"
     ]
    },
    {
     "name": "stdout",
     "output_type": "stream",
     "text": [
      "104.68619841570903 85.35408221967168\n",
      "135.8541709706209 93.3961521730424\n"
     ]
    },
    {
     "name": "stderr",
     "output_type": "stream",
     "text": [
      "\n",
      "t:  40%|███▉      | 193/485 [00:30<00:44,  6.55it/s, now=None]\u001b[A\n",
      "t:  40%|████      | 194/485 [00:30<00:43,  6.63it/s, now=None]\u001b[A"
     ]
    },
    {
     "name": "stdout",
     "output_type": "stream",
     "text": [
      "142.49856526217326 92.09417448486751\n",
      "138.86468122040083 83.02609771586347\n"
     ]
    },
    {
     "name": "stderr",
     "output_type": "stream",
     "text": [
      "\n",
      "t:  40%|████      | 195/485 [00:30<00:43,  6.66it/s, now=None]\u001b[A\n",
      "t:  40%|████      | 196/485 [00:30<00:43,  6.69it/s, now=None]\u001b[A"
     ]
    },
    {
     "name": "stdout",
     "output_type": "stream",
     "text": [
      "90.98493837420448 86.61325713150102\n",
      "167.5698156916391 93.99146973274159\n"
     ]
    },
    {
     "name": "stderr",
     "output_type": "stream",
     "text": [
      "\n",
      "t:  41%|████      | 197/485 [00:31<00:42,  6.82it/s, now=None]\u001b[A\n",
      "t:  41%|████      | 198/485 [00:31<00:42,  6.79it/s, now=None]\u001b[A"
     ]
    },
    {
     "name": "stdout",
     "output_type": "stream",
     "text": [
      "176.0803694790498 91.90996992361862\n",
      "86.18875294076268 77.55165750001257\n"
     ]
    },
    {
     "name": "stderr",
     "output_type": "stream",
     "text": [
      "\n",
      "t:  41%|████      | 199/485 [00:31<00:41,  6.82it/s, now=None]\u001b[A"
     ]
    },
    {
     "name": "stdout",
     "output_type": "stream",
     "text": [
      "81.60199010855276 82.71151153331937\n",
      "87.99883107971334 86.07042277324588\n"
     ]
    },
    {
     "name": "stderr",
     "output_type": "stream",
     "text": [
      "\n",
      "t:  41%|████      | 200/485 [00:31<00:43,  6.51it/s, now=None]\u001b[A\n",
      "t:  41%|████▏     | 201/485 [00:31<00:44,  6.45it/s, now=None]\u001b[A\n",
      "t:  42%|████▏     | 202/485 [00:31<00:42,  6.59it/s, now=None]\u001b[A"
     ]
    },
    {
     "name": "stdout",
     "output_type": "stream",
     "text": [
      "90.1657149798367 81.61588975742401\n",
      "82.19665159816624 65.03805173952385\n"
     ]
    },
    {
     "name": "stderr",
     "output_type": "stream",
     "text": [
      "\n",
      "t:  42%|████▏     | 203/485 [00:31<00:42,  6.62it/s, now=None]\u001b[A\n",
      "t:  42%|████▏     | 204/485 [00:32<00:41,  6.69it/s, now=None]\u001b[A"
     ]
    },
    {
     "name": "stdout",
     "output_type": "stream",
     "text": [
      "93.69161440426718 67.80737311585229\n",
      "86.18625336158013 72.71961241363016\n"
     ]
    },
    {
     "name": "stderr",
     "output_type": "stream",
     "text": [
      "\n",
      "t:  42%|████▏     | 205/485 [00:32<00:42,  6.60it/s, now=None]\u001b[A"
     ]
    },
    {
     "name": "stdout",
     "output_type": "stream",
     "text": [
      "73.0168640205717 77.20390624905052\n",
      "71.01628976736501 83.60908423080734\n"
     ]
    },
    {
     "name": "stderr",
     "output_type": "stream",
     "text": [
      "\n",
      "t:  42%|████▏     | 206/485 [00:32<00:42,  6.54it/s, now=None]\u001b[A\n",
      "t:  43%|████▎     | 207/485 [00:32<00:41,  6.65it/s, now=None]\u001b[A\n",
      "t:  43%|████▎     | 208/485 [00:32<00:41,  6.71it/s, now=None]\u001b[A"
     ]
    },
    {
     "name": "stdout",
     "output_type": "stream",
     "text": [
      "118.97262996314964 62.17279126612821\n",
      "76.20245157446607 73.22056758822195\n"
     ]
    },
    {
     "name": "stderr",
     "output_type": "stream",
     "text": [
      "\n",
      "t:  43%|████▎     | 209/485 [00:32<00:41,  6.71it/s, now=None]\u001b[A\n",
      "t:  43%|████▎     | 210/485 [00:33<00:42,  6.54it/s, now=None]\u001b[A"
     ]
    },
    {
     "name": "stdout",
     "output_type": "stream",
     "text": [
      "74.03205186977871 70.95565202269377\n",
      "82.72057376288441 83.685798440799\n"
     ]
    },
    {
     "name": "stderr",
     "output_type": "stream",
     "text": [
      "\n",
      "t:  44%|████▎     | 211/485 [00:33<00:41,  6.54it/s, now=None]\u001b[A\n",
      "t:  44%|████▎     | 212/485 [00:33<00:41,  6.54it/s, now=None]\u001b[A"
     ]
    },
    {
     "name": "stdout",
     "output_type": "stream",
     "text": [
      "77.84168834469168 86.23859500739658\n",
      "95.84183508014047 82.77704035085486\n"
     ]
    },
    {
     "name": "stderr",
     "output_type": "stream",
     "text": [
      "\n",
      "t:  44%|████▍     | 213/485 [00:33<00:40,  6.72it/s, now=None]\u001b[A\n",
      "t:  44%|████▍     | 214/485 [00:33<00:40,  6.70it/s, now=None]\u001b[A"
     ]
    },
    {
     "name": "stdout",
     "output_type": "stream",
     "text": [
      "90.88470924004896 82.63259386457263\n",
      "86.0253090965578 86.96710217536821\n"
     ]
    },
    {
     "name": "stderr",
     "output_type": "stream",
     "text": [
      "\n",
      "t:  44%|████▍     | 215/485 [00:33<00:40,  6.68it/s, now=None]\u001b[A\n",
      "t:  45%|████▍     | 216/485 [00:33<00:40,  6.57it/s, now=None]\u001b[A"
     ]
    },
    {
     "name": "stdout",
     "output_type": "stream",
     "text": [
      "82.66491592224659 72.35400048996274\n",
      "75.63678262388896 85.83689457155667\n"
     ]
    },
    {
     "name": "stderr",
     "output_type": "stream",
     "text": [
      "\n",
      "t:  45%|████▍     | 217/485 [00:34<00:40,  6.60it/s, now=None]\u001b[A\n",
      "t:  45%|████▍     | 218/485 [00:34<00:40,  6.66it/s, now=None]\u001b[A"
     ]
    },
    {
     "name": "stdout",
     "output_type": "stream",
     "text": [
      "84.4833999982837 80.89061987358235\n",
      "84.17261373382672 83.29454076608285\n"
     ]
    },
    {
     "name": "stderr",
     "output_type": "stream",
     "text": [
      "\n",
      "t:  45%|████▌     | 219/485 [00:34<00:39,  6.76it/s, now=None]\u001b[A\n",
      "t:  45%|████▌     | 220/485 [00:34<00:38,  6.81it/s, now=None]\u001b[A"
     ]
    },
    {
     "name": "stdout",
     "output_type": "stream",
     "text": [
      "84.75648203907843 80.60062414508715\n",
      "87.3058205920146 78.82168144177902\n"
     ]
    },
    {
     "name": "stderr",
     "output_type": "stream",
     "text": [
      "\n",
      "t:  46%|████▌     | 221/485 [00:34<00:38,  6.84it/s, now=None]\u001b[A\n",
      "t:  46%|████▌     | 222/485 [00:34<00:38,  6.74it/s, now=None]\u001b[A"
     ]
    },
    {
     "name": "stdout",
     "output_type": "stream",
     "text": [
      "86.48340731530666 77.98705480239614\n",
      "92.24629908356849 93.0064385993694\n"
     ]
    },
    {
     "name": "stderr",
     "output_type": "stream",
     "text": [
      "\n",
      "t:  46%|████▌     | 223/485 [00:34<00:38,  6.76it/s, now=None]\u001b[A\n",
      "t:  46%|████▌     | 224/485 [00:35<00:38,  6.75it/s, now=None]\u001b[A"
     ]
    },
    {
     "name": "stdout",
     "output_type": "stream",
     "text": [
      "92.94327111940012 96.30479379657248\n",
      "93.9589163272521 91.34712414563494\n"
     ]
    },
    {
     "name": "stderr",
     "output_type": "stream",
     "text": [
      "\n",
      "t:  46%|████▋     | 225/485 [00:35<00:38,  6.75it/s, now=None]\u001b[A\n",
      "t:  47%|████▋     | 226/485 [00:35<00:39,  6.58it/s, now=None]\u001b[A"
     ]
    },
    {
     "name": "stdout",
     "output_type": "stream",
     "text": [
      "86.68985573010022 97.52583414495659\n",
      "85.85040959999807 88.7390785123661\n"
     ]
    },
    {
     "name": "stderr",
     "output_type": "stream",
     "text": [
      "\n",
      "t:  47%|████▋     | 227/485 [00:35<00:39,  6.50it/s, now=None]\u001b[A\n",
      "t:  47%|████▋     | 228/485 [00:35<00:38,  6.60it/s, now=None]\u001b[A"
     ]
    },
    {
     "name": "stdout",
     "output_type": "stream",
     "text": [
      "83.20354759460419 88.7050135192841\n",
      "85.28668840704297 89.88797422918313\n"
     ]
    },
    {
     "name": "stderr",
     "output_type": "stream",
     "text": [
      "\n",
      "t:  47%|████▋     | 229/485 [00:35<00:38,  6.58it/s, now=None]\u001b[A\n",
      "t:  47%|████▋     | 230/485 [00:35<00:38,  6.66it/s, now=None]\u001b[A"
     ]
    },
    {
     "name": "stdout",
     "output_type": "stream",
     "text": [
      "85.34172430509456 86.6925981864133\n",
      "87.70753936790182 92.76279715564515\n"
     ]
    },
    {
     "name": "stderr",
     "output_type": "stream",
     "text": [
      "\n",
      "t:  48%|████▊     | 231/485 [00:36<00:37,  6.85it/s, now=None]\u001b[A\n",
      "t:  48%|████▊     | 232/485 [00:36<00:37,  6.80it/s, now=None]\u001b[A"
     ]
    },
    {
     "name": "stdout",
     "output_type": "stream",
     "text": [
      "90.85795449405369 101.49538469919958\n",
      "94.38355669905765 88.30073059495926\n"
     ]
    },
    {
     "name": "stderr",
     "output_type": "stream",
     "text": [
      "\n",
      "t:  48%|████▊     | 233/485 [00:36<00:37,  6.70it/s, now=None]\u001b[A\n",
      "t:  48%|████▊     | 234/485 [00:36<00:37,  6.67it/s, now=None]\u001b[A"
     ]
    },
    {
     "name": "stdout",
     "output_type": "stream",
     "text": [
      "100.48577595958804 102.88126053805473\n",
      "103.52769789996378 91.44878853454713\n"
     ]
    },
    {
     "name": "stderr",
     "output_type": "stream",
     "text": [
      "\n",
      "t:  48%|████▊     | 235/485 [00:36<00:36,  6.77it/s, now=None]\u001b[A\n",
      "t:  49%|████▊     | 236/485 [00:36<00:37,  6.72it/s, now=None]\u001b[A"
     ]
    },
    {
     "name": "stdout",
     "output_type": "stream",
     "text": [
      "111.0603653983228 88.67172344004409\n",
      "122.98986184254953 77.98500409554828\n"
     ]
    },
    {
     "name": "stderr",
     "output_type": "stream",
     "text": [
      "\n",
      "t:  49%|████▉     | 237/485 [00:37<00:36,  6.74it/s, now=None]\u001b[A\n",
      "t:  49%|████▉     | 238/485 [00:37<00:36,  6.83it/s, now=None]\u001b[A"
     ]
    },
    {
     "name": "stdout",
     "output_type": "stream",
     "text": [
      "134.73047470636968 95.32529658617506\n",
      "111.86300307377245 84.89449694739739\n"
     ]
    },
    {
     "name": "stderr",
     "output_type": "stream",
     "text": [
      "\n",
      "t:  49%|████▉     | 239/485 [00:37<00:36,  6.69it/s, now=None]\u001b[A\n",
      "t:  49%|████▉     | 240/485 [00:37<00:36,  6.65it/s, now=None]\u001b[A"
     ]
    },
    {
     "name": "stdout",
     "output_type": "stream",
     "text": [
      "133.04029134396495 81.42374245709908\n",
      "165.4636913414006 80.60306209844877\n"
     ]
    },
    {
     "name": "stderr",
     "output_type": "stream",
     "text": [
      "\n",
      "t:  50%|████▉     | 241/485 [00:37<00:35,  6.79it/s, now=None]\u001b[A\n",
      "t:  50%|████▉     | 242/485 [00:37<00:35,  6.81it/s, now=None]\u001b[A"
     ]
    },
    {
     "name": "stdout",
     "output_type": "stream",
     "text": [
      "79.1568487581246 101.30252603072132\n",
      "92.92825822264109 93.7814777524019\n"
     ]
    },
    {
     "name": "stderr",
     "output_type": "stream",
     "text": [
      "\n",
      "t:  50%|█████     | 243/485 [00:37<00:36,  6.70it/s, now=None]\u001b[A\n",
      "t:  50%|█████     | 244/485 [00:38<00:36,  6.58it/s, now=None]\u001b[A"
     ]
    },
    {
     "name": "stdout",
     "output_type": "stream",
     "text": [
      "112.50297535853404 67.61201081958126\n",
      "113.96838011073116 70.6289600187453\n"
     ]
    },
    {
     "name": "stderr",
     "output_type": "stream",
     "text": [
      "\n",
      "t:  51%|█████     | 245/485 [00:38<00:36,  6.65it/s, now=None]\u001b[A\n",
      "t:  51%|█████     | 246/485 [00:38<00:35,  6.77it/s, now=None]\u001b[A"
     ]
    },
    {
     "name": "stdout",
     "output_type": "stream",
     "text": [
      "107.8181218282145 77.34915968591227\n",
      "299.1903615150859 86.21703317803957\n"
     ]
    },
    {
     "name": "stderr",
     "output_type": "stream",
     "text": [
      "\n",
      "t:  51%|█████     | 247/485 [00:38<00:35,  6.77it/s, now=None]\u001b[A\n",
      "t:  51%|█████     | 248/485 [00:38<00:35,  6.68it/s, now=None]\u001b[A"
     ]
    },
    {
     "name": "stdout",
     "output_type": "stream",
     "text": [
      "206.15359666023795 84.24823518913551\n",
      "86.96095108988833 77.57548136667008\n"
     ]
    },
    {
     "name": "stderr",
     "output_type": "stream",
     "text": [
      "\n",
      "t:  51%|█████▏    | 249/485 [00:38<00:35,  6.56it/s, now=None]\u001b[A\n",
      "t:  52%|█████▏    | 250/485 [00:38<00:36,  6.49it/s, now=None]\u001b[A"
     ]
    },
    {
     "name": "stdout",
     "output_type": "stream",
     "text": [
      "376.2873707473648 90.65480831101407\n",
      "90.41092485389014 93.88082083047465\n"
     ]
    },
    {
     "name": "stderr",
     "output_type": "stream",
     "text": [
      "\n",
      "t:  52%|█████▏    | 251/485 [00:39<00:35,  6.63it/s, now=None]\u001b[A\n",
      "t:  52%|█████▏    | 252/485 [00:39<00:34,  6.67it/s, now=None]\u001b[A"
     ]
    },
    {
     "name": "stdout",
     "output_type": "stream",
     "text": [
      "233.64634421330737 102.43757270913055\n",
      "54.27443923189699 93.72779894762319\n"
     ]
    },
    {
     "name": "stderr",
     "output_type": "stream",
     "text": [
      "\n",
      "t:  52%|█████▏    | 253/485 [00:39<00:34,  6.76it/s, now=None]\u001b[A\n",
      "t:  52%|█████▏    | 254/485 [00:39<00:34,  6.64it/s, now=None]\u001b[A"
     ]
    },
    {
     "name": "stdout",
     "output_type": "stream",
     "text": [
      "168.4359242640578 91.74779261099715\n",
      "62.073596251667695 96.08219533168432\n"
     ]
    },
    {
     "name": "stderr",
     "output_type": "stream",
     "text": [
      "\n",
      "t:  53%|█████▎    | 255/485 [00:39<00:34,  6.65it/s, now=None]\u001b[A\n",
      "t:  53%|█████▎    | 256/485 [00:39<00:34,  6.63it/s, now=None]\u001b[A"
     ]
    },
    {
     "name": "stdout",
     "output_type": "stream",
     "text": [
      "58.66217441673028 92.48778863098433\n",
      "66.89399326577428 95.15355487493893\n"
     ]
    },
    {
     "name": "stderr",
     "output_type": "stream",
     "text": [
      "\n",
      "t:  53%|█████▎    | 257/485 [00:40<00:33,  6.82it/s, now=None]\u001b[A\n",
      "t:  53%|█████▎    | 258/485 [00:40<00:32,  6.97it/s, now=None]\u001b[A"
     ]
    },
    {
     "name": "stdout",
     "output_type": "stream",
     "text": [
      "76.22558225156668 76.22293789489837\n",
      "62.60261557114596 81.76199223063833\n"
     ]
    },
    {
     "name": "stderr",
     "output_type": "stream",
     "text": [
      "\n",
      "t:  53%|█████▎    | 259/485 [00:40<00:33,  6.78it/s, now=None]\u001b[A"
     ]
    },
    {
     "name": "stdout",
     "output_type": "stream",
     "text": [
      "68.6221381053043 88.48603595591064\n",
      "59.804449958243175 82.75235830623119\n"
     ]
    },
    {
     "name": "stderr",
     "output_type": "stream",
     "text": [
      "\n",
      "t:  54%|█████▎    | 260/485 [00:40<00:33,  6.73it/s, now=None]\u001b[A\n",
      "t:  54%|█████▍    | 261/485 [00:40<00:33,  6.75it/s, now=None]\u001b[A\n",
      "t:  54%|█████▍    | 262/485 [00:40<00:33,  6.73it/s, now=None]\u001b[A"
     ]
    },
    {
     "name": "stdout",
     "output_type": "stream",
     "text": [
      "56.73197958609842 849.8293995510353\n",
      "61.542306563830564 69.72428451254719\n"
     ]
    },
    {
     "name": "stderr",
     "output_type": "stream",
     "text": [
      "\n",
      "t:  54%|█████▍    | 263/485 [00:40<00:32,  6.80it/s, now=None]\u001b[A\n",
      "t:  54%|█████▍    | 264/485 [00:41<00:32,  6.71it/s, now=None]\u001b[A"
     ]
    },
    {
     "name": "stdout",
     "output_type": "stream",
     "text": [
      "59.18326380049434 69.32656865206883\n",
      "61.4699281294 76.56478166709107\n"
     ]
    },
    {
     "name": "stderr",
     "output_type": "stream",
     "text": [
      "\n",
      "t:  55%|█████▍    | 265/485 [00:41<00:32,  6.78it/s, now=None]\u001b[A\n",
      "t:  55%|█████▍    | 266/485 [00:41<00:32,  6.82it/s, now=None]\u001b[A"
     ]
    },
    {
     "name": "stdout",
     "output_type": "stream",
     "text": [
      "58.0960010693597 83.45890129695704\n",
      "69.63884675987292 85.36562728404004\n"
     ]
    },
    {
     "name": "stderr",
     "output_type": "stream",
     "text": [
      "\n",
      "t:  55%|█████▌    | 267/485 [00:41<00:32,  6.67it/s, now=None]\u001b[A\n",
      "t:  55%|█████▌    | 268/485 [00:41<00:32,  6.67it/s, now=None]\u001b[A"
     ]
    },
    {
     "name": "stdout",
     "output_type": "stream",
     "text": [
      "66.05441171643628 83.51057932951846\n",
      "62.64776339718245 541.5256224237573\n"
     ]
    },
    {
     "name": "stderr",
     "output_type": "stream",
     "text": [
      "\n",
      "t:  55%|█████▌    | 269/485 [00:41<00:32,  6.66it/s, now=None]\u001b[A\n",
      "t:  56%|█████▌    | 270/485 [00:41<00:31,  6.74it/s, now=None]\u001b[A"
     ]
    },
    {
     "name": "stdout",
     "output_type": "stream",
     "text": [
      "66.006151335339 1084.128755358202\n",
      "70.20425212758575 109.18126547958528\n"
     ]
    },
    {
     "name": "stderr",
     "output_type": "stream",
     "text": [
      "\n",
      "t:  56%|█████▌    | 271/485 [00:42<00:31,  6.78it/s, now=None]\u001b[A\n",
      "t:  56%|█████▌    | 272/485 [00:42<00:31,  6.69it/s, now=None]\u001b[A"
     ]
    },
    {
     "name": "stdout",
     "output_type": "stream",
     "text": [
      "71.6971554892377 61.86869833172279\n",
      "71.82614655567849 96.50703641784061\n"
     ]
    },
    {
     "name": "stderr",
     "output_type": "stream",
     "text": [
      "\n",
      "t:  56%|█████▋    | 273/485 [00:42<00:32,  6.47it/s, now=None]\u001b[A\n",
      "t:  56%|█████▋    | 274/485 [00:42<00:32,  6.55it/s, now=None]\u001b[A"
     ]
    },
    {
     "name": "stdout",
     "output_type": "stream",
     "text": [
      "70.03919668242935 79.27747903897738\n",
      "71.56480748446374 91.23130929642178\n"
     ]
    },
    {
     "name": "stderr",
     "output_type": "stream",
     "text": [
      "\n",
      "t:  57%|█████▋    | 275/485 [00:42<00:32,  6.55it/s, now=None]\u001b[A\n",
      "t:  57%|█████▋    | 276/485 [00:42<00:31,  6.55it/s, now=None]\u001b[A"
     ]
    },
    {
     "name": "stdout",
     "output_type": "stream",
     "text": [
      "69.01895805770585 73.55606135959907\n",
      "71.40363876655414 376.5002379161832\n"
     ]
    },
    {
     "name": "stderr",
     "output_type": "stream",
     "text": [
      "\n",
      "t:  57%|█████▋    | 277/485 [00:43<00:31,  6.57it/s, now=None]\u001b[A"
     ]
    },
    {
     "name": "stdout",
     "output_type": "stream",
     "text": [
      "70.88791975460708 371.1179073928163\n",
      "71.56868742260993 269.9141258171515\n"
     ]
    },
    {
     "name": "stderr",
     "output_type": "stream",
     "text": [
      "\n",
      "t:  57%|█████▋    | 278/485 [00:43<00:33,  6.27it/s, now=None]\u001b[A\n",
      "t:  58%|█████▊    | 279/485 [00:43<00:34,  5.97it/s, now=None]\u001b[A"
     ]
    },
    {
     "name": "stdout",
     "output_type": "stream",
     "text": [
      "59.78313220507873 169.4442964885327\n",
      "243.1194886854261 95.09139747725484\n"
     ]
    },
    {
     "name": "stderr",
     "output_type": "stream",
     "text": [
      "\n",
      "t:  58%|█████▊    | 280/485 [00:43<00:34,  5.97it/s, now=None]\u001b[A\n",
      "t:  58%|█████▊    | 281/485 [00:43<00:34,  5.90it/s, now=None]\u001b[A\n",
      "t:  58%|█████▊    | 282/485 [00:43<00:33,  6.05it/s, now=None]\u001b[A"
     ]
    },
    {
     "name": "stdout",
     "output_type": "stream",
     "text": [
      "57.02817985944771 132.01662506490078\n",
      "76.49031080332465 183.8969108624983\n"
     ]
    },
    {
     "name": "stderr",
     "output_type": "stream",
     "text": [
      "\n",
      "t:  58%|█████▊    | 283/485 [00:44<00:32,  6.26it/s, now=None]\u001b[A\n",
      "t:  59%|█████▊    | 284/485 [00:44<00:31,  6.41it/s, now=None]\u001b[A"
     ]
    },
    {
     "name": "stdout",
     "output_type": "stream",
     "text": [
      "83.08354901324553 4103.8293426180835\n",
      "92.05384155865771 237.50364325130877\n"
     ]
    },
    {
     "name": "stderr",
     "output_type": "stream",
     "text": [
      "\n",
      "t:  59%|█████▉    | 285/485 [00:44<00:31,  6.44it/s, now=None]\u001b[A\n",
      "t:  59%|█████▉    | 286/485 [00:44<00:31,  6.42it/s, now=None]\u001b[A"
     ]
    },
    {
     "name": "stdout",
     "output_type": "stream",
     "text": [
      "96.55585764669253 161.87117305162428\n",
      "99.83081191728695 2338.94214009559\n"
     ]
    },
    {
     "name": "stderr",
     "output_type": "stream",
     "text": [
      "\n",
      "t:  59%|█████▉    | 287/485 [00:44<00:30,  6.48it/s, now=None]\u001b[A\n",
      "t:  59%|█████▉    | 288/485 [00:44<00:30,  6.51it/s, now=None]\u001b[A"
     ]
    },
    {
     "name": "stdout",
     "output_type": "stream",
     "text": [
      "108.13061229433926 84.24833673350327\n",
      "112.54797425512051 89.78774852553235\n"
     ]
    },
    {
     "name": "stderr",
     "output_type": "stream",
     "text": [
      "\n",
      "t:  60%|█████▉    | 289/485 [00:44<00:30,  6.45it/s, now=None]\u001b[A"
     ]
    },
    {
     "name": "stdout",
     "output_type": "stream",
     "text": [
      "114.37219251853926 103.4861249496225\n",
      "114.57801477407146 95.2837263863713\n"
     ]
    },
    {
     "name": "stderr",
     "output_type": "stream",
     "text": [
      "\n",
      "t:  60%|█████▉    | 290/485 [00:45<00:30,  6.35it/s, now=None]\u001b[A\n",
      "t:  60%|██████    | 291/485 [00:45<00:30,  6.44it/s, now=None]\u001b[A\n",
      "t:  60%|██████    | 292/485 [00:45<00:29,  6.46it/s, now=None]\u001b[A"
     ]
    },
    {
     "name": "stdout",
     "output_type": "stream",
     "text": [
      "116.6709894053326 112.63064250073069\n",
      "118.66116809004677 91.46682621149408\n"
     ]
    },
    {
     "name": "stderr",
     "output_type": "stream",
     "text": [
      "\n",
      "t:  60%|██████    | 293/485 [00:45<00:30,  6.36it/s, now=None]\u001b[A\n",
      "t:  61%|██████    | 294/485 [00:45<00:29,  6.50it/s, now=None]\u001b[A"
     ]
    },
    {
     "name": "stdout",
     "output_type": "stream",
     "text": [
      "122.05547644274465 184.99308814934435\n",
      "134.8728450435634 210.1481374468565\n"
     ]
    },
    {
     "name": "stderr",
     "output_type": "stream",
     "text": [
      "\n",
      "t:  61%|██████    | 295/485 [00:45<00:29,  6.50it/s, now=None]\u001b[A\n",
      "t:  61%|██████    | 296/485 [00:46<00:28,  6.61it/s, now=None]\u001b[A"
     ]
    },
    {
     "name": "stdout",
     "output_type": "stream",
     "text": [
      "139.39678273799987 1394.7059159965786\n",
      "143.35020236877818 102.97872732205094\n"
     ]
    },
    {
     "name": "stderr",
     "output_type": "stream",
     "text": [
      "\n",
      "t:  61%|██████    | 297/485 [00:46<00:28,  6.61it/s, now=None]\u001b[A"
     ]
    },
    {
     "name": "stdout",
     "output_type": "stream",
     "text": [
      "154.71984026815943 109.05758584661979\n",
      "171.03378059151345"
     ]
    },
    {
     "name": "stderr",
     "output_type": "stream",
     "text": [
      "\n",
      "t:  61%|██████▏   | 298/485 [00:46<00:30,  6.09it/s, now=None]\u001b[A\n"
     ]
    },
    {
     "name": "stdout",
     "output_type": "stream",
     "text": [
      " 100.65780729527883\n",
      "173.59106794060924 103.68827009193944\n"
     ]
    },
    {
     "name": "stderr",
     "output_type": "stream",
     "text": [
      "t:  62%|██████▏   | 299/485 [00:46<00:30,  6.16it/s, now=None]\u001b[A\n",
      "t:  62%|██████▏   | 300/485 [00:46<00:29,  6.20it/s, now=None]\u001b[A\n",
      "t:  62%|██████▏   | 301/485 [00:46<00:29,  6.33it/s, now=None]\u001b[A"
     ]
    },
    {
     "name": "stdout",
     "output_type": "stream",
     "text": [
      "184.80260356701748 123.15379100513229\n",
      "193.98983762336331 134.21795883115493\n"
     ]
    },
    {
     "name": "stderr",
     "output_type": "stream",
     "text": [
      "\n",
      "t:  62%|██████▏   | 302/485 [00:46<00:28,  6.44it/s, now=None]\u001b[A\n",
      "t:  62%|██████▏   | 303/485 [00:47<00:28,  6.36it/s, now=None]\u001b[A"
     ]
    },
    {
     "name": "stdout",
     "output_type": "stream",
     "text": [
      "193.27957066006277 135.5449092460067\n",
      "201.15031061736138 126.24725021853699\n"
     ]
    },
    {
     "name": "stderr",
     "output_type": "stream",
     "text": [
      "\n",
      "t:  63%|██████▎   | 304/485 [00:47<00:28,  6.42it/s, now=None]\u001b[A\n",
      "t:  63%|██████▎   | 305/485 [00:47<00:27,  6.47it/s, now=None]\u001b[A"
     ]
    },
    {
     "name": "stdout",
     "output_type": "stream",
     "text": [
      "200.62549652664055 137.86080433563902\n",
      "215.63580444368856 106.30539010656975\n"
     ]
    },
    {
     "name": "stderr",
     "output_type": "stream",
     "text": [
      "\n",
      "t:  63%|██████▎   | 306/485 [00:47<00:27,  6.49it/s, now=None]\u001b[A\n",
      "t:  63%|██████▎   | 307/485 [00:47<00:27,  6.49it/s, now=None]\u001b[A"
     ]
    },
    {
     "name": "stdout",
     "output_type": "stream",
     "text": [
      "221.53153734637067 128.40202685726675\n",
      "244.36049432102155 137.54831431734982\n"
     ]
    },
    {
     "name": "stderr",
     "output_type": "stream",
     "text": [
      "\n",
      "t:  64%|██████▎   | 308/485 [00:47<00:27,  6.51it/s, now=None]\u001b[A\n",
      "t:  64%|██████▎   | 309/485 [00:48<00:26,  6.53it/s, now=None]\u001b[A"
     ]
    },
    {
     "name": "stdout",
     "output_type": "stream",
     "text": [
      "277.8308061846 134.1720948509552\n",
      "286.4234595818765 151.8830747019714\n"
     ]
    },
    {
     "name": "stderr",
     "output_type": "stream",
     "text": [
      "\n",
      "t:  64%|██████▍   | 310/485 [00:48<00:26,  6.61it/s, now=None]\u001b[A\n",
      "t:  64%|██████▍   | 311/485 [00:48<00:26,  6.53it/s, now=None]\u001b[A"
     ]
    },
    {
     "name": "stdout",
     "output_type": "stream",
     "text": [
      "291.85501126294315 121.52094953694346\n",
      "307.2295102268489 84.22705046977848\n"
     ]
    },
    {
     "name": "stderr",
     "output_type": "stream",
     "text": [
      "\n",
      "t:  64%|██████▍   | 312/485 [00:48<00:26,  6.54it/s, now=None]\u001b[A\n",
      "t:  65%|██████▍   | 313/485 [00:48<00:26,  6.49it/s, now=None]\u001b[A"
     ]
    },
    {
     "name": "stdout",
     "output_type": "stream",
     "text": [
      "297.9483135783013 178.74713862908504\n",
      "323.87228905389037 43.08176430412011\n"
     ]
    },
    {
     "name": "stderr",
     "output_type": "stream",
     "text": [
      "\n",
      "t:  65%|██████▍   | 314/485 [00:48<00:26,  6.44it/s, now=None]\u001b[A\n",
      "t:  65%|██████▍   | 315/485 [00:48<00:26,  6.46it/s, now=None]\u001b[A"
     ]
    },
    {
     "name": "stdout",
     "output_type": "stream",
     "text": [
      "350.07858950378335 47.24447684585372\n",
      "375.1586996874152 45.995720147498815\n"
     ]
    },
    {
     "name": "stderr",
     "output_type": "stream",
     "text": [
      "\n",
      "t:  65%|██████▌   | 316/485 [00:49<00:25,  6.56it/s, now=None]\u001b[A\n",
      "t:  65%|██████▌   | 317/485 [00:49<00:25,  6.58it/s, now=None]\u001b[A"
     ]
    },
    {
     "name": "stdout",
     "output_type": "stream",
     "text": [
      "439.23963219681724 321.99045588132327\n",
      "502.08323443451894 207.8881594925658\n"
     ]
    },
    {
     "name": "stderr",
     "output_type": "stream",
     "text": [
      "\n",
      "t:  66%|██████▌   | 318/485 [00:49<00:25,  6.51it/s, now=None]\u001b[A\n",
      "t:  66%|██████▌   | 319/485 [00:49<00:25,  6.44it/s, now=None]\u001b[A"
     ]
    },
    {
     "name": "stdout",
     "output_type": "stream",
     "text": [
      "554.7085311062975 209.59469151308275\n",
      "769.9420067767221 161.9583445179476\n"
     ]
    },
    {
     "name": "stderr",
     "output_type": "stream",
     "text": [
      "\n",
      "t:  66%|██████▌   | 320/485 [00:49<00:25,  6.45it/s, now=None]\u001b[A\n",
      "t:  66%|██████▌   | 321/485 [00:49<00:25,  6.51it/s, now=None]\u001b[A"
     ]
    },
    {
     "name": "stdout",
     "output_type": "stream",
     "text": [
      "848.9024489537171 222.33334013666231\n",
      "1019.9783143778238 283.3504509030231\n"
     ]
    },
    {
     "name": "stderr",
     "output_type": "stream",
     "text": [
      "\n",
      "t:  66%|██████▋   | 322/485 [00:50<00:25,  6.49it/s, now=None]\u001b[A\n",
      "t:  67%|██████▋   | 323/485 [00:50<00:24,  6.56it/s, now=None]\u001b[A"
     ]
    },
    {
     "name": "stdout",
     "output_type": "stream",
     "text": [
      "824.8133268277552 240.3646934680975\n",
      "880.295600124688 172.18024130664142\n"
     ]
    },
    {
     "name": "stderr",
     "output_type": "stream",
     "text": [
      "\n",
      "t:  67%|██████▋   | 324/485 [00:50<00:24,  6.55it/s, now=None]\u001b[A\n",
      "t:  67%|██████▋   | 325/485 [00:50<00:24,  6.46it/s, now=None]\u001b[A"
     ]
    },
    {
     "name": "stdout",
     "output_type": "stream",
     "text": [
      "1145.3489196748822 64.68573161154092\n",
      "1045.3808375491124 70.11430396762456\n"
     ]
    },
    {
     "name": "stderr",
     "output_type": "stream",
     "text": [
      "\n",
      "t:  67%|██████▋   | 326/485 [00:50<00:25,  6.27it/s, now=None]\u001b[A\n",
      "t:  67%|██████▋   | 327/485 [00:50<00:24,  6.37it/s, now=None]\u001b[A"
     ]
    },
    {
     "name": "stdout",
     "output_type": "stream",
     "text": [
      "2296.1608162724738 67.19982696853297\n",
      "1486.0057917767724 96.12374493453865\n"
     ]
    },
    {
     "name": "stderr",
     "output_type": "stream",
     "text": [
      "\n",
      "t:  68%|██████▊   | 328/485 [00:50<00:24,  6.35it/s, now=None]\u001b[A\n",
      "t:  68%|██████▊   | 329/485 [00:51<00:24,  6.47it/s, now=None]\u001b[A"
     ]
    },
    {
     "name": "stdout",
     "output_type": "stream",
     "text": [
      "1332.6808206639012 112.1145421180758\n",
      "1325.0635055792975 109.69680552031451\n"
     ]
    },
    {
     "name": "stderr",
     "output_type": "stream",
     "text": [
      "\n",
      "t:  68%|██████▊   | 330/485 [00:51<00:24,  6.44it/s, now=None]\u001b[A\n",
      "t:  68%|██████▊   | 331/485 [00:51<00:23,  6.45it/s, now=None]\u001b[A"
     ]
    },
    {
     "name": "stdout",
     "output_type": "stream",
     "text": [
      "1304.012493197919 139.8870977359941\n",
      "1219.827269359257 109.58841663703144\n"
     ]
    },
    {
     "name": "stderr",
     "output_type": "stream",
     "text": [
      "\n",
      "t:  68%|██████▊   | 332/485 [00:51<00:23,  6.39it/s, now=None]\u001b[A"
     ]
    },
    {
     "name": "stdout",
     "output_type": "stream",
     "text": [
      "320.21093397146626 134.31735637103515\n",
      "345.83507191820917"
     ]
    },
    {
     "name": "stderr",
     "output_type": "stream",
     "text": [
      "\n",
      "t:  69%|██████▊   | 333/485 [00:51<00:24,  6.15it/s, now=None]\u001b[A\n",
      "t:  69%|██████▉   | 334/485 [00:51<00:24,  6.16it/s, now=None]\u001b[A"
     ]
    },
    {
     "name": "stdout",
     "output_type": "stream",
     "text": [
      " 127.4206607172484\n",
      "290.988557593829 142.4804408704019\n"
     ]
    },
    {
     "name": "stderr",
     "output_type": "stream",
     "text": [
      "\n",
      "t:  69%|██████▉   | 335/485 [00:52<00:24,  6.23it/s, now=None]\u001b[A\n",
      "t:  69%|██████▉   | 336/485 [00:52<00:23,  6.32it/s, now=None]\u001b[A"
     ]
    },
    {
     "name": "stdout",
     "output_type": "stream",
     "text": [
      "762.0893245756969 230.63573139336555\n",
      "320.89353797761044 606.9157917100284\n"
     ]
    },
    {
     "name": "stderr",
     "output_type": "stream",
     "text": [
      "\n",
      "t:  69%|██████▉   | 337/485 [00:52<00:23,  6.29it/s, now=None]\u001b[A\n",
      "t:  70%|██████▉   | 338/485 [00:52<00:23,  6.33it/s, now=None]\u001b[A"
     ]
    },
    {
     "name": "stdout",
     "output_type": "stream",
     "text": [
      "373.4917854344146 425.37445483860745\n",
      "327.197527200512 455.37066005899436\n"
     ]
    },
    {
     "name": "stderr",
     "output_type": "stream",
     "text": [
      "\n",
      "t:  70%|██████▉   | 339/485 [00:52<00:22,  6.38it/s, now=None]\u001b[A\n",
      "t:  70%|███████   | 340/485 [00:52<00:22,  6.34it/s, now=None]\u001b[A"
     ]
    },
    {
     "name": "stdout",
     "output_type": "stream",
     "text": [
      "260.860516001245 565.9705790008446\n",
      "501.09633404670006 280.65212328234804\n"
     ]
    },
    {
     "name": "stderr",
     "output_type": "stream",
     "text": [
      "\n",
      "t:  70%|███████   | 341/485 [00:53<00:22,  6.39it/s, now=None]\u001b[A\n",
      "t:  71%|███████   | 342/485 [00:53<00:22,  6.41it/s, now=None]\u001b[A"
     ]
    },
    {
     "name": "stdout",
     "output_type": "stream",
     "text": [
      "374.96049468250163 621.0430423878407\n",
      "734.4424810369155 189.82056050885097\n"
     ]
    },
    {
     "name": "stderr",
     "output_type": "stream",
     "text": [
      "\n",
      "t:  71%|███████   | 343/485 [00:53<00:22,  6.36it/s, now=None]\u001b[A\n"
     ]
    },
    {
     "name": "stdout",
     "output_type": "stream",
     "text": [
      "313.0957704158996 1305.1849990397861\n",
      "319.2603513486822 181.07287844577954\n"
     ]
    },
    {
     "name": "stderr",
     "output_type": "stream",
     "text": [
      "t:  71%|███████   | 344/485 [00:53<00:22,  6.29it/s, now=None]\u001b[A\n",
      "t:  71%|███████   | 345/485 [00:53<00:22,  6.28it/s, now=None]\u001b[A\n",
      "t:  71%|███████▏  | 346/485 [00:53<00:22,  6.29it/s, now=None]\u001b[A"
     ]
    },
    {
     "name": "stdout",
     "output_type": "stream",
     "text": [
      "1321.5782470580182 251.50077431826213\n",
      "1775.1486760176017 92.9545694636938\n"
     ]
    },
    {
     "name": "stderr",
     "output_type": "stream",
     "text": [
      "\n",
      "t:  72%|███████▏  | 347/485 [00:53<00:21,  6.46it/s, now=None]\u001b[A\n"
     ]
    },
    {
     "name": "stdout",
     "output_type": "stream",
     "text": [
      "1572.6105240359607 194.36766516785184\n",
      "1831.922208081519 2406.0398242165265\n"
     ]
    },
    {
     "name": "stderr",
     "output_type": "stream",
     "text": [
      "t:  72%|███████▏  | 348/485 [00:54<00:21,  6.45it/s, now=None]\u001b[A\n",
      "t:  72%|███████▏  | 349/485 [00:54<00:21,  6.44it/s, now=None]\u001b[A"
     ]
    },
    {
     "name": "stdout",
     "output_type": "stream",
     "text": [
      "252.7744963048849 303.5701932231552\n",
      "1292.987000621105 201.07287053685144\n"
     ]
    },
    {
     "name": "stderr",
     "output_type": "stream",
     "text": [
      "\n",
      "t:  72%|███████▏  | 350/485 [00:54<00:21,  6.31it/s, now=None]\u001b[A\n",
      "t:  72%|███████▏  | 351/485 [00:54<00:21,  6.28it/s, now=None]\u001b[A\n",
      "t:  73%|███████▎  | 352/485 [00:54<00:21,  6.32it/s, now=None]\u001b[A"
     ]
    },
    {
     "name": "stdout",
     "output_type": "stream",
     "text": [
      "352.73604509091587 200.46603012182462\n",
      "597.5838209916203 111.39385595852544\n"
     ]
    },
    {
     "name": "stderr",
     "output_type": "stream",
     "text": [
      "\n",
      "t:  73%|███████▎  | 353/485 [00:54<00:21,  6.25it/s, now=None]\u001b[A\n",
      "t:  73%|███████▎  | 354/485 [00:55<00:20,  6.28it/s, now=None]\u001b[A"
     ]
    },
    {
     "name": "stdout",
     "output_type": "stream",
     "text": [
      "622.3852110905204 111.47820317073554\n",
      "4992.991329026376 93.87997709743102\n"
     ]
    },
    {
     "name": "stderr",
     "output_type": "stream",
     "text": [
      "\n",
      "t:  73%|███████▎  | 355/485 [00:55<00:20,  6.31it/s, now=None]\u001b[A\n",
      "t:  73%|███████▎  | 356/485 [00:55<00:20,  6.36it/s, now=None]\u001b[A"
     ]
    },
    {
     "name": "stdout",
     "output_type": "stream",
     "text": [
      "637.8476315806822 120.73841116712038\n",
      "1910.7391727988881 117.43853474528821\n"
     ]
    },
    {
     "name": "stderr",
     "output_type": "stream",
     "text": [
      "\n",
      "t:  74%|███████▎  | 357/485 [00:55<00:20,  6.28it/s, now=None]\u001b[A"
     ]
    },
    {
     "name": "stdout",
     "output_type": "stream",
     "text": [
      "1780.7327354440356 126.80682745114558\n",
      "1333.097275808418 101.09584900612049\n"
     ]
    },
    {
     "name": "stderr",
     "output_type": "stream",
     "text": [
      "\n",
      "t:  74%|███████▍  | 358/485 [00:55<00:20,  6.18it/s, now=None]\u001b[A\n",
      "t:  74%|███████▍  | 359/485 [00:55<00:20,  6.25it/s, now=None]\u001b[A\n",
      "t:  74%|███████▍  | 360/485 [00:56<00:19,  6.29it/s, now=None]\u001b[A"
     ]
    },
    {
     "name": "stdout",
     "output_type": "stream",
     "text": [
      "1301.6893878795943 119.26717951772291\n",
      "1194.8856686472805 153.73065837267995\n"
     ]
    },
    {
     "name": "stderr",
     "output_type": "stream",
     "text": [
      "\n",
      "t:  74%|███████▍  | 361/485 [00:56<00:19,  6.39it/s, now=None]\u001b[A\n",
      "t:  75%|███████▍  | 362/485 [00:56<00:19,  6.32it/s, now=None]\u001b[A"
     ]
    },
    {
     "name": "stdout",
     "output_type": "stream",
     "text": [
      "638.8535193443904 211.11757724315135\n",
      "1338.629426114607 275.1785865215756\n"
     ]
    },
    {
     "name": "stderr",
     "output_type": "stream",
     "text": [
      "\n",
      "t:  75%|███████▍  | 363/485 [00:56<00:19,  6.31it/s, now=None]\u001b[A\n",
      "t:  75%|███████▌  | 364/485 [00:56<00:18,  6.38it/s, now=None]\u001b[A"
     ]
    },
    {
     "name": "stdout",
     "output_type": "stream",
     "text": [
      "916.1303496995668 1542.4796113969883\n",
      "1205.154644058674 5475.145738147323\n"
     ]
    },
    {
     "name": "stderr",
     "output_type": "stream",
     "text": [
      "\n",
      "t:  75%|███████▌  | 365/485 [00:56<00:18,  6.36it/s, now=None]\u001b[A\n",
      "t:  75%|███████▌  | 366/485 [00:57<00:18,  6.34it/s, now=None]\u001b[A"
     ]
    },
    {
     "name": "stdout",
     "output_type": "stream",
     "text": [
      "1352.391766818761 389.28448341133026\n",
      "2868.044165808468 173.73965136168226\n"
     ]
    },
    {
     "name": "stderr",
     "output_type": "stream",
     "text": [
      "\n",
      "t:  76%|███████▌  | 367/485 [00:57<00:18,  6.34it/s, now=None]\u001b[A\n"
     ]
    },
    {
     "name": "stdout",
     "output_type": "stream",
     "text": [
      "440.52358248516657 357.63645378851885\n",
      "6617.857077638535 416.6500764745799\n"
     ]
    },
    {
     "name": "stderr",
     "output_type": "stream",
     "text": [
      "t:  76%|███████▌  | 368/485 [00:57<00:18,  6.35it/s, now=None]\u001b[A\n",
      "t:  76%|███████▌  | 369/485 [00:57<00:18,  6.26it/s, now=None]\u001b[A\n",
      "t:  76%|███████▋  | 370/485 [00:57<00:18,  6.23it/s, now=None]\u001b[A"
     ]
    },
    {
     "name": "stdout",
     "output_type": "stream",
     "text": [
      "300.00369152319024 131.1117698324113\n",
      "521.1486108956998 589.4318322240888\n"
     ]
    },
    {
     "name": "stderr",
     "output_type": "stream",
     "text": [
      "\n",
      "t:  76%|███████▋  | 371/485 [00:57<00:18,  6.21it/s, now=None]\u001b[A"
     ]
    },
    {
     "name": "stdout",
     "output_type": "stream",
     "text": [
      "1210.5212663096536 152.55620639126306\n",
      "1981.596750689282 119.78818294751645\n"
     ]
    },
    {
     "name": "stderr",
     "output_type": "stream",
     "text": [
      "\n",
      "t:  77%|███████▋  | 372/485 [00:57<00:18,  6.18it/s, now=None]\u001b[A\n",
      "t:  77%|███████▋  | 373/485 [00:58<00:17,  6.32it/s, now=None]\u001b[A\n",
      "t:  77%|███████▋  | 374/485 [00:58<00:17,  6.29it/s, now=None]\u001b[A"
     ]
    },
    {
     "name": "stdout",
     "output_type": "stream",
     "text": [
      "1984.576889746168 152.85291975523157\n",
      "2396.3891173807056 147.6369163084025\n"
     ]
    },
    {
     "name": "stderr",
     "output_type": "stream",
     "text": [
      "\n",
      "t:  77%|███████▋  | 375/485 [00:58<00:17,  6.32it/s, now=None]\u001b[A"
     ]
    },
    {
     "name": "stdout",
     "output_type": "stream",
     "text": [
      "4174.078608410045 120.36501489021549\n",
      "5533.984492465763 94.30423016274098\n"
     ]
    },
    {
     "name": "stderr",
     "output_type": "stream",
     "text": [
      "\n",
      "t:  78%|███████▊  | 376/485 [00:58<00:17,  6.25it/s, now=None]\u001b[A\n",
      "t:  78%|███████▊  | 377/485 [00:58<00:17,  6.35it/s, now=None]\u001b[A\n"
     ]
    },
    {
     "name": "stdout",
     "output_type": "stream",
     "text": [
      "38699.55421162446 138.55992281201713\n",
      "29589.96585079332 100.8705487895832\n"
     ]
    },
    {
     "name": "stderr",
     "output_type": "stream",
     "text": [
      "t:  78%|███████▊  | 378/485 [00:58<00:17,  6.22it/s, now=None]\u001b[A\n",
      "t:  78%|███████▊  | 379/485 [00:59<00:16,  6.33it/s, now=None]\u001b[A\n",
      "t:  78%|███████▊  | 380/485 [00:59<00:16,  6.45it/s, now=None]\u001b[A"
     ]
    },
    {
     "name": "stdout",
     "output_type": "stream",
     "text": [
      "9136.793894902492 103.87623521616112\n",
      "4199.826267621019 105.15101722321009\n"
     ]
    },
    {
     "name": "stderr",
     "output_type": "stream",
     "text": [
      "\n",
      "t:  79%|███████▊  | 381/485 [00:59<00:16,  6.45it/s, now=None]\u001b[A\n",
      "t:  79%|███████▉  | 382/485 [00:59<00:15,  6.49it/s, now=None]\u001b[A"
     ]
    },
    {
     "name": "stdout",
     "output_type": "stream",
     "text": [
      "131.70189305469543 131.70189305469543\n",
      "100.89839786281507 100.89839786281507\n"
     ]
    },
    {
     "name": "stderr",
     "output_type": "stream",
     "text": [
      "\n",
      "t:  79%|███████▉  | 383/485 [00:59<00:15,  6.44it/s, now=None]\u001b[A\n",
      "t:  79%|███████▉  | 384/485 [00:59<00:15,  6.49it/s, now=None]\u001b[A"
     ]
    },
    {
     "name": "stdout",
     "output_type": "stream",
     "text": [
      "91.58380996498836 201.9499105532421\n",
      "126.28328095180935 126.28328095180935\n"
     ]
    },
    {
     "name": "stderr",
     "output_type": "stream",
     "text": [
      "\n",
      "t:  79%|███████▉  | 385/485 [00:59<00:15,  6.48it/s, now=None]\u001b[A\n",
      "t:  80%|███████▉  | 386/485 [01:00<00:14,  6.61it/s, now=None]\u001b[A"
     ]
    },
    {
     "name": "stdout",
     "output_type": "stream",
     "text": [
      "122.81352527868496 122.81352527868496\n",
      "250.04950564157969 250.04950564157969\n"
     ]
    },
    {
     "name": "stderr",
     "output_type": "stream",
     "text": [
      "\n",
      "t:  80%|███████▉  | 387/485 [01:00<00:14,  6.68it/s, now=None]\u001b[A\n",
      "t:  80%|████████  | 388/485 [01:00<00:14,  6.69it/s, now=None]\u001b[A"
     ]
    },
    {
     "name": "stdout",
     "output_type": "stream",
     "text": [
      "261.8069984295948 261.8069984295948\n",
      "60852.19919579323 60852.19919579323\n"
     ]
    },
    {
     "name": "stderr",
     "output_type": "stream",
     "text": [
      "\n",
      "t:  80%|████████  | 389/485 [01:00<00:14,  6.63it/s, now=None]\u001b[A"
     ]
    },
    {
     "name": "stdout",
     "output_type": "stream",
     "text": [
      "299.9793824348753 299.9793824348753\n",
      "101.63341749674707 101.63341749674707\n"
     ]
    },
    {
     "name": "stderr",
     "output_type": "stream",
     "text": [
      "\n",
      "t:  80%|████████  | 390/485 [01:00<00:14,  6.56it/s, now=None]\u001b[A\n",
      "t:  81%|████████  | 391/485 [01:00<00:14,  6.57it/s, now=None]\u001b[A"
     ]
    },
    {
     "name": "stdout",
     "output_type": "stream",
     "text": [
      "89.01478403900792 89.01478403900792\n",
      "115.93563776765686 115.93563776765686\n"
     ]
    },
    {
     "name": "stderr",
     "output_type": "stream",
     "text": [
      "\n",
      "t:  81%|████████  | 392/485 [01:01<00:14,  6.43it/s, now=None]\u001b[A\n",
      "t:  81%|████████  | 393/485 [01:01<00:14,  6.43it/s, now=None]\u001b[A\n",
      "t:  81%|████████  | 394/485 [01:01<00:14,  6.45it/s, now=None]\u001b[A"
     ]
    },
    {
     "name": "stdout",
     "output_type": "stream",
     "text": [
      "153.43092553596622 153.43092553596622\n",
      "162.95338106796626 162.95338106796626\n"
     ]
    },
    {
     "name": "stderr",
     "output_type": "stream",
     "text": [
      "\n",
      "t:  81%|████████▏ | 395/485 [01:01<00:14,  6.41it/s, now=None]\u001b[A\n",
      "t:  82%|████████▏ | 396/485 [01:01<00:13,  6.40it/s, now=None]\u001b[A"
     ]
    },
    {
     "name": "stdout",
     "output_type": "stream",
     "text": [
      "130.90576915710002 338.64279638654426\n",
      "215.42156857646071 5065.362848868896\n"
     ]
    },
    {
     "name": "stderr",
     "output_type": "stream",
     "text": [
      "\n",
      "t:  82%|████████▏ | 397/485 [01:01<00:13,  6.43it/s, now=None]\u001b[A\n",
      "t:  82%|████████▏ | 398/485 [01:01<00:13,  6.38it/s, now=None]\u001b[A"
     ]
    },
    {
     "name": "stdout",
     "output_type": "stream",
     "text": [
      "152.56321864229145 1793.4619348665228\n",
      "161.0909835728912 535.1453600868722\n"
     ]
    },
    {
     "name": "stderr",
     "output_type": "stream",
     "text": [
      "\n",
      "t:  82%|████████▏ | 399/485 [01:02<00:13,  6.39it/s, now=None]\u001b[A\n",
      "t:  82%|████████▏ | 400/485 [01:02<00:13,  6.47it/s, now=None]\u001b[A"
     ]
    },
    {
     "name": "stdout",
     "output_type": "stream",
     "text": [
      "249.1855274558943 337.9877986854817\n",
      "1964.5259252255257 250.74487970045485\n"
     ]
    },
    {
     "name": "stderr",
     "output_type": "stream",
     "text": [
      "\n",
      "t:  83%|████████▎ | 401/485 [01:02<00:13,  6.38it/s, now=None]\u001b[A\n",
      "t:  83%|████████▎ | 402/485 [01:02<00:13,  6.36it/s, now=None]\u001b[A"
     ]
    },
    {
     "name": "stdout",
     "output_type": "stream",
     "text": [
      "2058.3216354399706 365.49511661468375\n",
      "473.2804823983172 596.8898683338136\n"
     ]
    },
    {
     "name": "stderr",
     "output_type": "stream",
     "text": [
      "\n",
      "t:  83%|████████▎ | 403/485 [01:02<00:12,  6.41it/s, now=None]\u001b[A\n",
      "t:  83%|████████▎ | 404/485 [01:02<00:12,  6.48it/s, now=None]\u001b[A"
     ]
    },
    {
     "name": "stdout",
     "output_type": "stream",
     "text": [
      "160.46417891016844 1395.3250174594657\n",
      "528.8599945122626 405.3594738340505\n"
     ]
    },
    {
     "name": "stderr",
     "output_type": "stream",
     "text": [
      "\n",
      "t:  84%|████████▎ | 405/485 [01:03<00:12,  6.46it/s, now=None]\u001b[A\n",
      "t:  84%|████████▎ | 406/485 [01:03<00:12,  6.43it/s, now=None]\u001b[A"
     ]
    },
    {
     "name": "stdout",
     "output_type": "stream",
     "text": [
      "222.16720358185822 1228.8756060426197\n",
      "259.7154217361287 1342.4398530777855\n"
     ]
    },
    {
     "name": "stderr",
     "output_type": "stream",
     "text": [
      "\n",
      "t:  84%|████████▍ | 407/485 [01:03<00:12,  6.30it/s, now=None]\u001b[A"
     ]
    },
    {
     "name": "stdout",
     "output_type": "stream",
     "text": [
      "199.8135228446874 1109.887889836504\n",
      "77.25619641243492 199.0943806472377\n"
     ]
    },
    {
     "name": "stderr",
     "output_type": "stream",
     "text": [
      "\n",
      "t:  84%|████████▍ | 408/485 [01:03<00:12,  6.20it/s, now=None]\u001b[A\n",
      "t:  84%|████████▍ | 409/485 [01:03<00:12,  6.18it/s, now=None]\u001b[A"
     ]
    },
    {
     "name": "stdout",
     "output_type": "stream",
     "text": [
      "33.061936209803726 104.75595428246793\n",
      "63.82516773442229 283.6843253746963\n"
     ]
    },
    {
     "name": "stderr",
     "output_type": "stream",
     "text": [
      "\n",
      "t:  85%|████████▍ | 410/485 [01:03<00:12,  6.01it/s, now=None]\u001b[A\n",
      "t:  85%|████████▍ | 411/485 [01:04<00:12,  6.04it/s, now=None]\u001b[A\n",
      "t:  85%|████████▍ | 412/485 [01:04<00:11,  6.24it/s, now=None]\u001b[A"
     ]
    },
    {
     "name": "stdout",
     "output_type": "stream",
     "text": [
      "43.79335239129997 919.2594133762899\n",
      "331.2748022822569 983.8182161973318\n"
     ]
    },
    {
     "name": "stderr",
     "output_type": "stream",
     "text": [
      "\n",
      "t:  85%|████████▌ | 413/485 [01:04<00:11,  6.26it/s, now=None]\u001b[A"
     ]
    },
    {
     "name": "stdout",
     "output_type": "stream",
     "text": [
      "58.85860282724424 1833.9143489310131\n",
      "57.55658226467993 19235.77032276674\n"
     ]
    },
    {
     "name": "stderr",
     "output_type": "stream",
     "text": [
      "\n",
      "t:  85%|████████▌ | 414/485 [01:04<00:11,  6.29it/s, now=None]\u001b[A\n",
      "t:  86%|████████▌ | 415/485 [01:04<00:11,  6.35it/s, now=None]\u001b[A"
     ]
    },
    {
     "name": "stdout",
     "output_type": "stream",
     "text": [
      "43.21993690580296 771.0337310972129\n",
      "53.064951375797584 773.6727043282572\n"
     ]
    },
    {
     "name": "stderr",
     "output_type": "stream",
     "text": [
      "\n",
      "t:  86%|████████▌ | 416/485 [01:04<00:10,  6.34it/s, now=None]\u001b[A\n",
      "t:  86%|████████▌ | 417/485 [01:05<00:10,  6.35it/s, now=None]\u001b[A"
     ]
    },
    {
     "name": "stdout",
     "output_type": "stream",
     "text": [
      "106.20847717581569 786.6820739974821\n",
      "43.75796024336266 875.8206617462206\n"
     ]
    },
    {
     "name": "stderr",
     "output_type": "stream",
     "text": [
      "\n",
      "t:  86%|████████▌ | 418/485 [01:05<00:10,  6.37it/s, now=None]\u001b[A\n",
      "t:  86%|████████▋ | 419/485 [01:05<00:10,  6.37it/s, now=None]\u001b[A\n",
      "t:  87%|████████▋ | 420/485 [01:05<00:10,  6.46it/s, now=None]\u001b[A"
     ]
    },
    {
     "name": "stdout",
     "output_type": "stream",
     "text": [
      "132.30396818011982 651.2828535718485\n",
      "75.02925772035326 504.57980977391736\n"
     ]
    },
    {
     "name": "stderr",
     "output_type": "stream",
     "text": [
      "\n",
      "t:  87%|████████▋ | 421/485 [01:05<00:09,  6.44it/s, now=None]\u001b[A\n",
      "t:  87%|████████▋ | 422/485 [01:05<00:09,  6.41it/s, now=None]\u001b[A"
     ]
    },
    {
     "name": "stdout",
     "output_type": "stream",
     "text": [
      "79.87185186368147 816.0814663379997\n",
      "101.18159419986401 904.4226116396214\n"
     ]
    },
    {
     "name": "stderr",
     "output_type": "stream",
     "text": [
      "\n",
      "t:  87%|████████▋ | 423/485 [01:05<00:09,  6.52it/s, now=None]\u001b[A\n",
      "t:  87%|████████▋ | 424/485 [01:06<00:09,  6.60it/s, now=None]\u001b[A"
     ]
    },
    {
     "name": "stdout",
     "output_type": "stream",
     "text": [
      "143.69639317132683 631.3670302287051\n",
      "37.639988127559334 595.359990781448\n"
     ]
    },
    {
     "name": "stderr",
     "output_type": "stream",
     "text": [
      "\n",
      "t:  88%|████████▊ | 425/485 [01:06<00:09,  6.60it/s, now=None]\u001b[A\n",
      "t:  88%|████████▊ | 426/485 [01:06<00:09,  6.54it/s, now=None]\u001b[A"
     ]
    },
    {
     "name": "stdout",
     "output_type": "stream",
     "text": [
      "35.381345651536805 262.00380178528235\n",
      "339.51696308188383 429.8752500966556\n"
     ]
    },
    {
     "name": "stderr",
     "output_type": "stream",
     "text": [
      "\n",
      "t:  88%|████████▊ | 427/485 [01:06<00:08,  6.49it/s, now=None]\u001b[A\n",
      "t:  88%|████████▊ | 428/485 [01:06<00:08,  6.46it/s, now=None]\u001b[A"
     ]
    },
    {
     "name": "stdout",
     "output_type": "stream",
     "text": [
      "137.17112132012676 41378.26999721839\n",
      "34.65649918730178 3546.2963139463513\n"
     ]
    },
    {
     "name": "stderr",
     "output_type": "stream",
     "text": [
      "\n",
      "t:  88%|████████▊ | 429/485 [01:06<00:08,  6.46it/s, now=None]\u001b[A\n",
      "t:  89%|████████▊ | 430/485 [01:07<00:08,  6.36it/s, now=None]\u001b[A"
     ]
    },
    {
     "name": "stdout",
     "output_type": "stream",
     "text": [
      "58.55845493280562 1263.148705098407\n",
      "46.481814313894176 1854.1047075611855\n"
     ]
    },
    {
     "name": "stderr",
     "output_type": "stream",
     "text": [
      "\n",
      "t:  89%|████████▉ | 431/485 [01:07<00:08,  6.55it/s, now=None]\u001b[A\n"
     ]
    },
    {
     "name": "stdout",
     "output_type": "stream",
     "text": [
      "32.72755951759031 339.4836730043356\n",
      "33.96743973089738 374.2838569122685\n"
     ]
    },
    {
     "name": "stderr",
     "output_type": "stream",
     "text": [
      "t:  89%|████████▉ | 432/485 [01:07<00:08,  6.46it/s, now=None]\u001b[A\n",
      "t:  89%|████████▉ | 433/485 [01:07<00:08,  6.34it/s, now=None]\u001b[A"
     ]
    },
    {
     "name": "stdout",
     "output_type": "stream",
     "text": [
      "216.34565751395735 281.5213121599924\n",
      "34.197270316859964 802.1772817877696\n"
     ]
    },
    {
     "name": "stderr",
     "output_type": "stream",
     "text": [
      "\n",
      "t:  89%|████████▉ | 434/485 [01:07<00:08,  6.27it/s, now=None]\u001b[A\n",
      "t:  90%|████████▉ | 435/485 [01:07<00:07,  6.38it/s, now=None]\u001b[A\n",
      "t:  90%|████████▉ | 436/485 [01:07<00:07,  6.35it/s, now=None]\u001b[A"
     ]
    },
    {
     "name": "stdout",
     "output_type": "stream",
     "text": [
      "261.35726942314227 988.0723692507171\n",
      "34.65825599673868 1596.2417102590257\n"
     ]
    },
    {
     "name": "stderr",
     "output_type": "stream",
     "text": [
      "\n",
      "t:  90%|█████████ | 437/485 [01:08<00:07,  6.46it/s, now=None]\u001b[A\n",
      "t:  90%|█████████ | 438/485 [01:08<00:07,  6.46it/s, now=None]\u001b[A"
     ]
    },
    {
     "name": "stdout",
     "output_type": "stream",
     "text": [
      "153.02415089855393 192.4103319278763\n",
      "1142.3342624541015 295.8323909009688\n"
     ]
    },
    {
     "name": "stderr",
     "output_type": "stream",
     "text": [
      "\n",
      "t:  91%|█████████ | 439/485 [01:08<00:07,  6.50it/s, now=None]\u001b[A\n",
      "t:  91%|█████████ | 440/485 [01:08<00:06,  6.50it/s, now=None]\u001b[A"
     ]
    },
    {
     "name": "stdout",
     "output_type": "stream",
     "text": [
      "2726.966983272789 489.48598633501473\n",
      "13698.60315372592 298.54244002472643\n"
     ]
    },
    {
     "name": "stderr",
     "output_type": "stream",
     "text": [
      "\n",
      "t:  91%|█████████ | 441/485 [01:08<00:06,  6.30it/s, now=None]\u001b[A\n",
      "t:  91%|█████████ | 442/485 [01:08<00:06,  6.36it/s, now=None]\u001b[A"
     ]
    },
    {
     "name": "stdout",
     "output_type": "stream",
     "text": [
      "9489.672740701004 185.8375988870937\n",
      "3775.219620774954 56.96001095499234\n"
     ]
    },
    {
     "name": "stderr",
     "output_type": "stream",
     "text": [
      "\n",
      "t:  91%|█████████▏| 443/485 [01:09<00:06,  6.47it/s, now=None]\u001b[A\n",
      "t:  92%|█████████▏| 444/485 [01:09<00:06,  6.59it/s, now=None]\u001b[A"
     ]
    },
    {
     "name": "stdout",
     "output_type": "stream",
     "text": [
      "3988.837434847781 79.49165833257788\n",
      "287.1175137043385 56.360498477394316\n"
     ]
    },
    {
     "name": "stderr",
     "output_type": "stream",
     "text": [
      "\n",
      "t:  92%|█████████▏| 445/485 [01:09<00:06,  6.58it/s, now=None]\u001b[A\n",
      "t:  92%|█████████▏| 446/485 [01:09<00:05,  6.56it/s, now=None]\u001b[A"
     ]
    },
    {
     "name": "stdout",
     "output_type": "stream",
     "text": [
      "1074.1487752791857 139.09149454892525\n",
      "1022.4076683333914 143.53906242763486\n"
     ]
    },
    {
     "name": "stderr",
     "output_type": "stream",
     "text": [
      "\n",
      "t:  92%|█████████▏| 447/485 [01:09<00:05,  6.62it/s, now=None]\u001b[A\n",
      "t:  92%|█████████▏| 448/485 [01:09<00:05,  6.74it/s, now=None]\u001b[A"
     ]
    },
    {
     "name": "stdout",
     "output_type": "stream",
     "text": [
      "1145.0151036669413 6750.769993105058\n",
      "1155.3182198201484 1266.9400423453349\n"
     ]
    },
    {
     "name": "stderr",
     "output_type": "stream",
     "text": [
      "\n",
      "t:  93%|█████████▎| 449/485 [01:09<00:05,  6.52it/s, now=None]\u001b[A\n",
      "t:  93%|█████████▎| 450/485 [01:10<00:05,  6.62it/s, now=None]\u001b[A"
     ]
    },
    {
     "name": "stdout",
     "output_type": "stream",
     "text": [
      "903.0495247704334 1458.6773867164993\n",
      "77.27633450385325 252.2335291143923\n"
     ]
    },
    {
     "name": "stderr",
     "output_type": "stream",
     "text": [
      "\n",
      "t:  93%|█████████▎| 451/485 [01:10<00:05,  6.71it/s, now=None]\u001b[A\n",
      "t:  93%|█████████▎| 452/485 [01:10<00:05,  6.57it/s, now=None]\u001b[A"
     ]
    },
    {
     "name": "stdout",
     "output_type": "stream",
     "text": [
      "68.75579063419731 184.23892702489192\n",
      "1497.224397614911 67.76846980890336\n"
     ]
    },
    {
     "name": "stderr",
     "output_type": "stream",
     "text": [
      "\n",
      "t:  93%|█████████▎| 453/485 [01:10<00:04,  6.57it/s, now=None]\u001b[A\n",
      "t:  94%|█████████▎| 454/485 [01:10<00:04,  6.48it/s, now=None]\u001b[A"
     ]
    },
    {
     "name": "stdout",
     "output_type": "stream",
     "text": [
      "1079.2594136707955 96.15688348116028\n",
      "2615.443504478143 76.58488371062333\n"
     ]
    },
    {
     "name": "stderr",
     "output_type": "stream",
     "text": [
      "\n",
      "t:  94%|█████████▍| 455/485 [01:10<00:04,  6.49it/s, now=None]\u001b[A\n",
      "t:  94%|█████████▍| 456/485 [01:11<00:04,  6.49it/s, now=None]\u001b[A"
     ]
    },
    {
     "name": "stdout",
     "output_type": "stream",
     "text": [
      "2254.2204651969196 83.74980711702328\n",
      "1742.1220218312876 3.4891103231297476\n"
     ]
    },
    {
     "name": "stderr",
     "output_type": "stream",
     "text": [
      "\n",
      "t:  94%|█████████▍| 457/485 [01:11<00:04,  6.50it/s, now=None]\u001b[A\n",
      "t:  94%|█████████▍| 458/485 [01:11<00:04,  6.54it/s, now=None]\u001b[A"
     ]
    },
    {
     "name": "stdout",
     "output_type": "stream",
     "text": [
      "872.582120322886 30.693855476921282\n",
      "649.2850343959029 39.868798115898514\n"
     ]
    },
    {
     "name": "stderr",
     "output_type": "stream",
     "text": [
      "\n",
      "t:  95%|█████████▍| 459/485 [01:11<00:03,  6.60it/s, now=None]\u001b[A\n",
      "t:  95%|█████████▍| 460/485 [01:11<00:03,  6.61it/s, now=None]\u001b[A"
     ]
    },
    {
     "name": "stdout",
     "output_type": "stream",
     "text": [
      "626.7791157422423 141.8972529950874\n",
      "422.7239391805256 64.71897464622019\n"
     ]
    },
    {
     "name": "stderr",
     "output_type": "stream",
     "text": [
      "\n",
      "t:  95%|█████████▌| 461/485 [01:11<00:03,  6.64it/s, now=None]\u001b[A\n",
      "t:  95%|█████████▌| 462/485 [01:11<00:03,  6.69it/s, now=None]\u001b[A"
     ]
    },
    {
     "name": "stdout",
     "output_type": "stream",
     "text": [
      "307.7458366954063 382.8232851012461\n",
      "341.5685263660783 282.0587336167356\n"
     ]
    },
    {
     "name": "stderr",
     "output_type": "stream",
     "text": [
      "\n",
      "t:  95%|█████████▌| 463/485 [01:12<00:03,  6.62it/s, now=None]\u001b[A\n",
      "t:  96%|█████████▌| 464/485 [01:12<00:03,  6.63it/s, now=None]\u001b[A"
     ]
    },
    {
     "name": "stdout",
     "output_type": "stream",
     "text": [
      "311.1728054181224 463.6600660553831\n",
      "303.5617737770753 462.76845733341605\n"
     ]
    },
    {
     "name": "stderr",
     "output_type": "stream",
     "text": [
      "\n",
      "t:  96%|█████████▌| 465/485 [01:12<00:02,  6.76it/s, now=None]\u001b[A\n",
      "t:  96%|█████████▌| 466/485 [01:12<00:02,  6.80it/s, now=None]\u001b[A"
     ]
    },
    {
     "name": "stdout",
     "output_type": "stream",
     "text": [
      "204.43644661060057 45.25548104459614\n",
      "184.5782149761341 6.227427030120478\n"
     ]
    },
    {
     "name": "stderr",
     "output_type": "stream",
     "text": [
      "\n",
      "t:  96%|█████████▋| 467/485 [01:12<00:02,  6.73it/s, now=None]\u001b[A\n",
      "t:  96%|█████████▋| 468/485 [01:12<00:02,  6.66it/s, now=None]\u001b[A"
     ]
    },
    {
     "name": "stdout",
     "output_type": "stream",
     "text": [
      "307.37012215342634 14.961875462941718\n",
      "42.351862843351014 24.09361653861866\n"
     ]
    },
    {
     "name": "stderr",
     "output_type": "stream",
     "text": [
      "\n",
      "t:  97%|█████████▋| 469/485 [01:12<00:02,  6.70it/s, now=None]\u001b[A\n",
      "t:  97%|█████████▋| 470/485 [01:13<00:02,  6.78it/s, now=None]\u001b[A"
     ]
    },
    {
     "name": "stdout",
     "output_type": "stream",
     "text": [
      "88.70511774762623 26.6554559081344\n",
      "9055.022777942526 28.89715966513385\n"
     ]
    },
    {
     "name": "stderr",
     "output_type": "stream",
     "text": [
      "\n",
      "t:  97%|█████████▋| 471/485 [01:13<00:02,  6.72it/s, now=None]\u001b[A\n",
      "t:  97%|█████████▋| 472/485 [01:13<00:01,  6.70it/s, now=None]\u001b[A"
     ]
    },
    {
     "name": "stdout",
     "output_type": "stream",
     "text": [
      "1933.1965205132824 34.15917394711338\n",
      "968.5968498916078 36.17891785255061\n"
     ]
    },
    {
     "name": "stderr",
     "output_type": "stream",
     "text": [
      "\n",
      "t:  98%|█████████▊| 473/485 [01:13<00:01,  6.73it/s, now=None]\u001b[A\n",
      "t:  98%|█████████▊| 474/485 [01:13<00:01,  6.65it/s, now=None]\u001b[A"
     ]
    },
    {
     "name": "stdout",
     "output_type": "stream",
     "text": [
      "38.819239059936294 129.17268440528275\n",
      "39.99523415703297 80.13058939117674\n"
     ]
    },
    {
     "name": "stderr",
     "output_type": "stream",
     "text": [
      "\n",
      "t:  98%|█████████▊| 475/485 [01:13<00:01,  6.67it/s, now=None]\u001b[A\n",
      "t:  98%|█████████▊| 476/485 [01:13<00:01,  6.67it/s, now=None]\u001b[A"
     ]
    },
    {
     "name": "stdout",
     "output_type": "stream",
     "text": [
      "41.010613368920495 56.99333139628853\n",
      "1162.942203043027 519.3622870045422\n"
     ]
    },
    {
     "name": "stderr",
     "output_type": "stream",
     "text": [
      "\n",
      "t:  98%|█████████▊| 477/485 [01:14<00:01,  6.76it/s, now=None]\u001b[A\n",
      "t:  99%|█████████▊| 478/485 [01:14<00:01,  6.84it/s, now=None]\u001b[A"
     ]
    },
    {
     "name": "stdout",
     "output_type": "stream",
     "text": [
      "122.05720993680669 24.24527948367947\n",
      "602.7686447326313 26.709585402808113\n"
     ]
    },
    {
     "name": "stderr",
     "output_type": "stream",
     "text": [
      "\n",
      "t:  99%|█████████▉| 479/485 [01:14<00:00,  6.67it/s, now=None]\u001b[A\n",
      "t:  99%|█████████▉| 480/485 [01:14<00:00,  6.76it/s, now=None]\u001b[A"
     ]
    },
    {
     "name": "stdout",
     "output_type": "stream",
     "text": [
      "814.3328279170975 120.63565361287777\n",
      "3852.6914469001836 31.781897377998753\n"
     ]
    },
    {
     "name": "stderr",
     "output_type": "stream",
     "text": [
      "\n",
      "t:  99%|█████████▉| 481/485 [01:14<00:00,  6.73it/s, now=None]\u001b[A\n",
      "t:  99%|█████████▉| 482/485 [01:14<00:00,  6.65it/s, now=None]\u001b[A"
     ]
    },
    {
     "name": "stdout",
     "output_type": "stream",
     "text": [
      "19223.957405109257 51.89539824136934\n",
      "12468.849549518438 47.49174288944336\n"
     ]
    },
    {
     "name": "stderr",
     "output_type": "stream",
     "text": [
      "\n",
      "t: 100%|█████████▉| 483/485 [01:15<00:00,  6.47it/s, now=None]\u001b[A\n",
      "t: 100%|█████████▉| 484/485 [01:15<00:00,  6.62it/s, now=None]\u001b[A"
     ]
    },
    {
     "name": "stdout",
     "output_type": "stream",
     "text": [
      "1177.0691549518585 71.82350212263178\n",
      "756.6763987365321 47.51385992264038\n"
     ]
    },
    {
     "name": "stderr",
     "output_type": "stream",
     "text": [
      "\n",
      "t: 100%|██████████| 485/485 [01:15<00:00,  6.58it/s, now=None]\u001b[A\n",
      "                                                              \u001b[A"
     ]
    },
    {
     "name": "stdout",
     "output_type": "stream",
     "text": [
      "443.24574931698515 43.21899795176318\n",
      "443.24574931698515 43.21899795176318\n"
     ]
    },
    {
     "name": "stderr",
     "output_type": "stream",
     "text": [
      "t:  51%|█████     | 607/1199 [06:02<01:46,  5.58it/s, now=None]"
     ]
    },
    {
     "name": "stdout",
     "output_type": "stream",
     "text": [
      "Moviepy - Done !\n",
      "Moviepy - video ready challenge_video_out.mp4\n",
      "Wall time: 1min 15s\n"
     ]
    }
   ],
   "source": [
    "chal_output = 'challenge_video_out.mp4'\n",
    "## To speed up the testing process you may want to try your pipeline on a shorter subclip of the video\n",
    "## To do so add .subclip(start_second,end_second) to the end of the line below\n",
    "## Where start_second and end_second are integer values representing the start and end of the subclip\n",
    "## You may also uncomment the following line for a subclip of the first 5 seconds\n",
    "##clip1 = VideoFileClip(\"test_videos/solidWhiteRight.mp4\").subclip(0,5)\n",
    "clip2 = VideoFileClip(\"challenge_video.mp4\")\n",
    "chal_clip = clip2.fl_image(process_image) #NOTE: this function expects color images!!\n",
    "%time chal_clip.write_videofile(chal_output, audio=False)"
   ]
  },
  {
   "cell_type": "code",
   "execution_count": 30,
   "metadata": {},
   "outputs": [
    {
     "data": {
      "text/html": [
       "\n",
       "<video width=\"960\" height=\"540\" controls>\n",
       "  <source src=\"challenge_video_out.mp4\">\n",
       "</video>\n"
      ],
      "text/plain": [
       "<IPython.core.display.HTML object>"
      ]
     },
     "execution_count": 30,
     "metadata": {},
     "output_type": "execute_result"
    }
   ],
   "source": [
    "HTML(\"\"\"\n",
    "<video width=\"960\" height=\"540\" controls>\n",
    "  <source src=\"{0}\">\n",
    "</video>\n",
    "\"\"\".format(chal_output))"
   ]
  },
  {
   "cell_type": "code",
   "execution_count": 26,
   "metadata": {},
   "outputs": [
    {
     "name": "stderr",
     "output_type": "stream",
     "text": [
      "\r",
      "t:   0%|          | 0/1199 [00:00<?, ?it/s, now=None]"
     ]
    },
    {
     "name": "stdout",
     "output_type": "stream",
     "text": [
      "75.17154347323047 191.90891082390826\n",
      "Moviepy - Building video harder_challenge_video_out.mp4.\n",
      "Moviepy - Writing video harder_challenge_video_out.mp4\n",
      "\n"
     ]
    },
    {
     "name": "stderr",
     "output_type": "stream",
     "text": [
      "\r",
      "t:   0%|          | 2/1199 [00:00<02:26,  8.16it/s, now=None]"
     ]
    },
    {
     "name": "stdout",
     "output_type": "stream",
     "text": [
      "75.17154347323047 191.90891082390826\n"
     ]
    },
    {
     "name": "stderr",
     "output_type": "stream",
     "text": [
      "\r",
      "t:   0%|          | 3/1199 [00:00<03:18,  6.03it/s, now=None]"
     ]
    },
    {
     "name": "stdout",
     "output_type": "stream",
     "text": [
      "77.1624207689091 182.30274643293123\n"
     ]
    },
    {
     "name": "stderr",
     "output_type": "stream",
     "text": [
      "\r",
      "t:   0%|          | 4/1199 [00:00<03:42,  5.37it/s, now=None]"
     ]
    },
    {
     "name": "stdout",
     "output_type": "stream",
     "text": [
      "78.14222694697085 163.35151156438\n"
     ]
    },
    {
     "name": "stderr",
     "output_type": "stream",
     "text": [
      "\r",
      "t:   0%|          | 5/1199 [00:00<04:00,  4.96it/s, now=None]"
     ]
    },
    {
     "name": "stdout",
     "output_type": "stream",
     "text": [
      "80.0987974311374 176.1630068358808\n"
     ]
    },
    {
     "name": "stderr",
     "output_type": "stream",
     "text": [
      "\r",
      "t:   1%|          | 6/1199 [00:01<04:27,  4.46it/s, now=None]"
     ]
    },
    {
     "name": "stdout",
     "output_type": "stream",
     "text": [
      "83.08678617518301 236.72278367522293\n"
     ]
    },
    {
     "name": "stderr",
     "output_type": "stream",
     "text": [
      "\r",
      "t:   1%|          | 7/1199 [00:01<04:31,  4.39it/s, now=None]"
     ]
    },
    {
     "name": "stdout",
     "output_type": "stream",
     "text": [
      "82.87068391506497 199.50828808232873\n"
     ]
    },
    {
     "name": "stderr",
     "output_type": "stream",
     "text": [
      "\r",
      "t:   1%|          | 8/1199 [00:01<04:26,  4.47it/s, now=None]"
     ]
    },
    {
     "name": "stdout",
     "output_type": "stream",
     "text": [
      "80.88104564582264 248.03096112894852\n",
      "76.13464813831365"
     ]
    },
    {
     "name": "stderr",
     "output_type": "stream",
     "text": [
      "\r",
      "t:   1%|          | 9/1199 [00:01<04:19,  4.58it/s, now=None]"
     ]
    },
    {
     "name": "stdout",
     "output_type": "stream",
     "text": [
      " 4968.996806645097\n"
     ]
    },
    {
     "name": "stderr",
     "output_type": "stream",
     "text": [
      "\r",
      "t:   1%|          | 10/1199 [00:02<04:28,  4.43it/s, now=None]"
     ]
    },
    {
     "name": "stdout",
     "output_type": "stream",
     "text": [
      "143.46218934389026 563.6718671735798\n"
     ]
    },
    {
     "name": "stderr",
     "output_type": "stream",
     "text": [
      "\r",
      "t:   1%|          | 11/1199 [00:02<04:25,  4.47it/s, now=None]"
     ]
    },
    {
     "name": "stdout",
     "output_type": "stream",
     "text": [
      "181.01728869600066 553.1173484174356\n"
     ]
    },
    {
     "name": "stderr",
     "output_type": "stream",
     "text": [
      "\r",
      "t:   1%|          | 12/1199 [00:02<04:20,  4.55it/s, now=None]"
     ]
    },
    {
     "name": "stdout",
     "output_type": "stream",
     "text": [
      "146.47497562253656 839.5690798749315\n",
      "185.90482867739598 354.9583689130665\n"
     ]
    },
    {
     "name": "stderr",
     "output_type": "stream",
     "text": [
      "t:   1%|          | 14/1199 [00:02<04:07,  4.78it/s, now=None]"
     ]
    },
    {
     "name": "stdout",
     "output_type": "stream",
     "text": [
      "73.65225344296874 935.2184578474189\n",
      "115.29804693099538"
     ]
    },
    {
     "name": "stderr",
     "output_type": "stream",
     "text": [
      "\r",
      "t:   1%|▏         | 15/1199 [00:03<04:07,  4.78it/s, now=None]"
     ]
    },
    {
     "name": "stdout",
     "output_type": "stream",
     "text": [
      " 443.1828104025737\n"
     ]
    },
    {
     "name": "stderr",
     "output_type": "stream",
     "text": [
      "\r",
      "t:   1%|▏         | 16/1199 [00:03<04:15,  4.63it/s, now=None]"
     ]
    },
    {
     "name": "stdout",
     "output_type": "stream",
     "text": [
      "135.95198963045308 228.2824654204758\n"
     ]
    },
    {
     "name": "stderr",
     "output_type": "stream",
     "text": [
      "\r",
      "t:   1%|▏         | 17/1199 [00:03<04:13,  4.66it/s, now=None]"
     ]
    },
    {
     "name": "stdout",
     "output_type": "stream",
     "text": [
      "231.5815691672954 147.7729836537865\n",
      "344.3893091773027 130.30257189737435\n"
     ]
    },
    {
     "name": "stderr",
     "output_type": "stream",
     "text": [
      "t:   2%|▏         | 19/1199 [00:04<04:06,  4.79it/s, now=None]"
     ]
    },
    {
     "name": "stdout",
     "output_type": "stream",
     "text": [
      "345.8559446060069 117.39944255244751\n"
     ]
    },
    {
     "name": "stderr",
     "output_type": "stream",
     "text": [
      "\r",
      "t:   2%|▏         | 20/1199 [00:04<04:11,  4.68it/s, now=None]"
     ]
    },
    {
     "name": "stdout",
     "output_type": "stream",
     "text": [
      "372.42264321679335 84.6871058030476\n"
     ]
    },
    {
     "name": "stderr",
     "output_type": "stream",
     "text": [
      "\r",
      "t:   2%|▏         | 21/1199 [00:04<04:26,  4.41it/s, now=None]"
     ]
    },
    {
     "name": "stdout",
     "output_type": "stream",
     "text": [
      "1600.9993028906563 87.69278910894361\n"
     ]
    },
    {
     "name": "stderr",
     "output_type": "stream",
     "text": [
      "\r",
      "t:   2%|▏         | 22/1199 [00:04<04:23,  4.46it/s, now=None]"
     ]
    },
    {
     "name": "stdout",
     "output_type": "stream",
     "text": [
      "985.0986914807975 87.72086390592668\n",
      "543.1173142008467 81.06869338675145\n"
     ]
    },
    {
     "name": "stderr",
     "output_type": "stream",
     "text": [
      "t:   2%|▏         | 24/1199 [00:05<04:08,  4.73it/s, now=None]"
     ]
    },
    {
     "name": "stdout",
     "output_type": "stream",
     "text": [
      "627.6056830247029 76.52761968901481\n",
      "271.1645220803179 74.75565402504928\n"
     ]
    },
    {
     "name": "stderr",
     "output_type": "stream",
     "text": [
      "t:   2%|▏         | 26/1199 [00:05<04:03,  4.83it/s, now=None]"
     ]
    },
    {
     "name": "stdout",
     "output_type": "stream",
     "text": [
      "177.69607781398724 75.10708804794042\n",
      "44.06545303767314"
     ]
    },
    {
     "name": "stderr",
     "output_type": "stream",
     "text": [
      "\r",
      "t:   2%|▏         | 27/1199 [00:05<04:01,  4.86it/s, now=None]"
     ]
    },
    {
     "name": "stdout",
     "output_type": "stream",
     "text": [
      " 69.53217006373538\n",
      "48.60363010994261"
     ]
    },
    {
     "name": "stderr",
     "output_type": "stream",
     "text": [
      "\r",
      "t:   2%|▏         | 28/1199 [00:05<03:59,  4.89it/s, now=None]"
     ]
    },
    {
     "name": "stdout",
     "output_type": "stream",
     "text": [
      " 74.32791653920344\n"
     ]
    },
    {
     "name": "stderr",
     "output_type": "stream",
     "text": [
      "\r",
      "t:   2%|▏         | 29/1199 [00:06<04:04,  4.78it/s, now=None]"
     ]
    },
    {
     "name": "stdout",
     "output_type": "stream",
     "text": [
      "45.14728281915893 64.80903877881357\n"
     ]
    },
    {
     "name": "stderr",
     "output_type": "stream",
     "text": [
      "\r",
      "t:   3%|▎         | 30/1199 [00:06<04:12,  4.63it/s, now=None]"
     ]
    },
    {
     "name": "stdout",
     "output_type": "stream",
     "text": [
      "57.11327672535617 64.44527629669165\n"
     ]
    },
    {
     "name": "stderr",
     "output_type": "stream",
     "text": [
      "\r",
      "t:   3%|▎         | 31/1199 [00:06<04:12,  4.62it/s, now=None]"
     ]
    },
    {
     "name": "stdout",
     "output_type": "stream",
     "text": [
      "43.76527792746559 59.5860693814333\n"
     ]
    },
    {
     "name": "stderr",
     "output_type": "stream",
     "text": [
      "\r",
      "t:   3%|▎         | 32/1199 [00:06<04:14,  4.58it/s, now=None]"
     ]
    },
    {
     "name": "stdout",
     "output_type": "stream",
     "text": [
      "210.74247313309706 53.33615156992166\n"
     ]
    },
    {
     "name": "stderr",
     "output_type": "stream",
     "text": [
      "\r",
      "t:   3%|▎         | 33/1199 [00:07<04:37,  4.20it/s, now=None]"
     ]
    },
    {
     "name": "stdout",
     "output_type": "stream",
     "text": [
      "135.2710493172813 51.02962343947636\n"
     ]
    },
    {
     "name": "stderr",
     "output_type": "stream",
     "text": [
      "\r",
      "t:   3%|▎         | 34/1199 [00:07<04:50,  4.01it/s, now=None]"
     ]
    },
    {
     "name": "stdout",
     "output_type": "stream",
     "text": [
      "120.46143153759472 50.205362615228125\n"
     ]
    },
    {
     "name": "stderr",
     "output_type": "stream",
     "text": [
      "\r",
      "t:   3%|▎         | 35/1199 [00:07<04:50,  4.01it/s, now=None]"
     ]
    },
    {
     "name": "stdout",
     "output_type": "stream",
     "text": [
      "331.88983295466477 49.14137729162521\n"
     ]
    },
    {
     "name": "stderr",
     "output_type": "stream",
     "text": [
      "\r",
      "t:   3%|▎         | 36/1199 [00:07<04:55,  3.94it/s, now=None]"
     ]
    },
    {
     "name": "stdout",
     "output_type": "stream",
     "text": [
      "251.69947576591795 49.78837340423371\n"
     ]
    },
    {
     "name": "stderr",
     "output_type": "stream",
     "text": [
      "\r",
      "t:   3%|▎         | 37/1199 [00:08<05:10,  3.74it/s, now=None]"
     ]
    },
    {
     "name": "stdout",
     "output_type": "stream",
     "text": [
      "169.35778990479983 45.82132251326553\n"
     ]
    },
    {
     "name": "stderr",
     "output_type": "stream",
     "text": [
      "\r",
      "t:   3%|▎         | 38/1199 [00:08<05:10,  3.74it/s, now=None]"
     ]
    },
    {
     "name": "stdout",
     "output_type": "stream",
     "text": [
      "155.7094303224245 43.71867722174908\n"
     ]
    },
    {
     "name": "stderr",
     "output_type": "stream",
     "text": [
      "\r",
      "t:   3%|▎         | 39/1199 [00:08<05:19,  3.63it/s, now=None]"
     ]
    },
    {
     "name": "stdout",
     "output_type": "stream",
     "text": [
      "180.02498522565514 44.29676369426175\n"
     ]
    },
    {
     "name": "stderr",
     "output_type": "stream",
     "text": [
      "\r",
      "t:   3%|▎         | 40/1199 [00:09<05:32,  3.49it/s, now=None]"
     ]
    },
    {
     "name": "stdout",
     "output_type": "stream",
     "text": [
      "145.17191880397826 46.69745315995469\n"
     ]
    },
    {
     "name": "stderr",
     "output_type": "stream",
     "text": [
      "\r",
      "t:   3%|▎         | 41/1199 [00:09<05:44,  3.36it/s, now=None]"
     ]
    },
    {
     "name": "stdout",
     "output_type": "stream",
     "text": [
      "161.77106058845033 58.04115942817975\n"
     ]
    },
    {
     "name": "stderr",
     "output_type": "stream",
     "text": [
      "\r",
      "t:   4%|▎         | 42/1199 [00:09<06:01,  3.20it/s, now=None]"
     ]
    },
    {
     "name": "stdout",
     "output_type": "stream",
     "text": [
      "150.30743185613204 62.84412679719307\n"
     ]
    },
    {
     "name": "stderr",
     "output_type": "stream",
     "text": [
      "\r",
      "t:   4%|▎         | 43/1199 [00:10<06:06,  3.15it/s, now=None]"
     ]
    },
    {
     "name": "stdout",
     "output_type": "stream",
     "text": [
      "148.33669029223233 57.99750843978391\n"
     ]
    },
    {
     "name": "stderr",
     "output_type": "stream",
     "text": [
      "\r",
      "t:   4%|▎         | 44/1199 [00:10<06:11,  3.11it/s, now=None]"
     ]
    },
    {
     "name": "stdout",
     "output_type": "stream",
     "text": [
      "128.18553474624355 75.00646549529972\n"
     ]
    },
    {
     "name": "stderr",
     "output_type": "stream",
     "text": [
      "\r",
      "t:   4%|▍         | 45/1199 [00:10<06:02,  3.19it/s, now=None]"
     ]
    },
    {
     "name": "stdout",
     "output_type": "stream",
     "text": [
      "75.73610920915479 49.74748601187902\n"
     ]
    },
    {
     "name": "stderr",
     "output_type": "stream",
     "text": [
      "\r",
      "t:   4%|▍         | 46/1199 [00:11<06:06,  3.15it/s, now=None]"
     ]
    },
    {
     "name": "stdout",
     "output_type": "stream",
     "text": [
      "59.55091606222543 45.6265043472704\n"
     ]
    },
    {
     "name": "stderr",
     "output_type": "stream",
     "text": [
      "\r",
      "t:   4%|▍         | 47/1199 [00:11<06:13,  3.08it/s, now=None]"
     ]
    },
    {
     "name": "stdout",
     "output_type": "stream",
     "text": [
      "55.75529622017406 44.17393572305714\n"
     ]
    },
    {
     "name": "stderr",
     "output_type": "stream",
     "text": [
      "\r",
      "t:   4%|▍         | 48/1199 [00:11<06:14,  3.07it/s, now=None]"
     ]
    },
    {
     "name": "stdout",
     "output_type": "stream",
     "text": [
      "60.55954489940469 57.83722195913815\n"
     ]
    },
    {
     "name": "stderr",
     "output_type": "stream",
     "text": [
      "\r",
      "t:   4%|▍         | 49/1199 [00:12<06:18,  3.04it/s, now=None]"
     ]
    },
    {
     "name": "stdout",
     "output_type": "stream",
     "text": [
      "51.91268262663221 43.29355351591935\n"
     ]
    },
    {
     "name": "stderr",
     "output_type": "stream",
     "text": [
      "\r",
      "t:   4%|▍         | 50/1199 [00:12<06:22,  3.00it/s, now=None]"
     ]
    },
    {
     "name": "stdout",
     "output_type": "stream",
     "text": [
      "54.2498296325066 38.74333249535505\n"
     ]
    },
    {
     "name": "stderr",
     "output_type": "stream",
     "text": [
      "\r",
      "t:   4%|▍         | 51/1199 [00:12<06:10,  3.10it/s, now=None]"
     ]
    },
    {
     "name": "stdout",
     "output_type": "stream",
     "text": [
      "47.01428620337802 38.60243909327873\n"
     ]
    },
    {
     "name": "stderr",
     "output_type": "stream",
     "text": [
      "\r",
      "t:   4%|▍         | 52/1199 [00:12<05:49,  3.28it/s, now=None]"
     ]
    },
    {
     "name": "stdout",
     "output_type": "stream",
     "text": [
      "44.74521324165776 37.45357055165862\n"
     ]
    },
    {
     "name": "stderr",
     "output_type": "stream",
     "text": [
      "\r",
      "t:   4%|▍         | 53/1199 [00:13<05:41,  3.36it/s, now=None]"
     ]
    },
    {
     "name": "stdout",
     "output_type": "stream",
     "text": [
      "40.44794529543188 36.998310978416114\n"
     ]
    },
    {
     "name": "stderr",
     "output_type": "stream",
     "text": [
      "\r",
      "t:   5%|▍         | 54/1199 [00:13<05:28,  3.48it/s, now=None]"
     ]
    },
    {
     "name": "stdout",
     "output_type": "stream",
     "text": [
      "53.5731722785732 34.77689015664305\n"
     ]
    },
    {
     "name": "stderr",
     "output_type": "stream",
     "text": [
      "\r",
      "t:   5%|▍         | 55/1199 [00:13<05:16,  3.62it/s, now=None]"
     ]
    },
    {
     "name": "stdout",
     "output_type": "stream",
     "text": [
      "53.95201636844123 42.42329746808111\n"
     ]
    },
    {
     "name": "stderr",
     "output_type": "stream",
     "text": [
      "\r",
      "t:   5%|▍         | 56/1199 [00:13<05:00,  3.81it/s, now=None]"
     ]
    },
    {
     "name": "stdout",
     "output_type": "stream",
     "text": [
      "38.15403472740415 64.64163273818583\n"
     ]
    },
    {
     "name": "stderr",
     "output_type": "stream",
     "text": [
      "\r",
      "t:   5%|▍         | 57/1199 [00:14<04:51,  3.91it/s, now=None]"
     ]
    },
    {
     "name": "stdout",
     "output_type": "stream",
     "text": [
      "36.3187639798331 53.77918126306336\n"
     ]
    },
    {
     "name": "stderr",
     "output_type": "stream",
     "text": [
      "\r",
      "t:   5%|▍         | 58/1199 [00:14<04:41,  4.06it/s, now=None]"
     ]
    },
    {
     "name": "stdout",
     "output_type": "stream",
     "text": [
      "61.59928581730489 62.109796803118755\n"
     ]
    },
    {
     "name": "stderr",
     "output_type": "stream",
     "text": [
      "\r",
      "t:   5%|▍         | 59/1199 [00:14<04:32,  4.18it/s, now=None]"
     ]
    },
    {
     "name": "stdout",
     "output_type": "stream",
     "text": [
      "59.68781781147888 66.31853008963085\n"
     ]
    },
    {
     "name": "stderr",
     "output_type": "stream",
     "text": [
      "\r",
      "t:   5%|▌         | 60/1199 [00:14<04:30,  4.22it/s, now=None]"
     ]
    },
    {
     "name": "stdout",
     "output_type": "stream",
     "text": [
      "42.67630951782438 63.17362499779412\n"
     ]
    },
    {
     "name": "stderr",
     "output_type": "stream",
     "text": [
      "\r",
      "t:   5%|▌         | 61/1199 [00:15<04:30,  4.20it/s, now=None]"
     ]
    },
    {
     "name": "stdout",
     "output_type": "stream",
     "text": [
      "57.438250224040104 59.26828128424746\n"
     ]
    },
    {
     "name": "stderr",
     "output_type": "stream",
     "text": [
      "\r",
      "t:   5%|▌         | 62/1199 [00:15<04:32,  4.17it/s, now=None]"
     ]
    },
    {
     "name": "stdout",
     "output_type": "stream",
     "text": [
      "54.12265219265805 2035.9945007467038\n"
     ]
    },
    {
     "name": "stderr",
     "output_type": "stream",
     "text": [
      "\r",
      "t:   5%|▌         | 63/1199 [00:15<04:33,  4.16it/s, now=None]"
     ]
    },
    {
     "name": "stdout",
     "output_type": "stream",
     "text": [
      "52.3057702503625 5767.765813630448\n"
     ]
    },
    {
     "name": "stderr",
     "output_type": "stream",
     "text": [
      "\r",
      "t:   5%|▌         | 64/1199 [00:15<04:35,  4.12it/s, now=None]"
     ]
    },
    {
     "name": "stdout",
     "output_type": "stream",
     "text": [
      "49.95768299079857 277.10535095927185\n"
     ]
    },
    {
     "name": "stderr",
     "output_type": "stream",
     "text": [
      "\r",
      "t:   5%|▌         | 65/1199 [00:16<04:35,  4.11it/s, now=None]"
     ]
    },
    {
     "name": "stdout",
     "output_type": "stream",
     "text": [
      "46.92208386121653 394.5767667588364\n"
     ]
    },
    {
     "name": "stderr",
     "output_type": "stream",
     "text": [
      "\r",
      "t:   6%|▌         | 66/1199 [00:16<04:34,  4.12it/s, now=None]"
     ]
    },
    {
     "name": "stdout",
     "output_type": "stream",
     "text": [
      "44.84895261594943 285.0835177630254\n"
     ]
    },
    {
     "name": "stderr",
     "output_type": "stream",
     "text": [
      "\r",
      "t:   6%|▌         | 67/1199 [00:16<04:30,  4.19it/s, now=None]"
     ]
    },
    {
     "name": "stdout",
     "output_type": "stream",
     "text": [
      "43.646083808595804 3000.8536591960856\n"
     ]
    },
    {
     "name": "stderr",
     "output_type": "stream",
     "text": [
      "\r",
      "t:   6%|▌         | 68/1199 [00:16<04:23,  4.29it/s, now=None]"
     ]
    },
    {
     "name": "stdout",
     "output_type": "stream",
     "text": [
      "46.92349748333881 457.6437448208229\n"
     ]
    },
    {
     "name": "stderr",
     "output_type": "stream",
     "text": [
      "\r",
      "t:   6%|▌         | 69/1199 [00:17<04:20,  4.35it/s, now=None]"
     ]
    },
    {
     "name": "stdout",
     "output_type": "stream",
     "text": [
      "42.659774792404804 275.91661028703544\n"
     ]
    },
    {
     "name": "stderr",
     "output_type": "stream",
     "text": [
      "\r",
      "t:   6%|▌         | 70/1199 [00:17<04:17,  4.39it/s, now=None]"
     ]
    },
    {
     "name": "stdout",
     "output_type": "stream",
     "text": [
      "36.83703881258607 268.15273067522\n"
     ]
    },
    {
     "name": "stderr",
     "output_type": "stream",
     "text": [
      "\r",
      "t:   6%|▌         | 71/1199 [00:17<04:10,  4.51it/s, now=None]"
     ]
    },
    {
     "name": "stdout",
     "output_type": "stream",
     "text": [
      "38.18343998501361 136.20454032164042\n",
      "15.135155224391099"
     ]
    },
    {
     "name": "stderr",
     "output_type": "stream",
     "text": [
      "\r",
      "t:   6%|▌         | 72/1199 [00:17<04:06,  4.56it/s, now=None]"
     ]
    },
    {
     "name": "stdout",
     "output_type": "stream",
     "text": [
      " 78.45538621227122\n"
     ]
    },
    {
     "name": "stderr",
     "output_type": "stream",
     "text": [
      "\r",
      "t:   6%|▌         | 73/1199 [00:17<04:04,  4.60it/s, now=None]"
     ]
    },
    {
     "name": "stdout",
     "output_type": "stream",
     "text": [
      "15.841052879460797 100.3604131635931\n"
     ]
    },
    {
     "name": "stderr",
     "output_type": "stream",
     "text": [
      "\r",
      "t:   6%|▌         | 74/1199 [00:18<04:06,  4.56it/s, now=None]"
     ]
    },
    {
     "name": "stdout",
     "output_type": "stream",
     "text": [
      "16.7109681551714 34.374853028057416\n"
     ]
    },
    {
     "name": "stderr",
     "output_type": "stream",
     "text": [
      "\r",
      "t:   6%|▋         | 75/1199 [00:18<04:10,  4.48it/s, now=None]"
     ]
    },
    {
     "name": "stdout",
     "output_type": "stream",
     "text": [
      "17.55954592201625 33.20280748166854\n"
     ]
    },
    {
     "name": "stderr",
     "output_type": "stream",
     "text": [
      "\r",
      "t:   6%|▋         | 76/1199 [00:18<04:12,  4.45it/s, now=None]"
     ]
    },
    {
     "name": "stdout",
     "output_type": "stream",
     "text": [
      "20.056967174414314 156.3192973602466\n"
     ]
    },
    {
     "name": "stderr",
     "output_type": "stream",
     "text": [
      "\r",
      "t:   6%|▋         | 77/1199 [00:18<04:10,  4.48it/s, now=None]"
     ]
    },
    {
     "name": "stdout",
     "output_type": "stream",
     "text": [
      "36.85431221865948 32.820137676345986\n",
      "38.02676357755569 32.067251976410404\n"
     ]
    },
    {
     "name": "stderr",
     "output_type": "stream",
     "text": [
      "t:   7%|▋         | 79/1199 [00:19<03:56,  4.73it/s, now=None]"
     ]
    },
    {
     "name": "stdout",
     "output_type": "stream",
     "text": [
      "35.75779393875196 181.8028702479269\n",
      "34.21008735081607"
     ]
    },
    {
     "name": "stderr",
     "output_type": "stream",
     "text": [
      "\r",
      "t:   7%|▋         | 80/1199 [00:19<03:49,  4.88it/s, now=None]"
     ]
    },
    {
     "name": "stdout",
     "output_type": "stream",
     "text": [
      " 29.265249393018703\n",
      "38.01428077891482"
     ]
    },
    {
     "name": "stderr",
     "output_type": "stream",
     "text": [
      "\r",
      "t:   7%|▋         | 81/1199 [00:19<03:44,  4.97it/s, now=None]"
     ]
    },
    {
     "name": "stdout",
     "output_type": "stream",
     "text": [
      " 29.54059488436568\n",
      "41.98618642178531"
     ]
    },
    {
     "name": "stderr",
     "output_type": "stream",
     "text": [
      "\r",
      "t:   7%|▋         | 82/1199 [00:19<03:47,  4.91it/s, now=None]"
     ]
    },
    {
     "name": "stdout",
     "output_type": "stream",
     "text": [
      " 30.440836892255682\n"
     ]
    },
    {
     "name": "stderr",
     "output_type": "stream",
     "text": [
      "\r",
      "t:   7%|▋         | 83/1199 [00:19<03:49,  4.87it/s, now=None]"
     ]
    },
    {
     "name": "stdout",
     "output_type": "stream",
     "text": [
      "48.98777125392806 29.97606315585387\n"
     ]
    },
    {
     "name": "stderr",
     "output_type": "stream",
     "text": [
      "\r",
      "t:   7%|▋         | 84/1199 [00:20<03:54,  4.75it/s, now=None]"
     ]
    },
    {
     "name": "stdout",
     "output_type": "stream",
     "text": [
      "47.62530248216069 79.26602335907373\n",
      "47.51348601534301 69.25090649785693\n"
     ]
    },
    {
     "name": "stderr",
     "output_type": "stream",
     "text": [
      "t:   7%|▋         | 86/1199 [00:20<03:42,  5.01it/s, now=None]"
     ]
    },
    {
     "name": "stdout",
     "output_type": "stream",
     "text": [
      "44.480392718171 47.317918936702746\n",
      "42.90460076687001"
     ]
    },
    {
     "name": "stderr",
     "output_type": "stream",
     "text": [
      "\r",
      "t:   7%|▋         | 87/1199 [00:20<03:40,  5.05it/s, now=None]"
     ]
    },
    {
     "name": "stdout",
     "output_type": "stream",
     "text": [
      " 73.02981268844347\n",
      "41.62854936673864 155.05145615762854\n"
     ]
    },
    {
     "name": "stderr",
     "output_type": "stream",
     "text": [
      "t:   7%|▋         | 89/1199 [00:21<03:38,  5.09it/s, now=None]"
     ]
    },
    {
     "name": "stdout",
     "output_type": "stream",
     "text": [
      "45.683663492675024 56.29535772553728\n",
      "41.336579583287545"
     ]
    },
    {
     "name": "stderr",
     "output_type": "stream",
     "text": [
      "\r",
      "t:   8%|▊         | 90/1199 [00:21<03:39,  5.05it/s, now=None]"
     ]
    },
    {
     "name": "stdout",
     "output_type": "stream",
     "text": [
      " 38.42402625918694\n",
      "40.31537348333044 35.176479846271775\n"
     ]
    },
    {
     "name": "stderr",
     "output_type": "stream",
     "text": [
      "t:   8%|▊         | 92/1199 [00:21<03:28,  5.31it/s, now=None]"
     ]
    },
    {
     "name": "stdout",
     "output_type": "stream",
     "text": [
      "35.604459491203095 467.78371396941213\n",
      "98.31818404563118 5332.174392405922\n"
     ]
    },
    {
     "name": "stderr",
     "output_type": "stream",
     "text": [
      "t:   8%|▊         | 94/1199 [00:22<03:27,  5.31it/s, now=None]"
     ]
    },
    {
     "name": "stdout",
     "output_type": "stream",
     "text": [
      "74.93369930273445 26.69190520746228\n",
      "321.0174031589462 25.01560835187018\n"
     ]
    },
    {
     "name": "stderr",
     "output_type": "stream",
     "text": [
      "t:   8%|▊         | 96/1199 [00:22<03:25,  5.38it/s, now=None]"
     ]
    },
    {
     "name": "stdout",
     "output_type": "stream",
     "text": [
      "93.54138409872755 27.095774747466784\n",
      "36.079832164810654 21.6950640635448\n"
     ]
    },
    {
     "name": "stderr",
     "output_type": "stream",
     "text": [
      "t:   8%|▊         | 98/1199 [00:22<03:19,  5.51it/s, now=None]"
     ]
    },
    {
     "name": "stdout",
     "output_type": "stream",
     "text": [
      "29.95255192132164 44.19210162895155\n",
      "29.594742486721678 18.571241930379706\n"
     ]
    },
    {
     "name": "stderr",
     "output_type": "stream",
     "text": [
      "t:   8%|▊         | 100/1199 [00:23<03:29,  5.25it/s, now=None]"
     ]
    },
    {
     "name": "stdout",
     "output_type": "stream",
     "text": [
      "26.400629990203807 28.63243448286453\n",
      "26.00750615057374"
     ]
    },
    {
     "name": "stderr",
     "output_type": "stream",
     "text": [
      "\r",
      "t:   8%|▊         | 101/1199 [00:23<03:27,  5.28it/s, now=None]"
     ]
    },
    {
     "name": "stdout",
     "output_type": "stream",
     "text": [
      " 90.11730619721392\n",
      "33.340152091735064"
     ]
    },
    {
     "name": "stderr",
     "output_type": "stream",
     "text": [
      "\r",
      "t:   9%|▊         | 102/1199 [00:23<03:28,  5.25it/s, now=None]"
     ]
    },
    {
     "name": "stdout",
     "output_type": "stream",
     "text": [
      " 55.58171645878385\n",
      "34.19112462636756 79.94279704685303\n"
     ]
    },
    {
     "name": "stderr",
     "output_type": "stream",
     "text": [
      "t:   9%|▊         | 104/1199 [00:23<03:28,  5.26it/s, now=None]"
     ]
    },
    {
     "name": "stdout",
     "output_type": "stream",
     "text": [
      "31.745468908913434 192.52344953817013\n",
      "36.34589342407632"
     ]
    },
    {
     "name": "stderr",
     "output_type": "stream",
     "text": [
      "\r",
      "t:   9%|▉         | 105/1199 [00:24<03:30,  5.19it/s, now=None]"
     ]
    },
    {
     "name": "stdout",
     "output_type": "stream",
     "text": [
      " 914.9567946800095\n",
      "50.74757041274899"
     ]
    },
    {
     "name": "stderr",
     "output_type": "stream",
     "text": [
      "\r",
      "t:   9%|▉         | 106/1199 [00:24<03:34,  5.10it/s, now=None]"
     ]
    },
    {
     "name": "stdout",
     "output_type": "stream",
     "text": [
      " 1830.8613212265261\n",
      "70.9070278674242 454.1539239329216\n"
     ]
    },
    {
     "name": "stderr",
     "output_type": "stream",
     "text": [
      "t:   9%|▉         | 108/1199 [00:24<03:34,  5.08it/s, now=None]"
     ]
    },
    {
     "name": "stdout",
     "output_type": "stream",
     "text": [
      "107.31621297495587 381.56536775183605\n",
      "234.36585880733585"
     ]
    },
    {
     "name": "stderr",
     "output_type": "stream",
     "text": [
      "\r",
      "t:   9%|▉         | 109/1199 [00:24<03:33,  5.12it/s, now=None]"
     ]
    },
    {
     "name": "stdout",
     "output_type": "stream",
     "text": [
      " 51.46968635133768\n",
      "121.60738155668808 69.99540468890194\n"
     ]
    },
    {
     "name": "stderr",
     "output_type": "stream",
     "text": [
      "t:   9%|▉         | 111/1199 [00:25<03:39,  4.96it/s, now=None]"
     ]
    },
    {
     "name": "stdout",
     "output_type": "stream",
     "text": [
      "117.39476216422935 23.278266808792527\n"
     ]
    },
    {
     "name": "stderr",
     "output_type": "stream",
     "text": [
      "\r",
      "t:   9%|▉         | 112/1199 [00:25<03:43,  4.85it/s, now=None]"
     ]
    },
    {
     "name": "stdout",
     "output_type": "stream",
     "text": [
      "351.3061546181421 24.896662680889715\n"
     ]
    },
    {
     "name": "stderr",
     "output_type": "stream",
     "text": [
      "\r",
      "t:   9%|▉         | 113/1199 [00:25<03:45,  4.82it/s, now=None]"
     ]
    },
    {
     "name": "stdout",
     "output_type": "stream",
     "text": [
      "267.6564471831917 25.206950399843368\n",
      "80.71423087740189"
     ]
    },
    {
     "name": "stderr",
     "output_type": "stream",
     "text": [
      "\r",
      "t:  10%|▉         | 114/1199 [00:26<03:46,  4.79it/s, now=None]"
     ]
    },
    {
     "name": "stdout",
     "output_type": "stream",
     "text": [
      " 24.939077467328605\n"
     ]
    },
    {
     "name": "stderr",
     "output_type": "stream",
     "text": [
      "\r",
      "t:  10%|▉         | 115/1199 [00:26<03:49,  4.72it/s, now=None]"
     ]
    },
    {
     "name": "stdout",
     "output_type": "stream",
     "text": [
      "42.134320855796716 21.443792757110774\n"
     ]
    },
    {
     "name": "stderr",
     "output_type": "stream",
     "text": [
      "\r",
      "t:  10%|▉         | 116/1199 [00:26<03:52,  4.65it/s, now=None]"
     ]
    },
    {
     "name": "stdout",
     "output_type": "stream",
     "text": [
      "37.373901491788466 28.46110157393919\n"
     ]
    },
    {
     "name": "stderr",
     "output_type": "stream",
     "text": [
      "\r",
      "t:  10%|▉         | 117/1199 [00:26<03:55,  4.59it/s, now=None]"
     ]
    },
    {
     "name": "stdout",
     "output_type": "stream",
     "text": [
      "34.91229426187168 19.153274300118376\n",
      "36.337126287835346 17.481439660991004\n"
     ]
    },
    {
     "name": "stderr",
     "output_type": "stream",
     "text": [
      "t:  10%|▉         | 119/1199 [00:27<03:47,  4.75it/s, now=None]"
     ]
    },
    {
     "name": "stdout",
     "output_type": "stream",
     "text": [
      "42.81925310507719 16.580191722948435\n"
     ]
    },
    {
     "name": "stderr",
     "output_type": "stream",
     "text": [
      "\r",
      "t:  10%|█         | 120/1199 [00:27<03:52,  4.64it/s, now=None]"
     ]
    },
    {
     "name": "stdout",
     "output_type": "stream",
     "text": [
      "37.39473802420323 13.899029492784678\n"
     ]
    },
    {
     "name": "stderr",
     "output_type": "stream",
     "text": [
      "\r",
      "t:  10%|█         | 121/1199 [00:27<03:54,  4.60it/s, now=None]"
     ]
    },
    {
     "name": "stdout",
     "output_type": "stream",
     "text": [
      "92.64133997325938 12.83731878449029\n",
      "25.305886415432134 12.04172113889296\n"
     ]
    },
    {
     "name": "stderr",
     "output_type": "stream",
     "text": [
      "t:  10%|█         | 123/1199 [00:27<03:48,  4.70it/s, now=None]"
     ]
    },
    {
     "name": "stdout",
     "output_type": "stream",
     "text": [
      "25.075868367796648 11.932017810420199\n"
     ]
    },
    {
     "name": "stderr",
     "output_type": "stream",
     "text": [
      "\r",
      "t:  10%|█         | 124/1199 [00:28<03:49,  4.68it/s, now=None]"
     ]
    },
    {
     "name": "stdout",
     "output_type": "stream",
     "text": [
      "24.500398076332612 634.3294585083624\n"
     ]
    },
    {
     "name": "stderr",
     "output_type": "stream",
     "text": [
      "\r",
      "t:  10%|█         | 125/1199 [00:28<03:52,  4.61it/s, now=None]"
     ]
    },
    {
     "name": "stdout",
     "output_type": "stream",
     "text": [
      "23.096471378027104 67.2162830120382\n",
      "25.532778018116844"
     ]
    },
    {
     "name": "stderr",
     "output_type": "stream",
     "text": [
      "\r",
      "t:  11%|█         | 126/1199 [00:28<03:49,  4.67it/s, now=None]"
     ]
    },
    {
     "name": "stdout",
     "output_type": "stream",
     "text": [
      " 66.52889964332799\n"
     ]
    },
    {
     "name": "stderr",
     "output_type": "stream",
     "text": [
      "\r",
      "t:  11%|█         | 127/1199 [00:28<03:48,  4.68it/s, now=None]"
     ]
    },
    {
     "name": "stdout",
     "output_type": "stream",
     "text": [
      "24.29465432654595 69.51196134839117\n"
     ]
    },
    {
     "name": "stderr",
     "output_type": "stream",
     "text": [
      "\r",
      "t:  11%|█         | 128/1199 [00:29<03:46,  4.73it/s, now=None]"
     ]
    },
    {
     "name": "stdout",
     "output_type": "stream",
     "text": [
      "22.85646209254783 66.42578205303607\n",
      "56.22482358449516"
     ]
    },
    {
     "name": "stderr",
     "output_type": "stream",
     "text": [
      "\r",
      "t:  11%|█         | 129/1199 [00:29<03:41,  4.82it/s, now=None]"
     ]
    },
    {
     "name": "stdout",
     "output_type": "stream",
     "text": [
      " 72.40460007660481\n"
     ]
    },
    {
     "name": "stderr",
     "output_type": "stream",
     "text": [
      "\r",
      "t:  11%|█         | 130/1199 [00:29<03:45,  4.74it/s, now=None]"
     ]
    },
    {
     "name": "stdout",
     "output_type": "stream",
     "text": [
      "19.53476392419777 124.71038558013619\n"
     ]
    },
    {
     "name": "stderr",
     "output_type": "stream",
     "text": [
      "\r",
      "t:  11%|█         | 131/1199 [00:29<03:42,  4.80it/s, now=None]"
     ]
    },
    {
     "name": "stdout",
     "output_type": "stream",
     "text": [
      "17.847057482937533 1303.4941765441922\n"
     ]
    },
    {
     "name": "stderr",
     "output_type": "stream",
     "text": [
      "\r",
      "t:  11%|█         | 132/1199 [00:29<03:41,  4.81it/s, now=None]"
     ]
    },
    {
     "name": "stdout",
     "output_type": "stream",
     "text": [
      "17.583412463583667 348.1502485893551\n",
      "18.481907971772177"
     ]
    },
    {
     "name": "stderr",
     "output_type": "stream",
     "text": [
      "\r",
      "t:  11%|█         | 133/1199 [00:30<03:34,  4.96it/s, now=None]"
     ]
    },
    {
     "name": "stdout",
     "output_type": "stream",
     "text": [
      " 255.89463753768518\n",
      "16.838011896898465"
     ]
    },
    {
     "name": "stderr",
     "output_type": "stream",
     "text": [
      "\r",
      "t:  11%|█         | 134/1199 [00:30<03:27,  5.14it/s, now=None]"
     ]
    },
    {
     "name": "stdout",
     "output_type": "stream",
     "text": [
      " 117.0200307219797\n",
      "16.002082813989688 141.89727496972216\n"
     ]
    },
    {
     "name": "stderr",
     "output_type": "stream",
     "text": [
      "t:  11%|█▏        | 136/1199 [00:30<03:16,  5.42it/s, now=None]"
     ]
    },
    {
     "name": "stdout",
     "output_type": "stream",
     "text": [
      "15.757938115804773 70.29531905253536\n",
      "15.715338676439687 84.29573133939164\n"
     ]
    },
    {
     "name": "stderr",
     "output_type": "stream",
     "text": [
      "t:  12%|█▏        | 139/1199 [00:31<03:05,  5.71it/s, now=None]"
     ]
    },
    {
     "name": "stdout",
     "output_type": "stream",
     "text": [
      "16.142442666372588 10.903746072167763\n",
      "16.014969173679063 64.5972480973193\n"
     ]
    },
    {
     "name": "stderr",
     "output_type": "stream",
     "text": [
      "\r",
      "t:  12%|█▏        | 140/1199 [00:31<03:04,  5.74it/s, now=None]"
     ]
    },
    {
     "name": "stdout",
     "output_type": "stream",
     "text": [
      "16.49790018070384 10.872301581737098\n",
      "16.562849181135537 10.918947726906326\n"
     ]
    },
    {
     "name": "stderr",
     "output_type": "stream",
     "text": [
      "t:  12%|█▏        | 143/1199 [00:31<03:00,  5.85it/s, now=None]"
     ]
    },
    {
     "name": "stdout",
     "output_type": "stream",
     "text": [
      "16.594570013352385 11.068712297431993\n",
      "16.642379710716444 32.006530965390326\n"
     ]
    },
    {
     "name": "stderr",
     "output_type": "stream",
     "text": [
      "\r",
      "t:  12%|█▏        | 144/1199 [00:31<03:00,  5.83it/s, now=None]"
     ]
    },
    {
     "name": "stdout",
     "output_type": "stream",
     "text": [
      "16.911351110050266 11.698610971675087\n",
      "72.26203044686075 11.584748962688687\n"
     ]
    },
    {
     "name": "stderr",
     "output_type": "stream",
     "text": [
      "t:  12%|█▏        | 147/1199 [00:32<03:01,  5.79it/s, now=None]"
     ]
    },
    {
     "name": "stdout",
     "output_type": "stream",
     "text": [
      "17.009158025397948 11.951796965428857\n",
      "17.940501526482166 12.52100848062816\n"
     ]
    },
    {
     "name": "stderr",
     "output_type": "stream",
     "text": [
      "\r",
      "t:  12%|█▏        | 148/1199 [00:32<03:01,  5.79it/s, now=None]"
     ]
    },
    {
     "name": "stdout",
     "output_type": "stream",
     "text": [
      "18.2672262986095 12.039192010449172\n",
      "18.81754052810305 11.271079907688803\n"
     ]
    },
    {
     "name": "stderr",
     "output_type": "stream",
     "text": [
      "t:  13%|█▎        | 150/1199 [00:32<03:03,  5.72it/s, now=None]"
     ]
    },
    {
     "name": "stdout",
     "output_type": "stream",
     "text": [
      "20.404101069574914 14.528156123645656\n",
      "22.216815977396966"
     ]
    },
    {
     "name": "stderr",
     "output_type": "stream",
     "text": [
      "\r",
      "t:  13%|█▎        | 151/1199 [00:33<03:07,  5.60it/s, now=None]"
     ]
    },
    {
     "name": "stdout",
     "output_type": "stream",
     "text": [
      " 19.09628580110741\n",
      "23.50023707608917"
     ]
    },
    {
     "name": "stderr",
     "output_type": "stream",
     "text": [
      "\r",
      "t:  13%|█▎        | 152/1199 [00:33<03:09,  5.53it/s, now=None]"
     ]
    },
    {
     "name": "stdout",
     "output_type": "stream",
     "text": [
      " 14.643715391319951\n",
      "24.85141883258557"
     ]
    },
    {
     "name": "stderr",
     "output_type": "stream",
     "text": [
      "\r",
      "t:  13%|█▎        | 153/1199 [00:33<03:07,  5.58it/s, now=None]"
     ]
    },
    {
     "name": "stdout",
     "output_type": "stream",
     "text": [
      " 17.471234859024026\n",
      "25.48271912407296 17.710787000851095\n"
     ]
    },
    {
     "name": "stderr",
     "output_type": "stream",
     "text": [
      "t:  13%|█▎        | 155/1199 [00:33<03:06,  5.59it/s, now=None]"
     ]
    },
    {
     "name": "stdout",
     "output_type": "stream",
     "text": [
      "25.625311483095867 19.027930923606526\n",
      "27.546205759764486"
     ]
    },
    {
     "name": "stderr",
     "output_type": "stream",
     "text": [
      "\r",
      "t:  13%|█▎        | 156/1199 [00:34<03:11,  5.45it/s, now=None]"
     ]
    },
    {
     "name": "stdout",
     "output_type": "stream",
     "text": [
      " 19.414750039832082\n",
      "28.04613084486496 18.054718863985173\n"
     ]
    },
    {
     "name": "stderr",
     "output_type": "stream",
     "text": [
      "t:  13%|█▎        | 158/1199 [00:34<03:12,  5.41it/s, now=None]"
     ]
    },
    {
     "name": "stdout",
     "output_type": "stream",
     "text": [
      "26.079988619769328 19.2223791730175\n",
      "27.463526684265496 14.191866845999115\n"
     ]
    },
    {
     "name": "stderr",
     "output_type": "stream",
     "text": [
      "t:  13%|█▎        | 160/1199 [00:34<03:09,  5.50it/s, now=None]"
     ]
    },
    {
     "name": "stdout",
     "output_type": "stream",
     "text": [
      "26.448225484530894 16.481873297146528\n",
      "26.69661327388347"
     ]
    },
    {
     "name": "stderr",
     "output_type": "stream",
     "text": [
      "\r",
      "t:  13%|█▎        | 161/1199 [00:34<03:09,  5.48it/s, now=None]"
     ]
    },
    {
     "name": "stdout",
     "output_type": "stream",
     "text": [
      " 17.397674746208747\n",
      "24.88624474477418 15.588775316781703\n"
     ]
    },
    {
     "name": "stderr",
     "output_type": "stream",
     "text": [
      "t:  14%|█▎        | 164/1199 [00:35<02:52,  6.01it/s, now=None]"
     ]
    },
    {
     "name": "stdout",
     "output_type": "stream",
     "text": [
      "24.077894758271075 14.61843017992841\n",
      "24.809662635964134 12.327886983373768\n"
     ]
    },
    {
     "name": "stderr",
     "output_type": "stream",
     "text": [
      "t:  14%|█▍        | 166/1199 [00:35<02:47,  6.17it/s, now=None]"
     ]
    },
    {
     "name": "stdout",
     "output_type": "stream",
     "text": [
      "27.611311617670474 15.217898251483302\n",
      "27.43701622090074 14.283670536976548\n"
     ]
    },
    {
     "name": "stderr",
     "output_type": "stream",
     "text": [
      "\r",
      "t:  14%|█▍        | 167/1199 [00:35<02:46,  6.20it/s, now=None]"
     ]
    },
    {
     "name": "stdout",
     "output_type": "stream",
     "text": [
      "36.27020911467906 23.708644307019426\n",
      "30.094310112428484 17.869846231142056\n"
     ]
    },
    {
     "name": "stderr",
     "output_type": "stream",
     "text": [
      "t:  14%|█▍        | 170/1199 [00:36<02:42,  6.32it/s, now=None]"
     ]
    },
    {
     "name": "stdout",
     "output_type": "stream",
     "text": [
      "32.36247369025221 16.100303363235067\n",
      "33.23045310282283 10.481441055512546\n"
     ]
    },
    {
     "name": "stderr",
     "output_type": "stream",
     "text": [
      "t:  14%|█▍        | 172/1199 [00:36<02:36,  6.56it/s, now=None]"
     ]
    },
    {
     "name": "stdout",
     "output_type": "stream",
     "text": [
      "34.729928496014544 8.124275206011445\n",
      "32.130479189586794 27.05993250851567\n"
     ]
    },
    {
     "name": "stderr",
     "output_type": "stream",
     "text": [
      "t:  15%|█▍        | 174/1199 [00:37<02:36,  6.57it/s, now=None]"
     ]
    },
    {
     "name": "stdout",
     "output_type": "stream",
     "text": [
      "29.239466274072214 30.863127750275936\n",
      "28.62822185789953 66.9393227858945\n"
     ]
    },
    {
     "name": "stderr",
     "output_type": "stream",
     "text": [
      "t:  15%|█▍        | 176/1199 [00:37<02:38,  6.47it/s, now=None]"
     ]
    },
    {
     "name": "stdout",
     "output_type": "stream",
     "text": [
      "37.208811455251414 57.324916130428306\n",
      "30.329632631338924 160.13452696337737\n"
     ]
    },
    {
     "name": "stderr",
     "output_type": "stream",
     "text": [
      "t:  15%|█▍        | 178/1199 [00:37<02:41,  6.31it/s, now=None]"
     ]
    },
    {
     "name": "stdout",
     "output_type": "stream",
     "text": [
      "31.361308840267032 133.71004219198602\n",
      "9.785982870631335 9.931096838092797\n"
     ]
    },
    {
     "name": "stderr",
     "output_type": "stream",
     "text": [
      "t:  15%|█▌        | 180/1199 [00:37<02:37,  6.45it/s, now=None]"
     ]
    },
    {
     "name": "stdout",
     "output_type": "stream",
     "text": [
      "8.648063123668424 28.789591999521722\n",
      "10.737964737095368 9.67983220070174\n"
     ]
    },
    {
     "name": "stderr",
     "output_type": "stream",
     "text": [
      "t:  15%|█▌        | 182/1199 [00:38<02:36,  6.48it/s, now=None]"
     ]
    },
    {
     "name": "stdout",
     "output_type": "stream",
     "text": [
      "10.231664407955718 12.093691840338847\n",
      "283.56338837159564 7.228596899476177\n"
     ]
    },
    {
     "name": "stderr",
     "output_type": "stream",
     "text": [
      "t:  15%|█▌        | 184/1199 [00:38<02:36,  6.50it/s, now=None]"
     ]
    },
    {
     "name": "stdout",
     "output_type": "stream",
     "text": [
      "138.6054729943186 6.817434314722341\n",
      "38.864312411781846 81.17887821377019\n"
     ]
    },
    {
     "name": "stderr",
     "output_type": "stream",
     "text": [
      "\r",
      "t:  15%|█▌        | 185/1199 [00:38<02:38,  6.38it/s, now=None]"
     ]
    },
    {
     "name": "stdout",
     "output_type": "stream",
     "text": [
      "59.10047582376806 61.701610910860204\n",
      "173.9781446898512 59.22044375240307\n"
     ]
    },
    {
     "name": "stderr",
     "output_type": "stream",
     "text": [
      "t:  16%|█▌        | 188/1199 [00:39<02:41,  6.27it/s, now=None]"
     ]
    },
    {
     "name": "stdout",
     "output_type": "stream",
     "text": [
      "144.70302530061738 120.6815858182563\n",
      "183.29644090096184 86.53079014896998\n"
     ]
    },
    {
     "name": "stderr",
     "output_type": "stream",
     "text": [
      "t:  16%|█▌        | 190/1199 [00:39<02:40,  6.30it/s, now=None]"
     ]
    },
    {
     "name": "stdout",
     "output_type": "stream",
     "text": [
      "64.33897953008025 67.61067239101428\n",
      "117.67712046230604 134.1205548509701\n"
     ]
    },
    {
     "name": "stderr",
     "output_type": "stream",
     "text": [
      "t:  16%|█▌        | 192/1199 [00:39<02:39,  6.33it/s, now=None]"
     ]
    },
    {
     "name": "stdout",
     "output_type": "stream",
     "text": [
      "115.34783426363873 184.1114626618127\n",
      "111.56837644562339 112.0345936997077\n"
     ]
    },
    {
     "name": "stderr",
     "output_type": "stream",
     "text": [
      "\r",
      "t:  16%|█▌        | 193/1199 [00:40<02:40,  6.26it/s, now=None]"
     ]
    },
    {
     "name": "stdout",
     "output_type": "stream",
     "text": [
      "256.157873082983 49.27318565429714\n",
      "117.71693265988561"
     ]
    },
    {
     "name": "stderr",
     "output_type": "stream",
     "text": [
      "t:  16%|█▋        | 195/1199 [00:40<02:54,  5.75it/s, now=None]"
     ]
    },
    {
     "name": "stdout",
     "output_type": "stream",
     "text": [
      " 140.11403801455617\n",
      "252.67493569807345 63.73354561092975\n"
     ]
    },
    {
     "name": "stderr",
     "output_type": "stream",
     "text": [
      "\r",
      "t:  16%|█▋        | 196/1199 [00:40<02:51,  5.84it/s, now=None]"
     ]
    },
    {
     "name": "stdout",
     "output_type": "stream",
     "text": [
      "148.73240620231678 629.8248984463148\n",
      "41.3563004106829 42.42482744813614\n"
     ]
    },
    {
     "name": "stderr",
     "output_type": "stream",
     "text": [
      "t:  17%|█▋        | 198/1199 [00:40<03:06,  5.36it/s, now=None]"
     ]
    },
    {
     "name": "stdout",
     "output_type": "stream",
     "text": [
      "35.910627016736704 37.43307566864295\n",
      "35.48936375225772 35.465695312995614\n"
     ]
    },
    {
     "name": "stderr",
     "output_type": "stream",
     "text": [
      "t:  17%|█▋        | 200/1199 [00:41<03:17,  5.05it/s, now=None]"
     ]
    },
    {
     "name": "stdout",
     "output_type": "stream",
     "text": [
      "32.67492466520517 34.760817302311196\n"
     ]
    },
    {
     "name": "stderr",
     "output_type": "stream",
     "text": [
      "\r",
      "t:  17%|█▋        | 201/1199 [00:41<03:28,  4.79it/s, now=None]"
     ]
    },
    {
     "name": "stdout",
     "output_type": "stream",
     "text": [
      "33.271577081077915 43.73944457325739\n"
     ]
    },
    {
     "name": "stderr",
     "output_type": "stream",
     "text": [
      "\r",
      "t:  17%|█▋        | 202/1199 [00:41<03:27,  4.80it/s, now=None]"
     ]
    },
    {
     "name": "stdout",
     "output_type": "stream",
     "text": [
      "31.042846987115396 37.487035952230485\n",
      "60.872410820255396"
     ]
    },
    {
     "name": "stderr",
     "output_type": "stream",
     "text": [
      "\r",
      "t:  17%|█▋        | 203/1199 [00:42<03:28,  4.77it/s, now=None]"
     ]
    },
    {
     "name": "stdout",
     "output_type": "stream",
     "text": [
      " 153.4784238230701\n"
     ]
    },
    {
     "name": "stderr",
     "output_type": "stream",
     "text": [
      "\r",
      "t:  17%|█▋        | 204/1199 [00:42<03:34,  4.64it/s, now=None]"
     ]
    },
    {
     "name": "stdout",
     "output_type": "stream",
     "text": [
      "136.6794429829105 121.68355936550724\n"
     ]
    },
    {
     "name": "stderr",
     "output_type": "stream",
     "text": [
      "\r",
      "t:  17%|█▋        | 205/1199 [00:42<03:44,  4.43it/s, now=None]"
     ]
    },
    {
     "name": "stdout",
     "output_type": "stream",
     "text": [
      "44.53263088548725 2228.1595667930546\n"
     ]
    },
    {
     "name": "stderr",
     "output_type": "stream",
     "text": [
      "\r",
      "t:  17%|█▋        | 206/1199 [00:42<03:56,  4.20it/s, now=None]"
     ]
    },
    {
     "name": "stdout",
     "output_type": "stream",
     "text": [
      "37.732096608849496 159.79548633575385\n"
     ]
    },
    {
     "name": "stderr",
     "output_type": "stream",
     "text": [
      "\r",
      "t:  17%|█▋        | 207/1199 [00:43<03:59,  4.13it/s, now=None]"
     ]
    },
    {
     "name": "stdout",
     "output_type": "stream",
     "text": [
      "62.49380122123548 120.89826100358364\n"
     ]
    },
    {
     "name": "stderr",
     "output_type": "stream",
     "text": [
      "\r",
      "t:  17%|█▋        | 208/1199 [00:43<04:12,  3.92it/s, now=None]"
     ]
    },
    {
     "name": "stdout",
     "output_type": "stream",
     "text": [
      "59.249437282436745 288.78085179814525\n"
     ]
    },
    {
     "name": "stderr",
     "output_type": "stream",
     "text": [
      "\r",
      "t:  17%|█▋        | 209/1199 [00:43<04:25,  3.72it/s, now=None]"
     ]
    },
    {
     "name": "stdout",
     "output_type": "stream",
     "text": [
      "58.80511569302504 220.72354309386319\n"
     ]
    },
    {
     "name": "stderr",
     "output_type": "stream",
     "text": [
      "\r",
      "t:  18%|█▊        | 210/1199 [00:43<04:41,  3.52it/s, now=None]"
     ]
    },
    {
     "name": "stdout",
     "output_type": "stream",
     "text": [
      "2793.985587549095 466.05446173881734\n"
     ]
    },
    {
     "name": "stderr",
     "output_type": "stream",
     "text": [
      "\r",
      "t:  18%|█▊        | 211/1199 [00:44<04:53,  3.37it/s, now=None]"
     ]
    },
    {
     "name": "stdout",
     "output_type": "stream",
     "text": [
      "265.7598072353202 169.60823940455384\n"
     ]
    },
    {
     "name": "stderr",
     "output_type": "stream",
     "text": [
      "\r",
      "t:  18%|█▊        | 212/1199 [00:44<05:03,  3.26it/s, now=None]"
     ]
    },
    {
     "name": "stdout",
     "output_type": "stream",
     "text": [
      "68.40385115910081 142.4679024660267\n"
     ]
    },
    {
     "name": "stderr",
     "output_type": "stream",
     "text": [
      "\r",
      "t:  18%|█▊        | 213/1199 [00:44<05:07,  3.20it/s, now=None]"
     ]
    },
    {
     "name": "stdout",
     "output_type": "stream",
     "text": [
      "78.31389646058437 358.0870111793894\n"
     ]
    },
    {
     "name": "stderr",
     "output_type": "stream",
     "text": [
      "\r",
      "t:  18%|█▊        | 214/1199 [00:45<05:11,  3.16it/s, now=None]"
     ]
    },
    {
     "name": "stdout",
     "output_type": "stream",
     "text": [
      "126.66294151436249 107.0897447750466\n"
     ]
    },
    {
     "name": "stderr",
     "output_type": "stream",
     "text": [
      "\r",
      "t:  18%|█▊        | 215/1199 [00:45<05:19,  3.08it/s, now=None]"
     ]
    },
    {
     "name": "stdout",
     "output_type": "stream",
     "text": [
      "343.77307597051777 86.0584564493284\n"
     ]
    },
    {
     "name": "stderr",
     "output_type": "stream",
     "text": [
      "\r",
      "t:  18%|█▊        | 216/1199 [00:45<05:23,  3.04it/s, now=None]"
     ]
    },
    {
     "name": "stdout",
     "output_type": "stream",
     "text": [
      "268.35412992799246 72.83833229922266\n"
     ]
    },
    {
     "name": "stderr",
     "output_type": "stream",
     "text": [
      "\r",
      "t:  18%|█▊        | 217/1199 [00:46<05:32,  2.95it/s, now=None]"
     ]
    },
    {
     "name": "stdout",
     "output_type": "stream",
     "text": [
      "644.7424221861521 65.86222261851893\n"
     ]
    },
    {
     "name": "stderr",
     "output_type": "stream",
     "text": [
      "\r",
      "t:  18%|█▊        | 218/1199 [00:46<05:40,  2.88it/s, now=None]"
     ]
    },
    {
     "name": "stdout",
     "output_type": "stream",
     "text": [
      "127.10506105016118 71.46934562250941\n"
     ]
    },
    {
     "name": "stderr",
     "output_type": "stream",
     "text": [
      "\r",
      "t:  18%|█▊        | 219/1199 [00:47<05:50,  2.80it/s, now=None]"
     ]
    },
    {
     "name": "stdout",
     "output_type": "stream",
     "text": [
      "56.584139068826595 84.23435020565455\n"
     ]
    },
    {
     "name": "stderr",
     "output_type": "stream",
     "text": [
      "\r",
      "t:  18%|█▊        | 220/1199 [00:47<05:50,  2.79it/s, now=None]"
     ]
    },
    {
     "name": "stdout",
     "output_type": "stream",
     "text": [
      "9816.751566307401 81.13291929028144\n"
     ]
    },
    {
     "name": "stderr",
     "output_type": "stream",
     "text": [
      "\r",
      "t:  18%|█▊        | 221/1199 [00:47<06:03,  2.69it/s, now=None]"
     ]
    },
    {
     "name": "stdout",
     "output_type": "stream",
     "text": [
      "125.81931876559973 94.99109658995474\n"
     ]
    },
    {
     "name": "stderr",
     "output_type": "stream",
     "text": [
      "\r",
      "t:  19%|█▊        | 222/1199 [00:48<06:07,  2.66it/s, now=None]"
     ]
    },
    {
     "name": "stdout",
     "output_type": "stream",
     "text": [
      "94.08455386163016 93.28662867912637\n"
     ]
    },
    {
     "name": "stderr",
     "output_type": "stream",
     "text": [
      "\r",
      "t:  19%|█▊        | 223/1199 [00:48<06:10,  2.64it/s, now=None]"
     ]
    },
    {
     "name": "stdout",
     "output_type": "stream",
     "text": [
      "33.236218103790726 62.86994063016729\n"
     ]
    },
    {
     "name": "stderr",
     "output_type": "stream",
     "text": [
      "\r",
      "t:  19%|█▊        | 224/1199 [00:48<06:09,  2.64it/s, now=None]"
     ]
    },
    {
     "name": "stdout",
     "output_type": "stream",
     "text": [
      "54.88685134060056 129.6303923926586\n"
     ]
    },
    {
     "name": "stderr",
     "output_type": "stream",
     "text": [
      "\r",
      "t:  19%|█▉        | 225/1199 [00:49<06:05,  2.66it/s, now=None]"
     ]
    },
    {
     "name": "stdout",
     "output_type": "stream",
     "text": [
      "48.73449084953935 156.57221919286752\n"
     ]
    },
    {
     "name": "stderr",
     "output_type": "stream",
     "text": [
      "\r",
      "t:  19%|█▉        | 226/1199 [00:49<06:10,  2.63it/s, now=None]"
     ]
    },
    {
     "name": "stdout",
     "output_type": "stream",
     "text": [
      "52.975930364558195 133.78234690583665\n"
     ]
    },
    {
     "name": "stderr",
     "output_type": "stream",
     "text": [
      "\r",
      "t:  19%|█▉        | 227/1199 [00:50<06:10,  2.62it/s, now=None]"
     ]
    },
    {
     "name": "stdout",
     "output_type": "stream",
     "text": [
      "33.86467414913835 53.355504459060874\n"
     ]
    },
    {
     "name": "stderr",
     "output_type": "stream",
     "text": [
      "\r",
      "t:  19%|█▉        | 228/1199 [00:50<06:17,  2.57it/s, now=None]"
     ]
    },
    {
     "name": "stdout",
     "output_type": "stream",
     "text": [
      "34.03003621912458 56.87633564625806\n"
     ]
    },
    {
     "name": "stderr",
     "output_type": "stream",
     "text": [
      "\r",
      "t:  19%|█▉        | 229/1199 [00:50<06:15,  2.58it/s, now=None]"
     ]
    },
    {
     "name": "stdout",
     "output_type": "stream",
     "text": [
      "45.249300865733346 66.7503581374307\n"
     ]
    },
    {
     "name": "stderr",
     "output_type": "stream",
     "text": [
      "\r",
      "t:  19%|█▉        | 230/1199 [00:51<06:16,  2.58it/s, now=None]"
     ]
    },
    {
     "name": "stdout",
     "output_type": "stream",
     "text": [
      "36.607378160970136 105.15172371519787\n"
     ]
    },
    {
     "name": "stderr",
     "output_type": "stream",
     "text": [
      "\r",
      "t:  19%|█▉        | 231/1199 [00:51<06:13,  2.59it/s, now=None]"
     ]
    },
    {
     "name": "stdout",
     "output_type": "stream",
     "text": [
      "36.051723202160126 114.45987959293748\n"
     ]
    },
    {
     "name": "stderr",
     "output_type": "stream",
     "text": [
      "\r",
      "t:  19%|█▉        | 232/1199 [00:52<06:08,  2.63it/s, now=None]"
     ]
    },
    {
     "name": "stdout",
     "output_type": "stream",
     "text": [
      "32.84015711106565 61.095581760920595\n"
     ]
    },
    {
     "name": "stderr",
     "output_type": "stream",
     "text": [
      "\r",
      "t:  19%|█▉        | 233/1199 [00:52<06:09,  2.61it/s, now=None]"
     ]
    },
    {
     "name": "stdout",
     "output_type": "stream",
     "text": [
      "32.062534866643745 114.67160157751557\n"
     ]
    },
    {
     "name": "stderr",
     "output_type": "stream",
     "text": [
      "\r",
      "t:  20%|█▉        | 234/1199 [00:52<06:09,  2.61it/s, now=None]"
     ]
    },
    {
     "name": "stdout",
     "output_type": "stream",
     "text": [
      "32.274083453404465 56.050573739828316\n"
     ]
    },
    {
     "name": "stderr",
     "output_type": "stream",
     "text": [
      "\r",
      "t:  20%|█▉        | 235/1199 [00:53<06:01,  2.67it/s, now=None]"
     ]
    },
    {
     "name": "stdout",
     "output_type": "stream",
     "text": [
      "32.03360025910252 32.92861850692021\n"
     ]
    },
    {
     "name": "stderr",
     "output_type": "stream",
     "text": [
      "\r",
      "t:  20%|█▉        | 236/1199 [00:53<05:46,  2.78it/s, now=None]"
     ]
    },
    {
     "name": "stdout",
     "output_type": "stream",
     "text": [
      "36.373393136591034 61.97224286027896\n"
     ]
    },
    {
     "name": "stderr",
     "output_type": "stream",
     "text": [
      "\r",
      "t:  20%|█▉        | 237/1199 [00:53<05:50,  2.74it/s, now=None]"
     ]
    },
    {
     "name": "stdout",
     "output_type": "stream",
     "text": [
      "31.191014082109586 495.9617506952858\n"
     ]
    },
    {
     "name": "stderr",
     "output_type": "stream",
     "text": [
      "\r",
      "t:  20%|█▉        | 238/1199 [00:54<05:49,  2.75it/s, now=None]"
     ]
    },
    {
     "name": "stdout",
     "output_type": "stream",
     "text": [
      "61.07190861756198 1050.0141617409008\n"
     ]
    },
    {
     "name": "stderr",
     "output_type": "stream",
     "text": [
      "\r",
      "t:  20%|█▉        | 239/1199 [00:54<05:42,  2.80it/s, now=None]"
     ]
    },
    {
     "name": "stdout",
     "output_type": "stream",
     "text": [
      "58.786007630850285 42.7760717343547\n"
     ]
    },
    {
     "name": "stderr",
     "output_type": "stream",
     "text": [
      "\r",
      "t:  20%|██        | 240/1199 [00:54<05:39,  2.82it/s, now=None]"
     ]
    },
    {
     "name": "stdout",
     "output_type": "stream",
     "text": [
      "57.93198632585911 43.16493767385147\n"
     ]
    },
    {
     "name": "stderr",
     "output_type": "stream",
     "text": [
      "\r",
      "t:  20%|██        | 241/1199 [00:55<05:42,  2.80it/s, now=None]"
     ]
    },
    {
     "name": "stdout",
     "output_type": "stream",
     "text": [
      "54.942006696227125 73.4785039388049\n"
     ]
    },
    {
     "name": "stderr",
     "output_type": "stream",
     "text": [
      "\r",
      "t:  20%|██        | 242/1199 [00:55<05:43,  2.79it/s, now=None]"
     ]
    },
    {
     "name": "stdout",
     "output_type": "stream",
     "text": [
      "47.276110564578296 55.38826389949445\n"
     ]
    },
    {
     "name": "stderr",
     "output_type": "stream",
     "text": [
      "\r",
      "t:  20%|██        | 243/1199 [00:55<05:38,  2.83it/s, now=None]"
     ]
    },
    {
     "name": "stdout",
     "output_type": "stream",
     "text": [
      "40.93398137901051 62.18722000519101\n"
     ]
    },
    {
     "name": "stderr",
     "output_type": "stream",
     "text": [
      "\r",
      "t:  20%|██        | 244/1199 [00:56<05:39,  2.82it/s, now=None]"
     ]
    },
    {
     "name": "stdout",
     "output_type": "stream",
     "text": [
      "35.91719849109537 67.08200520483138\n"
     ]
    },
    {
     "name": "stderr",
     "output_type": "stream",
     "text": [
      "\r",
      "t:  20%|██        | 245/1199 [00:56<05:45,  2.76it/s, now=None]"
     ]
    },
    {
     "name": "stdout",
     "output_type": "stream",
     "text": [
      "38.0159861198229 78.81655251718982\n"
     ]
    },
    {
     "name": "stderr",
     "output_type": "stream",
     "text": [
      "\r",
      "t:  21%|██        | 246/1199 [00:57<05:56,  2.67it/s, now=None]"
     ]
    },
    {
     "name": "stdout",
     "output_type": "stream",
     "text": [
      "37.34453645090434 95.77746266188659\n"
     ]
    },
    {
     "name": "stderr",
     "output_type": "stream",
     "text": [
      "\r",
      "t:  21%|██        | 247/1199 [00:57<06:04,  2.61it/s, now=None]"
     ]
    },
    {
     "name": "stdout",
     "output_type": "stream",
     "text": [
      "35.602141729356 91.52450702302953\n"
     ]
    },
    {
     "name": "stderr",
     "output_type": "stream",
     "text": [
      "\r",
      "t:  21%|██        | 248/1199 [00:57<06:08,  2.58it/s, now=None]"
     ]
    },
    {
     "name": "stdout",
     "output_type": "stream",
     "text": [
      "34.02177706196047 83.90242507600409\n"
     ]
    },
    {
     "name": "stderr",
     "output_type": "stream",
     "text": [
      "\r",
      "t:  21%|██        | 249/1199 [00:58<06:09,  2.57it/s, now=None]"
     ]
    },
    {
     "name": "stdout",
     "output_type": "stream",
     "text": [
      "30.6542733816533 74.93843037588474\n"
     ]
    },
    {
     "name": "stderr",
     "output_type": "stream",
     "text": [
      "\r",
      "t:  21%|██        | 250/1199 [00:58<06:08,  2.58it/s, now=None]"
     ]
    },
    {
     "name": "stdout",
     "output_type": "stream",
     "text": [
      "29.573676671089824 50.48774314041722\n"
     ]
    },
    {
     "name": "stderr",
     "output_type": "stream",
     "text": [
      "\r",
      "t:  21%|██        | 251/1199 [00:59<06:17,  2.51it/s, now=None]"
     ]
    },
    {
     "name": "stdout",
     "output_type": "stream",
     "text": [
      "27.607320991576273 45.80510733907891\n"
     ]
    },
    {
     "name": "stderr",
     "output_type": "stream",
     "text": [
      "\r",
      "t:  21%|██        | 252/1199 [00:59<06:04,  2.60it/s, now=None]"
     ]
    },
    {
     "name": "stdout",
     "output_type": "stream",
     "text": [
      "42.691554015556015 42.69884575044396\n"
     ]
    },
    {
     "name": "stderr",
     "output_type": "stream",
     "text": [
      "\r",
      "t:  21%|██        | 253/1199 [00:59<05:48,  2.71it/s, now=None]"
     ]
    },
    {
     "name": "stdout",
     "output_type": "stream",
     "text": [
      "34.920381181246114 37.588976708206346\n"
     ]
    },
    {
     "name": "stderr",
     "output_type": "stream",
     "text": [
      "\r",
      "t:  21%|██        | 254/1199 [01:00<05:33,  2.83it/s, now=None]"
     ]
    },
    {
     "name": "stdout",
     "output_type": "stream",
     "text": [
      "39.69119451045617 35.5032135106971\n"
     ]
    },
    {
     "name": "stderr",
     "output_type": "stream",
     "text": [
      "\r",
      "t:  21%|██▏       | 255/1199 [01:00<05:27,  2.88it/s, now=None]"
     ]
    },
    {
     "name": "stdout",
     "output_type": "stream",
     "text": [
      "77.50381496100864 37.158258054136525\n"
     ]
    },
    {
     "name": "stderr",
     "output_type": "stream",
     "text": [
      "\r",
      "t:  21%|██▏       | 256/1199 [01:00<05:25,  2.89it/s, now=None]"
     ]
    },
    {
     "name": "stdout",
     "output_type": "stream",
     "text": [
      "62.361279371070836 38.22592543929916\n"
     ]
    },
    {
     "name": "stderr",
     "output_type": "stream",
     "text": [
      "\r",
      "t:  21%|██▏       | 257/1199 [01:01<05:18,  2.96it/s, now=None]"
     ]
    },
    {
     "name": "stdout",
     "output_type": "stream",
     "text": [
      "38.73215739201495 37.176202013516765\n"
     ]
    },
    {
     "name": "stderr",
     "output_type": "stream",
     "text": [
      "\r",
      "t:  22%|██▏       | 258/1199 [01:01<05:12,  3.01it/s, now=None]"
     ]
    },
    {
     "name": "stdout",
     "output_type": "stream",
     "text": [
      "34.85746237949816 33.84086171721546\n"
     ]
    },
    {
     "name": "stderr",
     "output_type": "stream",
     "text": [
      "\r",
      "t:  22%|██▏       | 259/1199 [01:01<05:06,  3.07it/s, now=None]"
     ]
    },
    {
     "name": "stdout",
     "output_type": "stream",
     "text": [
      "29.872376681813712 40.93520766599396\n"
     ]
    },
    {
     "name": "stderr",
     "output_type": "stream",
     "text": [
      "\r",
      "t:  22%|██▏       | 260/1199 [01:02<04:58,  3.15it/s, now=None]"
     ]
    },
    {
     "name": "stdout",
     "output_type": "stream",
     "text": [
      "38.60099419827363 66.80187747402555\n"
     ]
    },
    {
     "name": "stderr",
     "output_type": "stream",
     "text": [
      "\r",
      "t:  22%|██▏       | 261/1199 [01:02<04:51,  3.22it/s, now=None]"
     ]
    },
    {
     "name": "stdout",
     "output_type": "stream",
     "text": [
      "79.1792902406561 86.4772474050898\n"
     ]
    },
    {
     "name": "stderr",
     "output_type": "stream",
     "text": [
      "\r",
      "t:  22%|██▏       | 262/1199 [01:02<04:39,  3.35it/s, now=None]"
     ]
    },
    {
     "name": "stdout",
     "output_type": "stream",
     "text": [
      "74.2504810092225 56.84338517257512\n"
     ]
    },
    {
     "name": "stderr",
     "output_type": "stream",
     "text": [
      "\r",
      "t:  22%|██▏       | 263/1199 [01:02<04:33,  3.42it/s, now=None]"
     ]
    },
    {
     "name": "stdout",
     "output_type": "stream",
     "text": [
      "46.36870620207719 51.75686632036873\n"
     ]
    },
    {
     "name": "stderr",
     "output_type": "stream",
     "text": [
      "\r",
      "t:  22%|██▏       | 264/1199 [01:03<04:31,  3.45it/s, now=None]"
     ]
    },
    {
     "name": "stdout",
     "output_type": "stream",
     "text": [
      "50.849337828094086 92.60058480310337\n"
     ]
    },
    {
     "name": "stderr",
     "output_type": "stream",
     "text": [
      "\r",
      "t:  22%|██▏       | 265/1199 [01:03<04:22,  3.56it/s, now=None]"
     ]
    },
    {
     "name": "stdout",
     "output_type": "stream",
     "text": [
      "46.41987900924664 41.366778917415104\n"
     ]
    },
    {
     "name": "stderr",
     "output_type": "stream",
     "text": [
      "\r",
      "t:  22%|██▏       | 266/1199 [01:03<04:15,  3.65it/s, now=None]"
     ]
    },
    {
     "name": "stdout",
     "output_type": "stream",
     "text": [
      "56.13416684880826 285.8693726514107\n"
     ]
    },
    {
     "name": "stderr",
     "output_type": "stream",
     "text": [
      "\r",
      "t:  22%|██▏       | 267/1199 [01:03<04:07,  3.77it/s, now=None]"
     ]
    },
    {
     "name": "stdout",
     "output_type": "stream",
     "text": [
      "77.42915285273659 399.1462848778227\n"
     ]
    },
    {
     "name": "stderr",
     "output_type": "stream",
     "text": [
      "\r",
      "t:  22%|██▏       | 268/1199 [01:04<03:58,  3.91it/s, now=None]"
     ]
    },
    {
     "name": "stdout",
     "output_type": "stream",
     "text": [
      "44.4388750541469 4945.468249175778\n"
     ]
    },
    {
     "name": "stderr",
     "output_type": "stream",
     "text": [
      "\r",
      "t:  22%|██▏       | 269/1199 [01:04<03:55,  3.96it/s, now=None]"
     ]
    },
    {
     "name": "stdout",
     "output_type": "stream",
     "text": [
      "42.17415217800671 745.7232935570765\n"
     ]
    },
    {
     "name": "stderr",
     "output_type": "stream",
     "text": [
      "\r",
      "t:  23%|██▎       | 270/1199 [01:04<03:48,  4.06it/s, now=None]"
     ]
    },
    {
     "name": "stdout",
     "output_type": "stream",
     "text": [
      "44.716499755721514 84.52138352061424\n"
     ]
    },
    {
     "name": "stderr",
     "output_type": "stream",
     "text": [
      "\r",
      "t:  23%|██▎       | 271/1199 [01:04<03:43,  4.15it/s, now=None]"
     ]
    },
    {
     "name": "stdout",
     "output_type": "stream",
     "text": [
      "58.00217313102214 248.12443638151245\n"
     ]
    },
    {
     "name": "stderr",
     "output_type": "stream",
     "text": [
      "\r",
      "t:  23%|██▎       | 272/1199 [01:05<03:44,  4.14it/s, now=None]"
     ]
    },
    {
     "name": "stdout",
     "output_type": "stream",
     "text": [
      "54.07713985755232 261.3579580024807\n"
     ]
    },
    {
     "name": "stderr",
     "output_type": "stream",
     "text": [
      "\r",
      "t:  23%|██▎       | 273/1199 [01:05<03:39,  4.22it/s, now=None]"
     ]
    },
    {
     "name": "stdout",
     "output_type": "stream",
     "text": [
      "44.333160419788896 222.15219581933746\n"
     ]
    },
    {
     "name": "stderr",
     "output_type": "stream",
     "text": [
      "\r",
      "t:  23%|██▎       | 274/1199 [01:05<03:31,  4.37it/s, now=None]"
     ]
    },
    {
     "name": "stdout",
     "output_type": "stream",
     "text": [
      "15.041800985741137 315.8705402864811\n",
      "16.88168463351721 623.1111978733016\n"
     ]
    },
    {
     "name": "stderr",
     "output_type": "stream",
     "text": [
      "t:  23%|██▎       | 276/1199 [01:05<03:22,  4.57it/s, now=None]"
     ]
    },
    {
     "name": "stdout",
     "output_type": "stream",
     "text": [
      "248.94516865498383 253.41216551390727\n",
      "102.25738538773983"
     ]
    },
    {
     "name": "stderr",
     "output_type": "stream",
     "text": [
      "\r",
      "t:  23%|██▎       | 277/1199 [01:06<03:16,  4.70it/s, now=None]"
     ]
    },
    {
     "name": "stdout",
     "output_type": "stream",
     "text": [
      " 276.68468040929196\n",
      "79.08197606127509 37.241112815281916\n"
     ]
    },
    {
     "name": "stderr",
     "output_type": "stream",
     "text": [
      "t:  23%|██▎       | 279/1199 [01:06<03:14,  4.72it/s, now=None]"
     ]
    },
    {
     "name": "stdout",
     "output_type": "stream",
     "text": [
      "94.26806840950219 125.91183354722119\n",
      "88.09274713302453 307.90285686878684\n"
     ]
    },
    {
     "name": "stderr",
     "output_type": "stream",
     "text": [
      "t:  23%|██▎       | 281/1199 [01:06<03:06,  4.91it/s, now=None]"
     ]
    },
    {
     "name": "stdout",
     "output_type": "stream",
     "text": [
      "46.62549639510416 181.3568692467873\n",
      "45.640056480414984 111.52577628236347\n"
     ]
    },
    {
     "name": "stderr",
     "output_type": "stream",
     "text": [
      "t:  24%|██▎       | 283/1199 [01:07<03:02,  5.03it/s, now=None]"
     ]
    },
    {
     "name": "stdout",
     "output_type": "stream",
     "text": [
      "43.59909030931545 119.05022685056795\n",
      "48.266584591505094"
     ]
    },
    {
     "name": "stderr",
     "output_type": "stream",
     "text": [
      "\r",
      "t:  24%|██▎       | 284/1199 [01:07<02:57,  5.17it/s, now=None]"
     ]
    },
    {
     "name": "stdout",
     "output_type": "stream",
     "text": [
      " 23.266457611698897\n",
      "40.54132679980715 21.849710429996865\n"
     ]
    },
    {
     "name": "stderr",
     "output_type": "stream",
     "text": [
      "t:  24%|██▍       | 286/1199 [01:07<02:53,  5.26it/s, now=None]"
     ]
    },
    {
     "name": "stdout",
     "output_type": "stream",
     "text": [
      "42.47088120729846 21.82236078080166\n",
      "42.67105019713288 19.756517460193283\n"
     ]
    },
    {
     "name": "stderr",
     "output_type": "stream",
     "text": [
      "t:  24%|██▍       | 288/1199 [01:08<02:56,  5.18it/s, now=None]"
     ]
    },
    {
     "name": "stdout",
     "output_type": "stream",
     "text": [
      "35.34157816763134 20.40409693996032\n",
      "40.08455657607491"
     ]
    },
    {
     "name": "stderr",
     "output_type": "stream",
     "text": [
      "\r",
      "t:  24%|██▍       | 289/1199 [01:08<02:54,  5.20it/s, now=None]"
     ]
    },
    {
     "name": "stdout",
     "output_type": "stream",
     "text": [
      " 18.67050675224495\n",
      "1196.775021767077"
     ]
    },
    {
     "name": "stderr",
     "output_type": "stream",
     "text": [
      "\r",
      "t:  24%|██▍       | 290/1199 [01:08<02:53,  5.23it/s, now=None]"
     ]
    },
    {
     "name": "stdout",
     "output_type": "stream",
     "text": [
      " 18.286047561642377\n",
      "1594.612144199348 42.899422886151996\n"
     ]
    },
    {
     "name": "stderr",
     "output_type": "stream",
     "text": [
      "t:  24%|██▍       | 292/1199 [01:09<02:47,  5.40it/s, now=None]"
     ]
    },
    {
     "name": "stdout",
     "output_type": "stream",
     "text": [
      "101.1947062225022 49.5698647032196\n",
      "80.23799968635656 110.97631429918884\n"
     ]
    },
    {
     "name": "stderr",
     "output_type": "stream",
     "text": [
      "t:  25%|██▍       | 294/1199 [01:09<02:45,  5.46it/s, now=None]"
     ]
    },
    {
     "name": "stdout",
     "output_type": "stream",
     "text": [
      "119.15661633152699 41.90190006859832\n",
      "116.78863909729886"
     ]
    },
    {
     "name": "stderr",
     "output_type": "stream",
     "text": [
      "\r",
      "t:  25%|██▍       | 295/1199 [01:09<02:46,  5.44it/s, now=None]"
     ]
    },
    {
     "name": "stdout",
     "output_type": "stream",
     "text": [
      " 24.06836225078413\n",
      "131.40014614345537"
     ]
    },
    {
     "name": "stderr",
     "output_type": "stream",
     "text": [
      "\r",
      "t:  25%|██▍       | 296/1199 [01:09<02:51,  5.28it/s, now=None]"
     ]
    },
    {
     "name": "stdout",
     "output_type": "stream",
     "text": [
      " 22.246950990337705\n",
      "179.87491899491076 21.466440929272764\n"
     ]
    },
    {
     "name": "stderr",
     "output_type": "stream",
     "text": [
      "t:  25%|██▍       | 298/1199 [01:10<02:50,  5.28it/s, now=None]"
     ]
    },
    {
     "name": "stdout",
     "output_type": "stream",
     "text": [
      "347.71775549549284 20.875140197985242\n",
      "1614.7862091185477"
     ]
    },
    {
     "name": "stderr",
     "output_type": "stream",
     "text": [
      "\r",
      "t:  25%|██▍       | 299/1199 [01:10<02:53,  5.18it/s, now=None]"
     ]
    },
    {
     "name": "stdout",
     "output_type": "stream",
     "text": [
      " 21.136531610736732\n",
      "667.7754363017536"
     ]
    },
    {
     "name": "stderr",
     "output_type": "stream",
     "text": [
      "\r",
      "t:  25%|██▌       | 300/1199 [01:10<02:56,  5.10it/s, now=None]"
     ]
    },
    {
     "name": "stdout",
     "output_type": "stream",
     "text": [
      " 22.389432687826925\n",
      "1636.2163694523358"
     ]
    },
    {
     "name": "stderr",
     "output_type": "stream",
     "text": [
      "\r",
      "t:  25%|██▌       | 301/1199 [01:10<02:52,  5.20it/s, now=None]"
     ]
    },
    {
     "name": "stdout",
     "output_type": "stream",
     "text": [
      " 22.949847477283527\n",
      "193.14221636287547 24.795584995266154\n"
     ]
    },
    {
     "name": "stderr",
     "output_type": "stream",
     "text": [
      "t:  25%|██▌       | 303/1199 [01:11<02:43,  5.49it/s, now=None]"
     ]
    },
    {
     "name": "stdout",
     "output_type": "stream",
     "text": [
      "262.27123483163854 25.832174484278664\n",
      "159.78426622325532 26.562275767992162\n"
     ]
    },
    {
     "name": "stderr",
     "output_type": "stream",
     "text": [
      "t:  25%|██▌       | 305/1199 [01:11<02:40,  5.58it/s, now=None]"
     ]
    },
    {
     "name": "stdout",
     "output_type": "stream",
     "text": [
      "304.9530740954954 28.951801963854063\n",
      "241.02638820319876 28.330335730918485\n"
     ]
    },
    {
     "name": "stderr",
     "output_type": "stream",
     "text": [
      "t:  26%|██▌       | 308/1199 [01:11<02:29,  5.95it/s, now=None]"
     ]
    },
    {
     "name": "stdout",
     "output_type": "stream",
     "text": [
      "88.65171219152346 27.359328910252497\n",
      "50.21442808295646 25.46388264643102\n"
     ]
    },
    {
     "name": "stderr",
     "output_type": "stream",
     "text": [
      "t:  26%|██▌       | 310/1199 [01:12<02:30,  5.89it/s, now=None]"
     ]
    },
    {
     "name": "stdout",
     "output_type": "stream",
     "text": [
      "57.02687102796787 24.0084173459818\n",
      "53.82801730486606 23.370706163853658\n"
     ]
    },
    {
     "name": "stderr",
     "output_type": "stream",
     "text": [
      "\r",
      "t:  26%|██▌       | 311/1199 [01:12<02:29,  5.92it/s, now=None]"
     ]
    },
    {
     "name": "stdout",
     "output_type": "stream",
     "text": [
      "50.635270557486834 28.47546027484535\n",
      "52.94326030629074 247.04074778876577\n"
     ]
    },
    {
     "name": "stderr",
     "output_type": "stream",
     "text": [
      "t:  26%|██▌       | 313/1199 [01:12<02:26,  6.06it/s, now=None]"
     ]
    },
    {
     "name": "stdout",
     "output_type": "stream",
     "text": [
      "43.23332852535838 21.725322447605848\n",
      "52.45407467065598 37.745959933538586\n"
     ]
    },
    {
     "name": "stderr",
     "output_type": "stream",
     "text": [
      "t:  26%|██▋       | 316/1199 [01:13<02:29,  5.92it/s, now=None]"
     ]
    },
    {
     "name": "stdout",
     "output_type": "stream",
     "text": [
      "54.151090850142374 166.38292697307733\n",
      "49.019022656513805 219.22315672131148\n"
     ]
    },
    {
     "name": "stderr",
     "output_type": "stream",
     "text": [
      "t:  27%|██▋       | 318/1199 [01:13<02:26,  6.03it/s, now=None]"
     ]
    },
    {
     "name": "stdout",
     "output_type": "stream",
     "text": [
      "40.497451218264835 149.15233099110722\n",
      "74.66384716956004 150.9520974343288\n"
     ]
    },
    {
     "name": "stderr",
     "output_type": "stream",
     "text": [
      "t:  27%|██▋       | 320/1199 [01:13<02:20,  6.26it/s, now=None]"
     ]
    },
    {
     "name": "stdout",
     "output_type": "stream",
     "text": [
      "73.89233092082458 133.35741154495653\n",
      "78.69631556169266 157.2789390573239\n"
     ]
    },
    {
     "name": "stderr",
     "output_type": "stream",
     "text": [
      "\r",
      "t:  27%|██▋       | 321/1199 [01:14<02:20,  6.24it/s, now=None]"
     ]
    },
    {
     "name": "stdout",
     "output_type": "stream",
     "text": [
      "73.81727056393211 19.383831942534297\n",
      "111.00392258988629 18.766194455753034\n"
     ]
    },
    {
     "name": "stderr",
     "output_type": "stream",
     "text": [
      "t:  27%|██▋       | 323/1199 [01:14<02:17,  6.35it/s, now=None]"
     ]
    },
    {
     "name": "stdout",
     "output_type": "stream",
     "text": [
      "102.72783291385055 63.062917435591665\n",
      "159.91663670185574 51.63347280621235\n"
     ]
    },
    {
     "name": "stderr",
     "output_type": "stream",
     "text": [
      "t:  27%|██▋       | 326/1199 [01:14<02:17,  6.36it/s, now=None]"
     ]
    },
    {
     "name": "stdout",
     "output_type": "stream",
     "text": [
      "94.58818081550739 65.52849877462577\n",
      "65.85466165649801 121.26065443602822\n"
     ]
    },
    {
     "name": "stderr",
     "output_type": "stream",
     "text": [
      "\r",
      "t:  27%|██▋       | 327/1199 [01:15<02:15,  6.42it/s, now=None]"
     ]
    },
    {
     "name": "stdout",
     "output_type": "stream",
     "text": [
      "77.88011662829946 75.47690542703968\n",
      "127.53000191532132 23.539711661067553\n"
     ]
    },
    {
     "name": "stderr",
     "output_type": "stream",
     "text": [
      "t:  28%|██▊       | 330/1199 [01:15<02:16,  6.36it/s, now=None]"
     ]
    },
    {
     "name": "stdout",
     "output_type": "stream",
     "text": [
      "129.89642330193755 21.88773461131155\n",
      "10.991843775188219 48.777865233461384\n"
     ]
    },
    {
     "name": "stderr",
     "output_type": "stream",
     "text": [
      "t:  28%|██▊       | 332/1199 [01:15<02:17,  6.32it/s, now=None]"
     ]
    },
    {
     "name": "stdout",
     "output_type": "stream",
     "text": [
      "9.25083480673051 17.87546122079164\n",
      "39.393470957850816 21.279854360484087\n"
     ]
    },
    {
     "name": "stderr",
     "output_type": "stream",
     "text": [
      "\r",
      "t:  28%|██▊       | 333/1199 [01:15<02:16,  6.32it/s, now=None]"
     ]
    },
    {
     "name": "stdout",
     "output_type": "stream",
     "text": [
      "137.0644512410342 15.418685570311055\n",
      "35.97153644706539 15.158271041800571\n"
     ]
    },
    {
     "name": "stderr",
     "output_type": "stream",
     "text": [
      "t:  28%|██▊       | 336/1199 [01:16<02:20,  6.16it/s, now=None]"
     ]
    },
    {
     "name": "stdout",
     "output_type": "stream",
     "text": [
      "48.83521570121763 16.300203458778963\n",
      "17.72370498987267 28.208990590879072\n"
     ]
    },
    {
     "name": "stderr",
     "output_type": "stream",
     "text": [
      "t:  28%|██▊       | 338/1199 [01:16<02:14,  6.39it/s, now=None]"
     ]
    },
    {
     "name": "stdout",
     "output_type": "stream",
     "text": [
      "46.28585940696789 24.79276516716677\n",
      "46.996581639706235 361.0323940478225\n"
     ]
    },
    {
     "name": "stderr",
     "output_type": "stream",
     "text": [
      "\r",
      "t:  28%|██▊       | 339/1199 [01:16<02:13,  6.43it/s, now=None]"
     ]
    },
    {
     "name": "stdout",
     "output_type": "stream",
     "text": [
      "46.92851824497241 156.07195867078303\n",
      "42.95312242396008 35.14638675703501\n"
     ]
    },
    {
     "name": "stderr",
     "output_type": "stream",
     "text": [
      "t:  28%|██▊       | 341/1199 [01:17<02:15,  6.34it/s, now=None]"
     ]
    },
    {
     "name": "stdout",
     "output_type": "stream",
     "text": [
      "47.60962108078774 11.998465144697214\n",
      "45.79777521945532 11.27146301627102\n"
     ]
    },
    {
     "name": "stderr",
     "output_type": "stream",
     "text": [
      "t:  29%|██▊       | 343/1199 [01:17<02:22,  6.01it/s, now=None]"
     ]
    },
    {
     "name": "stdout",
     "output_type": "stream",
     "text": [
      "41.569535969231595 16.98461000075572\n",
      "51.93500265030112"
     ]
    },
    {
     "name": "stderr",
     "output_type": "stream",
     "text": [
      "\r",
      "t:  29%|██▊       | 344/1199 [01:17<02:27,  5.80it/s, now=None]"
     ]
    },
    {
     "name": "stdout",
     "output_type": "stream",
     "text": [
      " 12.601875558218905\n",
      "53.14936501011852"
     ]
    },
    {
     "name": "stderr",
     "output_type": "stream",
     "text": [
      "\r",
      "t:  29%|██▉       | 345/1199 [01:17<02:30,  5.69it/s, now=None]"
     ]
    },
    {
     "name": "stdout",
     "output_type": "stream",
     "text": [
      " 21.3287959540701\n",
      "56.94218710670278 25.532361808906593\n"
     ]
    },
    {
     "name": "stderr",
     "output_type": "stream",
     "text": [
      "t:  29%|██▉       | 348/1199 [01:18<02:29,  5.68it/s, now=None]"
     ]
    },
    {
     "name": "stdout",
     "output_type": "stream",
     "text": [
      "55.14494844597964 21.360391955902134\n",
      "34.645493094315974 20.569962885071636\n"
     ]
    },
    {
     "name": "stderr",
     "output_type": "stream",
     "text": [
      "\r",
      "t:  29%|██▉       | 349/1199 [01:18<02:25,  5.85it/s, now=None]"
     ]
    },
    {
     "name": "stdout",
     "output_type": "stream",
     "text": [
      "88.83205465616 17.58451318201398\n",
      "78.45518067837779"
     ]
    },
    {
     "name": "stderr",
     "output_type": "stream",
     "text": [
      "\r",
      "t:  29%|██▉       | 350/1199 [01:18<02:27,  5.77it/s, now=None]"
     ]
    },
    {
     "name": "stdout",
     "output_type": "stream",
     "text": [
      " 16.68080751838666\n",
      "79.15286263159685 71.26632952969874\n"
     ]
    },
    {
     "name": "stderr",
     "output_type": "stream",
     "text": [
      "t:  29%|██▉       | 352/1199 [01:19<02:25,  5.80it/s, now=None]"
     ]
    },
    {
     "name": "stdout",
     "output_type": "stream",
     "text": [
      "39.07833694480402 14.163161489166164\n",
      "64.01228556771818 71.08635633590018\n"
     ]
    },
    {
     "name": "stderr",
     "output_type": "stream",
     "text": [
      "t:  30%|██▉       | 354/1199 [01:19<02:23,  5.90it/s, now=None]"
     ]
    },
    {
     "name": "stdout",
     "output_type": "stream",
     "text": [
      "20.381590209265916 35.76799516586446\n",
      "22.34191458316879 447.5486641224765\n"
     ]
    },
    {
     "name": "stderr",
     "output_type": "stream",
     "text": [
      "t:  30%|██▉       | 357/1199 [01:20<02:20,  5.99it/s, now=None]"
     ]
    },
    {
     "name": "stdout",
     "output_type": "stream",
     "text": [
      "23.06019816677707 1181.8223360185682\n",
      "19.351410714336357 3660.439715245243\n"
     ]
    },
    {
     "name": "stderr",
     "output_type": "stream",
     "text": [
      "\r",
      "t:  30%|██▉       | 358/1199 [01:20<02:22,  5.91it/s, now=None]"
     ]
    },
    {
     "name": "stdout",
     "output_type": "stream",
     "text": [
      "188.1894259355996 112.0464753252938\n",
      "74.93333209287907 57.30644292961163\n"
     ]
    },
    {
     "name": "stderr",
     "output_type": "stream",
     "text": [
      "t:  30%|███       | 361/1199 [01:20<02:17,  6.10it/s, now=None]"
     ]
    },
    {
     "name": "stdout",
     "output_type": "stream",
     "text": [
      "152.0670357113947 136.8341928162559\n",
      "134.11953076438937 35.06724356262658\n"
     ]
    },
    {
     "name": "stderr",
     "output_type": "stream",
     "text": [
      "\r",
      "t:  30%|███       | 362/1199 [01:20<02:27,  5.66it/s, now=None]"
     ]
    },
    {
     "name": "stdout",
     "output_type": "stream",
     "text": [
      "161.50678147404471 134.67079725995868\n"
     ]
    },
    {
     "name": "stderr",
     "output_type": "stream",
     "text": [
      "\r",
      "t:  30%|███       | 363/1199 [01:21<02:39,  5.25it/s, now=None]"
     ]
    },
    {
     "name": "stdout",
     "output_type": "stream",
     "text": [
      "40.65510149969587 41.3162462002264\n"
     ]
    },
    {
     "name": "stderr",
     "output_type": "stream",
     "text": [
      "\r",
      "t:  30%|███       | 364/1199 [01:21<02:46,  5.02it/s, now=None]"
     ]
    },
    {
     "name": "stdout",
     "output_type": "stream",
     "text": [
      "88.48201965155462 30.60133792508635\n"
     ]
    },
    {
     "name": "stderr",
     "output_type": "stream",
     "text": [
      "\r",
      "t:  30%|███       | 365/1199 [01:21<02:51,  4.86it/s, now=None]"
     ]
    },
    {
     "name": "stdout",
     "output_type": "stream",
     "text": [
      "124.51151494211449 38.05649027656303\n"
     ]
    },
    {
     "name": "stderr",
     "output_type": "stream",
     "text": [
      "\r",
      "t:  31%|███       | 366/1199 [01:21<03:01,  4.59it/s, now=None]"
     ]
    },
    {
     "name": "stdout",
     "output_type": "stream",
     "text": [
      "121.87860526837565 45.05484068265387\n"
     ]
    },
    {
     "name": "stderr",
     "output_type": "stream",
     "text": [
      "\r",
      "t:  31%|███       | 367/1199 [01:22<03:23,  4.09it/s, now=None]"
     ]
    },
    {
     "name": "stdout",
     "output_type": "stream",
     "text": [
      "126.97387578791405 270.9294531556105\n"
     ]
    },
    {
     "name": "stderr",
     "output_type": "stream",
     "text": [
      "\r",
      "t:  31%|███       | 368/1199 [01:22<03:41,  3.76it/s, now=None]"
     ]
    },
    {
     "name": "stdout",
     "output_type": "stream",
     "text": [
      "44.213295584273006 76.93940901984584\n"
     ]
    },
    {
     "name": "stderr",
     "output_type": "stream",
     "text": [
      "\r",
      "t:  31%|███       | 369/1199 [01:22<03:58,  3.49it/s, now=None]"
     ]
    },
    {
     "name": "stdout",
     "output_type": "stream",
     "text": [
      "36.5179138569934 57.41099111142069\n"
     ]
    },
    {
     "name": "stderr",
     "output_type": "stream",
     "text": [
      "\r",
      "t:  31%|███       | 370/1199 [01:23<04:22,  3.16it/s, now=None]"
     ]
    },
    {
     "name": "stdout",
     "output_type": "stream",
     "text": [
      "35.38360588000037 39.86492658213973\n"
     ]
    },
    {
     "name": "stderr",
     "output_type": "stream",
     "text": [
      "\r",
      "t:  31%|███       | 371/1199 [01:23<04:50,  2.85it/s, now=None]"
     ]
    },
    {
     "name": "stdout",
     "output_type": "stream",
     "text": [
      "85.20134429877564 133.94873967917974\n"
     ]
    },
    {
     "name": "stderr",
     "output_type": "stream",
     "text": [
      "\r",
      "t:  31%|███       | 372/1199 [01:24<05:22,  2.56it/s, now=None]"
     ]
    },
    {
     "name": "stdout",
     "output_type": "stream",
     "text": [
      "52.45794801758614 75.66467353223572\n"
     ]
    },
    {
     "name": "stderr",
     "output_type": "stream",
     "text": [
      "\r",
      "t:  31%|███       | 373/1199 [01:24<06:03,  2.27it/s, now=None]"
     ]
    },
    {
     "name": "stdout",
     "output_type": "stream",
     "text": [
      "2671.5406993792517 39.63235087829993\n"
     ]
    },
    {
     "name": "stderr",
     "output_type": "stream",
     "text": [
      "\r",
      "t:  31%|███       | 374/1199 [01:25<06:29,  2.12it/s, now=None]"
     ]
    },
    {
     "name": "stdout",
     "output_type": "stream",
     "text": [
      "15104.052695496428 105.96900336682586\n"
     ]
    },
    {
     "name": "stderr",
     "output_type": "stream",
     "text": [
      "\r",
      "t:  31%|███▏      | 375/1199 [01:25<06:40,  2.06it/s, now=None]"
     ]
    },
    {
     "name": "stdout",
     "output_type": "stream",
     "text": [
      "325.3118399073456 142.84918550417112\n"
     ]
    },
    {
     "name": "stderr",
     "output_type": "stream",
     "text": [
      "\r",
      "t:  31%|███▏      | 376/1199 [01:26<06:52,  2.00it/s, now=None]"
     ]
    },
    {
     "name": "stdout",
     "output_type": "stream",
     "text": [
      "301.67247793642156 88.62280951951827\n"
     ]
    },
    {
     "name": "stderr",
     "output_type": "stream",
     "text": [
      "\r",
      "t:  31%|███▏      | 377/1199 [01:26<07:05,  1.93it/s, now=None]"
     ]
    },
    {
     "name": "stdout",
     "output_type": "stream",
     "text": [
      "214.90947540379102 137.16037373813427\n"
     ]
    },
    {
     "name": "stderr",
     "output_type": "stream",
     "text": [
      "\r",
      "t:  32%|███▏      | 378/1199 [01:27<07:00,  1.95it/s, now=None]"
     ]
    },
    {
     "name": "stdout",
     "output_type": "stream",
     "text": [
      "1050.9138371250333 130.2597003269879\n"
     ]
    },
    {
     "name": "stderr",
     "output_type": "stream",
     "text": [
      "\r",
      "t:  32%|███▏      | 379/1199 [01:27<06:53,  1.98it/s, now=None]"
     ]
    },
    {
     "name": "stdout",
     "output_type": "stream",
     "text": [
      "181.6914156565376 130.49107317194972\n"
     ]
    },
    {
     "name": "stderr",
     "output_type": "stream",
     "text": [
      "\r",
      "t:  32%|███▏      | 380/1199 [01:28<06:54,  1.97it/s, now=None]"
     ]
    },
    {
     "name": "stdout",
     "output_type": "stream",
     "text": [
      "280.2989861203883 203.11259882390362\n"
     ]
    },
    {
     "name": "stderr",
     "output_type": "stream",
     "text": [
      "\r",
      "t:  32%|███▏      | 381/1199 [01:28<06:58,  1.95it/s, now=None]"
     ]
    },
    {
     "name": "stdout",
     "output_type": "stream",
     "text": [
      "3685.325080124813 204.81019390562415\n"
     ]
    },
    {
     "name": "stderr",
     "output_type": "stream",
     "text": [
      "\r",
      "t:  32%|███▏      | 382/1199 [01:29<06:57,  1.96it/s, now=None]"
     ]
    },
    {
     "name": "stdout",
     "output_type": "stream",
     "text": [
      "1922.2646689376 201.97432965502173\n"
     ]
    },
    {
     "name": "stderr",
     "output_type": "stream",
     "text": [
      "\r",
      "t:  32%|███▏      | 383/1199 [01:29<07:00,  1.94it/s, now=None]"
     ]
    },
    {
     "name": "stdout",
     "output_type": "stream",
     "text": [
      "542.7648658177047 365.6281812380577\n"
     ]
    },
    {
     "name": "stderr",
     "output_type": "stream",
     "text": [
      "\r",
      "t:  32%|███▏      | 384/1199 [01:30<07:03,  1.92it/s, now=None]"
     ]
    },
    {
     "name": "stdout",
     "output_type": "stream",
     "text": [
      "597.0814912322215 1032.1458159283375\n"
     ]
    },
    {
     "name": "stderr",
     "output_type": "stream",
     "text": [
      "\r",
      "t:  32%|███▏      | 385/1199 [01:30<07:03,  1.92it/s, now=None]"
     ]
    },
    {
     "name": "stdout",
     "output_type": "stream",
     "text": [
      "160.97706450737738 1060.1393552093198\n"
     ]
    },
    {
     "name": "stderr",
     "output_type": "stream",
     "text": [
      "\r",
      "t:  32%|███▏      | 386/1199 [01:31<07:09,  1.89it/s, now=None]"
     ]
    },
    {
     "name": "stdout",
     "output_type": "stream",
     "text": [
      "180.0998904702858 659.7099384455562\n"
     ]
    },
    {
     "name": "stderr",
     "output_type": "stream",
     "text": [
      "\r",
      "t:  32%|███▏      | 387/1199 [01:31<07:09,  1.89it/s, now=None]"
     ]
    },
    {
     "name": "stdout",
     "output_type": "stream",
     "text": [
      "118.45156818504609 157.70048519912365\n"
     ]
    },
    {
     "name": "stderr",
     "output_type": "stream",
     "text": [
      "\r",
      "t:  32%|███▏      | 388/1199 [01:32<07:13,  1.87it/s, now=None]"
     ]
    },
    {
     "name": "stdout",
     "output_type": "stream",
     "text": [
      "81.77042921632709 193.6877843346159\n"
     ]
    },
    {
     "name": "stderr",
     "output_type": "stream",
     "text": [
      "\r",
      "t:  32%|███▏      | 389/1199 [01:33<07:17,  1.85it/s, now=None]"
     ]
    },
    {
     "name": "stdout",
     "output_type": "stream",
     "text": [
      "69.53510091825046 1669.9150121260004\n"
     ]
    },
    {
     "name": "stderr",
     "output_type": "stream",
     "text": [
      "\r",
      "t:  33%|███▎      | 390/1199 [01:33<07:10,  1.88it/s, now=None]"
     ]
    },
    {
     "name": "stdout",
     "output_type": "stream",
     "text": [
      "114.79878737177647 317.94606415716237\n"
     ]
    },
    {
     "name": "stderr",
     "output_type": "stream",
     "text": [
      "\r",
      "t:  33%|███▎      | 391/1199 [01:34<07:05,  1.90it/s, now=None]"
     ]
    },
    {
     "name": "stdout",
     "output_type": "stream",
     "text": [
      "155.60743173296896 305.9278112737193\n"
     ]
    },
    {
     "name": "stderr",
     "output_type": "stream",
     "text": [
      "\r",
      "t:  33%|███▎      | 392/1199 [01:34<07:04,  1.90it/s, now=None]"
     ]
    },
    {
     "name": "stdout",
     "output_type": "stream",
     "text": [
      "105.34396207578847 101.96308594699109\n"
     ]
    },
    {
     "name": "stderr",
     "output_type": "stream",
     "text": [
      "\r",
      "t:  33%|███▎      | 393/1199 [01:35<07:05,  1.89it/s, now=None]"
     ]
    },
    {
     "name": "stdout",
     "output_type": "stream",
     "text": [
      "85.03640692502589 102.68678062889853\n"
     ]
    },
    {
     "name": "stderr",
     "output_type": "stream",
     "text": [
      "\r",
      "t:  33%|███▎      | 394/1199 [01:35<07:07,  1.88it/s, now=None]"
     ]
    },
    {
     "name": "stdout",
     "output_type": "stream",
     "text": [
      "100.63268575678951 101.0901649301026\n"
     ]
    },
    {
     "name": "stderr",
     "output_type": "stream",
     "text": [
      "\r",
      "t:  33%|███▎      | 395/1199 [01:36<07:04,  1.90it/s, now=None]"
     ]
    },
    {
     "name": "stdout",
     "output_type": "stream",
     "text": [
      "96.72336781857652 213.34494253481162\n"
     ]
    },
    {
     "name": "stderr",
     "output_type": "stream",
     "text": [
      "\r",
      "t:  33%|███▎      | 396/1199 [01:36<07:07,  1.88it/s, now=None]"
     ]
    },
    {
     "name": "stdout",
     "output_type": "stream",
     "text": [
      "97.88072272289757 118.96202960525962\n"
     ]
    },
    {
     "name": "stderr",
     "output_type": "stream",
     "text": [
      "\r",
      "t:  33%|███▎      | 397/1199 [01:37<07:05,  1.88it/s, now=None]"
     ]
    },
    {
     "name": "stdout",
     "output_type": "stream",
     "text": [
      "106.7714992050737 83.90636146268417\n"
     ]
    },
    {
     "name": "stderr",
     "output_type": "stream",
     "text": [
      "\r",
      "t:  33%|███▎      | 398/1199 [01:37<06:59,  1.91it/s, now=None]"
     ]
    },
    {
     "name": "stdout",
     "output_type": "stream",
     "text": [
      "139.3848692420501 98.52211404854735\n"
     ]
    },
    {
     "name": "stderr",
     "output_type": "stream",
     "text": [
      "\r",
      "t:  33%|███▎      | 399/1199 [01:38<07:01,  1.90it/s, now=None]"
     ]
    },
    {
     "name": "stdout",
     "output_type": "stream",
     "text": [
      "138.5937266388006 337.24442092796113\n"
     ]
    },
    {
     "name": "stderr",
     "output_type": "stream",
     "text": [
      "\r",
      "t:  33%|███▎      | 400/1199 [01:38<06:55,  1.92it/s, now=None]"
     ]
    },
    {
     "name": "stdout",
     "output_type": "stream",
     "text": [
      "71.84644524406521 208.6965274125222\n"
     ]
    },
    {
     "name": "stderr",
     "output_type": "stream",
     "text": [
      "\r",
      "t:  33%|███▎      | 401/1199 [01:39<06:49,  1.95it/s, now=None]"
     ]
    },
    {
     "name": "stdout",
     "output_type": "stream",
     "text": [
      "75.85868086734594 949.0629153175034\n"
     ]
    },
    {
     "name": "stderr",
     "output_type": "stream",
     "text": [
      "\r",
      "t:  34%|███▎      | 402/1199 [01:39<06:50,  1.94it/s, now=None]"
     ]
    },
    {
     "name": "stdout",
     "output_type": "stream",
     "text": [
      "75.89733564580106 239.4037690439157\n"
     ]
    },
    {
     "name": "stderr",
     "output_type": "stream",
     "text": [
      "\r",
      "t:  34%|███▎      | 403/1199 [01:40<06:52,  1.93it/s, now=None]"
     ]
    },
    {
     "name": "stdout",
     "output_type": "stream",
     "text": [
      "70.41406921700319 155.8904066065194\n"
     ]
    },
    {
     "name": "stderr",
     "output_type": "stream",
     "text": [
      "\r",
      "t:  34%|███▎      | 404/1199 [01:40<06:48,  1.94it/s, now=None]"
     ]
    },
    {
     "name": "stdout",
     "output_type": "stream",
     "text": [
      "54.62528247926899 121.29004293488687\n"
     ]
    },
    {
     "name": "stderr",
     "output_type": "stream",
     "text": [
      "\r",
      "t:  34%|███▍      | 405/1199 [01:41<06:49,  1.94it/s, now=None]"
     ]
    },
    {
     "name": "stdout",
     "output_type": "stream",
     "text": [
      "58.163389241753144 196.8737747140869\n"
     ]
    },
    {
     "name": "stderr",
     "output_type": "stream",
     "text": [
      "\r",
      "t:  34%|███▍      | 406/1199 [01:41<06:53,  1.92it/s, now=None]"
     ]
    },
    {
     "name": "stdout",
     "output_type": "stream",
     "text": [
      "53.83407121390179 125.13590690181688\n"
     ]
    },
    {
     "name": "stderr",
     "output_type": "stream",
     "text": [
      "\r",
      "t:  34%|███▍      | 407/1199 [01:42<06:50,  1.93it/s, now=None]"
     ]
    },
    {
     "name": "stdout",
     "output_type": "stream",
     "text": [
      "56.800912859942635 318.35243089274223\n"
     ]
    },
    {
     "name": "stderr",
     "output_type": "stream",
     "text": [
      "\r",
      "t:  34%|███▍      | 408/1199 [01:42<06:47,  1.94it/s, now=None]"
     ]
    },
    {
     "name": "stdout",
     "output_type": "stream",
     "text": [
      "55.40540327714049 219.0045001365687\n"
     ]
    },
    {
     "name": "stderr",
     "output_type": "stream",
     "text": [
      "\r",
      "t:  34%|███▍      | 409/1199 [01:43<06:45,  1.95it/s, now=None]"
     ]
    },
    {
     "name": "stdout",
     "output_type": "stream",
     "text": [
      "54.50382296337348 177.24961777971112\n"
     ]
    },
    {
     "name": "stderr",
     "output_type": "stream",
     "text": [
      "\r",
      "t:  34%|███▍      | 410/1199 [01:43<06:39,  1.97it/s, now=None]"
     ]
    },
    {
     "name": "stdout",
     "output_type": "stream",
     "text": [
      "52.94952874938703 114.73364180754629\n"
     ]
    },
    {
     "name": "stderr",
     "output_type": "stream",
     "text": [
      "\r",
      "t:  34%|███▍      | 411/1199 [01:44<06:20,  2.07it/s, now=None]"
     ]
    },
    {
     "name": "stdout",
     "output_type": "stream",
     "text": [
      "47.87277117444742 112.61577748821\n"
     ]
    },
    {
     "name": "stderr",
     "output_type": "stream",
     "text": [
      "\r",
      "t:  34%|███▍      | 412/1199 [01:44<06:07,  2.14it/s, now=None]"
     ]
    },
    {
     "name": "stdout",
     "output_type": "stream",
     "text": [
      "50.156256247312626 174.33385340298042\n"
     ]
    },
    {
     "name": "stderr",
     "output_type": "stream",
     "text": [
      "\r",
      "t:  34%|███▍      | 413/1199 [01:45<05:52,  2.23it/s, now=None]"
     ]
    },
    {
     "name": "stdout",
     "output_type": "stream",
     "text": [
      "53.34650410420021 177.9264760415001\n"
     ]
    },
    {
     "name": "stderr",
     "output_type": "stream",
     "text": [
      "\r",
      "t:  35%|███▍      | 414/1199 [01:45<05:42,  2.29it/s, now=None]"
     ]
    },
    {
     "name": "stdout",
     "output_type": "stream",
     "text": [
      "51.36030643203051 173.50995379334685\n"
     ]
    },
    {
     "name": "stderr",
     "output_type": "stream",
     "text": [
      "\r",
      "t:  35%|███▍      | 415/1199 [01:46<05:35,  2.34it/s, now=None]"
     ]
    },
    {
     "name": "stdout",
     "output_type": "stream",
     "text": [
      "49.01925524792687 570.7819602192463\n"
     ]
    },
    {
     "name": "stderr",
     "output_type": "stream",
     "text": [
      "\r",
      "t:  35%|███▍      | 416/1199 [01:46<05:26,  2.40it/s, now=None]"
     ]
    },
    {
     "name": "stdout",
     "output_type": "stream",
     "text": [
      "48.67562214792795 212.35727350615232\n"
     ]
    },
    {
     "name": "stderr",
     "output_type": "stream",
     "text": [
      "\r",
      "t:  35%|███▍      | 417/1199 [01:46<05:17,  2.46it/s, now=None]"
     ]
    },
    {
     "name": "stdout",
     "output_type": "stream",
     "text": [
      "46.7562292066639 152.96138665976298\n"
     ]
    },
    {
     "name": "stderr",
     "output_type": "stream",
     "text": [
      "\r",
      "t:  35%|███▍      | 418/1199 [01:47<05:11,  2.51it/s, now=None]"
     ]
    },
    {
     "name": "stdout",
     "output_type": "stream",
     "text": [
      "44.86749944615937 252.9034321065251\n"
     ]
    },
    {
     "name": "stderr",
     "output_type": "stream",
     "text": [
      "\r",
      "t:  35%|███▍      | 419/1199 [01:47<05:04,  2.56it/s, now=None]"
     ]
    },
    {
     "name": "stdout",
     "output_type": "stream",
     "text": [
      "45.983577751060764 239.58245044662334\n"
     ]
    },
    {
     "name": "stderr",
     "output_type": "stream",
     "text": [
      "\r",
      "t:  35%|███▌      | 420/1199 [01:47<05:05,  2.55it/s, now=None]"
     ]
    },
    {
     "name": "stdout",
     "output_type": "stream",
     "text": [
      "44.89884730367137 392.6000892736038\n"
     ]
    },
    {
     "name": "stderr",
     "output_type": "stream",
     "text": [
      "\r",
      "t:  35%|███▌      | 421/1199 [01:48<05:04,  2.55it/s, now=None]"
     ]
    },
    {
     "name": "stdout",
     "output_type": "stream",
     "text": [
      "42.27805473122859 4762.271737476615\n"
     ]
    },
    {
     "name": "stderr",
     "output_type": "stream",
     "text": [
      "\r",
      "t:  35%|███▌      | 422/1199 [01:48<05:05,  2.55it/s, now=None]"
     ]
    },
    {
     "name": "stdout",
     "output_type": "stream",
     "text": [
      "46.139527271485356 4441.645154180937\n"
     ]
    },
    {
     "name": "stderr",
     "output_type": "stream",
     "text": [
      "\r",
      "t:  35%|███▌      | 423/1199 [01:49<05:04,  2.54it/s, now=None]"
     ]
    },
    {
     "name": "stdout",
     "output_type": "stream",
     "text": [
      "51.52512571995469 592.5032983251298\n"
     ]
    },
    {
     "name": "stderr",
     "output_type": "stream",
     "text": [
      "\r",
      "t:  35%|███▌      | 424/1199 [01:49<05:04,  2.55it/s, now=None]"
     ]
    },
    {
     "name": "stdout",
     "output_type": "stream",
     "text": [
      "53.83794122839322 1606.0929003650394\n"
     ]
    },
    {
     "name": "stderr",
     "output_type": "stream",
     "text": [
      "\r",
      "t:  35%|███▌      | 425/1199 [01:49<05:06,  2.53it/s, now=None]"
     ]
    },
    {
     "name": "stdout",
     "output_type": "stream",
     "text": [
      "54.9790745587449 403.03955356907903\n"
     ]
    },
    {
     "name": "stderr",
     "output_type": "stream",
     "text": [
      "\r",
      "t:  36%|███▌      | 426/1199 [01:50<05:01,  2.57it/s, now=None]"
     ]
    },
    {
     "name": "stdout",
     "output_type": "stream",
     "text": [
      "47.10724068151688 707.751423571254\n"
     ]
    },
    {
     "name": "stderr",
     "output_type": "stream",
     "text": [
      "\r",
      "t:  36%|███▌      | 427/1199 [01:50<04:51,  2.65it/s, now=None]"
     ]
    },
    {
     "name": "stdout",
     "output_type": "stream",
     "text": [
      "43.19453118241208 256.4581846457388\n"
     ]
    },
    {
     "name": "stderr",
     "output_type": "stream",
     "text": [
      "\r",
      "t:  36%|███▌      | 428/1199 [01:51<04:44,  2.71it/s, now=None]"
     ]
    },
    {
     "name": "stdout",
     "output_type": "stream",
     "text": [
      "35.61032898019831 113.01187525083292\n"
     ]
    },
    {
     "name": "stderr",
     "output_type": "stream",
     "text": [
      "\r",
      "t:  36%|███▌      | 429/1199 [01:51<04:34,  2.80it/s, now=None]"
     ]
    },
    {
     "name": "stdout",
     "output_type": "stream",
     "text": [
      "33.09319485359733 51.4644026594683\n"
     ]
    },
    {
     "name": "stderr",
     "output_type": "stream",
     "text": [
      "\r",
      "t:  36%|███▌      | 430/1199 [01:51<04:25,  2.89it/s, now=None]"
     ]
    },
    {
     "name": "stdout",
     "output_type": "stream",
     "text": [
      "32.70684118950073 51.03251441974888\n"
     ]
    },
    {
     "name": "stderr",
     "output_type": "stream",
     "text": [
      "\r",
      "t:  36%|███▌      | 431/1199 [01:51<04:21,  2.93it/s, now=None]"
     ]
    },
    {
     "name": "stdout",
     "output_type": "stream",
     "text": [
      "27.625765824759522 57.05335380097639\n"
     ]
    },
    {
     "name": "stderr",
     "output_type": "stream",
     "text": [
      "\r",
      "t:  36%|███▌      | 432/1199 [01:52<04:16,  2.99it/s, now=None]"
     ]
    },
    {
     "name": "stdout",
     "output_type": "stream",
     "text": [
      "26.463273537948975 57.76124885735623\n"
     ]
    },
    {
     "name": "stderr",
     "output_type": "stream",
     "text": [
      "\r",
      "t:  36%|███▌      | 433/1199 [01:52<04:09,  3.08it/s, now=None]"
     ]
    },
    {
     "name": "stdout",
     "output_type": "stream",
     "text": [
      "37.9784572930884 80.38086931127366\n"
     ]
    },
    {
     "name": "stderr",
     "output_type": "stream",
     "text": [
      "\r",
      "t:  36%|███▌      | 434/1199 [01:52<04:01,  3.17it/s, now=None]"
     ]
    },
    {
     "name": "stdout",
     "output_type": "stream",
     "text": [
      "27.397655664468605 89.11849923779879\n"
     ]
    },
    {
     "name": "stderr",
     "output_type": "stream",
     "text": [
      "\r",
      "t:  36%|███▋      | 435/1199 [01:53<03:54,  3.26it/s, now=None]"
     ]
    },
    {
     "name": "stdout",
     "output_type": "stream",
     "text": [
      "25.982255899382448 126.84027160070835\n"
     ]
    },
    {
     "name": "stderr",
     "output_type": "stream",
     "text": [
      "\r",
      "t:  36%|███▋      | 436/1199 [01:53<03:44,  3.40it/s, now=None]"
     ]
    },
    {
     "name": "stdout",
     "output_type": "stream",
     "text": [
      "27.09421667664663 342.78501430218597\n"
     ]
    },
    {
     "name": "stderr",
     "output_type": "stream",
     "text": [
      "\r",
      "t:  36%|███▋      | 437/1199 [01:53<03:33,  3.57it/s, now=None]"
     ]
    },
    {
     "name": "stdout",
     "output_type": "stream",
     "text": [
      "39.291244465781546 384.7045747730845\n"
     ]
    },
    {
     "name": "stderr",
     "output_type": "stream",
     "text": [
      "\r",
      "t:  37%|███▋      | 438/1199 [01:53<03:27,  3.68it/s, now=None]"
     ]
    },
    {
     "name": "stdout",
     "output_type": "stream",
     "text": [
      "36.90453125374553 141.62908419560074\n"
     ]
    },
    {
     "name": "stderr",
     "output_type": "stream",
     "text": [
      "\r",
      "t:  37%|███▋      | 439/1199 [01:54<03:23,  3.74it/s, now=None]"
     ]
    },
    {
     "name": "stdout",
     "output_type": "stream",
     "text": [
      "45.24657813722059 305.7196449851624\n"
     ]
    },
    {
     "name": "stderr",
     "output_type": "stream",
     "text": [
      "\r",
      "t:  37%|███▋      | 440/1199 [01:54<03:13,  3.91it/s, now=None]"
     ]
    },
    {
     "name": "stdout",
     "output_type": "stream",
     "text": [
      "44.63145867418229 302.9781127414541\n"
     ]
    },
    {
     "name": "stderr",
     "output_type": "stream",
     "text": [
      "\r",
      "t:  37%|███▋      | 441/1199 [01:54<03:09,  3.99it/s, now=None]"
     ]
    },
    {
     "name": "stdout",
     "output_type": "stream",
     "text": [
      "40.14719198264002 103.24707979542193\n"
     ]
    },
    {
     "name": "stderr",
     "output_type": "stream",
     "text": [
      "\r",
      "t:  37%|███▋      | 442/1199 [01:54<03:06,  4.06it/s, now=None]"
     ]
    },
    {
     "name": "stdout",
     "output_type": "stream",
     "text": [
      "59.07429804697826 59.920025647261795\n"
     ]
    },
    {
     "name": "stderr",
     "output_type": "stream",
     "text": [
      "\r",
      "t:  37%|███▋      | 443/1199 [01:55<03:00,  4.20it/s, now=None]"
     ]
    },
    {
     "name": "stdout",
     "output_type": "stream",
     "text": [
      "45.014074856482004 49.64791115626794\n"
     ]
    },
    {
     "name": "stderr",
     "output_type": "stream",
     "text": [
      "\r",
      "t:  37%|███▋      | 444/1199 [01:55<02:53,  4.34it/s, now=None]"
     ]
    },
    {
     "name": "stdout",
     "output_type": "stream",
     "text": [
      "71.29947368608372 65.82075331592507\n"
     ]
    },
    {
     "name": "stderr",
     "output_type": "stream",
     "text": [
      "\r",
      "t:  37%|███▋      | 445/1199 [01:55<02:54,  4.33it/s, now=None]"
     ]
    },
    {
     "name": "stdout",
     "output_type": "stream",
     "text": [
      "118.54594484753197 354.61765382381\n"
     ]
    },
    {
     "name": "stderr",
     "output_type": "stream",
     "text": [
      "\r",
      "t:  37%|███▋      | 446/1199 [01:55<02:56,  4.28it/s, now=None]"
     ]
    },
    {
     "name": "stdout",
     "output_type": "stream",
     "text": [
      "66.19468202274626 235.14706002993825\n"
     ]
    },
    {
     "name": "stderr",
     "output_type": "stream",
     "text": [
      "\r",
      "t:  37%|███▋      | 447/1199 [01:56<02:53,  4.33it/s, now=None]"
     ]
    },
    {
     "name": "stdout",
     "output_type": "stream",
     "text": [
      "55.16179828090013 130.67833356304783\n",
      "51.05341738057447"
     ]
    },
    {
     "name": "stderr",
     "output_type": "stream",
     "text": [
      "\r",
      "t:  37%|███▋      | 448/1199 [01:56<02:46,  4.52it/s, now=None]"
     ]
    },
    {
     "name": "stdout",
     "output_type": "stream",
     "text": [
      " 152.56325721005103\n",
      "49.28695044363213 305.86577921798795\n"
     ]
    },
    {
     "name": "stderr",
     "output_type": "stream",
     "text": [
      "t:  38%|███▊      | 450/1199 [01:56<02:44,  4.55it/s, now=None]"
     ]
    },
    {
     "name": "stdout",
     "output_type": "stream",
     "text": [
      "57.76009470209447 189.9657760198361\n",
      "46.512095781642685 225.25528864798576\n"
     ]
    },
    {
     "name": "stderr",
     "output_type": "stream",
     "text": [
      "t:  38%|███▊      | 452/1199 [01:57<02:39,  4.68it/s, now=None]"
     ]
    },
    {
     "name": "stdout",
     "output_type": "stream",
     "text": [
      "41.994226625455276 37.62802774929609\n"
     ]
    },
    {
     "name": "stderr",
     "output_type": "stream",
     "text": [
      "\r",
      "t:  38%|███▊      | 453/1199 [01:57<02:39,  4.68it/s, now=None]"
     ]
    },
    {
     "name": "stdout",
     "output_type": "stream",
     "text": [
      "86.83204067835791 36.30739896224029\n",
      "483.88241393122325"
     ]
    },
    {
     "name": "stderr",
     "output_type": "stream",
     "text": [
      "\r",
      "t:  38%|███▊      | 454/1199 [01:57<02:38,  4.70it/s, now=None]"
     ]
    },
    {
     "name": "stdout",
     "output_type": "stream",
     "text": [
      " 35.69899702853465\n"
     ]
    },
    {
     "name": "stderr",
     "output_type": "stream",
     "text": [
      "\r",
      "t:  38%|███▊      | 455/1199 [01:57<02:40,  4.64it/s, now=None]"
     ]
    },
    {
     "name": "stdout",
     "output_type": "stream",
     "text": [
      "130.80056640193058 37.34761263109964\n"
     ]
    },
    {
     "name": "stderr",
     "output_type": "stream",
     "text": [
      "\r",
      "t:  38%|███▊      | 456/1199 [01:57<02:41,  4.61it/s, now=None]"
     ]
    },
    {
     "name": "stdout",
     "output_type": "stream",
     "text": [
      "150.9778237863013 34.711236390794056\n"
     ]
    },
    {
     "name": "stderr",
     "output_type": "stream",
     "text": [
      "\r",
      "t:  38%|███▊      | 457/1199 [01:58<02:41,  4.59it/s, now=None]"
     ]
    },
    {
     "name": "stdout",
     "output_type": "stream",
     "text": [
      "113.50522164742902 37.56855927209229\n"
     ]
    },
    {
     "name": "stderr",
     "output_type": "stream",
     "text": [
      "\r",
      "t:  38%|███▊      | 458/1199 [01:58<02:43,  4.54it/s, now=None]"
     ]
    },
    {
     "name": "stdout",
     "output_type": "stream",
     "text": [
      "412.1150047849845 47.20169596280471\n"
     ]
    },
    {
     "name": "stderr",
     "output_type": "stream",
     "text": [
      "\r",
      "t:  38%|███▊      | 459/1199 [01:58<02:43,  4.53it/s, now=None]"
     ]
    },
    {
     "name": "stdout",
     "output_type": "stream",
     "text": [
      "1880.456076380835 57.077261791466405\n"
     ]
    },
    {
     "name": "stderr",
     "output_type": "stream",
     "text": [
      "\r",
      "t:  38%|███▊      | 460/1199 [01:58<02:45,  4.47it/s, now=None]"
     ]
    },
    {
     "name": "stdout",
     "output_type": "stream",
     "text": [
      "305.555745006751 72.0982434884537\n"
     ]
    },
    {
     "name": "stderr",
     "output_type": "stream",
     "text": [
      "\r",
      "t:  38%|███▊      | 461/1199 [01:59<02:50,  4.33it/s, now=None]"
     ]
    },
    {
     "name": "stdout",
     "output_type": "stream",
     "text": [
      "127.19341042589232 64.53551200365413\n"
     ]
    },
    {
     "name": "stderr",
     "output_type": "stream",
     "text": [
      "\r",
      "t:  39%|███▊      | 462/1199 [01:59<02:49,  4.35it/s, now=None]"
     ]
    },
    {
     "name": "stdout",
     "output_type": "stream",
     "text": [
      "88.33377911747137 58.97601948514909\n"
     ]
    },
    {
     "name": "stderr",
     "output_type": "stream",
     "text": [
      "\r",
      "t:  39%|███▊      | 463/1199 [01:59<02:51,  4.28it/s, now=None]"
     ]
    },
    {
     "name": "stdout",
     "output_type": "stream",
     "text": [
      "55.083296688419736 42.47360369344735\n"
     ]
    },
    {
     "name": "stderr",
     "output_type": "stream",
     "text": [
      "\r",
      "t:  39%|███▊      | 464/1199 [01:59<02:54,  4.21it/s, now=None]"
     ]
    },
    {
     "name": "stdout",
     "output_type": "stream",
     "text": [
      "53.72411891792989 34.89853931751104\n"
     ]
    },
    {
     "name": "stderr",
     "output_type": "stream",
     "text": [
      "\r",
      "t:  39%|███▉      | 465/1199 [02:00<02:54,  4.21it/s, now=None]"
     ]
    },
    {
     "name": "stdout",
     "output_type": "stream",
     "text": [
      "46.516669029108165 34.48106512778475\n"
     ]
    },
    {
     "name": "stderr",
     "output_type": "stream",
     "text": [
      "\r",
      "t:  39%|███▉      | 466/1199 [02:00<02:56,  4.15it/s, now=None]"
     ]
    },
    {
     "name": "stdout",
     "output_type": "stream",
     "text": [
      "56.46500554469897 33.777290527154655\n"
     ]
    },
    {
     "name": "stderr",
     "output_type": "stream",
     "text": [
      "\r",
      "t:  39%|███▉      | 467/1199 [02:00<02:57,  4.11it/s, now=None]"
     ]
    },
    {
     "name": "stdout",
     "output_type": "stream",
     "text": [
      "63.54868713842268 35.98077977067869\n"
     ]
    },
    {
     "name": "stderr",
     "output_type": "stream",
     "text": [
      "\r",
      "t:  39%|███▉      | 468/1199 [02:00<02:53,  4.20it/s, now=None]"
     ]
    },
    {
     "name": "stdout",
     "output_type": "stream",
     "text": [
      "105.91548877326098 48.60423127352876\n"
     ]
    },
    {
     "name": "stderr",
     "output_type": "stream",
     "text": [
      "\r",
      "t:  39%|███▉      | 469/1199 [02:01<02:50,  4.28it/s, now=None]"
     ]
    },
    {
     "name": "stdout",
     "output_type": "stream",
     "text": [
      "357.28933936265014 46.370315164317184\n"
     ]
    },
    {
     "name": "stderr",
     "output_type": "stream",
     "text": [
      "\r",
      "t:  39%|███▉      | 470/1199 [02:01<02:51,  4.25it/s, now=None]"
     ]
    },
    {
     "name": "stdout",
     "output_type": "stream",
     "text": [
      "327.1697322651098 52.38131288629439\n"
     ]
    },
    {
     "name": "stderr",
     "output_type": "stream",
     "text": [
      "\r",
      "t:  39%|███▉      | 471/1199 [02:01<02:48,  4.31it/s, now=None]"
     ]
    },
    {
     "name": "stdout",
     "output_type": "stream",
     "text": [
      "114.09169617875527 42.03487995193303\n"
     ]
    },
    {
     "name": "stderr",
     "output_type": "stream",
     "text": [
      "\r",
      "t:  39%|███▉      | 472/1199 [02:01<02:49,  4.29it/s, now=None]"
     ]
    },
    {
     "name": "stdout",
     "output_type": "stream",
     "text": [
      "79.56446692056771 40.572053891247656\n"
     ]
    },
    {
     "name": "stderr",
     "output_type": "stream",
     "text": [
      "\r",
      "t:  39%|███▉      | 473/1199 [02:01<02:48,  4.32it/s, now=None]"
     ]
    },
    {
     "name": "stdout",
     "output_type": "stream",
     "text": [
      "33.84657155139074 56.54062209168023\n"
     ]
    },
    {
     "name": "stderr",
     "output_type": "stream",
     "text": [
      "\r",
      "t:  40%|███▉      | 474/1199 [02:02<02:49,  4.28it/s, now=None]"
     ]
    },
    {
     "name": "stdout",
     "output_type": "stream",
     "text": [
      "35.417169901892514 56.81488331177811\n"
     ]
    },
    {
     "name": "stderr",
     "output_type": "stream",
     "text": [
      "\r",
      "t:  40%|███▉      | 475/1199 [02:02<02:46,  4.35it/s, now=None]"
     ]
    },
    {
     "name": "stdout",
     "output_type": "stream",
     "text": [
      "33.953409093509535 57.59622371556291\n"
     ]
    },
    {
     "name": "stderr",
     "output_type": "stream",
     "text": [
      "\r",
      "t:  40%|███▉      | 476/1199 [02:02<02:43,  4.42it/s, now=None]"
     ]
    },
    {
     "name": "stdout",
     "output_type": "stream",
     "text": [
      "46.518580388171685 58.626134738901335\n"
     ]
    },
    {
     "name": "stderr",
     "output_type": "stream",
     "text": [
      "\r",
      "t:  40%|███▉      | 477/1199 [02:02<02:42,  4.45it/s, now=None]"
     ]
    },
    {
     "name": "stdout",
     "output_type": "stream",
     "text": [
      "91.90342141063662 60.35912625137986\n"
     ]
    },
    {
     "name": "stderr",
     "output_type": "stream",
     "text": [
      "\r",
      "t:  40%|███▉      | 478/1199 [02:03<02:43,  4.41it/s, now=None]"
     ]
    },
    {
     "name": "stdout",
     "output_type": "stream",
     "text": [
      "44.853427372483274 62.41836119643622\n"
     ]
    },
    {
     "name": "stderr",
     "output_type": "stream",
     "text": [
      "\r",
      "t:  40%|███▉      | 479/1199 [02:03<02:41,  4.45it/s, now=None]"
     ]
    },
    {
     "name": "stdout",
     "output_type": "stream",
     "text": [
      "467.45558608167613 66.17735802102537\n"
     ]
    },
    {
     "name": "stderr",
     "output_type": "stream",
     "text": [
      "\r",
      "t:  40%|████      | 480/1199 [02:03<02:40,  4.47it/s, now=None]"
     ]
    },
    {
     "name": "stdout",
     "output_type": "stream",
     "text": [
      "241.12144379970002 72.59720088173435\n"
     ]
    },
    {
     "name": "stderr",
     "output_type": "stream",
     "text": [
      "\r",
      "t:  40%|████      | 481/1199 [02:03<02:43,  4.40it/s, now=None]"
     ]
    },
    {
     "name": "stdout",
     "output_type": "stream",
     "text": [
      "327.69076302348725 76.7430402984374\n"
     ]
    },
    {
     "name": "stderr",
     "output_type": "stream",
     "text": [
      "\r",
      "t:  40%|████      | 482/1199 [02:03<02:40,  4.46it/s, now=None]"
     ]
    },
    {
     "name": "stdout",
     "output_type": "stream",
     "text": [
      "111.82310642590856 87.0768947901413\n"
     ]
    },
    {
     "name": "stderr",
     "output_type": "stream",
     "text": [
      "\r",
      "t:  40%|████      | 483/1199 [02:04<02:43,  4.39it/s, now=None]"
     ]
    },
    {
     "name": "stdout",
     "output_type": "stream",
     "text": [
      "49.223358957788136 97.69866556021702\n"
     ]
    },
    {
     "name": "stderr",
     "output_type": "stream",
     "text": [
      "\r",
      "t:  40%|████      | 484/1199 [02:04<02:41,  4.43it/s, now=None]"
     ]
    },
    {
     "name": "stdout",
     "output_type": "stream",
     "text": [
      "112.28199496325172 102.5698732965614\n",
      "63.717847079576124 115.37986744054396\n"
     ]
    },
    {
     "name": "stderr",
     "output_type": "stream",
     "text": [
      "t:  41%|████      | 486/1199 [02:04<02:38,  4.49it/s, now=None]"
     ]
    },
    {
     "name": "stdout",
     "output_type": "stream",
     "text": [
      "60.240085623599306 129.1551233934577\n"
     ]
    },
    {
     "name": "stderr",
     "output_type": "stream",
     "text": [
      "\r",
      "t:  41%|████      | 487/1199 [02:05<02:41,  4.40it/s, now=None]"
     ]
    },
    {
     "name": "stdout",
     "output_type": "stream",
     "text": [
      "47.24607959182069 150.06952740169666\n"
     ]
    },
    {
     "name": "stderr",
     "output_type": "stream",
     "text": [
      "\r",
      "t:  41%|████      | 488/1199 [02:05<02:40,  4.42it/s, now=None]"
     ]
    },
    {
     "name": "stdout",
     "output_type": "stream",
     "text": [
      "39.028430219933185 123.48707040355289\n"
     ]
    },
    {
     "name": "stderr",
     "output_type": "stream",
     "text": [
      "\r",
      "t:  41%|████      | 489/1199 [02:05<02:41,  4.40it/s, now=None]"
     ]
    },
    {
     "name": "stdout",
     "output_type": "stream",
     "text": [
      "38.37077420638137 117.7864432910225\n"
     ]
    },
    {
     "name": "stderr",
     "output_type": "stream",
     "text": [
      "\r",
      "t:  41%|████      | 490/1199 [02:05<02:41,  4.38it/s, now=None]"
     ]
    },
    {
     "name": "stdout",
     "output_type": "stream",
     "text": [
      "50.13932694558372 86.10289083969488\n",
      "52.85817429845101"
     ]
    },
    {
     "name": "stderr",
     "output_type": "stream",
     "text": [
      "\r",
      "t:  41%|████      | 491/1199 [02:05<02:37,  4.50it/s, now=None]"
     ]
    },
    {
     "name": "stdout",
     "output_type": "stream",
     "text": [
      " 79.26784619464547\n"
     ]
    },
    {
     "name": "stderr",
     "output_type": "stream",
     "text": [
      "\r",
      "t:  41%|████      | 492/1199 [02:06<02:38,  4.47it/s, now=None]"
     ]
    },
    {
     "name": "stdout",
     "output_type": "stream",
     "text": [
      "45.11480352953779 61.10882153817464\n"
     ]
    },
    {
     "name": "stderr",
     "output_type": "stream",
     "text": [
      "\r",
      "t:  41%|████      | 493/1199 [02:06<02:39,  4.43it/s, now=None]"
     ]
    },
    {
     "name": "stdout",
     "output_type": "stream",
     "text": [
      "54.48832645971526 67.2675930779223\n"
     ]
    },
    {
     "name": "stderr",
     "output_type": "stream",
     "text": [
      "\r",
      "t:  41%|████      | 494/1199 [02:06<02:38,  4.45it/s, now=None]"
     ]
    },
    {
     "name": "stdout",
     "output_type": "stream",
     "text": [
      "64.14351188712904 123.92735704347953\n"
     ]
    },
    {
     "name": "stderr",
     "output_type": "stream",
     "text": [
      "\r",
      "t:  41%|████▏     | 495/1199 [02:06<02:37,  4.47it/s, now=None]"
     ]
    },
    {
     "name": "stdout",
     "output_type": "stream",
     "text": [
      "95.28443057937838 99.21844523371055\n"
     ]
    },
    {
     "name": "stderr",
     "output_type": "stream",
     "text": [
      "\r",
      "t:  41%|████▏     | 496/1199 [02:07<02:35,  4.51it/s, now=None]"
     ]
    },
    {
     "name": "stdout",
     "output_type": "stream",
     "text": [
      "76.30845737380024 667.1448929445471\n"
     ]
    },
    {
     "name": "stderr",
     "output_type": "stream",
     "text": [
      "\r",
      "t:  41%|████▏     | 497/1199 [02:07<02:36,  4.48it/s, now=None]"
     ]
    },
    {
     "name": "stdout",
     "output_type": "stream",
     "text": [
      "87.91987469741063 88.79081923509239\n"
     ]
    },
    {
     "name": "stderr",
     "output_type": "stream",
     "text": [
      "\r",
      "t:  42%|████▏     | 498/1199 [02:07<02:36,  4.49it/s, now=None]"
     ]
    },
    {
     "name": "stdout",
     "output_type": "stream",
     "text": [
      "148.65698578784017 43.45721447073049\n",
      "634418.8405061696"
     ]
    },
    {
     "name": "stderr",
     "output_type": "stream",
     "text": [
      "\r",
      "t:  42%|████▏     | 499/1199 [02:07<02:32,  4.59it/s, now=None]"
     ]
    },
    {
     "name": "stdout",
     "output_type": "stream",
     "text": [
      " 43.68869630712997\n"
     ]
    },
    {
     "name": "stderr",
     "output_type": "stream",
     "text": [
      "\r",
      "t:  42%|████▏     | 500/1199 [02:07<02:33,  4.55it/s, now=None]"
     ]
    },
    {
     "name": "stdout",
     "output_type": "stream",
     "text": [
      "214.65623579534096 40.81124711011009\n"
     ]
    },
    {
     "name": "stderr",
     "output_type": "stream",
     "text": [
      "\r",
      "t:  42%|████▏     | 501/1199 [02:08<02:32,  4.58it/s, now=None]"
     ]
    },
    {
     "name": "stdout",
     "output_type": "stream",
     "text": [
      "155.634963093329 40.68764908048883\n",
      "162.95790978067552"
     ]
    },
    {
     "name": "stderr",
     "output_type": "stream",
     "text": [
      "\r",
      "t:  42%|████▏     | 502/1199 [02:08<02:27,  4.72it/s, now=None]"
     ]
    },
    {
     "name": "stdout",
     "output_type": "stream",
     "text": [
      " 44.95040977439257\n"
     ]
    },
    {
     "name": "stderr",
     "output_type": "stream",
     "text": [
      "\r",
      "t:  42%|████▏     | 503/1199 [02:08<02:27,  4.73it/s, now=None]"
     ]
    },
    {
     "name": "stdout",
     "output_type": "stream",
     "text": [
      "89.16786567385489 41.511109290593694\n",
      "91.82435229412813"
     ]
    },
    {
     "name": "stderr",
     "output_type": "stream",
     "text": [
      "\r",
      "t:  42%|████▏     | 504/1199 [02:08<02:27,  4.73it/s, now=None]"
     ]
    },
    {
     "name": "stdout",
     "output_type": "stream",
     "text": [
      " 41.212440327348695\n"
     ]
    },
    {
     "name": "stderr",
     "output_type": "stream",
     "text": [
      "\r",
      "t:  42%|████▏     | 505/1199 [02:09<02:27,  4.69it/s, now=None]"
     ]
    },
    {
     "name": "stdout",
     "output_type": "stream",
     "text": [
      "55.10650076008006 38.32835980605931\n",
      "49.9389631634852"
     ]
    },
    {
     "name": "stderr",
     "output_type": "stream",
     "text": [
      "\r",
      "t:  42%|████▏     | 506/1199 [02:09<02:25,  4.77it/s, now=None]"
     ]
    },
    {
     "name": "stdout",
     "output_type": "stream",
     "text": [
      " 41.384267729881465\n"
     ]
    },
    {
     "name": "stderr",
     "output_type": "stream",
     "text": [
      "\r",
      "t:  42%|████▏     | 507/1199 [02:09<02:26,  4.72it/s, now=None]"
     ]
    },
    {
     "name": "stdout",
     "output_type": "stream",
     "text": [
      "45.28359969982628 61.83936255828637\n",
      "67.23180290994405 52.98558662132984\n"
     ]
    },
    {
     "name": "stderr",
     "output_type": "stream",
     "text": [
      "t:  42%|████▏     | 509/1199 [02:09<02:19,  4.95it/s, now=None]"
     ]
    },
    {
     "name": "stdout",
     "output_type": "stream",
     "text": [
      "63.80405262590251 237.8011378720682\n",
      "59.17960869135943"
     ]
    },
    {
     "name": "stderr",
     "output_type": "stream",
     "text": [
      "\r",
      "t:  43%|████▎     | 510/1199 [02:10<02:16,  5.06it/s, now=None]"
     ]
    },
    {
     "name": "stdout",
     "output_type": "stream",
     "text": [
      " 716.3179730308481\n",
      "51.99592824548533 711.952258067005\n"
     ]
    },
    {
     "name": "stderr",
     "output_type": "stream",
     "text": [
      "t:  43%|████▎     | 512/1199 [02:10<02:18,  4.97it/s, now=None]"
     ]
    },
    {
     "name": "stdout",
     "output_type": "stream",
     "text": [
      "70.81691962453932 36.67650271832067\n",
      "71.4098986414692 46.0272237599467\n"
     ]
    },
    {
     "name": "stderr",
     "output_type": "stream",
     "text": [
      "t:  43%|████▎     | 515/1199 [02:11<02:11,  5.20it/s, now=None]"
     ]
    },
    {
     "name": "stdout",
     "output_type": "stream",
     "text": [
      "77.53799403974821 47.490504903705336\n",
      "76.77643755098251 48.656014979001\n"
     ]
    },
    {
     "name": "stderr",
     "output_type": "stream",
     "text": [
      "\r",
      "t:  43%|████▎     | 516/1199 [02:11<02:10,  5.25it/s, now=None]"
     ]
    },
    {
     "name": "stdout",
     "output_type": "stream",
     "text": [
      "85.36965613979156 52.75214979615445\n",
      "139.3060595342792"
     ]
    },
    {
     "name": "stderr",
     "output_type": "stream",
     "text": [
      "\r",
      "t:  43%|████▎     | 517/1199 [02:11<02:11,  5.20it/s, now=None]"
     ]
    },
    {
     "name": "stdout",
     "output_type": "stream",
     "text": [
      " 56.266626081070406\n",
      "137.2923208847859 58.043316879218\n"
     ]
    },
    {
     "name": "stderr",
     "output_type": "stream",
     "text": [
      "t:  43%|████▎     | 519/1199 [02:11<02:13,  5.09it/s, now=None]"
     ]
    },
    {
     "name": "stdout",
     "output_type": "stream",
     "text": [
      "116.23721185454642 59.89187037529849\n"
     ]
    },
    {
     "name": "stderr",
     "output_type": "stream",
     "text": [
      "\r",
      "t:  43%|████▎     | 520/1199 [02:11<02:14,  5.06it/s, now=None]"
     ]
    },
    {
     "name": "stdout",
     "output_type": "stream",
     "text": [
      "99.69876429358865 60.69413602247747\n",
      "108.01608070354936 64.67242587133815\n"
     ]
    },
    {
     "name": "stderr",
     "output_type": "stream",
     "text": [
      "t:  44%|████▎     | 522/1199 [02:12<02:15,  4.98it/s, now=None]"
     ]
    },
    {
     "name": "stdout",
     "output_type": "stream",
     "text": [
      "95.48963260864635 67.7115771145567\n"
     ]
    },
    {
     "name": "stderr",
     "output_type": "stream",
     "text": [
      "\r",
      "t:  44%|████▎     | 523/1199 [02:12<02:17,  4.91it/s, now=None]"
     ]
    },
    {
     "name": "stdout",
     "output_type": "stream",
     "text": [
      "85.05131036191118 72.19247334486253\n",
      "73.6688011457937 74.77003056440246\n"
     ]
    },
    {
     "name": "stderr",
     "output_type": "stream",
     "text": [
      "t:  44%|████▍     | 525/1199 [02:13<02:17,  4.91it/s, now=None]"
     ]
    },
    {
     "name": "stdout",
     "output_type": "stream",
     "text": [
      "56.694176531532236 69.758068556464\n",
      "525.1845985962775"
     ]
    },
    {
     "name": "stderr",
     "output_type": "stream",
     "text": [
      "\r",
      "t:  44%|████▍     | 526/1199 [02:13<02:18,  4.87it/s, now=None]"
     ]
    },
    {
     "name": "stdout",
     "output_type": "stream",
     "text": [
      " 65.65765656846669\n",
      "258.05923516267273 65.66007519035875\n"
     ]
    },
    {
     "name": "stderr",
     "output_type": "stream",
     "text": [
      "t:  44%|████▍     | 528/1199 [02:13<02:13,  5.03it/s, now=None]"
     ]
    },
    {
     "name": "stdout",
     "output_type": "stream",
     "text": [
      "169.21531620267845 63.63707084439715\n",
      "142.41143978177982"
     ]
    },
    {
     "name": "stderr",
     "output_type": "stream",
     "text": [
      "\r",
      "t:  44%|████▍     | 529/1199 [02:13<02:13,  5.02it/s, now=None]"
     ]
    },
    {
     "name": "stdout",
     "output_type": "stream",
     "text": [
      " 64.54572547370557\n",
      "95.79758507506445"
     ]
    },
    {
     "name": "stderr",
     "output_type": "stream",
     "text": [
      "\r",
      "t:  44%|████▍     | 530/1199 [02:14<02:13,  5.00it/s, now=None]"
     ]
    },
    {
     "name": "stdout",
     "output_type": "stream",
     "text": [
      " 62.75471985224417\n",
      "85.19255936867341"
     ]
    },
    {
     "name": "stderr",
     "output_type": "stream",
     "text": [
      "\r",
      "t:  44%|████▍     | 531/1199 [02:14<02:11,  5.07it/s, now=None]"
     ]
    },
    {
     "name": "stdout",
     "output_type": "stream",
     "text": [
      " 62.63097399001436\n",
      "82.08850278251286 444.92853800995226"
     ]
    },
    {
     "name": "stderr",
     "output_type": "stream",
     "text": [
      "\r",
      "t:  44%|████▍     | 532/1199 [02:14<02:12,  5.02it/s, now=None]"
     ]
    },
    {
     "name": "stdout",
     "output_type": "stream",
     "text": [
      "\n",
      "76.49930396128632"
     ]
    },
    {
     "name": "stderr",
     "output_type": "stream",
     "text": [
      "\r",
      "t:  44%|████▍     | 533/1199 [02:14<02:13,  4.99it/s, now=None]"
     ]
    },
    {
     "name": "stdout",
     "output_type": "stream",
     "text": [
      " 1907.4570897087929\n",
      "91.91588194796847 75.62442809311665\n"
     ]
    },
    {
     "name": "stderr",
     "output_type": "stream",
     "text": [
      "t:  45%|████▍     | 535/1199 [02:14<02:10,  5.10it/s, now=None]"
     ]
    },
    {
     "name": "stdout",
     "output_type": "stream",
     "text": [
      "94.54115275267587 88.5808022082715\n",
      "104.01642047544645"
     ]
    },
    {
     "name": "stderr",
     "output_type": "stream",
     "text": [
      "\r",
      "t:  45%|████▍     | 536/1199 [02:15<02:09,  5.12it/s, now=None]"
     ]
    },
    {
     "name": "stdout",
     "output_type": "stream",
     "text": [
      " 92.88270536195817\n",
      "104.37303587395722"
     ]
    },
    {
     "name": "stderr",
     "output_type": "stream",
     "text": [
      "\r",
      "t:  45%|████▍     | 537/1199 [02:15<02:10,  5.08it/s, now=None]"
     ]
    },
    {
     "name": "stdout",
     "output_type": "stream",
     "text": [
      " 102.50949637751971\n",
      "102.47731502140844"
     ]
    },
    {
     "name": "stderr",
     "output_type": "stream",
     "text": [
      "\r",
      "t:  45%|████▍     | 538/1199 [02:15<02:07,  5.17it/s, now=None]"
     ]
    },
    {
     "name": "stdout",
     "output_type": "stream",
     "text": [
      " 100.79317290783135\n",
      "109.89523389694774"
     ]
    },
    {
     "name": "stderr",
     "output_type": "stream",
     "text": [
      "\r",
      "t:  45%|████▍     | 539/1199 [02:15<02:06,  5.20it/s, now=None]"
     ]
    },
    {
     "name": "stdout",
     "output_type": "stream",
     "text": [
      " 109.95671049640256\n",
      "111.26975644192743 104.60813666478262\n"
     ]
    },
    {
     "name": "stderr",
     "output_type": "stream",
     "text": [
      "t:  45%|████▌     | 541/1199 [02:16<02:04,  5.29it/s, now=None]"
     ]
    },
    {
     "name": "stdout",
     "output_type": "stream",
     "text": [
      "111.35242033587095 301.87155210579493\n",
      "89.58251534929514 1110.2622226597343\n"
     ]
    },
    {
     "name": "stderr",
     "output_type": "stream",
     "text": [
      "t:  45%|████▌     | 544/1199 [02:16<01:59,  5.46it/s, now=None]"
     ]
    },
    {
     "name": "stdout",
     "output_type": "stream",
     "text": [
      "99.51559010312126 51.53025100459465\n",
      "106.3025615158283 36.97825244051948\n"
     ]
    },
    {
     "name": "stderr",
     "output_type": "stream",
     "text": [
      "\r",
      "t:  45%|████▌     | 545/1199 [02:16<01:59,  5.47it/s, now=None]"
     ]
    },
    {
     "name": "stdout",
     "output_type": "stream",
     "text": [
      "84.25441740700438 30.77557587919681\n",
      "90.77659600642535 25.566118772427238\n"
     ]
    },
    {
     "name": "stderr",
     "output_type": "stream",
     "text": [
      "t:  46%|████▌     | 547/1199 [02:17<02:00,  5.40it/s, now=None]"
     ]
    },
    {
     "name": "stdout",
     "output_type": "stream",
     "text": [
      "84.57121629729106 29.897880628692565\n",
      "68.56249679335012 184.16403375922474\n"
     ]
    },
    {
     "name": "stderr",
     "output_type": "stream",
     "text": [
      "t:  46%|████▌     | 550/1199 [02:17<01:52,  5.76it/s, now=None]"
     ]
    },
    {
     "name": "stdout",
     "output_type": "stream",
     "text": [
      "84.41647305620019 190.13393917669237\n",
      "75.76429887852214 28.174880695718297\n"
     ]
    },
    {
     "name": "stderr",
     "output_type": "stream",
     "text": [
      "\r",
      "t:  46%|████▌     | 551/1199 [02:17<01:55,  5.63it/s, now=None]"
     ]
    },
    {
     "name": "stdout",
     "output_type": "stream",
     "text": [
      "100.37178370768622 208.13634057436624\n",
      "76.12546436416216"
     ]
    },
    {
     "name": "stderr",
     "output_type": "stream",
     "text": [
      "\r",
      "t:  46%|████▌     | 552/1199 [02:18<01:55,  5.63it/s, now=None]"
     ]
    },
    {
     "name": "stdout",
     "output_type": "stream",
     "text": [
      " 240.00990573322048\n",
      "78.00106235130622 238.81516793885322\n"
     ]
    },
    {
     "name": "stderr",
     "output_type": "stream",
     "text": [
      "t:  46%|████▌     | 554/1199 [02:18<01:52,  5.74it/s, now=None]"
     ]
    },
    {
     "name": "stdout",
     "output_type": "stream",
     "text": [
      "80.61527607856087 287.0075756838534\n",
      "75.51719452138529 313.42787415302354\n"
     ]
    },
    {
     "name": "stderr",
     "output_type": "stream",
     "text": [
      "t:  46%|████▋     | 556/1199 [02:18<01:51,  5.79it/s, now=None]"
     ]
    },
    {
     "name": "stdout",
     "output_type": "stream",
     "text": [
      "89.86900846425439 297.8484862007921\n",
      "112.00579296086755 350.8580919284589\n"
     ]
    },
    {
     "name": "stderr",
     "output_type": "stream",
     "text": [
      "t:  47%|████▋     | 558/1199 [02:19<01:49,  5.84it/s, now=None]"
     ]
    },
    {
     "name": "stdout",
     "output_type": "stream",
     "text": [
      "80.79510850605196 312.1365799965431\n",
      "78.81749580029069 326.98620320630306\n"
     ]
    },
    {
     "name": "stderr",
     "output_type": "stream",
     "text": [
      "t:  47%|████▋     | 561/1199 [02:19<01:46,  5.98it/s, now=None]"
     ]
    },
    {
     "name": "stdout",
     "output_type": "stream",
     "text": [
      "58.79591570121729 430.0900202067869\n",
      "53.38780198173758 357.21979204095936\n"
     ]
    },
    {
     "name": "stderr",
     "output_type": "stream",
     "text": [
      "t:  47%|████▋     | 563/1199 [02:19<01:47,  5.92it/s, now=None]"
     ]
    },
    {
     "name": "stdout",
     "output_type": "stream",
     "text": [
      "64.88476981090376 457.6949410090718\n",
      "29.82174143273883 578.9723436450234\n"
     ]
    },
    {
     "name": "stderr",
     "output_type": "stream",
     "text": [
      "t:  47%|████▋     | 565/1199 [02:20<01:44,  6.04it/s, now=None]"
     ]
    },
    {
     "name": "stdout",
     "output_type": "stream",
     "text": [
      "165.2067963965658 441.37532568918823\n",
      "55.576665261520255 168.8336207413272\n"
     ]
    },
    {
     "name": "stderr",
     "output_type": "stream",
     "text": [
      "t:  47%|████▋     | 567/1199 [02:20<01:45,  6.00it/s, now=None]"
     ]
    },
    {
     "name": "stdout",
     "output_type": "stream",
     "text": [
      "2774.535780789838 164.55443206617707\n",
      "411.2181556504043 179.2964471814516\n"
     ]
    },
    {
     "name": "stderr",
     "output_type": "stream",
     "text": [
      "\r",
      "t:  47%|████▋     | 568/1199 [02:20<01:45,  5.96it/s, now=None]"
     ]
    },
    {
     "name": "stdout",
     "output_type": "stream",
     "text": [
      "339.1096494062198 269.38047176186734\n",
      "478.58685248241017 179.81107372416315\n"
     ]
    },
    {
     "name": "stderr",
     "output_type": "stream",
     "text": [
      "t:  48%|████▊     | 571/1199 [02:21<01:42,  6.12it/s, now=None]"
     ]
    },
    {
     "name": "stdout",
     "output_type": "stream",
     "text": [
      "84.6613856481323 262.7875903073751\n",
      "45.78343388069587 264.4155596871053\n"
     ]
    },
    {
     "name": "stderr",
     "output_type": "stream",
     "text": [
      "t:  48%|████▊     | 573/1199 [02:21<01:41,  6.16it/s, now=None]"
     ]
    },
    {
     "name": "stdout",
     "output_type": "stream",
     "text": [
      "53.66334724191413 268.8872310647503\n",
      "53.02893743878481 288.2338170932777\n"
     ]
    },
    {
     "name": "stderr",
     "output_type": "stream",
     "text": [
      "t:  48%|████▊     | 575/1199 [02:21<01:43,  6.00it/s, now=None]"
     ]
    },
    {
     "name": "stdout",
     "output_type": "stream",
     "text": [
      "42.87019071834778 247.52196946216893\n",
      "46.82240469317424 258.6303063220007\n"
     ]
    },
    {
     "name": "stderr",
     "output_type": "stream",
     "text": [
      "t:  48%|████▊     | 577/1199 [02:22<01:44,  5.97it/s, now=None]"
     ]
    },
    {
     "name": "stdout",
     "output_type": "stream",
     "text": [
      "7.270997080497101 255.20017572129552\n",
      "19.807177973026256 214.26059709850796\n"
     ]
    },
    {
     "name": "stderr",
     "output_type": "stream",
     "text": [
      "t:  48%|████▊     | 579/1199 [02:22<01:42,  6.06it/s, now=None]"
     ]
    },
    {
     "name": "stdout",
     "output_type": "stream",
     "text": [
      "15.609032830631145 174.55648177945892\n",
      "17.88858243064002 182.15711033090605\n"
     ]
    },
    {
     "name": "stderr",
     "output_type": "stream",
     "text": [
      "\r",
      "t:  48%|████▊     | 580/1199 [02:22<01:43,  5.96it/s, now=None]"
     ]
    },
    {
     "name": "stdout",
     "output_type": "stream",
     "text": [
      "31.648607629932613 210.49915564656754\n",
      "19.964647865880504 241.01519645343146\n"
     ]
    },
    {
     "name": "stderr",
     "output_type": "stream",
     "text": [
      "t:  49%|████▊     | 583/1199 [02:23<01:46,  5.78it/s, now=None]"
     ]
    },
    {
     "name": "stdout",
     "output_type": "stream",
     "text": [
      "56.36149491194889 278.7109259626692\n",
      "20.64585938932834 345.88738306058616\n"
     ]
    },
    {
     "name": "stderr",
     "output_type": "stream",
     "text": [
      "\r",
      "t:  49%|████▊     | 584/1199 [02:23<01:47,  5.72it/s, now=None]"
     ]
    },
    {
     "name": "stdout",
     "output_type": "stream",
     "text": [
      "21.751199087540137 394.44269060328463\n",
      "15.770727267539923"
     ]
    },
    {
     "name": "stderr",
     "output_type": "stream",
     "text": [
      "\r",
      "t:  49%|████▉     | 585/1199 [02:23<01:50,  5.58it/s, now=None]"
     ]
    },
    {
     "name": "stdout",
     "output_type": "stream",
     "text": [
      " 624.0042533198313\n"
     ]
    },
    {
     "name": "stderr",
     "output_type": "stream",
     "text": [
      "\r",
      "t:  49%|████▉     | 586/1199 [02:23<01:53,  5.39it/s, now=None]"
     ]
    },
    {
     "name": "stdout",
     "output_type": "stream",
     "text": [
      "22.0484518314344 4066.4858448834825\n",
      "31.420727272819203 1426.9824838536179\n"
     ]
    },
    {
     "name": "stderr",
     "output_type": "stream",
     "text": [
      "t:  49%|████▉     | 588/1199 [02:24<01:58,  5.17it/s, now=None]"
     ]
    },
    {
     "name": "stdout",
     "output_type": "stream",
     "text": [
      "21.501745340537486 362.33109050908695\n",
      "24.903540407642677"
     ]
    },
    {
     "name": "stderr",
     "output_type": "stream",
     "text": [
      "\r",
      "t:  49%|████▉     | 589/1199 [02:24<01:57,  5.19it/s, now=None]"
     ]
    },
    {
     "name": "stdout",
     "output_type": "stream",
     "text": [
      " 137.29063026149296\n",
      "403.09346446110015 82.2210053527799\n"
     ]
    },
    {
     "name": "stderr",
     "output_type": "stream",
     "text": [
      "t:  49%|████▉     | 591/1199 [02:24<01:55,  5.25it/s, now=None]"
     ]
    },
    {
     "name": "stdout",
     "output_type": "stream",
     "text": [
      "120.63514130045168 56.58248385874069\n",
      "78.21488918898021 77.82619464541285\n"
     ]
    },
    {
     "name": "stderr",
     "output_type": "stream",
     "text": [
      "t:  49%|████▉     | 593/1199 [02:25<01:56,  5.21it/s, now=None]"
     ]
    },
    {
     "name": "stdout",
     "output_type": "stream",
     "text": [
      "59.7622980652654 65.84699501430543\n",
      "31.325495105733683"
     ]
    },
    {
     "name": "stderr",
     "output_type": "stream",
     "text": [
      "\r",
      "t:  50%|████▉     | 594/1199 [02:25<01:52,  5.37it/s, now=None]"
     ]
    },
    {
     "name": "stdout",
     "output_type": "stream",
     "text": [
      " 67.34536517211524\n",
      "114.53780623050379 95.93199984363507\n"
     ]
    },
    {
     "name": "stderr",
     "output_type": "stream",
     "text": [
      "t:  50%|████▉     | 596/1199 [02:25<01:57,  5.15it/s, now=None]"
     ]
    },
    {
     "name": "stdout",
     "output_type": "stream",
     "text": [
      "128.21910006669435 113.7285773362379\n"
     ]
    },
    {
     "name": "stderr",
     "output_type": "stream",
     "text": [
      "\r",
      "t:  50%|████▉     | 597/1199 [02:26<01:58,  5.07it/s, now=None]"
     ]
    },
    {
     "name": "stdout",
     "output_type": "stream",
     "text": [
      "94.87846663244557 105.58380884783037\n"
     ]
    },
    {
     "name": "stderr",
     "output_type": "stream",
     "text": [
      "\r",
      "t:  50%|████▉     | 598/1199 [02:26<02:01,  4.96it/s, now=None]"
     ]
    },
    {
     "name": "stdout",
     "output_type": "stream",
     "text": [
      "156.02973719693 131.1798871394765\n"
     ]
    },
    {
     "name": "stderr",
     "output_type": "stream",
     "text": [
      "\r",
      "t:  50%|████▉     | 599/1199 [02:26<02:04,  4.80it/s, now=None]"
     ]
    },
    {
     "name": "stdout",
     "output_type": "stream",
     "text": [
      "166.40247301495955 136.5452900460047\n"
     ]
    },
    {
     "name": "stderr",
     "output_type": "stream",
     "text": [
      "\r",
      "t:  50%|█████     | 600/1199 [02:26<02:07,  4.70it/s, now=None]"
     ]
    },
    {
     "name": "stdout",
     "output_type": "stream",
     "text": [
      "184.81249198562685 146.94193843785098\n",
      "98.28139020052018 163.47278833605327\n"
     ]
    },
    {
     "name": "stderr",
     "output_type": "stream",
     "text": [
      "t:  50%|█████     | 602/1199 [02:27<01:54,  5.22it/s, now=None]"
     ]
    },
    {
     "name": "stdout",
     "output_type": "stream",
     "text": [
      "17.3964019061012 72.23481892516472\n",
      "25.39515243148821 55.609364578438786\n"
     ]
    },
    {
     "name": "stderr",
     "output_type": "stream",
     "text": [
      "t:  50%|█████     | 605/1199 [02:27<01:45,  5.63it/s, now=None]"
     ]
    },
    {
     "name": "stdout",
     "output_type": "stream",
     "text": [
      "224.11895902946674 60.77123448336572\n",
      "62.68252125666636 56.60141063596272\n"
     ]
    },
    {
     "name": "stderr",
     "output_type": "stream",
     "text": [
      "\r",
      "t:  51%|█████     | 606/1199 [02:27<01:44,  5.66it/s, now=None]"
     ]
    },
    {
     "name": "stdout",
     "output_type": "stream",
     "text": [
      "69.66843316070629 65.87747532940452\n",
      "3185.740003285197 58.878043122654994\n"
     ]
    },
    {
     "name": "stderr",
     "output_type": "stream",
     "text": [
      "\r",
      "t:  51%|█████     | 607/1199 [02:27<01:46,  5.58it/s, now=None]"
     ]
    },
    {
     "ename": "TypeError",
     "evalue": "expected non-empty vector for x",
     "output_type": "error",
     "traceback": [
      "\u001b[1;31m---------------------------------------------------------------------------\u001b[0m",
      "\u001b[1;31mTypeError\u001b[0m                                 Traceback (most recent call last)",
      "\u001b[1;32m<timed eval>\u001b[0m in \u001b[0;36m<module>\u001b[1;34m\u001b[0m\n",
      "\u001b[1;32m<decorator-gen-172>\u001b[0m in \u001b[0;36mwrite_videofile\u001b[1;34m(self, filename, fps, codec, bitrate, audio, audio_fps, preset, audio_nbytes, audio_codec, audio_bitrate, audio_bufsize, temp_audiofile, rewrite_audio, remove_temp, write_logfile, verbose, threads, ffmpeg_params, logger)\u001b[0m\n",
      "\u001b[1;32mC:\\ProgramData\\Anaconda3\\lib\\site-packages\\moviepy\\decorators.py\u001b[0m in \u001b[0;36mrequires_duration\u001b[1;34m(f, clip, *a, **k)\u001b[0m\n\u001b[0;32m     52\u001b[0m         \u001b[1;32mraise\u001b[0m \u001b[0mValueError\u001b[0m\u001b[1;33m(\u001b[0m\u001b[1;34m\"Attribute 'duration' not set\"\u001b[0m\u001b[1;33m)\u001b[0m\u001b[1;33m\u001b[0m\u001b[1;33m\u001b[0m\u001b[0m\n\u001b[0;32m     53\u001b[0m     \u001b[1;32melse\u001b[0m\u001b[1;33m:\u001b[0m\u001b[1;33m\u001b[0m\u001b[1;33m\u001b[0m\u001b[0m\n\u001b[1;32m---> 54\u001b[1;33m         \u001b[1;32mreturn\u001b[0m \u001b[0mf\u001b[0m\u001b[1;33m(\u001b[0m\u001b[0mclip\u001b[0m\u001b[1;33m,\u001b[0m \u001b[1;33m*\u001b[0m\u001b[0ma\u001b[0m\u001b[1;33m,\u001b[0m \u001b[1;33m**\u001b[0m\u001b[0mk\u001b[0m\u001b[1;33m)\u001b[0m\u001b[1;33m\u001b[0m\u001b[1;33m\u001b[0m\u001b[0m\n\u001b[0m\u001b[0;32m     55\u001b[0m \u001b[1;33m\u001b[0m\u001b[0m\n\u001b[0;32m     56\u001b[0m \u001b[1;33m\u001b[0m\u001b[0m\n",
      "\u001b[1;32m<decorator-gen-171>\u001b[0m in \u001b[0;36mwrite_videofile\u001b[1;34m(self, filename, fps, codec, bitrate, audio, audio_fps, preset, audio_nbytes, audio_codec, audio_bitrate, audio_bufsize, temp_audiofile, rewrite_audio, remove_temp, write_logfile, verbose, threads, ffmpeg_params, logger)\u001b[0m\n",
      "\u001b[1;32mC:\\ProgramData\\Anaconda3\\lib\\site-packages\\moviepy\\decorators.py\u001b[0m in \u001b[0;36muse_clip_fps_by_default\u001b[1;34m(f, clip, *a, **k)\u001b[0m\n\u001b[0;32m    133\u001b[0m              for (k,v) in k.items()}\n\u001b[0;32m    134\u001b[0m \u001b[1;33m\u001b[0m\u001b[0m\n\u001b[1;32m--> 135\u001b[1;33m     \u001b[1;32mreturn\u001b[0m \u001b[0mf\u001b[0m\u001b[1;33m(\u001b[0m\u001b[0mclip\u001b[0m\u001b[1;33m,\u001b[0m \u001b[1;33m*\u001b[0m\u001b[0mnew_a\u001b[0m\u001b[1;33m,\u001b[0m \u001b[1;33m**\u001b[0m\u001b[0mnew_kw\u001b[0m\u001b[1;33m)\u001b[0m\u001b[1;33m\u001b[0m\u001b[1;33m\u001b[0m\u001b[0m\n\u001b[0m",
      "\u001b[1;32m<decorator-gen-170>\u001b[0m in \u001b[0;36mwrite_videofile\u001b[1;34m(self, filename, fps, codec, bitrate, audio, audio_fps, preset, audio_nbytes, audio_codec, audio_bitrate, audio_bufsize, temp_audiofile, rewrite_audio, remove_temp, write_logfile, verbose, threads, ffmpeg_params, logger)\u001b[0m\n",
      "\u001b[1;32mC:\\ProgramData\\Anaconda3\\lib\\site-packages\\moviepy\\decorators.py\u001b[0m in \u001b[0;36mconvert_masks_to_RGB\u001b[1;34m(f, clip, *a, **k)\u001b[0m\n\u001b[0;32m     20\u001b[0m     \u001b[1;32mif\u001b[0m \u001b[0mclip\u001b[0m\u001b[1;33m.\u001b[0m\u001b[0mismask\u001b[0m\u001b[1;33m:\u001b[0m\u001b[1;33m\u001b[0m\u001b[1;33m\u001b[0m\u001b[0m\n\u001b[0;32m     21\u001b[0m         \u001b[0mclip\u001b[0m \u001b[1;33m=\u001b[0m \u001b[0mclip\u001b[0m\u001b[1;33m.\u001b[0m\u001b[0mto_RGB\u001b[0m\u001b[1;33m(\u001b[0m\u001b[1;33m)\u001b[0m\u001b[1;33m\u001b[0m\u001b[1;33m\u001b[0m\u001b[0m\n\u001b[1;32m---> 22\u001b[1;33m     \u001b[1;32mreturn\u001b[0m \u001b[0mf\u001b[0m\u001b[1;33m(\u001b[0m\u001b[0mclip\u001b[0m\u001b[1;33m,\u001b[0m \u001b[1;33m*\u001b[0m\u001b[0ma\u001b[0m\u001b[1;33m,\u001b[0m \u001b[1;33m**\u001b[0m\u001b[0mk\u001b[0m\u001b[1;33m)\u001b[0m\u001b[1;33m\u001b[0m\u001b[1;33m\u001b[0m\u001b[0m\n\u001b[0m\u001b[0;32m     23\u001b[0m \u001b[1;33m\u001b[0m\u001b[0m\n\u001b[0;32m     24\u001b[0m \u001b[1;33m@\u001b[0m\u001b[0mdecorator\u001b[0m\u001b[1;33m.\u001b[0m\u001b[0mdecorator\u001b[0m\u001b[1;33m\u001b[0m\u001b[1;33m\u001b[0m\u001b[0m\n",
      "\u001b[1;32mC:\\ProgramData\\Anaconda3\\lib\\site-packages\\moviepy\\video\\VideoClip.py\u001b[0m in \u001b[0;36mwrite_videofile\u001b[1;34m(self, filename, fps, codec, bitrate, audio, audio_fps, preset, audio_nbytes, audio_codec, audio_bitrate, audio_bufsize, temp_audiofile, rewrite_audio, remove_temp, write_logfile, verbose, threads, ffmpeg_params, logger)\u001b[0m\n\u001b[0;32m    298\u001b[0m                                        logger=logger)\n\u001b[0;32m    299\u001b[0m \u001b[1;33m\u001b[0m\u001b[0m\n\u001b[1;32m--> 300\u001b[1;33m         ffmpeg_write_video(self, filename, fps, codec,\n\u001b[0m\u001b[0;32m    301\u001b[0m                            \u001b[0mbitrate\u001b[0m\u001b[1;33m=\u001b[0m\u001b[0mbitrate\u001b[0m\u001b[1;33m,\u001b[0m\u001b[1;33m\u001b[0m\u001b[1;33m\u001b[0m\u001b[0m\n\u001b[0;32m    302\u001b[0m                            \u001b[0mpreset\u001b[0m\u001b[1;33m=\u001b[0m\u001b[0mpreset\u001b[0m\u001b[1;33m,\u001b[0m\u001b[1;33m\u001b[0m\u001b[1;33m\u001b[0m\u001b[0m\n",
      "\u001b[1;32mC:\\ProgramData\\Anaconda3\\lib\\site-packages\\moviepy\\video\\io\\ffmpeg_writer.py\u001b[0m in \u001b[0;36mffmpeg_write_video\u001b[1;34m(clip, filename, fps, codec, bitrate, preset, withmask, write_logfile, audiofile, verbose, threads, ffmpeg_params, logger)\u001b[0m\n\u001b[0;32m    218\u001b[0m         \u001b[0mnframes\u001b[0m \u001b[1;33m=\u001b[0m \u001b[0mint\u001b[0m\u001b[1;33m(\u001b[0m\u001b[0mclip\u001b[0m\u001b[1;33m.\u001b[0m\u001b[0mduration\u001b[0m\u001b[1;33m*\u001b[0m\u001b[0mfps\u001b[0m\u001b[1;33m)\u001b[0m\u001b[1;33m\u001b[0m\u001b[1;33m\u001b[0m\u001b[0m\n\u001b[0;32m    219\u001b[0m \u001b[1;33m\u001b[0m\u001b[0m\n\u001b[1;32m--> 220\u001b[1;33m         for t,frame in clip.iter_frames(logger=logger, with_times=True,\n\u001b[0m\u001b[0;32m    221\u001b[0m                                         fps=fps, dtype=\"uint8\"):\n\u001b[0;32m    222\u001b[0m             \u001b[1;32mif\u001b[0m \u001b[0mwithmask\u001b[0m\u001b[1;33m:\u001b[0m\u001b[1;33m\u001b[0m\u001b[1;33m\u001b[0m\u001b[0m\n",
      "\u001b[1;32mC:\\ProgramData\\Anaconda3\\lib\\site-packages\\moviepy\\Clip.py\u001b[0m in \u001b[0;36miter_frames\u001b[1;34m(self, fps, with_times, logger, dtype)\u001b[0m\n\u001b[0;32m    470\u001b[0m         \u001b[0mlogger\u001b[0m \u001b[1;33m=\u001b[0m \u001b[0mproglog\u001b[0m\u001b[1;33m.\u001b[0m\u001b[0mdefault_bar_logger\u001b[0m\u001b[1;33m(\u001b[0m\u001b[0mlogger\u001b[0m\u001b[1;33m)\u001b[0m\u001b[1;33m\u001b[0m\u001b[1;33m\u001b[0m\u001b[0m\n\u001b[0;32m    471\u001b[0m         \u001b[1;32mfor\u001b[0m \u001b[0mt\u001b[0m \u001b[1;32min\u001b[0m \u001b[0mlogger\u001b[0m\u001b[1;33m.\u001b[0m\u001b[0miter_bar\u001b[0m\u001b[1;33m(\u001b[0m\u001b[0mt\u001b[0m\u001b[1;33m=\u001b[0m\u001b[0mnp\u001b[0m\u001b[1;33m.\u001b[0m\u001b[0marange\u001b[0m\u001b[1;33m(\u001b[0m\u001b[1;36m0\u001b[0m\u001b[1;33m,\u001b[0m \u001b[0mself\u001b[0m\u001b[1;33m.\u001b[0m\u001b[0mduration\u001b[0m\u001b[1;33m,\u001b[0m \u001b[1;36m1.0\u001b[0m\u001b[1;33m/\u001b[0m\u001b[0mfps\u001b[0m\u001b[1;33m)\u001b[0m\u001b[1;33m)\u001b[0m\u001b[1;33m:\u001b[0m\u001b[1;33m\u001b[0m\u001b[1;33m\u001b[0m\u001b[0m\n\u001b[1;32m--> 472\u001b[1;33m             \u001b[0mframe\u001b[0m \u001b[1;33m=\u001b[0m \u001b[0mself\u001b[0m\u001b[1;33m.\u001b[0m\u001b[0mget_frame\u001b[0m\u001b[1;33m(\u001b[0m\u001b[0mt\u001b[0m\u001b[1;33m)\u001b[0m\u001b[1;33m\u001b[0m\u001b[1;33m\u001b[0m\u001b[0m\n\u001b[0m\u001b[0;32m    473\u001b[0m             \u001b[1;32mif\u001b[0m \u001b[1;33m(\u001b[0m\u001b[0mdtype\u001b[0m \u001b[1;32mis\u001b[0m \u001b[1;32mnot\u001b[0m \u001b[1;32mNone\u001b[0m\u001b[1;33m)\u001b[0m \u001b[1;32mand\u001b[0m \u001b[1;33m(\u001b[0m\u001b[0mframe\u001b[0m\u001b[1;33m.\u001b[0m\u001b[0mdtype\u001b[0m \u001b[1;33m!=\u001b[0m \u001b[0mdtype\u001b[0m\u001b[1;33m)\u001b[0m\u001b[1;33m:\u001b[0m\u001b[1;33m\u001b[0m\u001b[1;33m\u001b[0m\u001b[0m\n\u001b[0;32m    474\u001b[0m                 \u001b[0mframe\u001b[0m \u001b[1;33m=\u001b[0m \u001b[0mframe\u001b[0m\u001b[1;33m.\u001b[0m\u001b[0mastype\u001b[0m\u001b[1;33m(\u001b[0m\u001b[0mdtype\u001b[0m\u001b[1;33m)\u001b[0m\u001b[1;33m\u001b[0m\u001b[1;33m\u001b[0m\u001b[0m\n",
      "\u001b[1;32m<decorator-gen-128>\u001b[0m in \u001b[0;36mget_frame\u001b[1;34m(self, t)\u001b[0m\n",
      "\u001b[1;32mC:\\ProgramData\\Anaconda3\\lib\\site-packages\\moviepy\\decorators.py\u001b[0m in \u001b[0;36mwrapper\u001b[1;34m(f, *a, **kw)\u001b[0m\n\u001b[0;32m     87\u001b[0m         new_kw = {k: fun(v) if k in varnames else v\n\u001b[0;32m     88\u001b[0m                  for (k,v) in kw.items()}\n\u001b[1;32m---> 89\u001b[1;33m         \u001b[1;32mreturn\u001b[0m \u001b[0mf\u001b[0m\u001b[1;33m(\u001b[0m\u001b[1;33m*\u001b[0m\u001b[0mnew_a\u001b[0m\u001b[1;33m,\u001b[0m \u001b[1;33m**\u001b[0m\u001b[0mnew_kw\u001b[0m\u001b[1;33m)\u001b[0m\u001b[1;33m\u001b[0m\u001b[1;33m\u001b[0m\u001b[0m\n\u001b[0m\u001b[0;32m     90\u001b[0m     \u001b[1;32mreturn\u001b[0m \u001b[0mdecorator\u001b[0m\u001b[1;33m.\u001b[0m\u001b[0mdecorator\u001b[0m\u001b[1;33m(\u001b[0m\u001b[0mwrapper\u001b[0m\u001b[1;33m)\u001b[0m\u001b[1;33m\u001b[0m\u001b[1;33m\u001b[0m\u001b[0m\n\u001b[0;32m     91\u001b[0m \u001b[1;33m\u001b[0m\u001b[0m\n",
      "\u001b[1;32mC:\\ProgramData\\Anaconda3\\lib\\site-packages\\moviepy\\Clip.py\u001b[0m in \u001b[0;36mget_frame\u001b[1;34m(self, t)\u001b[0m\n\u001b[0;32m     91\u001b[0m                 \u001b[1;32mreturn\u001b[0m \u001b[0mframe\u001b[0m\u001b[1;33m\u001b[0m\u001b[1;33m\u001b[0m\u001b[0m\n\u001b[0;32m     92\u001b[0m         \u001b[1;32melse\u001b[0m\u001b[1;33m:\u001b[0m\u001b[1;33m\u001b[0m\u001b[1;33m\u001b[0m\u001b[0m\n\u001b[1;32m---> 93\u001b[1;33m             \u001b[1;32mreturn\u001b[0m \u001b[0mself\u001b[0m\u001b[1;33m.\u001b[0m\u001b[0mmake_frame\u001b[0m\u001b[1;33m(\u001b[0m\u001b[0mt\u001b[0m\u001b[1;33m)\u001b[0m\u001b[1;33m\u001b[0m\u001b[1;33m\u001b[0m\u001b[0m\n\u001b[0m\u001b[0;32m     94\u001b[0m \u001b[1;33m\u001b[0m\u001b[0m\n\u001b[0;32m     95\u001b[0m     \u001b[1;32mdef\u001b[0m \u001b[0mfl\u001b[0m\u001b[1;33m(\u001b[0m\u001b[0mself\u001b[0m\u001b[1;33m,\u001b[0m \u001b[0mfun\u001b[0m\u001b[1;33m,\u001b[0m \u001b[0mapply_to\u001b[0m\u001b[1;33m=\u001b[0m\u001b[1;32mNone\u001b[0m\u001b[1;33m,\u001b[0m \u001b[0mkeep_duration\u001b[0m\u001b[1;33m=\u001b[0m\u001b[1;32mTrue\u001b[0m\u001b[1;33m)\u001b[0m\u001b[1;33m:\u001b[0m\u001b[1;33m\u001b[0m\u001b[1;33m\u001b[0m\u001b[0m\n",
      "\u001b[1;32mC:\\ProgramData\\Anaconda3\\lib\\site-packages\\moviepy\\Clip.py\u001b[0m in \u001b[0;36m<lambda>\u001b[1;34m(t)\u001b[0m\n\u001b[0;32m    134\u001b[0m \u001b[1;33m\u001b[0m\u001b[0m\n\u001b[0;32m    135\u001b[0m         \u001b[1;31m#mf = copy(self.make_frame)\u001b[0m\u001b[1;33m\u001b[0m\u001b[1;33m\u001b[0m\u001b[1;33m\u001b[0m\u001b[0m\n\u001b[1;32m--> 136\u001b[1;33m         \u001b[0mnewclip\u001b[0m \u001b[1;33m=\u001b[0m \u001b[0mself\u001b[0m\u001b[1;33m.\u001b[0m\u001b[0mset_make_frame\u001b[0m\u001b[1;33m(\u001b[0m\u001b[1;32mlambda\u001b[0m \u001b[0mt\u001b[0m\u001b[1;33m:\u001b[0m \u001b[0mfun\u001b[0m\u001b[1;33m(\u001b[0m\u001b[0mself\u001b[0m\u001b[1;33m.\u001b[0m\u001b[0mget_frame\u001b[0m\u001b[1;33m,\u001b[0m \u001b[0mt\u001b[0m\u001b[1;33m)\u001b[0m\u001b[1;33m)\u001b[0m\u001b[1;33m\u001b[0m\u001b[1;33m\u001b[0m\u001b[0m\n\u001b[0m\u001b[0;32m    137\u001b[0m \u001b[1;33m\u001b[0m\u001b[0m\n\u001b[0;32m    138\u001b[0m         \u001b[1;32mif\u001b[0m \u001b[1;32mnot\u001b[0m \u001b[0mkeep_duration\u001b[0m\u001b[1;33m:\u001b[0m\u001b[1;33m\u001b[0m\u001b[1;33m\u001b[0m\u001b[0m\n",
      "\u001b[1;32mC:\\ProgramData\\Anaconda3\\lib\\site-packages\\moviepy\\video\\VideoClip.py\u001b[0m in \u001b[0;36m<lambda>\u001b[1;34m(gf, t)\u001b[0m\n\u001b[0;32m    488\u001b[0m         \"\"\"\n\u001b[0;32m    489\u001b[0m         \u001b[0mapply_to\u001b[0m \u001b[1;33m=\u001b[0m \u001b[0mapply_to\u001b[0m \u001b[1;32mor\u001b[0m \u001b[1;33m[\u001b[0m\u001b[1;33m]\u001b[0m\u001b[1;33m\u001b[0m\u001b[1;33m\u001b[0m\u001b[0m\n\u001b[1;32m--> 490\u001b[1;33m         \u001b[1;32mreturn\u001b[0m \u001b[0mself\u001b[0m\u001b[1;33m.\u001b[0m\u001b[0mfl\u001b[0m\u001b[1;33m(\u001b[0m\u001b[1;32mlambda\u001b[0m \u001b[0mgf\u001b[0m\u001b[1;33m,\u001b[0m \u001b[0mt\u001b[0m\u001b[1;33m:\u001b[0m \u001b[0mimage_func\u001b[0m\u001b[1;33m(\u001b[0m\u001b[0mgf\u001b[0m\u001b[1;33m(\u001b[0m\u001b[0mt\u001b[0m\u001b[1;33m)\u001b[0m\u001b[1;33m)\u001b[0m\u001b[1;33m,\u001b[0m \u001b[0mapply_to\u001b[0m\u001b[1;33m)\u001b[0m\u001b[1;33m\u001b[0m\u001b[1;33m\u001b[0m\u001b[0m\n\u001b[0m\u001b[0;32m    491\u001b[0m \u001b[1;33m\u001b[0m\u001b[0m\n\u001b[0;32m    492\u001b[0m     \u001b[1;31m# --------------------------------------------------------------\u001b[0m\u001b[1;33m\u001b[0m\u001b[1;33m\u001b[0m\u001b[1;33m\u001b[0m\u001b[0m\n",
      "\u001b[1;32m<ipython-input-16-ed36d9e3f5a9>\u001b[0m in \u001b[0;36mprocess_image\u001b[1;34m(image)\u001b[0m\n\u001b[0;32m     10\u001b[0m     \u001b[1;33m(\u001b[0m\u001b[0mthresh\u001b[0m\u001b[1;33m,\u001b[0m \u001b[0mblackAndWhiteImage\u001b[0m\u001b[1;33m)\u001b[0m \u001b[1;33m=\u001b[0m \u001b[0mcv2\u001b[0m\u001b[1;33m.\u001b[0m\u001b[0mthreshold\u001b[0m\u001b[1;33m(\u001b[0m\u001b[0mgray\u001b[0m\u001b[1;33m,\u001b[0m \u001b[1;36m50\u001b[0m\u001b[1;33m,\u001b[0m \u001b[1;36m255\u001b[0m\u001b[1;33m,\u001b[0m \u001b[0mcv2\u001b[0m\u001b[1;33m.\u001b[0m\u001b[0mTHRESH_BINARY\u001b[0m\u001b[1;33m)\u001b[0m\u001b[1;33m\u001b[0m\u001b[1;33m\u001b[0m\u001b[0m\n\u001b[0;32m     11\u001b[0m \u001b[1;33m\u001b[0m\u001b[0m\n\u001b[1;32m---> 12\u001b[1;33m     \u001b[0mout_img\u001b[0m\u001b[1;33m,\u001b[0m \u001b[0mleft_fit\u001b[0m\u001b[1;33m,\u001b[0m \u001b[0mright_fit\u001b[0m \u001b[1;33m=\u001b[0m \u001b[0mfit_polynomial\u001b[0m\u001b[1;33m(\u001b[0m\u001b[0mblackAndWhiteImage\u001b[0m\u001b[1;33m)\u001b[0m\u001b[1;33m\u001b[0m\u001b[1;33m\u001b[0m\u001b[0m\n\u001b[0m\u001b[0;32m     13\u001b[0m     \u001b[0mresult\u001b[0m \u001b[1;33m=\u001b[0m \u001b[0msearch_around_poly\u001b[0m\u001b[1;33m(\u001b[0m\u001b[0mblackAndWhiteImage\u001b[0m\u001b[1;33m,\u001b[0m \u001b[0mMinv\u001b[0m\u001b[1;33m,\u001b[0m \u001b[0mleft_fit\u001b[0m\u001b[1;33m,\u001b[0m \u001b[0mright_fit\u001b[0m\u001b[1;33m,\u001b[0m \u001b[0mundist\u001b[0m\u001b[1;33m)\u001b[0m\u001b[1;33m\u001b[0m\u001b[1;33m\u001b[0m\u001b[0m\n\u001b[0;32m     14\u001b[0m     \u001b[1;32mreturn\u001b[0m \u001b[0mresult\u001b[0m\u001b[1;33m\u001b[0m\u001b[1;33m\u001b[0m\u001b[0m\n",
      "\u001b[1;32m<ipython-input-15-155386658431>\u001b[0m in \u001b[0;36mfit_polynomial\u001b[1;34m(binary_warped)\u001b[0m\n\u001b[0;32m     84\u001b[0m \u001b[1;33m\u001b[0m\u001b[0m\n\u001b[0;32m     85\u001b[0m     \u001b[1;31m### TO-DO: Fit a second order polynomial to each using `np.polyfit` ###\u001b[0m\u001b[1;33m\u001b[0m\u001b[1;33m\u001b[0m\u001b[1;33m\u001b[0m\u001b[0m\n\u001b[1;32m---> 86\u001b[1;33m     \u001b[0mleft_fit\u001b[0m \u001b[1;33m=\u001b[0m \u001b[0mnp\u001b[0m\u001b[1;33m.\u001b[0m\u001b[0mpolyfit\u001b[0m\u001b[1;33m(\u001b[0m\u001b[0mlefty\u001b[0m\u001b[1;33m,\u001b[0m \u001b[0mleftx\u001b[0m\u001b[1;33m,\u001b[0m \u001b[1;36m2\u001b[0m\u001b[1;33m)\u001b[0m\u001b[1;33m\u001b[0m\u001b[1;33m\u001b[0m\u001b[0m\n\u001b[0m\u001b[0;32m     87\u001b[0m     \u001b[0mright_fit\u001b[0m \u001b[1;33m=\u001b[0m \u001b[0mnp\u001b[0m\u001b[1;33m.\u001b[0m\u001b[0mpolyfit\u001b[0m\u001b[1;33m(\u001b[0m\u001b[0mrighty\u001b[0m\u001b[1;33m,\u001b[0m \u001b[0mrightx\u001b[0m\u001b[1;33m,\u001b[0m \u001b[1;36m2\u001b[0m\u001b[1;33m)\u001b[0m\u001b[1;33m\u001b[0m\u001b[1;33m\u001b[0m\u001b[0m\n\u001b[0;32m     88\u001b[0m \u001b[1;33m\u001b[0m\u001b[0m\n",
      "\u001b[1;32m<__array_function__ internals>\u001b[0m in \u001b[0;36mpolyfit\u001b[1;34m(*args, **kwargs)\u001b[0m\n",
      "\u001b[1;32mC:\\ProgramData\\Anaconda3\\lib\\site-packages\\numpy\\lib\\polynomial.py\u001b[0m in \u001b[0;36mpolyfit\u001b[1;34m(x, y, deg, rcond, full, w, cov)\u001b[0m\n\u001b[0;32m    597\u001b[0m         \u001b[1;32mraise\u001b[0m \u001b[0mTypeError\u001b[0m\u001b[1;33m(\u001b[0m\u001b[1;34m\"expected 1D vector for x\"\u001b[0m\u001b[1;33m)\u001b[0m\u001b[1;33m\u001b[0m\u001b[1;33m\u001b[0m\u001b[0m\n\u001b[0;32m    598\u001b[0m     \u001b[1;32mif\u001b[0m \u001b[0mx\u001b[0m\u001b[1;33m.\u001b[0m\u001b[0msize\u001b[0m \u001b[1;33m==\u001b[0m \u001b[1;36m0\u001b[0m\u001b[1;33m:\u001b[0m\u001b[1;33m\u001b[0m\u001b[1;33m\u001b[0m\u001b[0m\n\u001b[1;32m--> 599\u001b[1;33m         \u001b[1;32mraise\u001b[0m \u001b[0mTypeError\u001b[0m\u001b[1;33m(\u001b[0m\u001b[1;34m\"expected non-empty vector for x\"\u001b[0m\u001b[1;33m)\u001b[0m\u001b[1;33m\u001b[0m\u001b[1;33m\u001b[0m\u001b[0m\n\u001b[0m\u001b[0;32m    600\u001b[0m     \u001b[1;32mif\u001b[0m \u001b[0my\u001b[0m\u001b[1;33m.\u001b[0m\u001b[0mndim\u001b[0m \u001b[1;33m<\u001b[0m \u001b[1;36m1\u001b[0m \u001b[1;32mor\u001b[0m \u001b[0my\u001b[0m\u001b[1;33m.\u001b[0m\u001b[0mndim\u001b[0m \u001b[1;33m>\u001b[0m \u001b[1;36m2\u001b[0m\u001b[1;33m:\u001b[0m\u001b[1;33m\u001b[0m\u001b[1;33m\u001b[0m\u001b[0m\n\u001b[0;32m    601\u001b[0m         \u001b[1;32mraise\u001b[0m \u001b[0mTypeError\u001b[0m\u001b[1;33m(\u001b[0m\u001b[1;34m\"expected 1D or 2D array for y\"\u001b[0m\u001b[1;33m)\u001b[0m\u001b[1;33m\u001b[0m\u001b[1;33m\u001b[0m\u001b[0m\n",
      "\u001b[1;31mTypeError\u001b[0m: expected non-empty vector for x"
     ]
    }
   ],
   "source": [
    "hard_output = 'harder_challenge_video_out.mp4'\n",
    "## To speed up the testing process you may want to try your pipeline on a shorter subclip of the video\n",
    "## To do so add .subclip(start_second,end_second) to the end of the line below\n",
    "## Where start_second and end_second are integer values representing the start and end of the subclip\n",
    "## You may also uncomment the following line for a subclip of the first 5 seconds\n",
    "##clip1 = VideoFileClip(\"test_videos/solidWhiteRight.mp4\").subclip(0,5)\n",
    "clip3 = VideoFileClip(\"harder_challenge_video.mp4\")\n",
    "hard_clip = clip3.fl_image(process_image) #NOTE: this function expects color images!!\n",
    "%time hard_clip.write_videofile(hard_output, audio=False)"
   ]
  },
  {
   "cell_type": "code",
   "execution_count": 27,
   "metadata": {},
   "outputs": [
    {
     "data": {
      "text/html": [
       "\n",
       "<video width=\"960\" height=\"540\" controls>\n",
       "  <source src=\"harder_challenge_video_out.mp4\">\n",
       "</video>\n"
      ],
      "text/plain": [
       "<IPython.core.display.HTML object>"
      ]
     },
     "execution_count": 27,
     "metadata": {},
     "output_type": "execute_result"
    }
   ],
   "source": [
    "HTML(\"\"\"\n",
    "<video width=\"960\" height=\"540\" controls>\n",
    "  <source src=\"{0}\">\n",
    "</video>\n",
    "\"\"\".format(hard_output))"
   ]
  },
  {
   "cell_type": "code",
   "execution_count": null,
   "metadata": {},
   "outputs": [],
   "source": []
  }
 ],
 "metadata": {
  "kernelspec": {
   "display_name": "Python 3",
   "language": "python",
   "name": "python3"
  },
  "language_info": {
   "codemirror_mode": {
    "name": "ipython",
    "version": 3
   },
   "file_extension": ".py",
   "mimetype": "text/x-python",
   "name": "python",
   "nbconvert_exporter": "python",
   "pygments_lexer": "ipython3",
   "version": "3.8.5"
  }
 },
 "nbformat": 4,
 "nbformat_minor": 4
}
